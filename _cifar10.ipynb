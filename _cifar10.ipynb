{
  "nbformat": 4,
  "nbformat_minor": 0,
  "metadata": {
    "colab": {
      "name": "_cifar10.ipynb",
      "provenance": [],
      "collapsed_sections": [],
      "include_colab_link": true
    },
    "kernelspec": {
      "name": "python3",
      "display_name": "Python 3"
    }
  },
  "cells": [
    {
      "cell_type": "markdown",
      "metadata": {
        "id": "view-in-github",
        "colab_type": "text"
      },
      "source": [
        "<a href=\"https://colab.research.google.com/github/jangvu/Project_by_me/blob/main/_cifar10.ipynb\" target=\"_parent\"><img src=\"https://colab.research.google.com/assets/colab-badge.svg\" alt=\"Open In Colab\"/></a>"
      ]
    },
    {
      "cell_type": "code",
      "metadata": {
        "id": "vL6i2cF1zXES"
      },
      "source": [
        "from tensorflow import keras\n",
        "import pandas as pd\n",
        "import numpy as np\n"
      ],
      "execution_count": null,
      "outputs": []
    },
    {
      "cell_type": "code",
      "metadata": {
        "id": "iRpAMkVz0xIw",
        "colab": {
          "base_uri": "https://localhost:8080/"
        },
        "outputId": "b0522615-a64b-4581-a2dd-b9b57dfc199d"
      },
      "source": [
        "(X_train_full,y_train_full),(X_test,y_test) = keras.datasets.cifar10.load_data()"
      ],
      "execution_count": null,
      "outputs": [
        {
          "output_type": "stream",
          "text": [
            "Downloading data from https://www.cs.toronto.edu/~kriz/cifar-10-python.tar.gz\n",
            "170500096/170498071 [==============================] - 6s 0us/step\n"
          ],
          "name": "stdout"
        }
      ]
    },
    {
      "cell_type": "code",
      "metadata": {
        "colab": {
          "base_uri": "https://localhost:8080/"
        },
        "id": "3x7S7m4N08nc",
        "outputId": "7bb28e4e-ee62-4cb2-c5d2-80e38020412c"
      },
      "source": [
        "X_train_full.shape\n",
        "y_train_full.shape"
      ],
      "execution_count": null,
      "outputs": [
        {
          "output_type": "execute_result",
          "data": {
            "text/plain": [
              "(50000, 1)"
            ]
          },
          "metadata": {
            "tags": []
          },
          "execution_count": 4
        }
      ]
    },
    {
      "cell_type": "code",
      "metadata": {
        "id": "F-q9ofX01Jpd"
      },
      "source": [
        "X_valid,X_train = X_train_full[:5000]/255.0, X_train_full[5000:]/255.0\n",
        "y_valid, y_train = y_train_full[:5000], y_train_full[5000:]"
      ],
      "execution_count": null,
      "outputs": []
    },
    {
      "cell_type": "code",
      "metadata": {
        "id": "TdzjuMV51pp0"
      },
      "source": [
        "import matplotlib.pyplot as plt"
      ],
      "execution_count": null,
      "outputs": []
    },
    {
      "cell_type": "code",
      "metadata": {
        "colab": {
          "base_uri": "https://localhost:8080/",
          "height": 283
        },
        "id": "B0PV0f9i1sqo",
        "outputId": "e7a5ca18-e1ef-45dd-cadd-0b56a0f34833"
      },
      "source": [
        "plt.imshow(X_train[1])"
      ],
      "execution_count": null,
      "outputs": [
        {
          "output_type": "execute_result",
          "data": {
            "text/plain": [
              "<matplotlib.image.AxesImage at 0x7fed49031908>"
            ]
          },
          "metadata": {
            "tags": []
          },
          "execution_count": 7
        },
        {
          "output_type": "display_data",
          "data": {
            "image/png": "[encoded data removed]",
            "text/plain": [
              "<Figure size 432x288 with 1 Axes>"
            ]
          },
          "metadata": {
            "tags": [],
            "needs_background": "light"
          }
        }
      ]
    },
    {
      "cell_type": "code",
      "metadata": {
        "colab": {
          "base_uri": "https://localhost:8080/"
        },
        "id": "iRNLRtyD1yIr",
        "outputId": "b756fc6c-8562-45e2-d2b8-2854675ee6d6"
      },
      "source": [
        "y_train.shape"
      ],
      "execution_count": null,
      "outputs": [
        {
          "output_type": "execute_result",
          "data": {
            "text/plain": [
              "(45000, 1)"
            ]
          },
          "metadata": {
            "tags": []
          },
          "execution_count": 8
        }
      ]
    },
    {
      "cell_type": "code",
      "metadata": {
        "id": "jy1Z2Kwy1-sc"
      },
      "source": [
        "class_names = ['airplane', 'automobile', 'bird', 'cat', 'deer', 'dog', 'frog', 'horse', 'ship', 'truck']\n"
      ],
      "execution_count": null,
      "outputs": []
    },
    {
      "cell_type": "code",
      "metadata": {
        "colab": {
          "base_uri": "https://localhost:8080/",
          "height": 35
        },
        "id": "N6_s_aXf2QAN",
        "outputId": "7413715d-2e45-4d2b-e48e-5b2504f127f8"
      },
      "source": [
        "class_names[y_train[1].item()]"
      ],
      "execution_count": null,
      "outputs": [
        {
          "output_type": "execute_result",
          "data": {
            "application/vnd.google.colaboratory.intrinsic+json": {
              "type": "string"
            },
            "text/plain": [
              "'horse'"
            ]
          },
          "metadata": {
            "tags": []
          },
          "execution_count": 10
        }
      ]
    },
    {
      "cell_type": "code",
      "metadata": {
        "id": "RGHkv4Ly2SiN"
      },
      "source": [
        "model = keras.models.Sequential()\n",
        "model.add(keras.layers.Flatten(input_shape =[32,32,3]))\n",
        "for _ in range(20):\n",
        "  model.add(keras.layers.Dense(100,activation='elu',kernel_initializer='he_normal'))\n",
        "model.add(keras.layers.Dense(10,activation='softmax'))"
      ],
      "execution_count": null,
      "outputs": []
    },
    {
      "cell_type": "code",
      "metadata": {
        "id": "fq8w42ww5_R-"
      },
      "source": [
        "optimizer = keras.optimizers.Nadam(learning_rate=5e-5,beta_1=0.9,beta_2=0.999)\n",
        "early_stopping = keras.callbacks.EarlyStopping(patience=10)\n",
        "model.compile(optimizer=optimizer,loss='sparse_categorical_crossentropy',metrics='accuracy')"
      ],
      "execution_count": null,
      "outputs": []
    },
    {
      "cell_type": "code",
      "metadata": {
        "colab": {
          "base_uri": "https://localhost:8080/"
        },
        "id": "0rRem1Tn7mjM",
        "outputId": "e32672f0-61ac-4ee3-9dca-7eac7a7fdbbc"
      },
      "source": [
        "history = model.fit(X_train,y_train,epochs = 100, validation_data=(X_valid,y_valid),callbacks=[early_stopping])"
      ],
      "execution_count": null,
      "outputs": [
        {
          "output_type": "stream",
          "text": [
            "Epoch 1/100\n",
            "1407/1407 [==============================] - 17s 10ms/step - loss: 2.1349 - accuracy: 0.2415 - val_loss: 1.8691 - val_accuracy: 0.3254\n",
            "Epoch 2/100\n",
            "1407/1407 [==============================] - 13s 9ms/step - loss: 1.7364 - accuracy: 0.3750 - val_loss: 1.7132 - val_accuracy: 0.3818\n",
            "Epoch 3/100\n",
            "1407/1407 [==============================] - 13s 9ms/step - loss: 1.6398 - accuracy: 0.4123 - val_loss: 1.6488 - val_accuracy: 0.4090\n",
            "Epoch 4/100\n",
            "1407/1407 [==============================] - 14s 10ms/step - loss: 1.5792 - accuracy: 0.4321 - val_loss: 1.5981 - val_accuracy: 0.4216\n",
            "Epoch 5/100\n",
            "1407/1407 [==============================] - 13s 9ms/step - loss: 1.5345 - accuracy: 0.4480 - val_loss: 1.6000 - val_accuracy: 0.4390\n",
            "Epoch 6/100\n",
            "1407/1407 [==============================] - 13s 9ms/step - loss: 1.4884 - accuracy: 0.4658 - val_loss: 1.5364 - val_accuracy: 0.4470\n",
            "Epoch 7/100\n",
            "1407/1407 [==============================] - 13s 10ms/step - loss: 1.4703 - accuracy: 0.4736 - val_loss: 1.5247 - val_accuracy: 0.4558\n",
            "Epoch 8/100\n",
            "1407/1407 [==============================] - 13s 10ms/step - loss: 1.4307 - accuracy: 0.4902 - val_loss: 1.5543 - val_accuracy: 0.4424\n",
            "Epoch 9/100\n",
            "1407/1407 [==============================] - 14s 10ms/step - loss: 1.4151 - accuracy: 0.4950 - val_loss: 1.4797 - val_accuracy: 0.4726\n",
            "Epoch 10/100\n",
            "1407/1407 [==============================] - 13s 9ms/step - loss: 1.3819 - accuracy: 0.5065 - val_loss: 1.4871 - val_accuracy: 0.4656\n",
            "Epoch 11/100\n",
            "1407/1407 [==============================] - 13s 10ms/step - loss: 1.3648 - accuracy: 0.5097 - val_loss: 1.4842 - val_accuracy: 0.4682\n",
            "Epoch 12/100\n",
            "1407/1407 [==============================] - 16s 11ms/step - loss: 1.3597 - accuracy: 0.5129 - val_loss: 1.4851 - val_accuracy: 0.4714\n",
            "Epoch 13/100\n",
            "1407/1407 [==============================] - 14s 10ms/step - loss: 1.3329 - accuracy: 0.5216 - val_loss: 1.4922 - val_accuracy: 0.4768\n",
            "Epoch 14/100\n",
            "1407/1407 [==============================] - 13s 10ms/step - loss: 1.3164 - accuracy: 0.5277 - val_loss: 1.4361 - val_accuracy: 0.4900\n",
            "Epoch 15/100\n",
            "1407/1407 [==============================] - 14s 10ms/step - loss: 1.2920 - accuracy: 0.5353 - val_loss: 1.5002 - val_accuracy: 0.4668\n",
            "Epoch 16/100\n",
            "1407/1407 [==============================] - 14s 10ms/step - loss: 1.2815 - accuracy: 0.5414 - val_loss: 1.4498 - val_accuracy: 0.4884\n",
            "Epoch 17/100\n",
            "1407/1407 [==============================] - 14s 10ms/step - loss: 1.2664 - accuracy: 0.5473 - val_loss: 1.4296 - val_accuracy: 0.4982\n",
            "Epoch 18/100\n",
            "1407/1407 [==============================] - 14s 10ms/step - loss: 1.2500 - accuracy: 0.5533 - val_loss: 1.4571 - val_accuracy: 0.4864\n",
            "Epoch 19/100\n",
            "1407/1407 [==============================] - 14s 10ms/step - loss: 1.2247 - accuracy: 0.5605 - val_loss: 1.4359 - val_accuracy: 0.4964\n",
            "Epoch 20/100\n",
            "1407/1407 [==============================] - 14s 10ms/step - loss: 1.2241 - accuracy: 0.5635 - val_loss: 1.4419 - val_accuracy: 0.5058\n",
            "Epoch 21/100\n",
            "1407/1407 [==============================] - 14s 10ms/step - loss: 1.1964 - accuracy: 0.5732 - val_loss: 1.4420 - val_accuracy: 0.4972\n",
            "Epoch 22/100\n",
            "1407/1407 [==============================] - 14s 10ms/step - loss: 1.1801 - accuracy: 0.5769 - val_loss: 1.4844 - val_accuracy: 0.4816\n",
            "Epoch 23/100\n",
            "1407/1407 [==============================] - 14s 10ms/step - loss: 1.1736 - accuracy: 0.5790 - val_loss: 1.4540 - val_accuracy: 0.4932\n",
            "Epoch 24/100\n",
            "1407/1407 [==============================] - 14s 10ms/step - loss: 1.1643 - accuracy: 0.5829 - val_loss: 1.4573 - val_accuracy: 0.4968\n",
            "Epoch 25/100\n",
            "1407/1407 [==============================] - 14s 10ms/step - loss: 1.1502 - accuracy: 0.5897 - val_loss: 1.4315 - val_accuracy: 0.5014\n",
            "Epoch 26/100\n",
            "1407/1407 [==============================] - 14s 10ms/step - loss: 1.1330 - accuracy: 0.5972 - val_loss: 1.4974 - val_accuracy: 0.4860\n",
            "Epoch 27/100\n",
            "1407/1407 [==============================] - 14s 10ms/step - loss: 1.1232 - accuracy: 0.5996 - val_loss: 1.5292 - val_accuracy: 0.4732\n"
          ],
          "name": "stdout"
        }
      ]
    },
    {
      "cell_type": "code",
      "metadata": {
        "colab": {
          "base_uri": "https://localhost:8080/"
        },
        "id": "1sDmFUpX7856",
        "outputId": "d35a0e49-d332-4fe1-8446-81e066aacbaf"
      },
      "source": [
        "model.evaluate(X_valid,y_valid)"
      ],
      "execution_count": null,
      "outputs": [
        {
          "output_type": "stream",
          "text": [
            "157/157 [==============================] - 0s 3ms/step - loss: 1.5292 - accuracy: 0.4732\n"
          ],
          "name": "stdout"
        },
        {
          "output_type": "execute_result",
          "data": {
            "text/plain": [
              "[1.5292011499404907, 0.4731999933719635]"
            ]
          },
          "metadata": {
            "tags": []
          },
          "execution_count": 14
        }
      ]
    },
    {
      "cell_type": "code",
      "metadata": {
        "id": "VzpVNFZlBhbr"
      },
      "source": [
        "model.save('my_cifar10_model.h5')"
      ],
      "execution_count": null,
      "outputs": []
    },
    {
      "cell_type": "code",
      "metadata": {
        "id": "LjLP44ICB7OR"
      },
      "source": [
        "model_bn = keras.models.Sequential()\n",
        "model_bn.add(keras.layers.Flatten(input_shape=[32,32,3]))\n",
        "model_bn.add(keras.layers.BatchNormalization())\n",
        "for n_hidden in range(20):\n",
        "  model_bn.add(keras.layers.Dense(100,kernel_initializer='he_normal'))\n",
        "  model_bn.add(keras.layers.BatchNormalization())\n",
        "  model_bn.add(keras.layers.Activation(activation='elu'))\n",
        "model_bn.add(keras.layers.Dense(10,activation='softmax'))\n"
      ],
      "execution_count": null,
      "outputs": []
    },
    {
      "cell_type": "code",
      "metadata": {
        "id": "I85MCML7zrUj"
      },
      "source": [
        "model_bn.compile(optimizer=optimizer, loss='sparse_categorical_crossentropy',metrics='accuracy')"
      ],
      "execution_count": null,
      "outputs": []
    },
    {
      "cell_type": "code",
      "metadata": {
        "colab": {
          "base_uri": "https://localhost:8080/"
        },
        "id": "Zr-p21NYz-dX",
        "outputId": "70a8e232-836e-4cef-c876-d8f45c0aea11"
      },
      "source": [
        "history = model_bn.fit(X_train,y_train,epochs = 100, validation_data=(X_valid,y_valid),callbacks=[early_stopping])"
      ],
      "execution_count": null,
      "outputs": [
        {
          "output_type": "stream",
          "text": [
            "Epoch 1/100\n",
            "1407/1407 [==============================] - 31s 16ms/step - loss: 2.0136 - accuracy: 0.2768 - val_loss: 1.6737 - val_accuracy: 0.3996\n",
            "Epoch 2/100\n",
            "1407/1407 [==============================] - 21s 15ms/step - loss: 1.7291 - accuracy: 0.3809 - val_loss: 1.5910 - val_accuracy: 0.4252\n",
            "Epoch 3/100\n",
            "1407/1407 [==============================] - 21s 15ms/step - loss: 1.6465 - accuracy: 0.4076 - val_loss: 1.5522 - val_accuracy: 0.4478\n",
            "Epoch 4/100\n",
            "1407/1407 [==============================] - 21s 15ms/step - loss: 1.6137 - accuracy: 0.4196 - val_loss: 1.5198 - val_accuracy: 0.4570\n",
            "Epoch 5/100\n",
            "1407/1407 [==============================] - 21s 15ms/step - loss: 1.5689 - accuracy: 0.4335 - val_loss: 1.4878 - val_accuracy: 0.4684\n",
            "Epoch 6/100\n",
            "1407/1407 [==============================] - 22s 15ms/step - loss: 1.5273 - accuracy: 0.4567 - val_loss: 1.4694 - val_accuracy: 0.4802\n",
            "Epoch 7/100\n",
            "1407/1407 [==============================] - 21s 15ms/step - loss: 1.5069 - accuracy: 0.4657 - val_loss: 1.4572 - val_accuracy: 0.4844\n",
            "Epoch 8/100\n",
            "1407/1407 [==============================] - 21s 15ms/step - loss: 1.4812 - accuracy: 0.4697 - val_loss: 1.4410 - val_accuracy: 0.4856\n",
            "Epoch 9/100\n",
            "1407/1407 [==============================] - 21s 15ms/step - loss: 1.4471 - accuracy: 0.4839 - val_loss: 1.4551 - val_accuracy: 0.4848\n",
            "Epoch 10/100\n",
            "1407/1407 [==============================] - 21s 15ms/step - loss: 1.4444 - accuracy: 0.4859 - val_loss: 1.4250 - val_accuracy: 0.4924\n",
            "Epoch 11/100\n",
            "1407/1407 [==============================] - 21s 15ms/step - loss: 1.4169 - accuracy: 0.4961 - val_loss: 1.4162 - val_accuracy: 0.4986\n",
            "Epoch 12/100\n",
            "1407/1407 [==============================] - 21s 15ms/step - loss: 1.4042 - accuracy: 0.4995 - val_loss: 1.4204 - val_accuracy: 0.4948\n",
            "Epoch 13/100\n",
            "1407/1407 [==============================] - 21s 15ms/step - loss: 1.3906 - accuracy: 0.5067 - val_loss: 1.4170 - val_accuracy: 0.5020\n",
            "Epoch 14/100\n",
            "1407/1407 [==============================] - 22s 15ms/step - loss: 1.3628 - accuracy: 0.5167 - val_loss: 1.4021 - val_accuracy: 0.5048\n",
            "Epoch 15/100\n",
            "1407/1407 [==============================] - 21s 15ms/step - loss: 1.3667 - accuracy: 0.5111 - val_loss: 1.4041 - val_accuracy: 0.5072\n",
            "Epoch 16/100\n",
            "1407/1407 [==============================] - 21s 15ms/step - loss: 1.3449 - accuracy: 0.5192 - val_loss: 1.3925 - val_accuracy: 0.5092\n",
            "Epoch 17/100\n",
            "1407/1407 [==============================] - 22s 15ms/step - loss: 1.3222 - accuracy: 0.5291 - val_loss: 1.3886 - val_accuracy: 0.5118\n",
            "Epoch 18/100\n",
            "1407/1407 [==============================] - 21s 15ms/step - loss: 1.3124 - accuracy: 0.5378 - val_loss: 1.3771 - val_accuracy: 0.5158\n",
            "Epoch 19/100\n",
            "1407/1407 [==============================] - 21s 15ms/step - loss: 1.3109 - accuracy: 0.5373 - val_loss: 1.3757 - val_accuracy: 0.5170\n",
            "Epoch 20/100\n",
            "1407/1407 [==============================] - 21s 15ms/step - loss: 1.2848 - accuracy: 0.5447 - val_loss: 1.3785 - val_accuracy: 0.5200\n",
            "Epoch 21/100\n",
            "1407/1407 [==============================] - 21s 15ms/step - loss: 1.2709 - accuracy: 0.5444 - val_loss: 1.3879 - val_accuracy: 0.5070\n",
            "Epoch 22/100\n",
            "1407/1407 [==============================] - 21s 15ms/step - loss: 1.2696 - accuracy: 0.5497 - val_loss: 1.3749 - val_accuracy: 0.5172\n",
            "Epoch 23/100\n",
            "1407/1407 [==============================] - 21s 15ms/step - loss: 1.2594 - accuracy: 0.5531 - val_loss: 1.3727 - val_accuracy: 0.5200\n",
            "Epoch 24/100\n",
            "1407/1407 [==============================] - 21s 15ms/step - loss: 1.2500 - accuracy: 0.5532 - val_loss: 1.3712 - val_accuracy: 0.5174\n",
            "Epoch 25/100\n",
            "1407/1407 [==============================] - 21s 15ms/step - loss: 1.2474 - accuracy: 0.5548 - val_loss: 1.3770 - val_accuracy: 0.5116\n",
            "Epoch 26/100\n",
            "1407/1407 [==============================] - 21s 15ms/step - loss: 1.2495 - accuracy: 0.5575 - val_loss: 1.3809 - val_accuracy: 0.5156\n",
            "Epoch 27/100\n",
            "1407/1407 [==============================] - 21s 15ms/step - loss: 1.2350 - accuracy: 0.5618 - val_loss: 1.3696 - val_accuracy: 0.5214\n",
            "Epoch 28/100\n",
            "1407/1407 [==============================] - 21s 15ms/step - loss: 1.2154 - accuracy: 0.5670 - val_loss: 1.3753 - val_accuracy: 0.5234\n",
            "Epoch 29/100\n",
            "1407/1407 [==============================] - 22s 15ms/step - loss: 1.2122 - accuracy: 0.5717 - val_loss: 1.3879 - val_accuracy: 0.5186\n",
            "Epoch 30/100\n",
            "1407/1407 [==============================] - 21s 15ms/step - loss: 1.2071 - accuracy: 0.5714 - val_loss: 1.3813 - val_accuracy: 0.5178\n",
            "Epoch 31/100\n",
            "1407/1407 [==============================] - 22s 16ms/step - loss: 1.1785 - accuracy: 0.5805 - val_loss: 1.3710 - val_accuracy: 0.5230\n",
            "Epoch 32/100\n",
            "1407/1407 [==============================] - 22s 15ms/step - loss: 1.1978 - accuracy: 0.5745 - val_loss: 1.4020 - val_accuracy: 0.5120\n",
            "Epoch 33/100\n",
            "1407/1407 [==============================] - 21s 15ms/step - loss: 1.1792 - accuracy: 0.5838 - val_loss: 1.3779 - val_accuracy: 0.5124\n",
            "Epoch 34/100\n",
            "1407/1407 [==============================] - 22s 15ms/step - loss: 1.1737 - accuracy: 0.5827 - val_loss: 1.3818 - val_accuracy: 0.5148\n",
            "Epoch 35/100\n",
            "1407/1407 [==============================] - 21s 15ms/step - loss: 1.1737 - accuracy: 0.5810 - val_loss: 1.3772 - val_accuracy: 0.5248\n",
            "Epoch 36/100\n",
            "1407/1407 [==============================] - 21s 15ms/step - loss: 1.1475 - accuracy: 0.5953 - val_loss: 1.3857 - val_accuracy: 0.5220\n",
            "Epoch 37/100\n",
            "1407/1407 [==============================] - 21s 15ms/step - loss: 1.1485 - accuracy: 0.5921 - val_loss: 1.3848 - val_accuracy: 0.5226\n"
          ],
          "name": "stdout"
        }
      ]
    },
    {
      "cell_type": "code",
      "metadata": {
        "colab": {
          "base_uri": "https://localhost:8080/"
        },
        "id": "JBy7C4C-0M-9",
        "outputId": "28d41991-19c2-4d9b-c174-7fd7a03f1563"
      },
      "source": [
        "model_bn.evaluate(X_valid,y_valid)"
      ],
      "execution_count": null,
      "outputs": [
        {
          "output_type": "stream",
          "text": [
            "157/157 [==============================] - 0s 3ms/step - loss: 1.3848 - accuracy: 0.5226\n"
          ],
          "name": "stdout"
        },
        {
          "output_type": "execute_result",
          "data": {
            "text/plain": [
              "[1.3847808837890625, 0.522599995136261]"
            ]
          },
          "metadata": {
            "tags": []
          },
          "execution_count": 19
        }
      ]
    },
    {
      "cell_type": "code",
      "metadata": {
        "id": "xAqk_HDLOzWA"
      },
      "source": [
        "model_selu = keras.models.Sequential()\n",
        "model_selu.add(keras.layers.Flatten(input_shape = [32,32,3]))\n",
        "for _ in range(20):\n",
        "  model_selu.add(keras.layers.Dense(100,activation='selu',kernel_initializer='lecun_normal'))\n",
        "model_selu.add(keras.layers.Dense(10,activation='softmax'))"
      ],
      "execution_count": null,
      "outputs": []
    },
    {
      "cell_type": "code",
      "metadata": {
        "id": "p57uWvDFUZ5W"
      },
      "source": [
        "model_selu.compile(optimizer = optimizer,loss = 'sparse_categorical_crossentropy',metrics = 'accuracy')"
      ],
      "execution_count": null,
      "outputs": []
    },
    {
      "cell_type": "code",
      "metadata": {
        "colab": {
          "base_uri": "https://localhost:8080/"
        },
        "id": "zjI3dy1HVlHq",
        "outputId": "ddb772c6-e241-41d7-d700-e866ab294902"
      },
      "source": [
        "history = model_selu.fit(X_train,y_train,epochs =100, validation_data=(X_valid,y_valid),callbacks=[early_stopping])"
      ],
      "execution_count": null,
      "outputs": [
        {
          "output_type": "stream",
          "text": [
            "Epoch 1/100\n",
            "1407/1407 [==============================] - 17s 10ms/step - loss: 2.0343 - accuracy: 0.2486 - val_loss: 1.8051 - val_accuracy: 0.3440\n",
            "Epoch 2/100\n",
            "1407/1407 [==============================] - 14s 10ms/step - loss: 1.7459 - accuracy: 0.3643 - val_loss: 1.6803 - val_accuracy: 0.3892\n",
            "Epoch 3/100\n",
            "1407/1407 [==============================] - 14s 10ms/step - loss: 1.6711 - accuracy: 0.3974 - val_loss: 1.6423 - val_accuracy: 0.4066\n",
            "Epoch 4/100\n",
            "1407/1407 [==============================] - 13s 10ms/step - loss: 1.6120 - accuracy: 0.4184 - val_loss: 1.5833 - val_accuracy: 0.4270\n",
            "Epoch 5/100\n",
            "1407/1407 [==============================] - 14s 10ms/step - loss: 1.5580 - accuracy: 0.4381 - val_loss: 1.5527 - val_accuracy: 0.4346\n",
            "Epoch 6/100\n",
            "1407/1407 [==============================] - 14s 10ms/step - loss: 1.5176 - accuracy: 0.4563 - val_loss: 1.5359 - val_accuracy: 0.4464\n",
            "Epoch 7/100\n",
            "1407/1407 [==============================] - 14s 10ms/step - loss: 1.4786 - accuracy: 0.4699 - val_loss: 1.5051 - val_accuracy: 0.4628\n",
            "Epoch 8/100\n",
            "1407/1407 [==============================] - 14s 10ms/step - loss: 1.4642 - accuracy: 0.4716 - val_loss: 1.5025 - val_accuracy: 0.4584\n",
            "Epoch 9/100\n",
            "1407/1407 [==============================] - 14s 10ms/step - loss: 1.4413 - accuracy: 0.4803 - val_loss: 1.4715 - val_accuracy: 0.4702\n",
            "Epoch 10/100\n",
            "1407/1407 [==============================] - 14s 10ms/step - loss: 1.4144 - accuracy: 0.4939 - val_loss: 1.5308 - val_accuracy: 0.4522\n",
            "Epoch 11/100\n",
            "1407/1407 [==============================] - 14s 10ms/step - loss: 1.4027 - accuracy: 0.4935 - val_loss: 1.4800 - val_accuracy: 0.4738\n",
            "Epoch 12/100\n",
            "1407/1407 [==============================] - 14s 10ms/step - loss: 1.3804 - accuracy: 0.5023 - val_loss: 1.4793 - val_accuracy: 0.4638\n",
            "Epoch 13/100\n",
            "1407/1407 [==============================] - 14s 10ms/step - loss: 1.3664 - accuracy: 0.5058 - val_loss: 1.4550 - val_accuracy: 0.4798\n",
            "Epoch 14/100\n",
            "1407/1407 [==============================] - 14s 10ms/step - loss: 1.3404 - accuracy: 0.5192 - val_loss: 1.4365 - val_accuracy: 0.4894\n",
            "Epoch 15/100\n",
            "1407/1407 [==============================] - 13s 10ms/step - loss: 1.3331 - accuracy: 0.5223 - val_loss: 1.4568 - val_accuracy: 0.4760\n",
            "Epoch 16/100\n",
            "1407/1407 [==============================] - 14s 10ms/step - loss: 1.3107 - accuracy: 0.5309 - val_loss: 1.4491 - val_accuracy: 0.4774\n",
            "Epoch 17/100\n",
            "1407/1407 [==============================] - 14s 10ms/step - loss: 1.2903 - accuracy: 0.5359 - val_loss: 1.4395 - val_accuracy: 0.4880\n",
            "Epoch 18/100\n",
            "1407/1407 [==============================] - 14s 10ms/step - loss: 1.2848 - accuracy: 0.5364 - val_loss: 1.4174 - val_accuracy: 0.4918\n",
            "Epoch 19/100\n",
            "1407/1407 [==============================] - 14s 10ms/step - loss: 1.2745 - accuracy: 0.5423 - val_loss: 1.4412 - val_accuracy: 0.4886\n",
            "Epoch 20/100\n",
            "1407/1407 [==============================] - 14s 10ms/step - loss: 1.2552 - accuracy: 0.5474 - val_loss: 1.4218 - val_accuracy: 0.4974\n",
            "Epoch 21/100\n",
            "1407/1407 [==============================] - 14s 10ms/step - loss: 1.2487 - accuracy: 0.5520 - val_loss: 1.4676 - val_accuracy: 0.4948\n",
            "Epoch 22/100\n",
            "1407/1407 [==============================] - 14s 10ms/step - loss: 1.2333 - accuracy: 0.5564 - val_loss: 1.3987 - val_accuracy: 0.5068\n",
            "Epoch 23/100\n",
            "1407/1407 [==============================] - 14s 10ms/step - loss: 1.2128 - accuracy: 0.5662 - val_loss: 1.4311 - val_accuracy: 0.4940\n",
            "Epoch 24/100\n",
            "1407/1407 [==============================] - 14s 10ms/step - loss: 1.2037 - accuracy: 0.5684 - val_loss: 1.4414 - val_accuracy: 0.4902\n",
            "Epoch 25/100\n",
            "1407/1407 [==============================] - 14s 10ms/step - loss: 1.1817 - accuracy: 0.5811 - val_loss: 1.4448 - val_accuracy: 0.4926\n",
            "Epoch 26/100\n",
            "1407/1407 [==============================] - 14s 10ms/step - loss: 1.1718 - accuracy: 0.5825 - val_loss: 1.4148 - val_accuracy: 0.5038\n",
            "Epoch 27/100\n",
            "1407/1407 [==============================] - 14s 10ms/step - loss: 1.1704 - accuracy: 0.5811 - val_loss: 1.4501 - val_accuracy: 0.4872\n",
            "Epoch 28/100\n",
            "1407/1407 [==============================] - 14s 10ms/step - loss: 1.1571 - accuracy: 0.5824 - val_loss: 1.4681 - val_accuracy: 0.4944\n",
            "Epoch 29/100\n",
            "1407/1407 [==============================] - 14s 10ms/step - loss: 1.1375 - accuracy: 0.5904 - val_loss: 1.4953 - val_accuracy: 0.4878\n",
            "Epoch 30/100\n",
            "1407/1407 [==============================] - 14s 10ms/step - loss: 1.1334 - accuracy: 0.5933 - val_loss: 1.3985 - val_accuracy: 0.5136\n",
            "Epoch 31/100\n",
            "1407/1407 [==============================] - 14s 10ms/step - loss: 1.1084 - accuracy: 0.6029 - val_loss: 1.4163 - val_accuracy: 0.5094\n",
            "Epoch 32/100\n",
            "1407/1407 [==============================] - 14s 10ms/step - loss: 1.1046 - accuracy: 0.6050 - val_loss: 1.5258 - val_accuracy: 0.4916\n",
            "Epoch 33/100\n",
            "1407/1407 [==============================] - 14s 10ms/step - loss: 1.0957 - accuracy: 0.6048 - val_loss: 1.5153 - val_accuracy: 0.4822\n",
            "Epoch 34/100\n",
            "1407/1407 [==============================] - 14s 10ms/step - loss: 1.0875 - accuracy: 0.6091 - val_loss: 1.4014 - val_accuracy: 0.5176\n",
            "Epoch 35/100\n",
            "1407/1407 [==============================] - 14s 10ms/step - loss: 1.0692 - accuracy: 0.6180 - val_loss: 1.4482 - val_accuracy: 0.4978\n",
            "Epoch 36/100\n",
            "1407/1407 [==============================] - 14s 10ms/step - loss: 1.0673 - accuracy: 0.6184 - val_loss: 1.4012 - val_accuracy: 0.5134\n",
            "Epoch 37/100\n",
            "1407/1407 [==============================] - 14s 10ms/step - loss: 1.0507 - accuracy: 0.6200 - val_loss: 1.4136 - val_accuracy: 0.5114\n",
            "Epoch 38/100\n",
            "1407/1407 [==============================] - 14s 10ms/step - loss: 1.0532 - accuracy: 0.6238 - val_loss: 1.4356 - val_accuracy: 0.5132\n",
            "Epoch 39/100\n",
            "1407/1407 [==============================] - 14s 10ms/step - loss: 1.0377 - accuracy: 0.6274 - val_loss: 1.4469 - val_accuracy: 0.5120\n",
            "Epoch 40/100\n",
            "1407/1407 [==============================] - 14s 10ms/step - loss: 1.0173 - accuracy: 0.6338 - val_loss: 1.4180 - val_accuracy: 0.5198\n"
          ],
          "name": "stdout"
        }
      ]
    },
    {
      "cell_type": "code",
      "metadata": {
        "colab": {
          "base_uri": "https://localhost:8080/"
        },
        "id": "EPkEXo_gV4dX",
        "outputId": "6d59a087-f8a4-45f3-813a-2b438e598220"
      },
      "source": [
        "model_selu.evaluate(X_valid,y_valid)"
      ],
      "execution_count": null,
      "outputs": [
        {
          "output_type": "stream",
          "text": [
            "157/157 [==============================] - 0s 2ms/step - loss: 1.4180 - accuracy: 0.5198\n"
          ],
          "name": "stdout"
        },
        {
          "output_type": "execute_result",
          "data": {
            "text/plain": [
              "[1.4179660081863403, 0.5198000073432922]"
            ]
          },
          "metadata": {
            "tags": []
          },
          "execution_count": 35
        }
      ]
    },
    {
      "cell_type": "code",
      "metadata": {
        "id": "BbwtQ8G5YJxN"
      },
      "source": [
        "model_bn.save('my_cifar10_model_bn.h5')"
      ],
      "execution_count": null,
      "outputs": []
    },
    {
      "cell_type": "code",
      "metadata": {
        "id": "EdBG0GE5b2k4"
      },
      "source": [
        "model_selu.save('my_cifar10_model_selu.h5')"
      ],
      "execution_count": null,
      "outputs": []
    },
    {
      "cell_type": "code",
      "metadata": {
        "id": "37pzx02Lb5Qi"
      },
      "source": [
        ""
      ],
      "execution_count": null,
      "outputs": []
    }
  ]
}