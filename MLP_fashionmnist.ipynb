{
  "nbformat": 4,
  "nbformat_minor": 0,
  "metadata": {
    "colab": {
      "name": "MLP_fashionmnist.ipynb",
      "provenance": [],
      "include_colab_link": true
    },
    "kernelspec": {
      "name": "python3",
      "display_name": "Python 3"
    }
  },
  "cells": [
    {
      "cell_type": "markdown",
      "metadata": {
        "id": "view-in-github",
        "colab_type": "text"
      },
      "source": [
        "<a href=\"https://colab.research.google.com/github/jangvu/Project_by_me/blob/main/MLP_fashionmnist.ipynb\" target=\"_parent\"><img src=\"https://colab.research.google.com/assets/colab-badge.svg\" alt=\"Open In Colab\"/></a>"
      ]
    },
    {
      "cell_type": "code",
      "metadata": {
        "id": "4kMO7YpffQdy"
      },
      "source": [
        "from tensorflow import keras"
      ],
      "execution_count": null,
      "outputs": []
    },
    {
      "cell_type": "markdown",
      "metadata": {
        "id": "hu-vHnYIOJ3p"
      },
      "source": [
        "Create a model to classify the items"
      ]
    },
    {
      "cell_type": "code",
      "metadata": {
        "id": "feclv4hlfV1H"
      },
      "source": [
        "model = keras.models.Sequential([\n",
        "keras.layers.Flatten(input_shape=[28, 28]), keras.layers.BatchNormalization(),\n",
        "keras.layers.Dense(300, activation=\"elu\", kernel_initializer=\"he_normal\"), keras.layers.BatchNormalization(),\n",
        "keras.layers.Dense(100, activation=\"elu\", kernel_initializer=\"he_normal\"), keras.layers.BatchNormalization(),\n",
        "keras.layers.Dense(10, activation=\"softmax\")\n",
        "])"
      ],
      "execution_count": null,
      "outputs": []
    },
    {
      "cell_type": "code",
      "metadata": {
        "id": "lnZRwZtoViUH"
      },
      "source": [
        "fashion_mnist = keras.datasets.fashion_mnist\n"
      ],
      "execution_count": null,
      "outputs": []
    },
    {
      "cell_type": "code",
      "metadata": {
        "colab": {
          "base_uri": "https://localhost:8080/"
        },
        "id": "JpWpHooBV5o4",
        "outputId": "71f24562-863a-4f2a-d864-61c691d85af8"
      },
      "source": [
        "(X_train_full, y_train_full), (X_test, y_test) = fashion_mnist.load_data()\n"
      ],
      "execution_count": null,
      "outputs": [
        {
          "output_type": "stream",
          "text": [
            "Downloading data from https://storage.googleapis.com/tensorflow/tf-keras-datasets/train-labels-idx1-ubyte.gz\n",
            "32768/29515 [=================================] - 0s 0us/step\n",
            "Downloading data from https://storage.googleapis.com/tensorflow/tf-keras-datasets/train-images-idx3-ubyte.gz\n",
            "26427392/26421880 [==============================] - 0s 0us/step\n",
            "Downloading data from https://storage.googleapis.com/tensorflow/tf-keras-datasets/t10k-labels-idx1-ubyte.gz\n",
            "8192/5148 [===============================================] - 0s 0us/step\n",
            "Downloading data from https://storage.googleapis.com/tensorflow/tf-keras-datasets/t10k-images-idx3-ubyte.gz\n",
            "4423680/4422102 [==============================] - 0s 0us/step\n"
          ],
          "name": "stdout"
        }
      ]
    },
    {
      "cell_type": "code",
      "metadata": {
        "id": "BR_wUEK79dg0"
      },
      "source": [
        "def split_dataset(X, y):\n",
        "    y_5_or_6 = (y == 5) | (y == 6) # sandals or shirts\n",
        "    y_A = y[~y_5_or_6]\n",
        "    y_A[y_A > 6] -= 2 # class indices 7, 8, 9 should be moved to 5, 6, 7\n",
        "    y_B = (y[y_5_or_6] == 6).astype(np.float32) # binary classification task: is it a shirt (class 6)?\n",
        "    return ((X[~y_5_or_6], y_A),\n",
        "            (X[y_5_or_6], y_B))"
      ],
      "execution_count": null,
      "outputs": []
    },
    {
      "cell_type": "markdown",
      "metadata": {
        "id": "VVoZ0QpxOR1P"
      },
      "source": [
        "Function that split the data to A and B"
      ]
    },
    {
      "cell_type": "code",
      "metadata": {
        "id": "zo_hNJC5WUxs"
      },
      "source": [
        "import matplotlib.pyplot as plt\n"
      ],
      "execution_count": null,
      "outputs": []
    },
    {
      "cell_type": "code",
      "metadata": {
        "colab": {
          "base_uri": "https://localhost:8080/",
          "height": 282
        },
        "id": "gHtAPvsgV609",
        "outputId": "ec6ac09b-0820-482e-d580-f0373fdcd874"
      },
      "source": [
        "plt.imshow(X_train_full[2])"
      ],
      "execution_count": null,
      "outputs": [
        {
          "output_type": "execute_result",
          "data": {
            "text/plain": [
              "<matplotlib.image.AxesImage at 0x7fac8c6c3a20>"
            ]
          },
          "metadata": {
            "tags": []
          },
          "execution_count": 18
        },
        {
          "output_type": "display_data",
          "data": {
            "image/png": "[encoded data removed]",
            "text/plain": [
              "<Figure size 432x288 with 1 Axes>"
            ]
          },
          "metadata": {
            "tags": [],
            "needs_background": "light"
          }
        }
      ]
    },
    {
      "cell_type": "code",
      "metadata": {
        "id": "KaEOf-GoWEgj"
      },
      "source": [
        "X_valid, X_train = X_train_full[:5000] / 255.0, X_train_full[5000:] / 255.0 \n",
        "y_valid, y_train = y_train_full[:5000], y_train_full[5000:]"
      ],
      "execution_count": null,
      "outputs": []
    },
    {
      "cell_type": "code",
      "metadata": {
        "id": "S05hbtZMBHYo"
      },
      "source": [
        "(X_train_A, y_train_A), (X_train_B, y_train_B) = split_dataset(X_train, y_train)\n",
        "(X_valid_A, y_valid_A), (X_valid_B, y_valid_B) = split_dataset(X_valid, y_valid)\n",
        "(X_test_A, y_test_A), (X_test_B, y_test_B) = split_dataset(X_test, y_test)\n",
        "X_train_B = X_train_B[:200]\n",
        "y_train_B = y_train_B[:200]\n"
      ],
      "execution_count": null,
      "outputs": []
    },
    {
      "cell_type": "code",
      "metadata": {
        "colab": {
          "base_uri": "https://localhost:8080/"
        },
        "id": "lIEh8FdlCawp",
        "outputId": "ed3c65e8-88fb-4415-a5ad-0f8bfedb1d86"
      },
      "source": [
        "print(X_train_A.shape)\n",
        "np.unique(y_test_A)"
      ],
      "execution_count": null,
      "outputs": [
        {
          "output_type": "stream",
          "text": [
            "(43986, 28, 28)\n"
          ],
          "name": "stdout"
        },
        {
          "output_type": "execute_result",
          "data": {
            "text/plain": [
              "array([0, 1, 2, 3, 4, 5, 6, 7], dtype=uint8)"
            ]
          },
          "metadata": {
            "tags": []
          },
          "execution_count": 169
        }
      ]
    },
    {
      "cell_type": "code",
      "metadata": {
        "id": "p983mKeiWyMm"
      },
      "source": [
        "class_names = [\"T-shirt/top\", \"Trouser\", \"Pullover\", \"Dress\", \"Coat\", \"Sneaker\", \"Bag\", \"Ankle boot\"]\n"
      ],
      "execution_count": null,
      "outputs": []
    },
    {
      "cell_type": "code",
      "metadata": {
        "colab": {
          "base_uri": "https://localhost:8080/",
          "height": 35
        },
        "id": "HmAFlmQxYDC4",
        "outputId": "e4358a33-149e-47b1-a7dd-876e89acb761"
      },
      "source": [
        "class_names[y_valid[5]]"
      ],
      "execution_count": null,
      "outputs": [
        {
          "output_type": "execute_result",
          "data": {
            "application/vnd.google.colaboratory.intrinsic+json": {
              "type": "string"
            },
            "text/plain": [
              "'Pullover'"
            ]
          },
          "metadata": {
            "tags": []
          },
          "execution_count": 168
        }
      ]
    },
    {
      "cell_type": "code",
      "metadata": {
        "id": "e5pPpUjwYKZn"
      },
      "source": [
        "model = keras.models.Sequential([keras.layers.Flatten(input_shape =[28,28]),\n",
        "                                 keras.layers.Dense(300,activation='relu',kernel_initializer='he_normal'),\n",
        "                                 keras.layers.Dense(100,activation='relu',kernel_initializer='he_normal'),\n",
        "                                 keras.layers.Dense(100,activation='relu',kernel_initializer='he_normal'),\n",
        "                                 keras.layers.Dense(10,activation='softmax')])\n",
        "\n"
      ],
      "execution_count": null,
      "outputs": []
    },
    {
      "cell_type": "code",
      "metadata": {
        "id": "bF81NFgYaMI4"
      },
      "source": [
        "model.compile(loss=\"sparse_categorical_crossentropy\", optimizer=\"sgd\",\n",
        "                  metrics=[\"accuracy\"])"
      ],
      "execution_count": null,
      "outputs": []
    },
    {
      "cell_type": "code",
      "metadata": {
        "colab": {
          "base_uri": "https://localhost:8080/"
        },
        "id": "dzTsWnqyaZWG",
        "outputId": "20861496-5d43-4fae-be1c-1c87bc7c5027"
      },
      "source": [
        "early_stopping_cb = keras.callbacks.EarlyStopping(patience=10, restore_best_weights=True)\n",
        "history = model.fit(X_train_A,y_train_A,epochs = 10, callbacks = [early_stopping_cb],validation_data=(X_valid_A,y_valid_A))"
      ],
      "execution_count": null,
      "outputs": [
        {
          "output_type": "stream",
          "text": [
            "Epoch 1/10\n",
            "1375/1375 [==============================] - 6s 4ms/step - loss: 0.6805 - accuracy: 0.7907 - val_loss: 0.3339 - val_accuracy: 0.8884\n",
            "Epoch 2/10\n",
            "1375/1375 [==============================] - 5s 4ms/step - loss: 0.3119 - accuracy: 0.8948 - val_loss: 0.3122 - val_accuracy: 0.8969\n",
            "Epoch 3/10\n",
            "1375/1375 [==============================] - 5s 4ms/step - loss: 0.2801 - accuracy: 0.9063 - val_loss: 0.2584 - val_accuracy: 0.9183\n",
            "Epoch 4/10\n",
            "1375/1375 [==============================] - 5s 4ms/step - loss: 0.2654 - accuracy: 0.9109 - val_loss: 0.2510 - val_accuracy: 0.9185\n",
            "Epoch 5/10\n",
            "1375/1375 [==============================] - 5s 4ms/step - loss: 0.2501 - accuracy: 0.9150 - val_loss: 0.2738 - val_accuracy: 0.9101\n",
            "Epoch 6/10\n",
            "1375/1375 [==============================] - 5s 4ms/step - loss: 0.2325 - accuracy: 0.9204 - val_loss: 0.2392 - val_accuracy: 0.9220\n",
            "Epoch 7/10\n",
            "1375/1375 [==============================] - 5s 4ms/step - loss: 0.2263 - accuracy: 0.9216 - val_loss: 0.2417 - val_accuracy: 0.9205\n",
            "Epoch 8/10\n",
            "1375/1375 [==============================] - 5s 4ms/step - loss: 0.2161 - accuracy: 0.9253 - val_loss: 0.2424 - val_accuracy: 0.9138\n",
            "Epoch 9/10\n",
            "1375/1375 [==============================] - 5s 4ms/step - loss: 0.2118 - accuracy: 0.9286 - val_loss: 0.2171 - val_accuracy: 0.9265\n",
            "Epoch 10/10\n",
            "1375/1375 [==============================] - 5s 4ms/step - loss: 0.2010 - accuracy: 0.9311 - val_loss: 0.2703 - val_accuracy: 0.9073\n"
          ],
          "name": "stdout"
        }
      ]
    },
    {
      "cell_type": "code",
      "metadata": {
        "colab": {
          "base_uri": "https://localhost:8080/"
        },
        "id": "VjDdlN-ja3V6",
        "outputId": "d9d6b873-9858-4103-d427-953b6ea08336"
      },
      "source": [
        "model.evaluate(X_test_A,y_test_A)"
      ],
      "execution_count": null,
      "outputs": [
        {
          "output_type": "stream",
          "text": [
            "250/250 [==============================] - 1s 3ms/step - loss: 38.7407 - accuracy: 0.9003\n"
          ],
          "name": "stdout"
        },
        {
          "output_type": "execute_result",
          "data": {
            "text/plain": [
              "[38.74065017700195, 0.9002500176429749]"
            ]
          },
          "metadata": {
            "tags": []
          },
          "execution_count": 188
        }
      ]
    },
    {
      "cell_type": "code",
      "metadata": {
        "id": "lyKB-94Ifdgn"
      },
      "source": [
        "y_pred = model.predict(X_test_A[:3])"
      ],
      "execution_count": null,
      "outputs": []
    },
    {
      "cell_type": "code",
      "metadata": {
        "colab": {
          "base_uri": "https://localhost:8080/"
        },
        "id": "Af_baZE5foqy",
        "outputId": "5ada25e5-80d9-4c8a-f183-3f0ff54989e7"
      },
      "source": [
        "result = y_pred.argmax(-1).astype(int)\n",
        "result"
      ],
      "execution_count": null,
      "outputs": [
        {
          "output_type": "execute_result",
          "data": {
            "text/plain": [
              "array([7, 2, 1])"
            ]
          },
          "metadata": {
            "tags": []
          },
          "execution_count": 190
        }
      ]
    },
    {
      "cell_type": "code",
      "metadata": {
        "colab": {
          "base_uri": "https://localhost:8080/"
        },
        "id": "KvbU8C-3fvxg",
        "outputId": "126f5a7a-5829-4f52-f482-08ba03fde9e5"
      },
      "source": [
        "import numpy as np\n",
        "np.array(class_names)[result]"
      ],
      "execution_count": null,
      "outputs": [
        {
          "output_type": "execute_result",
          "data": {
            "text/plain": [
              "array(['Ankle boot', 'Pullover', 'Trouser'], dtype='<U11')"
            ]
          },
          "metadata": {
            "tags": []
          },
          "execution_count": 191
        }
      ]
    },
    {
      "cell_type": "code",
      "metadata": {
        "id": "EfuoYvhAgO6I"
      },
      "source": [
        "model.save('my_keras_model.h5')"
      ],
      "execution_count": null,
      "outputs": []
    },
    {
      "cell_type": "code",
      "metadata": {
        "id": "EPAgYbd8Ll-U"
      },
      "source": [
        "model_B = keras.models.Sequential([keras.layers.Flatten(input_shape =[28,28]),\n",
        "                                 keras.layers.Dense(300,activation='relu',kernel_initializer='he_normal'),\n",
        "                                 keras.layers.Dense(100,activation='relu',kernel_initializer='he_normal'),\n",
        "                                 keras.layers.Dense(100,activation='relu',kernel_initializer='he_normal'),\n",
        "                                 keras.layers.Dense(1,activation='sigmoid')])"
      ],
      "execution_count": null,
      "outputs": []
    },
    {
      "cell_type": "code",
      "metadata": {
        "id": "0swvjWZ-M5d7"
      },
      "source": [
        "model_B.compile(loss=\"binary_crossentropy\",\n",
        "                optimizer=keras.optimizers.SGD(lr=1e-3),\n",
        "                metrics=[\"accuracy\"])"
      ],
      "execution_count": null,
      "outputs": []
    },
    {
      "cell_type": "code",
      "metadata": {
        "colab": {
          "base_uri": "https://localhost:8080/"
        },
        "id": "B1s3CiLRNAp4",
        "outputId": "cef69db5-964b-4b35-e8aa-5145e7a58966"
      },
      "source": [
        "history = model_B.fit(X_train_B, y_train_B, epochs=20,\n",
        "                      validation_data=(X_valid_B, y_valid_B))"
      ],
      "execution_count": null,
      "outputs": [
        {
          "output_type": "stream",
          "text": [
            "Epoch 1/20\n",
            "7/7 [==============================] - 1s 43ms/step - loss: 0.6823 - accuracy: 0.5715 - val_loss: 0.6549 - val_accuracy: 0.6907\n",
            "Epoch 2/20\n",
            "7/7 [==============================] - 0s 18ms/step - loss: 0.6484 - accuracy: 0.6910 - val_loss: 0.6282 - val_accuracy: 0.7809\n",
            "Epoch 3/20\n",
            "7/7 [==============================] - 0s 19ms/step - loss: 0.6117 - accuracy: 0.8189 - val_loss: 0.6024 - val_accuracy: 0.8256\n",
            "Epoch 4/20\n",
            "7/7 [==============================] - 0s 19ms/step - loss: 0.6037 - accuracy: 0.7926 - val_loss: 0.5811 - val_accuracy: 0.8458\n",
            "Epoch 5/20\n",
            "7/7 [==============================] - 0s 20ms/step - loss: 0.5767 - accuracy: 0.7943 - val_loss: 0.5636 - val_accuracy: 0.8469\n",
            "Epoch 6/20\n",
            "7/7 [==============================] - 0s 20ms/step - loss: 0.5619 - accuracy: 0.8182 - val_loss: 0.5479 - val_accuracy: 0.8580\n",
            "Epoch 7/20\n",
            "7/7 [==============================] - 0s 19ms/step - loss: 0.5483 - accuracy: 0.8193 - val_loss: 0.5341 - val_accuracy: 0.8631\n",
            "Epoch 8/20\n",
            "7/7 [==============================] - 0s 18ms/step - loss: 0.5205 - accuracy: 0.8665 - val_loss: 0.5214 - val_accuracy: 0.8702\n",
            "Epoch 9/20\n",
            "7/7 [==============================] - 0s 17ms/step - loss: 0.5061 - accuracy: 0.8567 - val_loss: 0.5095 - val_accuracy: 0.8742\n",
            "Epoch 10/20\n",
            "7/7 [==============================] - 0s 17ms/step - loss: 0.5030 - accuracy: 0.8481 - val_loss: 0.4987 - val_accuracy: 0.8824\n",
            "Epoch 11/20\n",
            "7/7 [==============================] - 0s 16ms/step - loss: 0.4940 - accuracy: 0.8860 - val_loss: 0.4885 - val_accuracy: 0.8955\n",
            "Epoch 12/20\n",
            "7/7 [==============================] - 0s 16ms/step - loss: 0.4690 - accuracy: 0.9224 - val_loss: 0.4789 - val_accuracy: 0.9077\n",
            "Epoch 13/20\n",
            "7/7 [==============================] - 0s 16ms/step - loss: 0.4781 - accuracy: 0.8859 - val_loss: 0.4697 - val_accuracy: 0.9148\n",
            "Epoch 14/20\n",
            "7/7 [==============================] - 0s 16ms/step - loss: 0.4490 - accuracy: 0.9158 - val_loss: 0.4611 - val_accuracy: 0.9199\n",
            "Epoch 15/20\n",
            "7/7 [==============================] - 0s 16ms/step - loss: 0.4629 - accuracy: 0.9248 - val_loss: 0.4526 - val_accuracy: 0.9290\n",
            "Epoch 16/20\n",
            "7/7 [==============================] - 0s 15ms/step - loss: 0.4360 - accuracy: 0.9370 - val_loss: 0.4445 - val_accuracy: 0.9310\n",
            "Epoch 17/20\n",
            "7/7 [==============================] - 0s 17ms/step - loss: 0.4272 - accuracy: 0.9463 - val_loss: 0.4363 - val_accuracy: 0.9341\n",
            "Epoch 18/20\n",
            "7/7 [==============================] - 0s 16ms/step - loss: 0.4259 - accuracy: 0.9614 - val_loss: 0.4286 - val_accuracy: 0.9351\n",
            "Epoch 19/20\n",
            "7/7 [==============================] - 0s 18ms/step - loss: 0.4033 - accuracy: 0.9661 - val_loss: 0.4208 - val_accuracy: 0.9412\n",
            "Epoch 20/20\n",
            "7/7 [==============================] - 0s 20ms/step - loss: 0.3971 - accuracy: 0.9475 - val_loss: 0.4135 - val_accuracy: 0.9483\n"
          ],
          "name": "stdout"
        }
      ]
    },
    {
      "cell_type": "code",
      "metadata": {
        "id": "VLRE5I4bNE_S"
      },
      "source": [
        "y_pred_B = model_B.predict(X_test_B[:3]).astype(int)"
      ],
      "execution_count": null,
      "outputs": []
    },
    {
      "cell_type": "code",
      "metadata": {
        "colab": {
          "base_uri": "https://localhost:8080/"
        },
        "id": "Rnka8Z9BNdbK",
        "outputId": "6582b2bc-2ec8-49ef-b2c1-8f96921adb44"
      },
      "source": [
        "print(y_pred_B)\n",
        "print(y_test_B[:3])"
      ],
      "execution_count": null,
      "outputs": [
        {
          "output_type": "stream",
          "text": [
            "[[1]\n",
            " [1]\n",
            " [0]]\n",
            "[1. 1. 0.]\n"
          ],
          "name": "stdout"
        }
      ]
    },
    {
      "cell_type": "code",
      "metadata": {
        "colab": {
          "base_uri": "https://localhost:8080/",
          "height": 282
        },
        "id": "_DTtJ0MZN3fv",
        "outputId": "718da45d-bc64-4457-a1d0-e020e40af320"
      },
      "source": [
        "plt.imshow(X_test_B[1])"
      ],
      "execution_count": null,
      "outputs": [
        {
          "output_type": "execute_result",
          "data": {
            "text/plain": [
              "<matplotlib.image.AxesImage at 0x7fac7e37bba8>"
            ]
          },
          "metadata": {
            "tags": []
          },
          "execution_count": 213
        },
        {
          "output_type": "display_data",
          "data": {
            "image/png": "[encoded data removed]",
            "text/plain": [
              "<Figure size 432x288 with 1 Axes>"
            ]
          },
          "metadata": {
            "tags": [],
            "needs_background": "light"
          }
        }
      ]
    },
    {
      "cell_type": "code",
      "metadata": {
        "id": "hxXVuPWEhiLI"
      },
      "source": [
        "model_A = keras.models.load_model('my_keras_model.h5')"
      ],
      "execution_count": null,
      "outputs": []
    },
    {
      "cell_type": "code",
      "metadata": {
        "id": "E2Mw594khtfG"
      },
      "source": [
        "model_A_clone = keras.models.clone_model(model_A)"
      ],
      "execution_count": null,
      "outputs": []
    },
    {
      "cell_type": "code",
      "metadata": {
        "id": "SbPwS763hx9Y"
      },
      "source": [
        "model_A_clone.set_weights(model_A.get_weights())"
      ],
      "execution_count": null,
      "outputs": []
    },
    {
      "cell_type": "code",
      "metadata": {
        "colab": {
          "base_uri": "https://localhost:8080/"
        },
        "id": "fMt7TGGLhz2_",
        "outputId": "975ea861-a682-4700-c102-07b8c5878082"
      },
      "source": [
        "model_A_clone.layers[:-1]\n"
      ],
      "execution_count": null,
      "outputs": [
        {
          "output_type": "execute_result",
          "data": {
            "text/plain": [
              "[<tensorflow.python.keras.layers.core.Flatten at 0x7fac8555d390>,\n",
              " <tensorflow.python.keras.layers.core.Dense at 0x7fac85760128>,\n",
              " <tensorflow.python.keras.layers.core.Dense at 0x7fac855c17f0>,\n",
              " <tensorflow.python.keras.layers.core.Dense at 0x7fac7fbf1f60>]"
            ]
          },
          "metadata": {
            "tags": []
          },
          "execution_count": 218
        }
      ]
    },
    {
      "cell_type": "code",
      "metadata": {
        "colab": {
          "base_uri": "https://localhost:8080/"
        },
        "id": "cTj90obakJ1s",
        "outputId": "4ddd432f-a0b5-457c-831b-c05377d5cf09"
      },
      "source": [
        "model_A_clone.layers"
      ],
      "execution_count": null,
      "outputs": [
        {
          "output_type": "execute_result",
          "data": {
            "text/plain": [
              "[<tensorflow.python.keras.layers.core.Flatten at 0x7fac8555d390>,\n",
              " <tensorflow.python.keras.layers.core.Dense at 0x7fac85760128>,\n",
              " <tensorflow.python.keras.layers.core.Dense at 0x7fac855c17f0>,\n",
              " <tensorflow.python.keras.layers.core.Dense at 0x7fac7fbf1f60>,\n",
              " <tensorflow.python.keras.layers.core.Dense at 0x7fac856e99e8>]"
            ]
          },
          "metadata": {
            "tags": []
          },
          "execution_count": 219
        }
      ]
    },
    {
      "cell_type": "code",
      "metadata": {
        "id": "8OPuE-6Nlerg"
      },
      "source": [
        "model_B_on_A = keras.models.Sequential(model_A.layers[:-1]) \n",
        "model_B_on_A.add(keras.layers.Dense(1, activation=\"sigmoid\"))\n"
      ],
      "execution_count": null,
      "outputs": []
    },
    {
      "cell_type": "code",
      "metadata": {
        "id": "bWY7fEFrrnxs"
      },
      "source": [
        "for layer in model_B_on_A.layers[:-1]: \n",
        "  layer.trainable = False"
      ],
      "execution_count": null,
      "outputs": []
    },
    {
      "cell_type": "code",
      "metadata": {
        "id": "JFTXctnOuPjP"
      },
      "source": [
        "model_B_on_A.compile(loss=\"binary_crossentropy\",\n",
        "                     optimizer=keras.optimizers.SGD(lr=1e-3),\n",
        "                     metrics=[\"accuracy\"])"
      ],
      "execution_count": null,
      "outputs": []
    },
    {
      "cell_type": "code",
      "metadata": {
        "colab": {
          "base_uri": "https://localhost:8080/"
        },
        "id": "K4n4ry6N7ZcF",
        "outputId": "45d377ab-bd46-413d-d2cc-75f11e909e8d"
      },
      "source": [
        "history = model_B_on_A.fit(X_train_B, y_train_B, epochs=20,\n",
        "                           validation_data=(X_valid_B, y_valid_B))"
      ],
      "execution_count": null,
      "outputs": [
        {
          "output_type": "stream",
          "text": [
            "Epoch 1/20\n",
            "7/7 [==============================] - 1s 44ms/step - loss: 1.3505 - accuracy: 0.4414 - val_loss: 1.1762 - val_accuracy: 0.4625\n",
            "Epoch 2/20\n",
            "7/7 [==============================] - 0s 14ms/step - loss: 1.1473 - accuracy: 0.4726 - val_loss: 1.0663 - val_accuracy: 0.4594\n",
            "Epoch 3/20\n",
            "7/7 [==============================] - 0s 15ms/step - loss: 1.0277 - accuracy: 0.4998 - val_loss: 0.9684 - val_accuracy: 0.4584\n",
            "Epoch 4/20\n",
            "7/7 [==============================] - 0s 16ms/step - loss: 0.9879 - accuracy: 0.4775 - val_loss: 0.8869 - val_accuracy: 0.4838\n",
            "Epoch 5/20\n",
            "7/7 [==============================] - 0s 14ms/step - loss: 0.8113 - accuracy: 0.5423 - val_loss: 0.8061 - val_accuracy: 0.5132\n",
            "Epoch 6/20\n",
            "7/7 [==============================] - 0s 15ms/step - loss: 0.8029 - accuracy: 0.5099 - val_loss: 0.7452 - val_accuracy: 0.5538\n",
            "Epoch 7/20\n",
            "7/7 [==============================] - 0s 14ms/step - loss: 0.6993 - accuracy: 0.5653 - val_loss: 0.6936 - val_accuracy: 0.5974\n",
            "Epoch 8/20\n",
            "7/7 [==============================] - 0s 15ms/step - loss: 0.6694 - accuracy: 0.5992 - val_loss: 0.6496 - val_accuracy: 0.6329\n",
            "Epoch 9/20\n",
            "7/7 [==============================] - 0s 16ms/step - loss: 0.6141 - accuracy: 0.6806 - val_loss: 0.6118 - val_accuracy: 0.6734\n",
            "Epoch 10/20\n",
            "7/7 [==============================] - 0s 16ms/step - loss: 0.5735 - accuracy: 0.7290 - val_loss: 0.5795 - val_accuracy: 0.7150\n",
            "Epoch 11/20\n",
            "7/7 [==============================] - 0s 15ms/step - loss: 0.5566 - accuracy: 0.7662 - val_loss: 0.5524 - val_accuracy: 0.7586\n",
            "Epoch 12/20\n",
            "7/7 [==============================] - 0s 17ms/step - loss: 0.5234 - accuracy: 0.8019 - val_loss: 0.5278 - val_accuracy: 0.7880\n",
            "Epoch 13/20\n",
            "7/7 [==============================] - 0s 16ms/step - loss: 0.5155 - accuracy: 0.8261 - val_loss: 0.5039 - val_accuracy: 0.8245\n",
            "Epoch 14/20\n",
            "7/7 [==============================] - 0s 19ms/step - loss: 0.4705 - accuracy: 0.8791 - val_loss: 0.4821 - val_accuracy: 0.8580\n",
            "Epoch 15/20\n",
            "7/7 [==============================] - 0s 15ms/step - loss: 0.4569 - accuracy: 0.8824 - val_loss: 0.4627 - val_accuracy: 0.8874\n",
            "Epoch 16/20\n",
            "7/7 [==============================] - 0s 17ms/step - loss: 0.4499 - accuracy: 0.9175 - val_loss: 0.4444 - val_accuracy: 0.9077\n",
            "Epoch 17/20\n",
            "7/7 [==============================] - 0s 16ms/step - loss: 0.4261 - accuracy: 0.9367 - val_loss: 0.4285 - val_accuracy: 0.9229\n",
            "Epoch 18/20\n",
            "7/7 [==============================] - 0s 18ms/step - loss: 0.4184 - accuracy: 0.9480 - val_loss: 0.4142 - val_accuracy: 0.9310\n",
            "Epoch 19/20\n",
            "7/7 [==============================] - 0s 17ms/step - loss: 0.4069 - accuracy: 0.9501 - val_loss: 0.4012 - val_accuracy: 0.9442\n",
            "Epoch 20/20\n",
            "7/7 [==============================] - 0s 18ms/step - loss: 0.3875 - accuracy: 0.9627 - val_loss: 0.3884 - val_accuracy: 0.9523\n"
          ],
          "name": "stdout"
        }
      ]
    },
    {
      "cell_type": "code",
      "metadata": {
        "colab": {
          "base_uri": "https://localhost:8080/"
        },
        "id": "Fpv0MhIeP6Qk",
        "outputId": "821cbffb-0cf1-45df-b5d7-b2db1d97a556"
      },
      "source": [
        "for layer in model_B_on_A.layers[:-1]:\n",
        "    layer.trainable = True\n",
        "\n",
        "model_B_on_A.compile(loss=\"binary_crossentropy\",\n",
        "                     optimizer=keras.optimizers.SGD(lr=1e-3),\n",
        "                     metrics=[\"accuracy\"])\n",
        "history = model_B_on_A.fit(X_train_B, y_train_B, epochs=20,\n",
        "                           validation_data=(X_valid_B, y_valid_B))"
      ],
      "execution_count": null,
      "outputs": [
        {
          "output_type": "stream",
          "text": [
            "Epoch 1/20\n",
            "7/7 [==============================] - 1s 39ms/step - loss: 0.1323 - accuracy: 1.0000 - val_loss: 0.1543 - val_accuracy: 0.9949\n",
            "Epoch 2/20\n",
            "7/7 [==============================] - 0s 17ms/step - loss: 0.1447 - accuracy: 1.0000 - val_loss: 0.1495 - val_accuracy: 0.9949\n",
            "Epoch 3/20\n",
            "7/7 [==============================] - 0s 17ms/step - loss: 0.1259 - accuracy: 1.0000 - val_loss: 0.1449 - val_accuracy: 0.9949\n",
            "Epoch 4/20\n",
            "7/7 [==============================] - 0s 17ms/step - loss: 0.1275 - accuracy: 1.0000 - val_loss: 0.1407 - val_accuracy: 0.9949\n",
            "Epoch 5/20\n",
            "7/7 [==============================] - 0s 18ms/step - loss: 0.1145 - accuracy: 1.0000 - val_loss: 0.1367 - val_accuracy: 0.9949\n",
            "Epoch 6/20\n",
            "7/7 [==============================] - 0s 16ms/step - loss: 0.1204 - accuracy: 1.0000 - val_loss: 0.1329 - val_accuracy: 0.9949\n",
            "Epoch 7/20\n",
            "7/7 [==============================] - 0s 19ms/step - loss: 0.1158 - accuracy: 1.0000 - val_loss: 0.1295 - val_accuracy: 0.9949\n",
            "Epoch 8/20\n",
            "7/7 [==============================] - 0s 17ms/step - loss: 0.1168 - accuracy: 1.0000 - val_loss: 0.1262 - val_accuracy: 0.9949\n",
            "Epoch 9/20\n",
            "7/7 [==============================] - 0s 17ms/step - loss: 0.1120 - accuracy: 1.0000 - val_loss: 0.1230 - val_accuracy: 0.9949\n",
            "Epoch 10/20\n",
            "7/7 [==============================] - 0s 17ms/step - loss: 0.1080 - accuracy: 1.0000 - val_loss: 0.1199 - val_accuracy: 0.9949\n",
            "Epoch 11/20\n",
            "7/7 [==============================] - 0s 17ms/step - loss: 0.0982 - accuracy: 1.0000 - val_loss: 0.1171 - val_accuracy: 0.9949\n",
            "Epoch 12/20\n",
            "7/7 [==============================] - 0s 16ms/step - loss: 0.0968 - accuracy: 1.0000 - val_loss: 0.1145 - val_accuracy: 0.9970\n",
            "Epoch 13/20\n",
            "7/7 [==============================] - 0s 16ms/step - loss: 0.0922 - accuracy: 1.0000 - val_loss: 0.1120 - val_accuracy: 0.9970\n",
            "Epoch 14/20\n",
            "7/7 [==============================] - 0s 18ms/step - loss: 0.1028 - accuracy: 1.0000 - val_loss: 0.1096 - val_accuracy: 0.9970\n",
            "Epoch 15/20\n",
            "7/7 [==============================] - 0s 18ms/step - loss: 0.0959 - accuracy: 1.0000 - val_loss: 0.1073 - val_accuracy: 0.9970\n",
            "Epoch 16/20\n",
            "7/7 [==============================] - 0s 21ms/step - loss: 0.0887 - accuracy: 1.0000 - val_loss: 0.1050 - val_accuracy: 0.9959\n",
            "Epoch 17/20\n",
            "7/7 [==============================] - 0s 23ms/step - loss: 0.0810 - accuracy: 1.0000 - val_loss: 0.1028 - val_accuracy: 0.9959\n",
            "Epoch 18/20\n",
            "7/7 [==============================] - 0s 19ms/step - loss: 0.0914 - accuracy: 1.0000 - val_loss: 0.1009 - val_accuracy: 0.9970\n",
            "Epoch 19/20\n",
            "7/7 [==============================] - 0s 19ms/step - loss: 0.0893 - accuracy: 1.0000 - val_loss: 0.0990 - val_accuracy: 0.9959\n",
            "Epoch 20/20\n",
            "7/7 [==============================] - 0s 18ms/step - loss: 0.0828 - accuracy: 1.0000 - val_loss: 0.0972 - val_accuracy: 0.9959\n"
          ],
          "name": "stdout"
        }
      ]
    },
    {
      "cell_type": "code",
      "metadata": {
        "colab": {
          "base_uri": "https://localhost:8080/"
        },
        "id": "XSFlSz6aQBJB",
        "outputId": "ccb63aff-ba82-415f-e6f4-78078b70c1db"
      },
      "source": [
        "model_B.evaluate(X_test_B, y_test_B)\n"
      ],
      "execution_count": null,
      "outputs": [
        {
          "output_type": "stream",
          "text": [
            "63/63 [==============================] - 0s 2ms/step - loss: 3.2432 - accuracy: 0.9260\n"
          ],
          "name": "stdout"
        },
        {
          "output_type": "execute_result",
          "data": {
            "text/plain": [
              "[3.243155002593994, 0.9259999990463257]"
            ]
          },
          "metadata": {
            "tags": []
          },
          "execution_count": 226
        }
      ]
    },
    {
      "cell_type": "code",
      "metadata": {
        "id": "1z01eIypQDiD",
        "colab": {
          "base_uri": "https://localhost:8080/"
        },
        "outputId": "895f4c19-808d-48ed-b698-78bbece0b2aa"
      },
      "source": [
        "model_B_on_A.evaluate(X_test_B, y_test_B)\n"
      ],
      "execution_count": null,
      "outputs": [
        {
          "output_type": "stream",
          "text": [
            "63/63 [==============================] - 0s 2ms/step - loss: 0.2983 - accuracy: 0.9965\n"
          ],
          "name": "stdout"
        },
        {
          "output_type": "execute_result",
          "data": {
            "text/plain": [
              "[0.29833555221557617, 0.9965000152587891]"
            ]
          },
          "metadata": {
            "tags": []
          },
          "execution_count": 227
        }
      ]
    },
    {
      "cell_type": "code",
      "metadata": {
        "id": "GOml807EQFm6"
      },
      "source": [
        ""
      ],
      "execution_count": null,
      "outputs": []
    }
  ]
}