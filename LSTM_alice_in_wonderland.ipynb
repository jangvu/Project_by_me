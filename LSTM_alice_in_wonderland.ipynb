{
  "nbformat": 4,
  "nbformat_minor": 0,
  "metadata": {
    "colab": {
      "name": "LSTM_alice_in_wonderland.ipynb",
      "provenance": [],
      "authorship_tag": "ABX9TyMqXmxldQK3nX8cc/eSSVfc",
      "include_colab_link": true
    },
    "kernelspec": {
      "name": "python3",
      "display_name": "Python 3"
    },
    "accelerator": "GPU"
  },
  "cells": [
    {
      "cell_type": "markdown",
      "metadata": {
        "id": "view-in-github",
        "colab_type": "text"
      },
      "source": [
        "<a href=\"https://colab.research.google.com/github/jangvu/Project_by_me/blob/main/LSTM_alice_in_wonderland.ipynb\" target=\"_parent\"><img src=\"https://colab.research.google.com/assets/colab-badge.svg\" alt=\"Open In Colab\"/></a>"
      ]
    },
    {
      "cell_type": "code",
      "metadata": {
        "colab": {
          "base_uri": "https://localhost:8080/"
        },
        "id": "SAImJE2GDOXV",
        "outputId": "f5171252-1cea-408f-83bf-dbcace683c49"
      },
      "source": [
        "from google.colab import drive\n",
        "drive.mount('/content/drive')"
      ],
      "execution_count": 4,
      "outputs": [
        {
          "output_type": "stream",
          "text": [
            "Mounted at /content/drive\n"
          ],
          "name": "stdout"
        }
      ]
    },
    {
      "cell_type": "code",
      "metadata": {
        "colab": {
          "base_uri": "https://localhost:8080/"
        },
        "id": "CFOSdn_9DdSw",
        "outputId": "ff7a7835-43b8-4c21-b88b-5a854354da0c"
      },
      "source": [
        "!ls \"/content/drive/My Drive/Data\""
      ],
      "execution_count": 13,
      "outputs": [
        {
          "output_type": "stream",
          "text": [
            "101_ObjectCategories.tar.gz  Annotations.tar  isbi-datasets.zip  NFLX.csv\n",
            "alice_in_wonderland.txt      candidate_test   NEU-DET.zip\n"
          ],
          "name": "stdout"
        }
      ]
    },
    {
      "cell_type": "code",
      "metadata": {
        "id": "R64UqJTIECKH"
      },
      "source": [
        "FILE_PATH = '/content/drive/My Drive/Data/alice_in_wonderland.txt'"
      ],
      "execution_count": 15,
      "outputs": []
    },
    {
      "cell_type": "code",
      "metadata": {
        "id": "TqGXeLqUEMrg"
      },
      "source": [
        "raw_text = open(FILE_PATH).read().lower()\n"
      ],
      "execution_count": 16,
      "outputs": []
    },
    {
      "cell_type": "code",
      "metadata": {
        "id": "Naw8LBFIfXYM"
      },
      "source": [
        "import numpy as np\n",
        "from keras.utils import np_utils\n",
        "from sklearn.preprocessing import LabelBinarizer"
      ],
      "execution_count": 17,
      "outputs": []
    },
    {
      "cell_type": "markdown",
      "metadata": {
        "id": "BSWEkKdzESTm"
      },
      "source": [
        "Take the set of characters in the texts"
      ]
    },
    {
      "cell_type": "code",
      "metadata": {
        "id": "vHdNbVqCEPDm"
      },
      "source": [
        "chars = sorted(set(raw_text))"
      ],
      "execution_count": 18,
      "outputs": []
    },
    {
      "cell_type": "markdown",
      "metadata": {
        "id": "LnPXkEWTNcvg"
      },
      "source": [
        "Using a dictionary 59 to transcript the story's characters -> each time a char appears 1 in key of that char and 0 for the rest"
      ]
    },
    {
      "cell_type": "code",
      "metadata": {
        "colab": {
          "base_uri": "https://localhost:8080/"
        },
        "id": "MSTeorSbMJF5",
        "outputId": "8a9e99e6-77e7-41d2-ec7c-f8e27257c071"
      },
      "source": [
        "char_to_int = dict((c, i) for i, c in enumerate(chars))\n",
        "print(char_to_int)"
      ],
      "execution_count": 19,
      "outputs": [
        {
          "output_type": "stream",
          "text": [
            "{'\\n': 0, ' ': 1, '!': 2, '\"': 3, \"'\": 4, '(': 5, ')': 6, '*': 7, ',': 8, '-': 9, '.': 10, '0': 11, '3': 12, ':': 13, ';': 14, '?': 15, '[': 16, ']': 17, '_': 18, '`': 19, 'a': 20, 'b': 21, 'c': 22, 'd': 23, 'e': 24, 'f': 25, 'g': 26, 'h': 27, 'i': 28, 'j': 29, 'k': 30, 'l': 31, 'm': 32, 'n': 33, 'o': 34, 'p': 35, 'q': 36, 'r': 37, 's': 38, 't': 39, 'u': 40, 'v': 41, 'w': 42, 'x': 43, 'y': 44, 'z': 45}\n"
          ],
          "name": "stdout"
        }
      ]
    },
    {
      "cell_type": "markdown",
      "metadata": {
        "id": "pRjPsn3PObYn"
      },
      "source": [
        "But we dont need to use all chars because some chars dont affect the sentences like *, #, $, ... => make new chars "
      ]
    },
    {
      "cell_type": "code",
      "metadata": {
        "colab": {
          "base_uri": "https://localhost:8080/"
        },
        "id": "FNU0bcMlOMDd",
        "outputId": "d85c16e7-b918-4ae6-89cd-93c126595b7f"
      },
      "source": [
        "import string\n",
        "string.ascii_lowercase\n",
        "chars_new = list(string.ascii_lowercase) + ['0', '.', ',', ' ', '!', '?', 'unk']\n",
        "chars_to_int = dict((v, k) for k, v in enumerate(chars_new))\n",
        "int_to_chars = dict((k, v) for k, v in enumerate(chars_new))\n",
        "\n",
        "print(chars_to_int)\n",
        "print(int_to_chars)\n",
        "\n",
        "n_chars = len(raw_text)\n",
        "n_vocab = len(chars_new)\n",
        "print('Total characters: ', n_chars)\n",
        "print('Total Vocab: ', n_vocab)"
      ],
      "execution_count": 20,
      "outputs": [
        {
          "output_type": "stream",
          "text": [
            "{'a': 0, 'b': 1, 'c': 2, 'd': 3, 'e': 4, 'f': 5, 'g': 6, 'h': 7, 'i': 8, 'j': 9, 'k': 10, 'l': 11, 'm': 12, 'n': 13, 'o': 14, 'p': 15, 'q': 16, 'r': 17, 's': 18, 't': 19, 'u': 20, 'v': 21, 'w': 22, 'x': 23, 'y': 24, 'z': 25, '0': 26, '.': 27, ',': 28, ' ': 29, '!': 30, '?': 31, 'unk': 32}\n",
            "{0: 'a', 1: 'b', 2: 'c', 3: 'd', 4: 'e', 5: 'f', 6: 'g', 7: 'h', 8: 'i', 9: 'j', 10: 'k', 11: 'l', 12: 'm', 13: 'n', 14: 'o', 15: 'p', 16: 'q', 17: 'r', 18: 's', 19: 't', 20: 'u', 21: 'v', 22: 'w', 23: 'x', 24: 'y', 25: 'z', 26: '0', 27: '.', 28: ',', 29: ' ', 30: '!', 31: '?', 32: 'unk'}\n",
            "Total characters:  148574\n",
            "Total Vocab:  33\n"
          ],
          "name": "stdout"
        }
      ]
    },
    {
      "cell_type": "code",
      "metadata": {
        "id": "ipvoJ4LpMKMU"
      },
      "source": [
        "def _encode_sen(text):\n",
        "  text = text.lower()\n",
        "  sen_vec = []\n",
        "  for letter in text:\n",
        "    if letter in chars_new:\n",
        "      idx = chars_to_int[letter]\n",
        "    else:\n",
        "      idx = chars_to_int['unk']\n",
        "    sen_vec.append(idx)\n",
        "  return sen_vec"
      ],
      "execution_count": 21,
      "outputs": []
    },
    {
      "cell_type": "code",
      "metadata": {
        "id": "LBD-OdEVOYBI"
      },
      "source": [
        "def _decode_sen(vec):\n",
        "  text = []\n",
        "  for idx in vec:\n",
        "    letter = int_to_chars[idx]\n",
        "    text.append(letter)\n",
        "  text = ''.join(text)\n",
        "  return text"
      ],
      "execution_count": 22,
      "outputs": []
    },
    {
      "cell_type": "code",
      "metadata": {
        "colab": {
          "base_uri": "https://localhost:8080/"
        },
        "id": "pB3Q6EECZvJy",
        "outputId": "04b3cc24-7c79-4b09-91ee-55374207fa08"
      },
      "source": [
        "a = _encode_sen('Alice in wonderland. #')\n",
        "print('Encode')\n",
        "print(a)\n",
        "b = _decode_sen(a)\n",
        "print('Decode')\n",
        "print(b)"
      ],
      "execution_count": 23,
      "outputs": [
        {
          "output_type": "stream",
          "text": [
            "Encode\n",
            "[0, 11, 8, 2, 4, 29, 8, 13, 29, 22, 14, 13, 3, 4, 17, 11, 0, 13, 3, 27, 29, 32]\n",
            "Decode\n",
            "alice in wonderland. unk\n"
          ],
          "name": "stdout"
        }
      ]
    },
    {
      "cell_type": "markdown",
      "metadata": {
        "id": "v5qmKqeSbN3W"
      },
      "source": [
        "Creating Window to slide through text "
      ]
    },
    {
      "cell_type": "code",
      "metadata": {
        "id": "55EWCmGDaSWL"
      },
      "source": [
        "def window(text, step = 1, window_size = 10, test = False,):\n",
        "  X_train = []\n",
        "  y_train = []\n",
        "  if test == True:\n",
        "    for i in range(len(text) - window_size+1):\n",
        "      X_train.append(_encode_sen(text[i:i+window_size]))\n",
        "  else:\n",
        "    for i in range(len(text) - window_size):\n",
        "      X_train.append(_encode_sen(text[i:i+window_size]))\n",
        "      y_train.append(_encode_sen(text[i+window_size]))\n",
        "  return X_train, y_train\n",
        "\n",
        "\n"
      ],
      "execution_count": 24,
      "outputs": []
    },
    {
      "cell_type": "code",
      "metadata": {
        "id": "kza5AzPuaf32"
      },
      "source": [
        "data_X, data_Y = window(raw_text)"
      ],
      "execution_count": 25,
      "outputs": []
    },
    {
      "cell_type": "markdown",
      "metadata": {
        "id": "w7EToUechqtM"
      },
      "source": [
        "INPUT_SHAPE has form (samples, time_steps, features). So in this problem samples = number of windows, time_steps = length of window, features is dimension of window (we using 1D in this)"
      ]
    },
    {
      "cell_type": "code",
      "metadata": {
        "id": "QjnBA8qmem4H"
      },
      "source": [
        "num_samples = len(data_X)\n",
        "window_size = 10"
      ],
      "execution_count": 26,
      "outputs": []
    },
    {
      "cell_type": "code",
      "metadata": {
        "id": "20_E-iMte3kz",
        "colab": {
          "base_uri": "https://localhost:8080/"
        },
        "outputId": "b5dd9eb8-6f57-41cd-d3ed-94b8f5c983d7"
      },
      "source": [
        "X_train = np.asarray(data_X).reshape(num_samples,window_size,1)\n",
        "# Normalize\n",
        "X_train = X_train / float(n_vocab)\n",
        "\n",
        "#labelBinarizer = LabelBinarizer()\n",
        "#y_train = labelBinarizer.fit_transform(np.asarray(data_Y))\n",
        "\n",
        "#One Hot Code vector\n",
        "y_train = np_utils.to_categorical(data_Y)\n",
        "\n",
        "print('X_train shape:')\n",
        "print(X_train.shape)\n",
        "print('y_train shape:')\n",
        "print(y_train.shape)\n"
      ],
      "execution_count": 27,
      "outputs": [
        {
          "output_type": "stream",
          "text": [
            "X_train shape:\n",
            "(148564, 10, 1)\n",
            "y_train shape:\n",
            "(148564, 33)\n"
          ],
          "name": "stdout"
        }
      ]
    },
    {
      "cell_type": "code",
      "metadata": {
        "colab": {
          "base_uri": "https://localhost:8080/",
          "height": 51
        },
        "id": "YR-yB8_ni0Xj",
        "outputId": "13f96b5e-3ad0-4e90-bd55-9a1837cea0d5"
      },
      "source": [
        "import seaborn as sn\n",
        "import matplotlib.pyplot as plt\n",
        "import pandas as pd\n",
        "plt.figure(figsize = (10, 5))\n",
        "#sn.countplot(np.asarray(data_Y))\n",
        "#plt.xticks(np.arange(32),np.array(chars_new))\n"
      ],
      "execution_count": 28,
      "outputs": [
        {
          "output_type": "execute_result",
          "data": {
            "text/plain": [
              "<Figure size 720x360 with 0 Axes>"
            ]
          },
          "metadata": {
            "tags": []
          },
          "execution_count": 28
        },
        {
          "output_type": "display_data",
          "data": {
            "text/plain": [
              "<Figure size 720x360 with 0 Axes>"
            ]
          },
          "metadata": {
            "tags": []
          }
        }
      ]
    },
    {
      "cell_type": "markdown",
      "metadata": {
        "id": "IvjvEAu3iZfO"
      },
      "source": [
        "**Creating Model**"
      ]
    },
    {
      "cell_type": "code",
      "metadata": {
        "id": "fVpDcN40hW0B"
      },
      "source": [
        "import tensorflow as tf\n",
        "from tensorflow import keras"
      ],
      "execution_count": 29,
      "outputs": []
    },
    {
      "cell_type": "code",
      "metadata": {
        "colab": {
          "base_uri": "https://localhost:8080/"
        },
        "id": "6ppuRKjUkX-G",
        "outputId": "b2608e19-63cb-4082-8419-00bdcd80ccc1"
      },
      "source": [
        "model_LSTM = keras.models.Sequential()\n",
        "model_LSTM.add(keras.layers.LSTM(256,input_shape = (X_train.shape[1], X_train.shape[2]), return_sequences=True))\n",
        "model_LSTM.add(keras.layers.LSTM(128))\n",
        "model_LSTM.add(keras.layers.Dropout(0.2))\n",
        "model_LSTM.add(keras.layers.Dense(y_train.shape[1], activation='softmax'))\n",
        "\n",
        "model_LSTM.compile(loss = 'categorical_crossentropy', optimizer = 'adam', metrics = ['accuracy'])\n",
        "model_LSTM.summary()"
      ],
      "execution_count": 30,
      "outputs": [
        {
          "output_type": "stream",
          "text": [
            "Model: \"sequential\"\n",
            "_________________________________________________________________\n",
            "Layer (type)                 Output Shape              Param #   \n",
            "=================================================================\n",
            "lstm (LSTM)                  (None, 10, 256)           264192    \n",
            "_________________________________________________________________\n",
            "lstm_1 (LSTM)                (None, 128)               197120    \n",
            "_________________________________________________________________\n",
            "dropout (Dropout)            (None, 128)               0         \n",
            "_________________________________________________________________\n",
            "dense (Dense)                (None, 33)                4257      \n",
            "=================================================================\n",
            "Total params: 465,569\n",
            "Trainable params: 465,569\n",
            "Non-trainable params: 0\n",
            "_________________________________________________________________\n"
          ],
          "name": "stdout"
        }
      ]
    },
    {
      "cell_type": "code",
      "metadata": {
        "id": "i3qih2VzlKZ3"
      },
      "source": [
        "filepath = 'weights-improvement-{epoch:02d}-{loss:.4f}.hdf5'\n",
        "checkpoint = keras.callbacks.ModelCheckpoint(filepath, monitor = 'val_acc', verbose = 1, save_best_only = True, mode = 'max')\n",
        "callback_list = [checkpoint]"
      ],
      "execution_count": 31,
      "outputs": []
    },
    {
      "cell_type": "code",
      "metadata": {
        "colab": {
          "base_uri": "https://localhost:8080/"
        },
        "id": "tdiBH3tal7wH",
        "outputId": "bebd0932-f9e0-457c-828b-663e35203782"
      },
      "source": [
        "model_LSTM.fit(X_train, y_train, epochs = 50, batch_size = 128, validation_split=0.33, callbacks = callback_list, verbose = 1)"
      ],
      "execution_count": 32,
      "outputs": [
        {
          "output_type": "stream",
          "text": [
            "Epoch 1/50\n",
            "778/778 [==============================] - 39s 7ms/step - loss: 2.9551 - accuracy: 0.1949 - val_loss: 2.7106 - val_accuracy: 0.2274\n",
            "WARNING:tensorflow:Can save best model only with val_acc available, skipping.\n",
            "Epoch 2/50\n",
            "778/778 [==============================] - 5s 6ms/step - loss: 2.6738 - accuracy: 0.2411 - val_loss: 2.5604 - val_accuracy: 0.2715\n",
            "WARNING:tensorflow:Can save best model only with val_acc available, skipping.\n",
            "Epoch 3/50\n",
            "778/778 [==============================] - 5s 6ms/step - loss: 2.5079 - accuracy: 0.2829 - val_loss: 2.3921 - val_accuracy: 0.3085\n",
            "WARNING:tensorflow:Can save best model only with val_acc available, skipping.\n",
            "Epoch 4/50\n",
            "778/778 [==============================] - 5s 6ms/step - loss: 2.3740 - accuracy: 0.3148 - val_loss: 2.2923 - val_accuracy: 0.3418\n",
            "WARNING:tensorflow:Can save best model only with val_acc available, skipping.\n",
            "Epoch 5/50\n",
            "778/778 [==============================] - 5s 6ms/step - loss: 2.2602 - accuracy: 0.3451 - val_loss: 2.2003 - val_accuracy: 0.3654\n",
            "WARNING:tensorflow:Can save best model only with val_acc available, skipping.\n",
            "Epoch 6/50\n",
            "778/778 [==============================] - 5s 6ms/step - loss: 2.1636 - accuracy: 0.3695 - val_loss: 2.1319 - val_accuracy: 0.3867\n",
            "WARNING:tensorflow:Can save best model only with val_acc available, skipping.\n",
            "Epoch 7/50\n",
            "778/778 [==============================] - 5s 6ms/step - loss: 2.0852 - accuracy: 0.3952 - val_loss: 2.0881 - val_accuracy: 0.3994\n",
            "WARNING:tensorflow:Can save best model only with val_acc available, skipping.\n",
            "Epoch 8/50\n",
            "778/778 [==============================] - 5s 6ms/step - loss: 2.0195 - accuracy: 0.4143 - val_loss: 2.0589 - val_accuracy: 0.4105\n",
            "WARNING:tensorflow:Can save best model only with val_acc available, skipping.\n",
            "Epoch 9/50\n",
            "778/778 [==============================] - 5s 6ms/step - loss: 1.9691 - accuracy: 0.4274 - val_loss: 2.0454 - val_accuracy: 0.4105\n",
            "WARNING:tensorflow:Can save best model only with val_acc available, skipping.\n",
            "Epoch 10/50\n",
            "778/778 [==============================] - 5s 6ms/step - loss: 1.9176 - accuracy: 0.4399 - val_loss: 2.0113 - val_accuracy: 0.4230\n",
            "WARNING:tensorflow:Can save best model only with val_acc available, skipping.\n",
            "Epoch 11/50\n",
            "778/778 [==============================] - 5s 6ms/step - loss: 1.8750 - accuracy: 0.4550 - val_loss: 1.9937 - val_accuracy: 0.4315\n",
            "WARNING:tensorflow:Can save best model only with val_acc available, skipping.\n",
            "Epoch 12/50\n",
            "778/778 [==============================] - 5s 6ms/step - loss: 1.8288 - accuracy: 0.4651 - val_loss: 1.9724 - val_accuracy: 0.4383\n",
            "WARNING:tensorflow:Can save best model only with val_acc available, skipping.\n",
            "Epoch 13/50\n",
            "778/778 [==============================] - 5s 6ms/step - loss: 1.7812 - accuracy: 0.4761 - val_loss: 1.9528 - val_accuracy: 0.4405\n",
            "WARNING:tensorflow:Can save best model only with val_acc available, skipping.\n",
            "Epoch 14/50\n",
            "778/778 [==============================] - 5s 6ms/step - loss: 1.7431 - accuracy: 0.4884 - val_loss: 1.9543 - val_accuracy: 0.4428\n",
            "WARNING:tensorflow:Can save best model only with val_acc available, skipping.\n",
            "Epoch 15/50\n",
            "778/778 [==============================] - 5s 6ms/step - loss: 1.7141 - accuracy: 0.4939 - val_loss: 1.9326 - val_accuracy: 0.4507\n",
            "WARNING:tensorflow:Can save best model only with val_acc available, skipping.\n",
            "Epoch 16/50\n",
            "778/778 [==============================] - 5s 6ms/step - loss: 1.6708 - accuracy: 0.5057 - val_loss: 1.9380 - val_accuracy: 0.4499\n",
            "WARNING:tensorflow:Can save best model only with val_acc available, skipping.\n",
            "Epoch 17/50\n",
            "778/778 [==============================] - 5s 6ms/step - loss: 1.6341 - accuracy: 0.5172 - val_loss: 1.9391 - val_accuracy: 0.4525\n",
            "WARNING:tensorflow:Can save best model only with val_acc available, skipping.\n",
            "Epoch 18/50\n",
            "778/778 [==============================] - 5s 6ms/step - loss: 1.6094 - accuracy: 0.5231 - val_loss: 1.9242 - val_accuracy: 0.4567\n",
            "WARNING:tensorflow:Can save best model only with val_acc available, skipping.\n",
            "Epoch 19/50\n",
            "778/778 [==============================] - 5s 7ms/step - loss: 1.5793 - accuracy: 0.5300 - val_loss: 1.9236 - val_accuracy: 0.4571\n",
            "WARNING:tensorflow:Can save best model only with val_acc available, skipping.\n",
            "Epoch 20/50\n",
            "778/778 [==============================] - 5s 6ms/step - loss: 1.5404 - accuracy: 0.5411 - val_loss: 1.9222 - val_accuracy: 0.4583\n",
            "WARNING:tensorflow:Can save best model only with val_acc available, skipping.\n",
            "Epoch 21/50\n",
            "778/778 [==============================] - 5s 6ms/step - loss: 1.5133 - accuracy: 0.5482 - val_loss: 1.9341 - val_accuracy: 0.4589\n",
            "WARNING:tensorflow:Can save best model only with val_acc available, skipping.\n",
            "Epoch 22/50\n",
            "778/778 [==============================] - 5s 6ms/step - loss: 1.4874 - accuracy: 0.5568 - val_loss: 1.9373 - val_accuracy: 0.4564\n",
            "WARNING:tensorflow:Can save best model only with val_acc available, skipping.\n",
            "Epoch 23/50\n",
            "778/778 [==============================] - 5s 6ms/step - loss: 1.4618 - accuracy: 0.5610 - val_loss: 1.9474 - val_accuracy: 0.4582\n",
            "WARNING:tensorflow:Can save best model only with val_acc available, skipping.\n",
            "Epoch 24/50\n",
            "778/778 [==============================] - 5s 6ms/step - loss: 1.4359 - accuracy: 0.5700 - val_loss: 1.9606 - val_accuracy: 0.4585\n",
            "WARNING:tensorflow:Can save best model only with val_acc available, skipping.\n",
            "Epoch 25/50\n",
            "778/778 [==============================] - 5s 6ms/step - loss: 1.4045 - accuracy: 0.5773 - val_loss: 1.9773 - val_accuracy: 0.4596\n",
            "WARNING:tensorflow:Can save best model only with val_acc available, skipping.\n",
            "Epoch 26/50\n",
            "778/778 [==============================] - 5s 6ms/step - loss: 1.3855 - accuracy: 0.5818 - val_loss: 1.9766 - val_accuracy: 0.4586\n",
            "WARNING:tensorflow:Can save best model only with val_acc available, skipping.\n",
            "Epoch 27/50\n",
            "778/778 [==============================] - 5s 7ms/step - loss: 1.3631 - accuracy: 0.5864 - val_loss: 1.9954 - val_accuracy: 0.4572\n",
            "WARNING:tensorflow:Can save best model only with val_acc available, skipping.\n",
            "Epoch 28/50\n",
            "778/778 [==============================] - 5s 6ms/step - loss: 1.3343 - accuracy: 0.5948 - val_loss: 2.0111 - val_accuracy: 0.4559\n",
            "WARNING:tensorflow:Can save best model only with val_acc available, skipping.\n",
            "Epoch 29/50\n",
            "778/778 [==============================] - 5s 6ms/step - loss: 1.3068 - accuracy: 0.6013 - val_loss: 2.0134 - val_accuracy: 0.4584\n",
            "WARNING:tensorflow:Can save best model only with val_acc available, skipping.\n",
            "Epoch 30/50\n",
            "778/778 [==============================] - 5s 6ms/step - loss: 1.2843 - accuracy: 0.6088 - val_loss: 2.0354 - val_accuracy: 0.4563\n",
            "WARNING:tensorflow:Can save best model only with val_acc available, skipping.\n",
            "Epoch 31/50\n",
            "778/778 [==============================] - 5s 6ms/step - loss: 1.2633 - accuracy: 0.6135 - val_loss: 2.0272 - val_accuracy: 0.4587\n",
            "WARNING:tensorflow:Can save best model only with val_acc available, skipping.\n",
            "Epoch 32/50\n",
            "778/778 [==============================] - 5s 6ms/step - loss: 1.2461 - accuracy: 0.6172 - val_loss: 2.0545 - val_accuracy: 0.4549\n",
            "WARNING:tensorflow:Can save best model only with val_acc available, skipping.\n",
            "Epoch 33/50\n",
            "778/778 [==============================] - 5s 6ms/step - loss: 1.2236 - accuracy: 0.6231 - val_loss: 2.0598 - val_accuracy: 0.4548\n",
            "WARNING:tensorflow:Can save best model only with val_acc available, skipping.\n",
            "Epoch 34/50\n",
            "778/778 [==============================] - 5s 6ms/step - loss: 1.1943 - accuracy: 0.6288 - val_loss: 2.0860 - val_accuracy: 0.4531\n",
            "WARNING:tensorflow:Can save best model only with val_acc available, skipping.\n",
            "Epoch 35/50\n",
            "778/778 [==============================] - 5s 6ms/step - loss: 1.1818 - accuracy: 0.6354 - val_loss: 2.0866 - val_accuracy: 0.4549\n",
            "WARNING:tensorflow:Can save best model only with val_acc available, skipping.\n",
            "Epoch 36/50\n",
            "778/778 [==============================] - 5s 6ms/step - loss: 1.1555 - accuracy: 0.6386 - val_loss: 2.1114 - val_accuracy: 0.4560\n",
            "WARNING:tensorflow:Can save best model only with val_acc available, skipping.\n",
            "Epoch 37/50\n",
            "778/778 [==============================] - 5s 6ms/step - loss: 1.1344 - accuracy: 0.6501 - val_loss: 2.1302 - val_accuracy: 0.4497\n",
            "WARNING:tensorflow:Can save best model only with val_acc available, skipping.\n",
            "Epoch 38/50\n",
            "778/778 [==============================] - 5s 6ms/step - loss: 1.1206 - accuracy: 0.6500 - val_loss: 2.1421 - val_accuracy: 0.4542\n",
            "WARNING:tensorflow:Can save best model only with val_acc available, skipping.\n",
            "Epoch 39/50\n",
            "778/778 [==============================] - 5s 7ms/step - loss: 1.1032 - accuracy: 0.6557 - val_loss: 2.1500 - val_accuracy: 0.4533\n",
            "WARNING:tensorflow:Can save best model only with val_acc available, skipping.\n",
            "Epoch 40/50\n",
            "778/778 [==============================] - 5s 6ms/step - loss: 1.0754 - accuracy: 0.6637 - val_loss: 2.1733 - val_accuracy: 0.4516\n",
            "WARNING:tensorflow:Can save best model only with val_acc available, skipping.\n",
            "Epoch 41/50\n",
            "778/778 [==============================] - 5s 6ms/step - loss: 1.0736 - accuracy: 0.6635 - val_loss: 2.2028 - val_accuracy: 0.4451\n",
            "WARNING:tensorflow:Can save best model only with val_acc available, skipping.\n",
            "Epoch 42/50\n",
            "778/778 [==============================] - 5s 6ms/step - loss: 1.0492 - accuracy: 0.6716 - val_loss: 2.2072 - val_accuracy: 0.4489\n",
            "WARNING:tensorflow:Can save best model only with val_acc available, skipping.\n",
            "Epoch 43/50\n",
            "778/778 [==============================] - 5s 6ms/step - loss: 1.0272 - accuracy: 0.6763 - val_loss: 2.2302 - val_accuracy: 0.4488\n",
            "WARNING:tensorflow:Can save best model only with val_acc available, skipping.\n",
            "Epoch 44/50\n",
            "778/778 [==============================] - 5s 6ms/step - loss: 1.0068 - accuracy: 0.6846 - val_loss: 2.2382 - val_accuracy: 0.4474\n",
            "WARNING:tensorflow:Can save best model only with val_acc available, skipping.\n",
            "Epoch 45/50\n",
            "778/778 [==============================] - 5s 6ms/step - loss: 1.0054 - accuracy: 0.6825 - val_loss: 2.2632 - val_accuracy: 0.4426\n",
            "WARNING:tensorflow:Can save best model only with val_acc available, skipping.\n",
            "Epoch 46/50\n",
            "778/778 [==============================] - 5s 6ms/step - loss: 0.9874 - accuracy: 0.6890 - val_loss: 2.2735 - val_accuracy: 0.4459\n",
            "WARNING:tensorflow:Can save best model only with val_acc available, skipping.\n",
            "Epoch 47/50\n",
            "778/778 [==============================] - 5s 6ms/step - loss: 0.9672 - accuracy: 0.6963 - val_loss: 2.3088 - val_accuracy: 0.4441\n",
            "WARNING:tensorflow:Can save best model only with val_acc available, skipping.\n",
            "Epoch 48/50\n",
            "778/778 [==============================] - 5s 6ms/step - loss: 0.9517 - accuracy: 0.6994 - val_loss: 2.3158 - val_accuracy: 0.4418\n",
            "WARNING:tensorflow:Can save best model only with val_acc available, skipping.\n",
            "Epoch 49/50\n",
            "778/778 [==============================] - 5s 6ms/step - loss: 0.9437 - accuracy: 0.7014 - val_loss: 2.3256 - val_accuracy: 0.4456\n",
            "WARNING:tensorflow:Can save best model only with val_acc available, skipping.\n",
            "Epoch 50/50\n",
            "778/778 [==============================] - 5s 6ms/step - loss: 0.9288 - accuracy: 0.7051 - val_loss: 2.3463 - val_accuracy: 0.4417\n",
            "WARNING:tensorflow:Can save best model only with val_acc available, skipping.\n"
          ],
          "name": "stdout"
        },
        {
          "output_type": "execute_result",
          "data": {
            "text/plain": [
              "<tensorflow.python.keras.callbacks.History at 0x7fc4181dbd10>"
            ]
          },
          "metadata": {
            "tags": []
          },
          "execution_count": 32
        }
      ]
    },
    {
      "cell_type": "markdown",
      "metadata": {
        "id": "F20G0uWBuQm4"
      },
      "source": [
        "**Predicting next char**"
      ]
    },
    {
      "cell_type": "code",
      "metadata": {
        "id": "3QLmWIZAnsb8",
        "colab": {
          "base_uri": "https://localhost:8080/",
          "height": 35
        },
        "outputId": "7f748e13-0024-4f41-86a7-554ead1e7f98"
      },
      "source": [
        "base_word = 'Alice was beginning to get very tired of sitting by her sister on the bank'\n",
        "X_test, y_test = window(base_word,test=True)\n",
        "\n",
        "test_samples = len(X_test)\n",
        "X_test = np.asarray(X_test) / float(n_vocab)\n",
        "X_test = X_test.reshape(test_samples,10,1)\n",
        "y_prob_1 = model_LSTM.predict(X_test)\n",
        "int_to_chars[np.argmax(y_prob_1, axis = 1)[-1]]"
      ],
      "execution_count": 56,
      "outputs": [
        {
          "output_type": "execute_result",
          "data": {
            "application/vnd.google.colaboratory.intrinsic+json": {
              "type": "string"
            },
            "text/plain": [
              "','"
            ]
          },
          "metadata": {
            "tags": []
          },
          "execution_count": 56
        }
      ]
    },
    {
      "cell_type": "markdown",
      "metadata": {
        "id": "1N8eW7BEuTdY"
      },
      "source": [
        "**Predicting next 10 chars**"
      ]
    },
    {
      "cell_type": "code",
      "metadata": {
        "id": "kt_n-dYAuglr"
      },
      "source": [
        "def _predict_let(text, len_pred = 1,model = model_LSTM):\n",
        "    for i in range(len_pred):\n",
        "        X_test, y_test = window(text,test=True)\n",
        "        test_samples = len(X_test)\n",
        "        print(test_samples)\n",
        "        X_test = np.asarray(X_test) / float(n_vocab)\n",
        "        X_test = X_test.reshape(test_samples,10,1)\n",
        "        y_prob = model.predict(X_test)\n",
        "        y_let = int_to_chars[np.argmax(y_prob, axis = 1)[-1]]\n",
        "        print(y_let)\n",
        "        text = text + y_let\n",
        "        print(text)\n",
        "    return text"
      ],
      "execution_count": 59,
      "outputs": []
    },
    {
      "cell_type": "code",
      "metadata": {
        "colab": {
          "base_uri": "https://localhost:8080/"
        },
        "id": "k5I9BsOnhrqP",
        "outputId": "257b0c5a-fc93-4ee0-cc56-45880faf2b7b"
      },
      "source": [
        "base_word = 'Alice was beginning to get very tired of sitting by her'\n",
        "y_demo = _predict_let(base_word, len_pred=10)"
      ],
      "execution_count": 74,
      "outputs": [
        {
          "output_type": "stream",
          "text": [
            "46\n",
            " \n",
            "Alice was beginning to get very tired of sitting by her \n",
            "47\n",
            "s\n",
            "Alice was beginning to get very tired of sitting by her s\n",
            "48\n",
            "i\n",
            "Alice was beginning to get very tired of sitting by her si\n",
            "49\n",
            "s\n",
            "Alice was beginning to get very tired of sitting by her sis\n",
            "50\n",
            "t\n",
            "Alice was beginning to get very tired of sitting by her sist\n",
            "51\n",
            "e\n",
            "Alice was beginning to get very tired of sitting by her siste\n",
            "52\n",
            "r\n",
            "Alice was beginning to get very tired of sitting by her sister\n",
            "53\n",
            " \n",
            "Alice was beginning to get very tired of sitting by her sister \n",
            "54\n",
            "w\n",
            "Alice was beginning to get very tired of sitting by her sister w\n",
            "55\n",
            "a\n",
            "Alice was beginning to get very tired of sitting by her sister wa\n"
          ],
          "name": "stdout"
        }
      ]
    },
    {
      "cell_type": "markdown",
      "metadata": {
        "id": "A3Z79akS8SaN"
      },
      "source": [
        "**Bidirectional LSTM**"
      ]
    },
    {
      "cell_type": "code",
      "metadata": {
        "colab": {
          "base_uri": "https://localhost:8080/"
        },
        "id": "Lm-11e1xuV0z",
        "outputId": "c4c7a07e-7341-40b6-8c0b-85f2927695c7"
      },
      "source": [
        "learning_rate = 0.001\n",
        "optimizer = keras.optimizers.Adam(lr=learning_rate)\n",
        "\n",
        "model = keras.models.Sequential()\n",
        "model.add(keras.layers.Bidirectional(keras.layers.LSTM(128, activation=\"tanh\"),input_shape=(X_train.shape[1], X_train.shape[2])))\n",
        "model.add(keras.layers.Dropout(0.2))\n",
        "model.add(keras.layers.Dense(y_train.shape[1], activation = 'softmax'))\n",
        "model.compile(loss = 'categorical_crossentropy', optimizer = optimizer, metrics = ['accuracy'])\n",
        "model.summary()"
      ],
      "execution_count": 71,
      "outputs": [
        {
          "output_type": "stream",
          "text": [
            "Model: \"sequential_7\"\n",
            "_________________________________________________________________\n",
            "Layer (type)                 Output Shape              Param #   \n",
            "=================================================================\n",
            "bidirectional_4 (Bidirection (None, 256)               133120    \n",
            "_________________________________________________________________\n",
            "dropout_5 (Dropout)          (None, 256)               0         \n",
            "_________________________________________________________________\n",
            "dense_5 (Dense)              (None, 33)                8481      \n",
            "=================================================================\n",
            "Total params: 141,601\n",
            "Trainable params: 141,601\n",
            "Non-trainable params: 0\n",
            "_________________________________________________________________\n"
          ],
          "name": "stdout"
        }
      ]
    },
    {
      "cell_type": "code",
      "metadata": {
        "colab": {
          "base_uri": "https://localhost:8080/"
        },
        "id": "UV1P7Db-8sqx",
        "outputId": "4f4bf48b-78e2-48cd-b234-fba3d7fa7efa"
      },
      "source": [
        "model.fit(X_train, y_train, epochs = 10, batch_size = 32, validation_split=0.1, callbacks = callback_list, verbose = 1, shuffle = True)"
      ],
      "execution_count": 72,
      "outputs": [
        {
          "output_type": "stream",
          "text": [
            "Epoch 1/10\n",
            "4179/4179 [==============================] - 25s 5ms/step - loss: 2.8481 - accuracy: 0.2074 - val_loss: 2.5802 - val_accuracy: 0.2703\n",
            "WARNING:tensorflow:Can save best model only with val_acc available, skipping.\n",
            "Epoch 2/10\n",
            "4179/4179 [==============================] - 22s 5ms/step - loss: 2.5405 - accuracy: 0.2758 - val_loss: 2.3856 - val_accuracy: 0.3141\n",
            "WARNING:tensorflow:Can save best model only with val_acc available, skipping.\n",
            "Epoch 3/10\n",
            "4179/4179 [==============================] - 22s 5ms/step - loss: 2.3348 - accuracy: 0.3244 - val_loss: 2.2323 - val_accuracy: 0.3482\n",
            "WARNING:tensorflow:Can save best model only with val_acc available, skipping.\n",
            "Epoch 4/10\n",
            "4179/4179 [==============================] - 22s 5ms/step - loss: 2.1698 - accuracy: 0.3626 - val_loss: 2.0506 - val_accuracy: 0.4006\n",
            "WARNING:tensorflow:Can save best model only with val_acc available, skipping.\n",
            "Epoch 5/10\n",
            "4179/4179 [==============================] - 22s 5ms/step - loss: 2.0715 - accuracy: 0.3860 - val_loss: 2.0585 - val_accuracy: 0.3954\n",
            "WARNING:tensorflow:Can save best model only with val_acc available, skipping.\n",
            "Epoch 6/10\n",
            "4179/4179 [==============================] - 22s 5ms/step - loss: 1.9910 - accuracy: 0.4080 - val_loss: 1.9044 - val_accuracy: 0.4329\n",
            "WARNING:tensorflow:Can save best model only with val_acc available, skipping.\n",
            "Epoch 7/10\n",
            "4179/4179 [==============================] - 22s 5ms/step - loss: 1.9064 - accuracy: 0.4315 - val_loss: 1.8555 - val_accuracy: 0.4430\n",
            "WARNING:tensorflow:Can save best model only with val_acc available, skipping.\n",
            "Epoch 8/10\n",
            "4179/4179 [==============================] - 22s 5ms/step - loss: 1.8678 - accuracy: 0.4419 - val_loss: 1.9936 - val_accuracy: 0.4177\n",
            "WARNING:tensorflow:Can save best model only with val_acc available, skipping.\n",
            "Epoch 9/10\n",
            "4179/4179 [==============================] - 22s 5ms/step - loss: 1.8118 - accuracy: 0.4577 - val_loss: 1.8126 - val_accuracy: 0.4566\n",
            "WARNING:tensorflow:Can save best model only with val_acc available, skipping.\n",
            "Epoch 10/10\n",
            "4179/4179 [==============================] - 22s 5ms/step - loss: 1.7863 - accuracy: 0.4645 - val_loss: 1.8021 - val_accuracy: 0.4604\n",
            "WARNING:tensorflow:Can save best model only with val_acc available, skipping.\n"
          ],
          "name": "stdout"
        },
        {
          "output_type": "execute_result",
          "data": {
            "text/plain": [
              "<tensorflow.python.keras.callbacks.History at 0x7fc37411a190>"
            ]
          },
          "metadata": {
            "tags": []
          },
          "execution_count": 72
        }
      ]
    },
    {
      "cell_type": "code",
      "metadata": {
        "colab": {
          "base_uri": "https://localhost:8080/"
        },
        "id": "ZY_rGtsV-0m6",
        "outputId": "50fe6f59-7a46-4b5a-ab85-7a8abf68b9e2"
      },
      "source": [
        "base_word = 'Alice was beginning to get very tired of sitting by her'\n",
        "y_prob_2 = _predict_let(base_word, len_pred=10, model = model)"
      ],
      "execution_count": 75,
      "outputs": [
        {
          "output_type": "stream",
          "text": [
            "46\n",
            " \n",
            "Alice was beginning to get very tired of sitting by her \n",
            "47\n",
            "t\n",
            "Alice was beginning to get very tired of sitting by her t\n",
            "48\n",
            "o\n",
            "Alice was beginning to get very tired of sitting by her to\n",
            "49\n",
            " \n",
            "Alice was beginning to get very tired of sitting by her to \n",
            "50\n",
            "t\n",
            "Alice was beginning to get very tired of sitting by her to t\n",
            "51\n",
            "h\n",
            "Alice was beginning to get very tired of sitting by her to th\n",
            "52\n",
            "e\n",
            "Alice was beginning to get very tired of sitting by her to the\n",
            "53\n",
            " \n",
            "Alice was beginning to get very tired of sitting by her to the \n",
            "54\n",
            "t\n",
            "Alice was beginning to get very tired of sitting by her to the t\n",
            "55\n",
            "h\n",
            "Alice was beginning to get very tired of sitting by her to the th\n"
          ],
          "name": "stdout"
        }
      ]
    },
    {
      "cell_type": "code",
      "metadata": {
        "id": "DQqEOGmdHS7W"
      },
      "source": [
        ""
      ],
      "execution_count": null,
      "outputs": []
    }
  ]
}