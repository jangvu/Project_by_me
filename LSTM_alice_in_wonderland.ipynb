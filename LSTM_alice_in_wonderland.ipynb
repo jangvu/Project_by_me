{
  "nbformat": 4,
  "nbformat_minor": 0,
  "metadata": {
    "colab": {
      "name": "LSTM_alice_in_wonderland.ipynb",
      "provenance": [],
      "authorship_tag": "ABX9TyMd+ffJdNIEd8qBfGf+Nuyg",
      "include_colab_link": true
    },
    "kernelspec": {
      "name": "python3",
      "display_name": "Python 3"
    },
    "accelerator": "GPU"
  },
  "cells": [
    {
      "cell_type": "markdown",
      "metadata": {
        "id": "view-in-github",
        "colab_type": "text"
      },
      "source": [
        "<a href=\"https://colab.research.google.com/github/jangvu/Project_by_me/blob/main/LSTM_alice_in_wonderland.ipynb\" target=\"_parent\"><img src=\"https://colab.research.google.com/assets/colab-badge.svg\" alt=\"Open In Colab\"/></a>"
      ]
    },
    {
      "cell_type": "code",
      "metadata": {
        "colab": {
          "base_uri": "https://localhost:8080/"
        },
        "id": "SAImJE2GDOXV",
        "outputId": "0ae5b083-36a3-4cb4-edc2-17d64c0b2f8d"
      },
      "source": [
        "from google.colab import drive\n",
        "drive.mount('/content/drive')"
      ],
      "execution_count": 13,
      "outputs": [
        {
          "output_type": "stream",
          "text": [
            "Mounted at /content/drive\n"
          ],
          "name": "stdout"
        }
      ]
    },
    {
      "cell_type": "code",
      "metadata": {
        "colab": {
          "base_uri": "https://localhost:8080/"
        },
        "id": "CFOSdn_9DdSw",
        "outputId": "8767344a-8775-44ea-9c8b-bf21272ae823"
      },
      "source": [
        "!ls \"/content/drive/My Drive/Data\""
      ],
      "execution_count": 14,
      "outputs": [
        {
          "output_type": "stream",
          "text": [
            "101_ObjectCategories.tar.gz  Annotations.tar  isbi-datasets.zip  NFLX.csv\n",
            "alice_in_wonderland.txt      candidate_test   NEU-DET.zip\n"
          ],
          "name": "stdout"
        }
      ]
    },
    {
      "cell_type": "code",
      "metadata": {
        "id": "R64UqJTIECKH"
      },
      "source": [
        "FILE_PATH = '/content/drive/My Drive/Data/alice_in_wonderland.txt'"
      ],
      "execution_count": 15,
      "outputs": []
    },
    {
      "cell_type": "code",
      "metadata": {
        "id": "TqGXeLqUEMrg"
      },
      "source": [
        "raw_text = open(FILE_PATH).read().lower()\n"
      ],
      "execution_count": 16,
      "outputs": []
    },
    {
      "cell_type": "code",
      "metadata": {
        "id": "Naw8LBFIfXYM"
      },
      "source": [
        "import numpy as np\n",
        "from keras.utils import np_utils\n",
        "from sklearn.preprocessing import LabelBinarizer"
      ],
      "execution_count": 17,
      "outputs": []
    },
    {
      "cell_type": "markdown",
      "metadata": {
        "id": "BSWEkKdzESTm"
      },
      "source": [
        "Take the set of characters in the texts"
      ]
    },
    {
      "cell_type": "code",
      "metadata": {
        "id": "vHdNbVqCEPDm"
      },
      "source": [
        "chars = sorted(set(raw_text))"
      ],
      "execution_count": 18,
      "outputs": []
    },
    {
      "cell_type": "markdown",
      "metadata": {
        "id": "LnPXkEWTNcvg"
      },
      "source": [
        "Using a dictionary 59 to transcript the story's characters -> each time a char appears 1 in key of that char and 0 for the rest"
      ]
    },
    {
      "cell_type": "code",
      "metadata": {
        "colab": {
          "base_uri": "https://localhost:8080/"
        },
        "id": "MSTeorSbMJF5",
        "outputId": "98a625d2-98e6-47c0-f362-1d82952877ae"
      },
      "source": [
        "char_to_int = dict((c, i) for i, c in enumerate(chars))\n",
        "print(char_to_int)"
      ],
      "execution_count": 19,
      "outputs": [
        {
          "output_type": "stream",
          "text": [
            "{'\\n': 0, ' ': 1, '!': 2, '\"': 3, \"'\": 4, '(': 5, ')': 6, '*': 7, ',': 8, '-': 9, '.': 10, '0': 11, '3': 12, ':': 13, ';': 14, '?': 15, '[': 16, ']': 17, '_': 18, '`': 19, 'a': 20, 'b': 21, 'c': 22, 'd': 23, 'e': 24, 'f': 25, 'g': 26, 'h': 27, 'i': 28, 'j': 29, 'k': 30, 'l': 31, 'm': 32, 'n': 33, 'o': 34, 'p': 35, 'q': 36, 'r': 37, 's': 38, 't': 39, 'u': 40, 'v': 41, 'w': 42, 'x': 43, 'y': 44, 'z': 45}\n"
          ],
          "name": "stdout"
        }
      ]
    },
    {
      "cell_type": "markdown",
      "metadata": {
        "id": "pRjPsn3PObYn"
      },
      "source": [
        "But we dont need to use all chars because some chars dont affect the sentences like *, #, $, ... => make new chars "
      ]
    },
    {
      "cell_type": "code",
      "metadata": {
        "colab": {
          "base_uri": "https://localhost:8080/"
        },
        "id": "FNU0bcMlOMDd",
        "outputId": "9c56a95f-34be-4801-c755-b79cbdfd1dfd"
      },
      "source": [
        "import string\n",
        "string.ascii_lowercase\n",
        "chars_new = list(string.ascii_lowercase) + ['0', '.', ',', ' ', '!', '?', 'unk']\n",
        "chars_to_int = dict((v, k) for k, v in enumerate(chars_new))\n",
        "int_to_chars = dict((k, v) for k, v in enumerate(chars_new))\n",
        "\n",
        "print(chars_to_int)\n",
        "print(int_to_chars)\n",
        "\n",
        "n_chars = len(raw_text)\n",
        "n_vocab = len(chars_new)\n",
        "print('Total characters: ', n_chars)\n",
        "print('Total Vocab: ', n_vocab)"
      ],
      "execution_count": 20,
      "outputs": [
        {
          "output_type": "stream",
          "text": [
            "{'a': 0, 'b': 1, 'c': 2, 'd': 3, 'e': 4, 'f': 5, 'g': 6, 'h': 7, 'i': 8, 'j': 9, 'k': 10, 'l': 11, 'm': 12, 'n': 13, 'o': 14, 'p': 15, 'q': 16, 'r': 17, 's': 18, 't': 19, 'u': 20, 'v': 21, 'w': 22, 'x': 23, 'y': 24, 'z': 25, '0': 26, '.': 27, ',': 28, ' ': 29, '!': 30, '?': 31, 'unk': 32}\n",
            "{0: 'a', 1: 'b', 2: 'c', 3: 'd', 4: 'e', 5: 'f', 6: 'g', 7: 'h', 8: 'i', 9: 'j', 10: 'k', 11: 'l', 12: 'm', 13: 'n', 14: 'o', 15: 'p', 16: 'q', 17: 'r', 18: 's', 19: 't', 20: 'u', 21: 'v', 22: 'w', 23: 'x', 24: 'y', 25: 'z', 26: '0', 27: '.', 28: ',', 29: ' ', 30: '!', 31: '?', 32: 'unk'}\n",
            "Total characters:  148574\n",
            "Total Vocab:  33\n"
          ],
          "name": "stdout"
        }
      ]
    },
    {
      "cell_type": "code",
      "metadata": {
        "id": "ipvoJ4LpMKMU"
      },
      "source": [
        "def _encode_sen(text):\n",
        "  text = text.lower()\n",
        "  sen_vec = []\n",
        "  for letter in text:\n",
        "    if letter in chars_new:\n",
        "      idx = chars_to_int[letter]\n",
        "    else:\n",
        "      idx = chars_to_int['unk']\n",
        "    sen_vec.append(idx)\n",
        "  return sen_vec"
      ],
      "execution_count": 21,
      "outputs": []
    },
    {
      "cell_type": "code",
      "metadata": {
        "id": "LBD-OdEVOYBI"
      },
      "source": [
        "def _decode_sen(vec):\n",
        "  text = []\n",
        "  for idx in vec:\n",
        "    letter = int_to_chars[idx]\n",
        "    text.append(letter)\n",
        "  text = ''.join(text)\n",
        "  return text"
      ],
      "execution_count": 22,
      "outputs": []
    },
    {
      "cell_type": "code",
      "metadata": {
        "colab": {
          "base_uri": "https://localhost:8080/"
        },
        "id": "pB3Q6EECZvJy",
        "outputId": "f384f404-d9eb-435d-af62-f56b1880b6be"
      },
      "source": [
        "a = _encode_sen('Alice in wonderland. #')\n",
        "print('Encode')\n",
        "print(a)\n",
        "b = _decode_sen(a)\n",
        "print('Decode')\n",
        "print(b)"
      ],
      "execution_count": 23,
      "outputs": [
        {
          "output_type": "stream",
          "text": [
            "Encode\n",
            "[0, 11, 8, 2, 4, 29, 8, 13, 29, 22, 14, 13, 3, 4, 17, 11, 0, 13, 3, 27, 29, 32]\n",
            "Decode\n",
            "alice in wonderland. unk\n"
          ],
          "name": "stdout"
        }
      ]
    },
    {
      "cell_type": "markdown",
      "metadata": {
        "id": "v5qmKqeSbN3W"
      },
      "source": [
        "Creating Window to slide through text "
      ]
    },
    {
      "cell_type": "code",
      "metadata": {
        "id": "55EWCmGDaSWL"
      },
      "source": [
        "def window(text, step = 1, window_size = 100):\n",
        "  X_train = []\n",
        "  y_train = []\n",
        "  for i in range(len(text) - window_size - 1):\n",
        "    X_train.append(_encode_sen(text[i:i+window_size]))\n",
        "    y_train.append(_encode_sen(text[i+step+window_size]))\n",
        "  return X_train, y_train\n",
        "\n",
        "\n"
      ],
      "execution_count": 24,
      "outputs": []
    },
    {
      "cell_type": "code",
      "metadata": {
        "id": "kza5AzPuaf32"
      },
      "source": [
        "data_X, data_Y = window(raw_text)"
      ],
      "execution_count": 25,
      "outputs": []
    },
    {
      "cell_type": "markdown",
      "metadata": {
        "id": "w7EToUechqtM"
      },
      "source": [
        "INPUT_SHAPE has form (samples, time_steps, features). So in this problem samples = number of windows, time_steps = length of window, features is dimension of window (we using 1D in this)"
      ]
    },
    {
      "cell_type": "code",
      "metadata": {
        "id": "QjnBA8qmem4H"
      },
      "source": [
        "num_samples = len(data_X)\n",
        "window_size = 100"
      ],
      "execution_count": 26,
      "outputs": []
    },
    {
      "cell_type": "code",
      "metadata": {
        "id": "20_E-iMte3kz"
      },
      "source": [
        "X_train = np.asarray(data_X).reshape(num_samples,window_size,1)\n",
        "# Normalize\n",
        "X_train = X_train / float(n_vocab)\n",
        "\n",
        "#labelBinarizer = LabelBinarizer()\n",
        "#y_train = labelBinarizer.fit_transform(np.asarray(data_Y))\n",
        "y_train = np_utils.to_categorical(data_Y)\n"
      ],
      "execution_count": 54,
      "outputs": []
    },
    {
      "cell_type": "code",
      "metadata": {
        "colab": {
          "base_uri": "https://localhost:8080/"
        },
        "id": "VNdXmYGxfRGW",
        "outputId": "e5097ee4-1f2c-4489-ff9e-d9d478546555"
      },
      "source": [
        "print(X_train.shape)\n",
        "print(y_train.shape)"
      ],
      "execution_count": 28,
      "outputs": [
        {
          "output_type": "stream",
          "text": [
            "(148473, 100, 1)\n",
            "(148473, 33)\n"
          ],
          "name": "stdout"
        }
      ]
    },
    {
      "cell_type": "code",
      "metadata": {
        "colab": {
          "base_uri": "https://localhost:8080/",
          "height": 51
        },
        "id": "YR-yB8_ni0Xj",
        "outputId": "d950cca0-1f6e-4eb9-9a13-51be594b954b"
      },
      "source": [
        "import seaborn as sn\n",
        "import matplotlib.pyplot as plt\n",
        "import pandas as pd\n",
        "plt.figure(figsize = (10, 5))\n",
        "#sn.countplot(np.asarray(data_Y))\n",
        "#plt.xticks(np.arange(32),np.array(chars_new))\n"
      ],
      "execution_count": 29,
      "outputs": [
        {
          "output_type": "execute_result",
          "data": {
            "text/plain": [
              "<Figure size 720x360 with 0 Axes>"
            ]
          },
          "metadata": {
            "tags": []
          },
          "execution_count": 29
        },
        {
          "output_type": "display_data",
          "data": {
            "text/plain": [
              "<Figure size 720x360 with 0 Axes>"
            ]
          },
          "metadata": {
            "tags": []
          }
        }
      ]
    },
    {
      "cell_type": "markdown",
      "metadata": {
        "id": "IvjvEAu3iZfO"
      },
      "source": [
        "Creating Model"
      ]
    },
    {
      "cell_type": "code",
      "metadata": {
        "id": "fVpDcN40hW0B"
      },
      "source": [
        "import tensorflow as tf\n",
        "from tensorflow import keras"
      ],
      "execution_count": 30,
      "outputs": []
    },
    {
      "cell_type": "code",
      "metadata": {
        "colab": {
          "base_uri": "https://localhost:8080/"
        },
        "id": "6ppuRKjUkX-G",
        "outputId": "a41c4c95-47a3-40b9-c82c-fb7082f30c23"
      },
      "source": [
        "model_LSTM = keras.models.Sequential()\n",
        "model_LSTM.add(keras.layers.LSTM(256,input_shape = (X_train.shape[1], X_train.shape[2])))\n",
        "#model_LSTM.add(keras.layers.LSTM(256))\n",
        "model_LSTM.add(keras.layers.Dropout(0.2))\n",
        "model_LSTM.add(keras.layers.Dense(y_train.shape[1], activation='softmax'))\n",
        "\n",
        "model_LSTM.compile(loss = 'categorical_crossentropy', optimizer = 'adam', metrics = ['accuracy'])\n",
        "model_LSTM.summary()"
      ],
      "execution_count": 41,
      "outputs": [
        {
          "output_type": "stream",
          "text": [
            "Model: \"sequential_1\"\n",
            "_________________________________________________________________\n",
            "Layer (type)                 Output Shape              Param #   \n",
            "=================================================================\n",
            "lstm_2 (LSTM)                (None, 256)               264192    \n",
            "_________________________________________________________________\n",
            "dropout_1 (Dropout)          (None, 256)               0         \n",
            "_________________________________________________________________\n",
            "dense_1 (Dense)              (None, 33)                8481      \n",
            "=================================================================\n",
            "Total params: 272,673\n",
            "Trainable params: 272,673\n",
            "Non-trainable params: 0\n",
            "_________________________________________________________________\n"
          ],
          "name": "stdout"
        }
      ]
    },
    {
      "cell_type": "code",
      "metadata": {
        "id": "i3qih2VzlKZ3"
      },
      "source": [
        "filepath = 'weights-improvement-{epoch:02d}-{loss:.4f}.hdf5'\n",
        "checkpoint = keras.callbacks.ModelCheckpoint(filepath, monitor = 'val_acc', verbose = 1, save_best_only = True, mode = 'max')\n",
        "callback_list = [checkpoint]"
      ],
      "execution_count": 42,
      "outputs": []
    },
    {
      "cell_type": "code",
      "metadata": {
        "colab": {
          "base_uri": "https://localhost:8080/"
        },
        "id": "tdiBH3tal7wH",
        "outputId": "9f83bc30-2967-42a4-86b3-86d74e721ea2"
      },
      "source": [
        "model_LSTM.fit(X_train, y_train, epochs = 5, batch_size = 128, validation_split=0.33, callbacks = callback_list, verbose = 1)"
      ],
      "execution_count": 55,
      "outputs": [
        {
          "output_type": "stream",
          "text": [
            "Epoch 1/5\n",
            "778/778 [==============================] - 16s 19ms/step - loss: 2.7010 - accuracy: 0.2322 - val_loss: 2.7225 - val_accuracy: 0.2283\n",
            "WARNING:tensorflow:Can save best model only with val_acc available, skipping.\n",
            "Epoch 2/5\n",
            "778/778 [==============================] - 14s 19ms/step - loss: 2.6771 - accuracy: 0.2391 - val_loss: 2.7021 - val_accuracy: 0.2334\n",
            "WARNING:tensorflow:Can save best model only with val_acc available, skipping.\n",
            "Epoch 3/5\n",
            "778/778 [==============================] - 14s 18ms/step - loss: 2.6485 - accuracy: 0.2450 - val_loss: 2.6883 - val_accuracy: 0.2348\n",
            "WARNING:tensorflow:Can save best model only with val_acc available, skipping.\n",
            "Epoch 4/5\n",
            "778/778 [==============================] - 14s 18ms/step - loss: 2.6212 - accuracy: 0.2522 - val_loss: 2.6797 - val_accuracy: 0.2404\n",
            "WARNING:tensorflow:Can save best model only with val_acc available, skipping.\n",
            "Epoch 5/5\n",
            "778/778 [==============================] - 14s 18ms/step - loss: 2.5984 - accuracy: 0.2591 - val_loss: 2.6691 - val_accuracy: 0.2438\n",
            "WARNING:tensorflow:Can save best model only with val_acc available, skipping.\n"
          ],
          "name": "stdout"
        },
        {
          "output_type": "execute_result",
          "data": {
            "text/plain": [
              "<tensorflow.python.keras.callbacks.History at 0x7efbce41e910>"
            ]
          },
          "metadata": {
            "tags": []
          },
          "execution_count": 55
        }
      ]
    },
    {
      "cell_type": "code",
      "metadata": {
        "id": "EcSRaZcwmJ7V"
      },
      "source": [
        "base_word = 'Alice was beginning to get very tired of sitting by her sister on the bank'\n",
        "\n",
        "def _predict_let(text, len_sen = 1):\n",
        "    text_for = []\n",
        "    for i in range(len_sen):\n",
        "        x_input = np.array(_encode_sen(text)[-100:])/float(n_vocab)\n",
        "        if x_input.shape[0] < 100:\n",
        "            x_input = np.concatenate((np.zeros(100-x_input.shape[0]), x_input), axis = 0)\n",
        "        x_input = np.expand_dims(np.expand_dims(x_input, -1), 0)\n",
        "        y_prob = model_LSTM.predict(x_input)\n",
        "        y_let = int_to_chars[np.argmax(y_prob, axis = 1)[0]]\n",
        "        text = text + y_let\n",
        "        print(i, text)\n",
        "    return text[len_sen:]"
      ],
      "execution_count": 63,
      "outputs": []
    },
    {
      "cell_type": "code",
      "metadata": {
        "colab": {
          "base_uri": "https://localhost:8080/",
          "height": 1000
        },
        "id": "3QLmWIZAnsb8",
        "outputId": "588557fe-324b-4169-a55f-4e70311a428b"
      },
      "source": [
        "_predict_let(base_word, 100)\n"
      ],
      "execution_count": 64,
      "outputs": [
        {
          "output_type": "stream",
          "text": [
            "0 Alice was beginning to get very tired of sitting by her sister on the bank \n",
            "1 Alice was beginning to get very tired of sitting by her sister on the bank a\n",
            "2 Alice was beginning to get very tired of sitting by her sister on the bank ad\n",
            "3 Alice was beginning to get very tired of sitting by her sister on the bank ad \n",
            "4 Alice was beginning to get very tired of sitting by her sister on the bank ad n\n",
            "5 Alice was beginning to get very tired of sitting by her sister on the bank ad n \n",
            "6 Alice was beginning to get very tired of sitting by her sister on the bank ad n h\n",
            "7 Alice was beginning to get very tired of sitting by her sister on the bank ad n h \n",
            "8 Alice was beginning to get very tired of sitting by her sister on the bank ad n h o\n",
            "9 Alice was beginning to get very tired of sitting by her sister on the bank ad n h o \n",
            "10 Alice was beginning to get very tired of sitting by her sister on the bank ad n h o e\n",
            "11 Alice was beginning to get very tired of sitting by her sister on the bank ad n h o e \n",
            "12 Alice was beginning to get very tired of sitting by her sister on the bank ad n h o e a\n",
            "13 Alice was beginning to get very tired of sitting by her sister on the bank ad n h o e a \n",
            "14 Alice was beginning to get very tired of sitting by her sister on the bank ad n h o e a a\n",
            "15 Alice was beginning to get very tired of sitting by her sister on the bank ad n h o e a at\n",
            "16 Alice was beginning to get very tired of sitting by her sister on the bank ad n h o e a ata\n",
            "17 Alice was beginning to get very tired of sitting by her sister on the bank ad n h o e a ata \n",
            "18 Alice was beginning to get very tired of sitting by her sister on the bank ad n h o e a ata o\n",
            "19 Alice was beginning to get very tired of sitting by her sister on the bank ad n h o e a ata o \n",
            "20 Alice was beginning to get very tired of sitting by her sister on the bank ad n h o e a ata o h\n",
            "21 Alice was beginning to get very tired of sitting by her sister on the bank ad n h o e a ata o h \n",
            "22 Alice was beginning to get very tired of sitting by her sister on the bank ad n h o e a ata o h a\n",
            "23 Alice was beginning to get very tired of sitting by her sister on the bank ad n h o e a ata o h a \n",
            "24 Alice was beginning to get very tired of sitting by her sister on the bank ad n h o e a ata o h a a\n",
            "25 Alice was beginning to get very tired of sitting by her sister on the bank ad n h o e a ata o h a at\n",
            "26 Alice was beginning to get very tired of sitting by her sister on the bank ad n h o e a ata o h a at \n",
            "27 Alice was beginning to get very tired of sitting by her sister on the bank ad n h o e a ata o h a at o\n",
            "28 Alice was beginning to get very tired of sitting by her sister on the bank ad n h o e a ata o h a at o \n",
            "29 Alice was beginning to get very tired of sitting by her sister on the bank ad n h o e a ata o h a at o h\n",
            "30 Alice was beginning to get very tired of sitting by her sister on the bank ad n h o e a ata o h a at o h \n",
            "31 Alice was beginning to get very tired of sitting by her sister on the bank ad n h o e a ata o h a at o h a\n",
            "32 Alice was beginning to get very tired of sitting by her sister on the bank ad n h o e a ata o h a at o h a \n",
            "33 Alice was beginning to get very tired of sitting by her sister on the bank ad n h o e a ata o h a at o h a a\n",
            "34 Alice was beginning to get very tired of sitting by her sister on the bank ad n h o e a ata o h a at o h a at\n",
            "35 Alice was beginning to get very tired of sitting by her sister on the bank ad n h o e a ata o h a at o h a at \n",
            "36 Alice was beginning to get very tired of sitting by her sister on the bank ad n h o e a ata o h a at o h a at o\n",
            "37 Alice was beginning to get very tired of sitting by her sister on the bank ad n h o e a ata o h a at o h a at o \n",
            "38 Alice was beginning to get very tired of sitting by her sister on the bank ad n h o e a ata o h a at o h a at o h\n",
            "39 Alice was beginning to get very tired of sitting by her sister on the bank ad n h o e a ata o h a at o h a at o h \n",
            "40 Alice was beginning to get very tired of sitting by her sister on the bank ad n h o e a ata o h a at o h a at o h a\n",
            "41 Alice was beginning to get very tired of sitting by her sister on the bank ad n h o e a ata o h a at o h a at o h a \n",
            "42 Alice was beginning to get very tired of sitting by her sister on the bank ad n h o e a ata o h a at o h a at o h a a\n",
            "43 Alice was beginning to get very tired of sitting by her sister on the bank ad n h o e a ata o h a at o h a at o h a at\n",
            "44 Alice was beginning to get very tired of sitting by her sister on the bank ad n h o e a ata o h a at o h a at o h a at \n",
            "45 Alice was beginning to get very tired of sitting by her sister on the bank ad n h o e a ata o h a at o h a at o h a at  \n",
            "46 Alice was beginning to get very tired of sitting by her sister on the bank ad n h o e a ata o h a at o h a at o h a at   \n",
            "47 Alice was beginning to get very tired of sitting by her sister on the bank ad n h o e a ata o h a at o h a at o h a at    \n",
            "48 Alice was beginning to get very tired of sitting by her sister on the bank ad n h o e a ata o h a at o h a at o h a at     \n",
            "49 Alice was beginning to get very tired of sitting by her sister on the bank ad n h o e a ata o h a at o h a at o h a at     unk\n",
            "50 Alice was beginning to get very tired of sitting by her sister on the bank ad n h o e a ata o h a at o h a at o h a at     unk \n",
            "51 Alice was beginning to get very tired of sitting by her sister on the bank ad n h o e a ata o h a at o h a at o h a at     unk h\n",
            "52 Alice was beginning to get very tired of sitting by her sister on the bank ad n h o e a ata o h a at o h a at o h a at     unk he\n",
            "53 Alice was beginning to get very tired of sitting by her sister on the bank ad n h o e a ata o h a at o h a at o h a at     unk he \n",
            "54 Alice was beginning to get very tired of sitting by her sister on the bank ad n h o e a ata o h a at o h a at o h a at     unk he e\n",
            "55 Alice was beginning to get very tired of sitting by her sister on the bank ad n h o e a ata o h a at o h a at o h a at     unk he et\n",
            "56 Alice was beginning to get very tired of sitting by her sister on the bank ad n h o e a ata o h a at o h a at o h a at     unk he ete\n",
            "57 Alice was beginning to get very tired of sitting by her sister on the bank ad n h o e a ata o h a at o h a at o h a at     unk he eten\n",
            "58 Alice was beginning to get very tired of sitting by her sister on the bank ad n h o e a ata o h a at o h a at o h a at     unk he eten \n",
            "59 Alice was beginning to get very tired of sitting by her sister on the bank ad n h o e a ata o h a at o h a at o h a at     unk he eten o\n",
            "60 Alice was beginning to get very tired of sitting by her sister on the bank ad n h o e a ata o h a at o h a at o h a at     unk he eten o \n",
            "61 Alice was beginning to get very tired of sitting by her sister on the bank ad n h o e a ata o h a at o h a at o h a at     unk he eten o h\n",
            "62 Alice was beginning to get very tired of sitting by her sister on the bank ad n h o e a ata o h a at o h a at o h a at     unk he eten o h \n",
            "63 Alice was beginning to get very tired of sitting by her sister on the bank ad n h o e a ata o h a at o h a at o h a at     unk he eten o h a\n",
            "64 Alice was beginning to get very tired of sitting by her sister on the bank ad n h o e a ata o h a at o h a at o h a at     unk he eten o h a \n",
            "65 Alice was beginning to get very tired of sitting by her sister on the bank ad n h o e a ata o h a at o h a at o h a at     unk he eten o h a a\n",
            "66 Alice was beginning to get very tired of sitting by her sister on the bank ad n h o e a ata o h a at o h a at o h a at     unk he eten o h a at\n",
            "67 Alice was beginning to get very tired of sitting by her sister on the bank ad n h o e a ata o h a at o h a at o h a at     unk he eten o h a at \n",
            "68 Alice was beginning to get very tired of sitting by her sister on the bank ad n h o e a ata o h a at o h a at o h a at     unk he eten o h a at o\n",
            "69 Alice was beginning to get very tired of sitting by her sister on the bank ad n h o e a ata o h a at o h a at o h a at     unk he eten o h a at o \n",
            "70 Alice was beginning to get very tired of sitting by her sister on the bank ad n h o e a ata o h a at o h a at o h a at     unk he eten o h a at o e\n",
            "71 Alice was beginning to get very tired of sitting by her sister on the bank ad n h o e a ata o h a at o h a at o h a at     unk he eten o h a at o e \n",
            "72 Alice was beginning to get very tired of sitting by her sister on the bank ad n h o e a ata o h a at o h a at o h a at     unk he eten o h a at o e a\n",
            "73 Alice was beginning to get very tired of sitting by her sister on the bank ad n h o e a ata o h a at o h a at o h a at     unk he eten o h a at o e at\n",
            "74 Alice was beginning to get very tired of sitting by her sister on the bank ad n h o e a ata o h a at o h a at o h a at     unk he eten o h a at o e at \n",
            "75 Alice was beginning to get very tired of sitting by her sister on the bank ad n h o e a ata o h a at o h a at o h a at     unk he eten o h a at o e at o\n",
            "76 Alice was beginning to get very tired of sitting by her sister on the bank ad n h o e a ata o h a at o h a at o h a at     unk he eten o h a at o e at o \n",
            "77 Alice was beginning to get very tired of sitting by her sister on the bank ad n h o e a ata o h a at o h a at o h a at     unk he eten o h a at o e at o h\n",
            "78 Alice was beginning to get very tired of sitting by her sister on the bank ad n h o e a ata o h a at o h a at o h a at     unk he eten o h a at o e at o h \n",
            "79 Alice was beginning to get very tired of sitting by her sister on the bank ad n h o e a ata o h a at o h a at o h a at     unk he eten o h a at o e at o h a\n",
            "80 Alice was beginning to get very tired of sitting by her sister on the bank ad n h o e a ata o h a at o h a at o h a at     unk he eten o h a at o e at o h a \n",
            "81 Alice was beginning to get very tired of sitting by her sister on the bank ad n h o e a ata o h a at o h a at o h a at     unk he eten o h a at o e at o h a a\n",
            "82 Alice was beginning to get very tired of sitting by her sister on the bank ad n h o e a ata o h a at o h a at o h a at     unk he eten o h a at o e at o h a at\n",
            "83 Alice was beginning to get very tired of sitting by her sister on the bank ad n h o e a ata o h a at o h a at o h a at     unk he eten o h a at o e at o h a at \n",
            "84 Alice was beginning to get very tired of sitting by her sister on the bank ad n h o e a ata o h a at o h a at o h a at     unk he eten o h a at o e at o h a at o\n",
            "85 Alice was beginning to get very tired of sitting by her sister on the bank ad n h o e a ata o h a at o h a at o h a at     unk he eten o h a at o e at o h a at o \n",
            "86 Alice was beginning to get very tired of sitting by her sister on the bank ad n h o e a ata o h a at o h a at o h a at     unk he eten o h a at o e at o h a at o h\n",
            "87 Alice was beginning to get very tired of sitting by her sister on the bank ad n h o e a ata o h a at o h a at o h a at     unk he eten o h a at o e at o h a at o h \n",
            "88 Alice was beginning to get very tired of sitting by her sister on the bank ad n h o e a ata o h a at o h a at o h a at     unk he eten o h a at o e at o h a at o h a\n",
            "89 Alice was beginning to get very tired of sitting by her sister on the bank ad n h o e a ata o h a at o h a at o h a at     unk he eten o h a at o e at o h a at o h a \n",
            "90 Alice was beginning to get very tired of sitting by her sister on the bank ad n h o e a ata o h a at o h a at o h a at     unk he eten o h a at o e at o h a at o h a a\n",
            "91 Alice was beginning to get very tired of sitting by her sister on the bank ad n h o e a ata o h a at o h a at o h a at     unk he eten o h a at o e at o h a at o h a at\n",
            "92 Alice was beginning to get very tired of sitting by her sister on the bank ad n h o e a ata o h a at o h a at o h a at     unk he eten o h a at o e at o h a at o h a at \n",
            "93 Alice was beginning to get very tired of sitting by her sister on the bank ad n h o e a ata o h a at o h a at o h a at     unk he eten o h a at o e at o h a at o h a at  \n",
            "94 Alice was beginning to get very tired of sitting by her sister on the bank ad n h o e a ata o h a at o h a at o h a at     unk he eten o h a at o e at o h a at o h a at   \n",
            "95 Alice was beginning to get very tired of sitting by her sister on the bank ad n h o e a ata o h a at o h a at o h a at     unk he eten o h a at o e at o h a at o h a at    \n",
            "96 Alice was beginning to get very tired of sitting by her sister on the bank ad n h o e a ata o h a at o h a at o h a at     unk he eten o h a at o e at o h a at o h a at     \n",
            "97 Alice was beginning to get very tired of sitting by her sister on the bank ad n h o e a ata o h a at o h a at o h a at     unk he eten o h a at o e at o h a at o h a at     unk\n",
            "98 Alice was beginning to get very tired of sitting by her sister on the bank ad n h o e a ata o h a at o h a at o h a at     unk he eten o h a at o e at o h a at o h a at     unk \n",
            "99 Alice was beginning to get very tired of sitting by her sister on the bank ad n h o e a ata o h a at o h a at o h a at     unk he eten o h a at o e at o h a at o h a at     unk h\n"
          ],
          "name": "stdout"
        },
        {
          "output_type": "execute_result",
          "data": {
            "application/vnd.google.colaboratory.intrinsic+json": {
              "type": "string"
            },
            "text/plain": [
              "' o h a at o h a at     unk he eten o h a at o e at o h a at o h a at     unk h'"
            ]
          },
          "metadata": {
            "tags": []
          },
          "execution_count": 64
        }
      ]
    },
    {
      "cell_type": "code",
      "metadata": {
        "id": "gSUGKHSwnwcO"
      },
      "source": [
        ""
      ],
      "execution_count": null,
      "outputs": []
    }
  ]
}