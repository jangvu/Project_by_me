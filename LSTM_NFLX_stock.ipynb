{
  "nbformat": 4,
  "nbformat_minor": 0,
  "metadata": {
    "colab": {
      "name": "LSTM_NFLX_stock.ipynb",
      "provenance": [],
      "authorship_tag": "ABX9TyPbEptCfKfF8YLgj+nNEZVs",
      "include_colab_link": true
    },
    "kernelspec": {
      "name": "python3",
      "display_name": "Python 3"
    }
  },
  "cells": [
    {
      "cell_type": "markdown",
      "metadata": {
        "id": "view-in-github",
        "colab_type": "text"
      },
      "source": [
        "<a href=\"https://colab.research.google.com/github/jangvu/Project_by_me/blob/main/LSTM_NFLX_stock.ipynb\" target=\"_parent\"><img src=\"https://colab.research.google.com/assets/colab-badge.svg\" alt=\"Open In Colab\"/></a>"
      ]
    },
    {
      "cell_type": "code",
      "metadata": {
        "colab": {
          "base_uri": "https://localhost:8080/"
        },
        "id": "1ap9c_SPjfn3",
        "outputId": "4cbda67e-2b09-4be4-d85f-3749bfb660e3"
      },
      "source": [
        "from google.colab import drive\n",
        "drive.mount('/content/drive')"
      ],
      "execution_count": null,
      "outputs": [
        {
          "output_type": "stream",
          "text": [
            "Drive already mounted at /content/drive; to attempt to forcibly remount, call drive.mount(\"/content/drive\", force_remount=True).\n"
          ],
          "name": "stdout"
        }
      ]
    },
    {
      "cell_type": "code",
      "metadata": {
        "colab": {
          "base_uri": "https://localhost:8080/"
        },
        "id": "5XrH9R0rkksf",
        "outputId": "94641481-dc1a-4cd5-8bac-00b4e5990ef8"
      },
      "source": [
        "!ls \"/content/drive/My Drive/Data\""
      ],
      "execution_count": null,
      "outputs": [
        {
          "output_type": "stream",
          "text": [
            "NFLX.csv\n"
          ],
          "name": "stdout"
        }
      ]
    },
    {
      "cell_type": "code",
      "metadata": {
        "id": "rXPKbRaHk5-3"
      },
      "source": [
        "import pandas as pd\n",
        "import numpy as np\n",
        "import matplotlib.pyplot as plt\n",
        "import tensorflow as tf\n",
        "from tensorflow import keras\n",
        "from sklearn.preprocessing import MinMaxScaler\n",
        "from keras.preprocessing.sequence import TimeseriesGenerator\n"
      ],
      "execution_count": null,
      "outputs": []
    },
    {
      "cell_type": "code",
      "metadata": {
        "id": "6C1Kp2EGln6b"
      },
      "source": [
        "raw_data = pd.read_csv('/content/drive/MyDrive/Data/NFLX.csv')"
      ],
      "execution_count": null,
      "outputs": []
    },
    {
      "cell_type": "code",
      "metadata": {
        "colab": {
          "base_uri": "https://localhost:8080/"
        },
        "id": "t9EisafzmLR9",
        "outputId": "efa19b43-2de9-46dd-c470-9a0a5d3f175e"
      },
      "source": [
        "print(raw_data.shape)\n",
        "raw_data.head(5)\n",
        "raw_data.info()"
      ],
      "execution_count": null,
      "outputs": [
        {
          "output_type": "stream",
          "text": [
            "(1531, 7)\n",
            "<class 'pandas.core.frame.DataFrame'>\n",
            "RangeIndex: 1531 entries, 0 to 1530\n",
            "Data columns (total 7 columns):\n",
            " #   Column     Non-Null Count  Dtype  \n",
            "---  ------     --------------  -----  \n",
            " 0   Date       1531 non-null   object \n",
            " 1   Open       1531 non-null   float64\n",
            " 2   High       1531 non-null   float64\n",
            " 3   Low        1531 non-null   float64\n",
            " 4   Close      1531 non-null   float64\n",
            " 5   Adj Close  1531 non-null   float64\n",
            " 6   Volume     1531 non-null   int64  \n",
            "dtypes: float64(5), int64(1), object(1)\n",
            "memory usage: 83.9+ KB\n"
          ],
          "name": "stdout"
        }
      ]
    },
    {
      "cell_type": "code",
      "metadata": {
        "id": "UQNfM5x4mf74"
      },
      "source": [
        "train_data, test_data = raw_data[:1224]['Open'].values.reshape(-1), raw_data[1224:]['Open'].values.reshape(-1)\n",
        "train_date, test_date = raw_data[:1224]['Date'].values.reshape(-1), raw_data[1224:]['Date'].values.reshape(-1)"
      ],
      "execution_count": null,
      "outputs": []
    },
    {
      "cell_type": "markdown",
      "metadata": {
        "id": "CLn3J4-tuGgy"
      },
      "source": [
        "**Plotting Data**"
      ]
    },
    {
      "cell_type": "code",
      "metadata": {
        "colab": {
          "base_uri": "https://localhost:8080/"
        },
        "id": "BDUsvRlS5Gpy",
        "outputId": "f1f8da3b-9bb1-4b25-8df1-4346eb7d6dfa"
      },
      "source": [
        "x = []\n",
        "for i in range(1224,1224 + 307):\n",
        "  x.append(i)\n",
        "print(len(x))\n",
        "len(raw_data)\n",
        "len(test_data)"
      ],
      "execution_count": null,
      "outputs": [
        {
          "output_type": "stream",
          "text": [
            "307\n"
          ],
          "name": "stdout"
        },
        {
          "output_type": "execute_result",
          "data": {
            "text/plain": [
              "307"
            ]
          },
          "metadata": {
            "tags": []
          },
          "execution_count": 232
        }
      ]
    },
    {
      "cell_type": "code",
      "metadata": {
        "colab": {
          "base_uri": "https://localhost:8080/",
          "height": 604
        },
        "id": "dv9DkQrBuF8D",
        "outputId": "71fb5809-a72c-4d53-8ee3-86a86afa42a4"
      },
      "source": [
        "plt.figure(figsize=(20,10))\n",
        "plt.plot(train_data, label ='training_data')\n",
        "plt.plot(x,test_data.reshape(-1), color = 'red', label = 'test_data')\n",
        "plt.legend()\n",
        "plt.title('Netflix_Stock_Price')\n",
        "plt.show()"
      ],
      "execution_count": null,
      "outputs": [
        {
          "output_type": "display_data",
          "data": {
            "image/png": "[encoded data removed]",
            "text/plain": [
              "<Figure size 1440x720 with 1 Axes>"
            ]
          },
          "metadata": {
            "tags": [],
            "needs_background": "light"
          }
        }
      ]
    },
    {
      "cell_type": "code",
      "metadata": {
        "id": "IcC6c7Lx4-bG"
      },
      "source": [
        ""
      ],
      "execution_count": null,
      "outputs": []
    },
    {
      "cell_type": "code",
      "metadata": {
        "colab": {
          "base_uri": "https://localhost:8080/"
        },
        "id": "LXLUpt5f1572",
        "outputId": "5ccba69c-c169-4a94-cde6-b367bc3a0631"
      },
      "source": [
        "train_data"
      ],
      "execution_count": null,
      "outputs": [
        {
          "output_type": "execute_result",
          "data": {
            "text/plain": [
              "array([ 62.57143 ,  63.087143,  64.741432, ..., 315.779999, 314.390015,\n",
              "       302.220001])"
            ]
          },
          "metadata": {
            "tags": []
          },
          "execution_count": 184
        }
      ]
    },
    {
      "cell_type": "markdown",
      "metadata": {
        "id": "HLMM7U2JoGAa"
      },
      "source": [
        "**We want to predict tomorrow opening price**\n",
        "Firstly, We try with only opening price"
      ]
    },
    {
      "cell_type": "markdown",
      "metadata": {
        "id": "xvH_eT-Vp02H"
      },
      "source": [
        "Creating a sliding window"
      ]
    },
    {
      "cell_type": "code",
      "metadata": {
        "id": "wBpY9yptnVUQ"
      },
      "source": [
        "def getdata(data, window_size, shift):\n",
        "  X_data = []\n",
        "  y_data = []\n",
        "  for i in range(len(data) - window_size - shift):\n",
        "    X_data.append(data[i:window_size + i])\n",
        "    y_data.append(data[i+window_size:i+window_size+shift])\n",
        "  return np.asarray(X_data), np.asarray(y_data)"
      ],
      "execution_count": null,
      "outputs": []
    },
    {
      "cell_type": "code",
      "metadata": {
        "id": "D9sUS3wXnZcs"
      },
      "source": [
        "X_train, y_train = getdata(train_data,10,1)\n",
        "X_test, y_test = getdata(test_data,10,1)"
      ],
      "execution_count": null,
      "outputs": []
    },
    {
      "cell_type": "markdown",
      "metadata": {
        "id": "xVKpMfXdrlJb"
      },
      "source": [
        "Recognizing the data in different scale -> Scaler"
      ]
    },
    {
      "cell_type": "code",
      "metadata": {
        "id": "U3wdGDw2qxi_"
      },
      "source": [
        "scaler = MinMaxScaler()"
      ],
      "execution_count": null,
      "outputs": []
    },
    {
      "cell_type": "code",
      "metadata": {
        "id": "FzFP2OZwr1Cd"
      },
      "source": [
        "X_train = X_train.reshape(-1,10)\n",
        "\n",
        "X_train = scaler.fit_transform(X_train)\n",
        "y_train = scaler.fit_transform(y_train)\n",
        "\n",
        "X_test = X_test.reshape(-1,10)\n",
        "\n",
        "X_test = scaler.fit_transform(X_test)\n",
        "y_test = scaler.fit_transform(y_test)\n",
        "\n",
        "X_train = X_train.reshape(-1,10,1)\n",
        "y_train = y_train.reshape(-1,1)\n",
        "\n",
        "X_test = X_test.reshape(-1,10,1)\n",
        "y_test = y_test.reshape(-1,1)"
      ],
      "execution_count": null,
      "outputs": []
    },
    {
      "cell_type": "markdown",
      "metadata": {
        "id": "SmbxkcXFRMUX"
      },
      "source": [
        "Building Model"
      ]
    },
    {
      "cell_type": "code",
      "metadata": {
        "id": "A3vqoPz61Tfq"
      },
      "source": [
        "model_LSTM_Open = keras.models.Sequential([\n",
        "                                           keras.layers.LSTM(50,activation='relu',input_shape=[10,1],return_sequences=True),\n",
        "                                           keras.layers.Dropout(0.2),\n",
        "                                           keras.layers.LSTM(50,return_sequences=True),\n",
        "                                           keras.layers.Dropout(0.2),\n",
        "                                           keras.layers.LSTM(50),\n",
        "                                           keras.layers.Dropout(0.2),\n",
        "                                           keras.layers.Dense(1)\n",
        "]\n",
        ")"
      ],
      "execution_count": null,
      "outputs": []
    },
    {
      "cell_type": "code",
      "metadata": {
        "id": "Pa4MX50VNT4O"
      },
      "source": [
        "model_LSTM_Open.compile(optimizer='adam', loss ='mse')"
      ],
      "execution_count": null,
      "outputs": []
    },
    {
      "cell_type": "code",
      "metadata": {
        "colab": {
          "base_uri": "https://localhost:8080/"
        },
        "id": "fkcf7LCoNYvO",
        "outputId": "c7b6fb77-b25e-4285-d0b0-580eea233d0c"
      },
      "source": [
        "model_LSTM_Open.fit(X_train,y_train,validation_split=0.2,epochs=500, batch_size=10)"
      ],
      "execution_count": null,
      "outputs": [
        {
          "output_type": "stream",
          "text": [
            "Epoch 1/500\n",
            "97/97 [==============================] - 3s 12ms/step - loss: 0.0017 - val_loss: 0.0013\n",
            "Epoch 2/500\n",
            "97/97 [==============================] - 1s 12ms/step - loss: 0.0017 - val_loss: 0.0020\n",
            "Epoch 3/500\n",
            "97/97 [==============================] - 1s 12ms/step - loss: 0.0018 - val_loss: 0.0015\n",
            "Epoch 4/500\n",
            "97/97 [==============================] - 1s 12ms/step - loss: 0.0015 - val_loss: 0.0019\n",
            "Epoch 5/500\n",
            "97/97 [==============================] - 1s 12ms/step - loss: 0.0015 - val_loss: 0.0015\n",
            "Epoch 6/500\n",
            "97/97 [==============================] - 1s 12ms/step - loss: 0.0015 - val_loss: 0.0019\n",
            "Epoch 7/500\n",
            "97/97 [==============================] - 1s 12ms/step - loss: 0.0014 - val_loss: 0.0010\n",
            "Epoch 8/500\n",
            "97/97 [==============================] - 1s 12ms/step - loss: 0.0015 - val_loss: 0.0012\n",
            "Epoch 9/500\n",
            "97/97 [==============================] - 1s 12ms/step - loss: 0.0015 - val_loss: 0.0014\n",
            "Epoch 10/500\n",
            "97/97 [==============================] - 1s 12ms/step - loss: 0.0016 - val_loss: 0.0016\n",
            "Epoch 11/500\n",
            "97/97 [==============================] - 1s 12ms/step - loss: 0.0015 - val_loss: 0.0021\n",
            "Epoch 12/500\n",
            "97/97 [==============================] - 1s 12ms/step - loss: 0.0015 - val_loss: 0.0017\n",
            "Epoch 13/500\n",
            "97/97 [==============================] - 1s 12ms/step - loss: 0.0013 - val_loss: 0.0014\n",
            "Epoch 14/500\n",
            "97/97 [==============================] - 1s 12ms/step - loss: 0.0016 - val_loss: 0.0016\n",
            "Epoch 15/500\n",
            "97/97 [==============================] - 2s 20ms/step - loss: 0.0012 - val_loss: 0.0010\n",
            "Epoch 16/500\n",
            "97/97 [==============================] - 1s 15ms/step - loss: 0.0016 - val_loss: 0.0035\n",
            "Epoch 17/500\n",
            "97/97 [==============================] - 1s 13ms/step - loss: 0.0014 - val_loss: 0.0015\n",
            "Epoch 18/500\n",
            "97/97 [==============================] - 1s 12ms/step - loss: 0.0013 - val_loss: 0.0020\n",
            "Epoch 19/500\n",
            "97/97 [==============================] - 1s 13ms/step - loss: 0.0015 - val_loss: 0.0028\n",
            "Epoch 20/500\n",
            "97/97 [==============================] - 1s 12ms/step - loss: 0.0013 - val_loss: 0.0011\n",
            "Epoch 21/500\n",
            "97/97 [==============================] - 1s 13ms/step - loss: 0.0014 - val_loss: 8.8164e-04\n",
            "Epoch 22/500\n",
            "97/97 [==============================] - 1s 12ms/step - loss: 0.0014 - val_loss: 0.0014\n",
            "Epoch 23/500\n",
            "97/97 [==============================] - 1s 12ms/step - loss: 0.0013 - val_loss: 0.0013\n",
            "Epoch 24/500\n",
            "97/97 [==============================] - 1s 13ms/step - loss: 0.0014 - val_loss: 8.1470e-04\n",
            "Epoch 25/500\n",
            "97/97 [==============================] - 1s 12ms/step - loss: 0.0011 - val_loss: 8.4228e-04\n",
            "Epoch 26/500\n",
            "97/97 [==============================] - 1s 12ms/step - loss: 0.0011 - val_loss: 8.2394e-04\n",
            "Epoch 27/500\n",
            "97/97 [==============================] - 1s 12ms/step - loss: 0.0013 - val_loss: 0.0013\n",
            "Epoch 28/500\n",
            "97/97 [==============================] - 1s 13ms/step - loss: 0.0012 - val_loss: 0.0027\n",
            "Epoch 29/500\n",
            "97/97 [==============================] - 1s 12ms/step - loss: 0.0012 - val_loss: 8.1256e-04\n",
            "Epoch 30/500\n",
            "97/97 [==============================] - 1s 12ms/step - loss: 0.0011 - val_loss: 0.0012\n",
            "Epoch 31/500\n",
            "97/97 [==============================] - 1s 12ms/step - loss: 0.0013 - val_loss: 0.0011\n",
            "Epoch 32/500\n",
            "97/97 [==============================] - 1s 12ms/step - loss: 0.0013 - val_loss: 0.0012\n",
            "Epoch 33/500\n",
            "97/97 [==============================] - 1s 12ms/step - loss: 0.0013 - val_loss: 0.0011\n",
            "Epoch 34/500\n",
            "97/97 [==============================] - 1s 12ms/step - loss: 0.0013 - val_loss: 8.5103e-04\n",
            "Epoch 35/500\n",
            "97/97 [==============================] - 1s 13ms/step - loss: 0.0015 - val_loss: 8.3656e-04\n",
            "Epoch 36/500\n",
            "97/97 [==============================] - 1s 12ms/step - loss: 0.0012 - val_loss: 7.6674e-04\n",
            "Epoch 37/500\n",
            "97/97 [==============================] - 1s 12ms/step - loss: 0.0014 - val_loss: 0.0014\n",
            "Epoch 38/500\n",
            "97/97 [==============================] - 1s 12ms/step - loss: 0.0011 - val_loss: 9.4395e-04\n",
            "Epoch 39/500\n",
            "97/97 [==============================] - 1s 12ms/step - loss: 0.0012 - val_loss: 0.0025\n",
            "Epoch 40/500\n",
            "97/97 [==============================] - 1s 12ms/step - loss: 0.0015 - val_loss: 9.2174e-04\n",
            "Epoch 41/500\n",
            "97/97 [==============================] - 1s 12ms/step - loss: 0.0013 - val_loss: 8.2250e-04\n",
            "Epoch 42/500\n",
            "97/97 [==============================] - 1s 12ms/step - loss: 0.0014 - val_loss: 0.0010\n",
            "Epoch 43/500\n",
            "97/97 [==============================] - 1s 12ms/step - loss: 0.0013 - val_loss: 0.0014\n",
            "Epoch 44/500\n",
            "97/97 [==============================] - 1s 12ms/step - loss: 0.0011 - val_loss: 7.8791e-04\n",
            "Epoch 45/500\n",
            "97/97 [==============================] - 1s 13ms/step - loss: 0.0011 - val_loss: 0.0013\n",
            "Epoch 46/500\n",
            "97/97 [==============================] - 1s 12ms/step - loss: 0.0012 - val_loss: 8.4419e-04\n",
            "Epoch 47/500\n",
            "97/97 [==============================] - 1s 12ms/step - loss: 0.0010 - val_loss: 8.8565e-04\n",
            "Epoch 48/500\n",
            "97/97 [==============================] - 1s 12ms/step - loss: 0.0012 - val_loss: 0.0012\n",
            "Epoch 49/500\n",
            "97/97 [==============================] - 1s 12ms/step - loss: 0.0011 - val_loss: 0.0018\n",
            "Epoch 50/500\n",
            "97/97 [==============================] - 1s 12ms/step - loss: 0.0011 - val_loss: 0.0012\n",
            "Epoch 51/500\n",
            "97/97 [==============================] - 1s 12ms/step - loss: 0.0012 - val_loss: 8.1740e-04\n",
            "Epoch 52/500\n",
            "97/97 [==============================] - 1s 12ms/step - loss: 0.0012 - val_loss: 8.3468e-04\n",
            "Epoch 53/500\n",
            "97/97 [==============================] - 1s 13ms/step - loss: 0.0013 - val_loss: 0.0015\n",
            "Epoch 54/500\n",
            "97/97 [==============================] - 1s 12ms/step - loss: 0.0013 - val_loss: 0.0016\n",
            "Epoch 55/500\n",
            "97/97 [==============================] - 1s 12ms/step - loss: 0.0012 - val_loss: 7.3407e-04\n",
            "Epoch 56/500\n",
            "97/97 [==============================] - 1s 12ms/step - loss: 0.0011 - val_loss: 0.0021\n",
            "Epoch 57/500\n",
            "97/97 [==============================] - 1s 12ms/step - loss: 0.0012 - val_loss: 7.9129e-04\n",
            "Epoch 58/500\n",
            "97/97 [==============================] - 1s 12ms/step - loss: 0.0011 - val_loss: 0.0034\n",
            "Epoch 59/500\n",
            "97/97 [==============================] - 1s 12ms/step - loss: 0.0012 - val_loss: 7.1843e-04\n",
            "Epoch 60/500\n",
            "97/97 [==============================] - 1s 12ms/step - loss: 0.0012 - val_loss: 8.2120e-04\n",
            "Epoch 61/500\n",
            "97/97 [==============================] - 1s 13ms/step - loss: 0.0013 - val_loss: 0.0016\n",
            "Epoch 62/500\n",
            "97/97 [==============================] - 1s 12ms/step - loss: 0.0012 - val_loss: 8.1516e-04\n",
            "Epoch 63/500\n",
            "97/97 [==============================] - 1s 12ms/step - loss: 0.0011 - val_loss: 9.7685e-04\n",
            "Epoch 64/500\n",
            "97/97 [==============================] - 1s 12ms/step - loss: 0.0010 - val_loss: 7.3181e-04\n",
            "Epoch 65/500\n",
            "97/97 [==============================] - 1s 12ms/step - loss: 0.0011 - val_loss: 7.6336e-04\n",
            "Epoch 66/500\n",
            "97/97 [==============================] - 1s 12ms/step - loss: 0.0014 - val_loss: 0.0016\n",
            "Epoch 67/500\n",
            "97/97 [==============================] - 1s 12ms/step - loss: 0.0010 - val_loss: 7.1909e-04\n",
            "Epoch 68/500\n",
            "97/97 [==============================] - 1s 12ms/step - loss: 0.0010 - val_loss: 0.0011\n",
            "Epoch 69/500\n",
            "97/97 [==============================] - 1s 12ms/step - loss: 0.0012 - val_loss: 0.0014\n",
            "Epoch 70/500\n",
            "97/97 [==============================] - 1s 12ms/step - loss: 0.0012 - val_loss: 0.0014\n",
            "Epoch 71/500\n",
            "97/97 [==============================] - 1s 12ms/step - loss: 0.0011 - val_loss: 8.3431e-04\n",
            "Epoch 72/500\n",
            "97/97 [==============================] - 1s 12ms/step - loss: 0.0011 - val_loss: 0.0016\n",
            "Epoch 73/500\n",
            "97/97 [==============================] - 1s 12ms/step - loss: 0.0012 - val_loss: 0.0012\n",
            "Epoch 74/500\n",
            "97/97 [==============================] - 1s 12ms/step - loss: 0.0010 - val_loss: 8.9169e-04\n",
            "Epoch 75/500\n",
            "97/97 [==============================] - 1s 12ms/step - loss: 0.0013 - val_loss: 9.0587e-04\n",
            "Epoch 76/500\n",
            "97/97 [==============================] - 1s 12ms/step - loss: 9.4934e-04 - val_loss: 6.8954e-04\n",
            "Epoch 77/500\n",
            "97/97 [==============================] - 1s 12ms/step - loss: 0.0011 - val_loss: 6.6715e-04\n",
            "Epoch 78/500\n",
            "97/97 [==============================] - 1s 12ms/step - loss: 0.0012 - val_loss: 9.8488e-04\n",
            "Epoch 79/500\n",
            "97/97 [==============================] - 1s 12ms/step - loss: 0.0011 - val_loss: 7.2152e-04\n",
            "Epoch 80/500\n",
            "97/97 [==============================] - 1s 12ms/step - loss: 0.0012 - val_loss: 9.4700e-04\n",
            "Epoch 81/500\n",
            "97/97 [==============================] - 1s 12ms/step - loss: 0.0012 - val_loss: 7.9401e-04\n",
            "Epoch 82/500\n",
            "97/97 [==============================] - 1s 12ms/step - loss: 0.0011 - val_loss: 6.7004e-04\n",
            "Epoch 83/500\n",
            "97/97 [==============================] - 1s 12ms/step - loss: 9.7147e-04 - val_loss: 6.9822e-04\n",
            "Epoch 84/500\n",
            "97/97 [==============================] - 1s 13ms/step - loss: 9.8821e-04 - val_loss: 6.9897e-04\n",
            "Epoch 85/500\n",
            "97/97 [==============================] - 1s 12ms/step - loss: 0.0012 - val_loss: 0.0011\n",
            "Epoch 86/500\n",
            "97/97 [==============================] - 1s 12ms/step - loss: 0.0010 - val_loss: 0.0014\n",
            "Epoch 87/500\n",
            "97/97 [==============================] - 1s 12ms/step - loss: 0.0011 - val_loss: 0.0011\n",
            "Epoch 88/500\n",
            "97/97 [==============================] - 1s 12ms/step - loss: 9.7156e-04 - val_loss: 0.0013\n",
            "Epoch 89/500\n",
            "97/97 [==============================] - 1s 12ms/step - loss: 0.0012 - val_loss: 0.0017\n",
            "Epoch 90/500\n",
            "97/97 [==============================] - 1s 12ms/step - loss: 0.0011 - val_loss: 6.4421e-04\n",
            "Epoch 91/500\n",
            "97/97 [==============================] - 1s 12ms/step - loss: 0.0010 - val_loss: 8.4544e-04\n",
            "Epoch 92/500\n",
            "97/97 [==============================] - 1s 12ms/step - loss: 9.5195e-04 - val_loss: 8.3110e-04\n",
            "Epoch 93/500\n",
            "97/97 [==============================] - 1s 12ms/step - loss: 0.0011 - val_loss: 0.0011\n",
            "Epoch 94/500\n",
            "97/97 [==============================] - 1s 12ms/step - loss: 0.0013 - val_loss: 0.0010\n",
            "Epoch 95/500\n",
            "97/97 [==============================] - 1s 12ms/step - loss: 0.0012 - val_loss: 0.0012\n",
            "Epoch 96/500\n",
            "97/97 [==============================] - 1s 12ms/step - loss: 0.0010 - val_loss: 6.9164e-04\n",
            "Epoch 97/500\n",
            "97/97 [==============================] - 1s 12ms/step - loss: 9.6522e-04 - val_loss: 0.0014\n",
            "Epoch 98/500\n",
            "97/97 [==============================] - 1s 12ms/step - loss: 0.0011 - val_loss: 6.9157e-04\n",
            "Epoch 99/500\n",
            "97/97 [==============================] - 1s 12ms/step - loss: 0.0013 - val_loss: 9.0443e-04\n",
            "Epoch 100/500\n",
            "97/97 [==============================] - 1s 12ms/step - loss: 0.0011 - val_loss: 8.8071e-04\n",
            "Epoch 101/500\n",
            "97/97 [==============================] - 1s 12ms/step - loss: 0.0011 - val_loss: 8.1228e-04\n",
            "Epoch 102/500\n",
            "97/97 [==============================] - 1s 13ms/step - loss: 9.6756e-04 - val_loss: 6.6314e-04\n",
            "Epoch 103/500\n",
            "97/97 [==============================] - 1s 12ms/step - loss: 0.0010 - val_loss: 6.7679e-04\n",
            "Epoch 104/500\n",
            "97/97 [==============================] - 1s 12ms/step - loss: 9.8011e-04 - val_loss: 0.0011\n",
            "Epoch 105/500\n",
            "97/97 [==============================] - 1s 12ms/step - loss: 0.0011 - val_loss: 6.1523e-04\n",
            "Epoch 106/500\n",
            "97/97 [==============================] - 1s 12ms/step - loss: 0.0012 - val_loss: 6.7316e-04\n",
            "Epoch 107/500\n",
            "97/97 [==============================] - 1s 12ms/step - loss: 0.0012 - val_loss: 7.4807e-04\n",
            "Epoch 108/500\n",
            "97/97 [==============================] - 1s 12ms/step - loss: 0.0011 - val_loss: 6.8695e-04\n",
            "Epoch 109/500\n",
            "97/97 [==============================] - 1s 12ms/step - loss: 0.0010 - val_loss: 9.6773e-04\n",
            "Epoch 110/500\n",
            "97/97 [==============================] - 1s 12ms/step - loss: 0.0012 - val_loss: 7.1011e-04\n",
            "Epoch 111/500\n",
            "97/97 [==============================] - 1s 12ms/step - loss: 0.0011 - val_loss: 7.5986e-04\n",
            "Epoch 112/500\n",
            "97/97 [==============================] - 1s 12ms/step - loss: 9.9247e-04 - val_loss: 9.6424e-04\n",
            "Epoch 113/500\n",
            "97/97 [==============================] - 1s 12ms/step - loss: 9.5482e-04 - val_loss: 8.3593e-04\n",
            "Epoch 114/500\n",
            "97/97 [==============================] - 1s 12ms/step - loss: 0.0011 - val_loss: 6.1347e-04\n",
            "Epoch 115/500\n",
            "97/97 [==============================] - 1s 13ms/step - loss: 9.9196e-04 - val_loss: 9.3516e-04\n",
            "Epoch 116/500\n",
            "97/97 [==============================] - 1s 13ms/step - loss: 0.0010 - val_loss: 9.8700e-04\n",
            "Epoch 117/500\n",
            "97/97 [==============================] - 1s 12ms/step - loss: 0.0013 - val_loss: 9.0169e-04\n",
            "Epoch 118/500\n",
            "97/97 [==============================] - 1s 12ms/step - loss: 9.6182e-04 - val_loss: 9.2227e-04\n",
            "Epoch 119/500\n",
            "97/97 [==============================] - 1s 13ms/step - loss: 0.0011 - val_loss: 0.0023\n",
            "Epoch 120/500\n",
            "97/97 [==============================] - 1s 12ms/step - loss: 9.8722e-04 - val_loss: 6.5692e-04\n",
            "Epoch 121/500\n",
            "97/97 [==============================] - 1s 12ms/step - loss: 0.0011 - val_loss: 6.7109e-04\n",
            "Epoch 122/500\n",
            "97/97 [==============================] - 1s 12ms/step - loss: 0.0010 - val_loss: 0.0025\n",
            "Epoch 123/500\n",
            "97/97 [==============================] - 1s 12ms/step - loss: 9.6511e-04 - val_loss: 0.0019\n",
            "Epoch 124/500\n",
            "97/97 [==============================] - 1s 12ms/step - loss: 0.0010 - val_loss: 6.2729e-04\n",
            "Epoch 125/500\n",
            "97/97 [==============================] - 1s 12ms/step - loss: 0.0010 - val_loss: 0.0010\n",
            "Epoch 126/500\n",
            "97/97 [==============================] - 1s 12ms/step - loss: 9.7798e-04 - val_loss: 8.1333e-04\n",
            "Epoch 127/500\n",
            "97/97 [==============================] - 1s 12ms/step - loss: 0.0011 - val_loss: 0.0011\n",
            "Epoch 128/500\n",
            "97/97 [==============================] - 1s 12ms/step - loss: 0.0010 - val_loss: 8.7380e-04\n",
            "Epoch 129/500\n",
            "97/97 [==============================] - 1s 12ms/step - loss: 0.0010 - val_loss: 0.0013\n",
            "Epoch 130/500\n",
            "97/97 [==============================] - 1s 12ms/step - loss: 0.0011 - val_loss: 7.3304e-04\n",
            "Epoch 131/500\n",
            "97/97 [==============================] - 1s 13ms/step - loss: 0.0013 - val_loss: 0.0015\n",
            "Epoch 132/500\n",
            "97/97 [==============================] - 1s 12ms/step - loss: 9.1235e-04 - val_loss: 0.0020\n",
            "Epoch 133/500\n",
            "97/97 [==============================] - 1s 12ms/step - loss: 0.0010 - val_loss: 6.8060e-04\n",
            "Epoch 134/500\n",
            "97/97 [==============================] - 1s 12ms/step - loss: 0.0011 - val_loss: 0.0020\n",
            "Epoch 135/500\n",
            "97/97 [==============================] - 1s 12ms/step - loss: 8.7303e-04 - val_loss: 7.4072e-04\n",
            "Epoch 136/500\n",
            "97/97 [==============================] - 1s 12ms/step - loss: 9.5097e-04 - val_loss: 7.9368e-04\n",
            "Epoch 137/500\n",
            "97/97 [==============================] - 1s 12ms/step - loss: 0.0011 - val_loss: 0.0014\n",
            "Epoch 138/500\n",
            "97/97 [==============================] - 1s 12ms/step - loss: 0.0010 - val_loss: 8.5415e-04\n",
            "Epoch 139/500\n",
            "97/97 [==============================] - 1s 13ms/step - loss: 0.0013 - val_loss: 0.0016\n",
            "Epoch 140/500\n",
            "97/97 [==============================] - 1s 13ms/step - loss: 9.3439e-04 - val_loss: 6.1957e-04\n",
            "Epoch 141/500\n",
            "97/97 [==============================] - 1s 13ms/step - loss: 0.0010 - val_loss: 8.1571e-04\n",
            "Epoch 142/500\n",
            "97/97 [==============================] - 1s 12ms/step - loss: 9.8273e-04 - val_loss: 6.2781e-04\n",
            "Epoch 143/500\n",
            "97/97 [==============================] - 1s 12ms/step - loss: 8.8849e-04 - val_loss: 8.3925e-04\n",
            "Epoch 144/500\n",
            "97/97 [==============================] - 1s 13ms/step - loss: 9.4405e-04 - val_loss: 7.9974e-04\n",
            "Epoch 145/500\n",
            "97/97 [==============================] - 1s 12ms/step - loss: 9.2921e-04 - val_loss: 8.5667e-04\n",
            "Epoch 146/500\n",
            "97/97 [==============================] - 1s 12ms/step - loss: 0.0011 - val_loss: 0.0012\n",
            "Epoch 147/500\n",
            "97/97 [==============================] - 1s 13ms/step - loss: 8.1514e-04 - val_loss: 6.0919e-04\n",
            "Epoch 148/500\n",
            "97/97 [==============================] - 1s 12ms/step - loss: 0.0010 - val_loss: 6.6002e-04\n",
            "Epoch 149/500\n",
            "97/97 [==============================] - 1s 13ms/step - loss: 0.0011 - val_loss: 5.9431e-04\n",
            "Epoch 150/500\n",
            "97/97 [==============================] - 1s 13ms/step - loss: 0.0010 - val_loss: 0.0017\n",
            "Epoch 151/500\n",
            "97/97 [==============================] - 1s 12ms/step - loss: 0.0011 - val_loss: 7.0381e-04\n",
            "Epoch 152/500\n",
            "97/97 [==============================] - 1s 12ms/step - loss: 8.9017e-04 - val_loss: 6.9913e-04\n",
            "Epoch 153/500\n",
            "97/97 [==============================] - 1s 13ms/step - loss: 0.0011 - val_loss: 6.9138e-04\n",
            "Epoch 154/500\n",
            "97/97 [==============================] - 1s 13ms/step - loss: 9.5247e-04 - val_loss: 0.0014\n",
            "Epoch 155/500\n",
            "97/97 [==============================] - 1s 13ms/step - loss: 0.0010 - val_loss: 7.1318e-04\n",
            "Epoch 156/500\n",
            "97/97 [==============================] - 2s 21ms/step - loss: 9.8454e-04 - val_loss: 6.1478e-04\n",
            "Epoch 157/500\n",
            "97/97 [==============================] - 1s 15ms/step - loss: 0.0010 - val_loss: 7.5571e-04\n",
            "Epoch 158/500\n",
            "97/97 [==============================] - 1s 14ms/step - loss: 8.7026e-04 - val_loss: 6.1418e-04\n",
            "Epoch 159/500\n",
            "97/97 [==============================] - 1s 14ms/step - loss: 0.0013 - val_loss: 9.8557e-04\n",
            "Epoch 160/500\n",
            "97/97 [==============================] - 1s 13ms/step - loss: 9.9406e-04 - val_loss: 0.0018\n",
            "Epoch 161/500\n",
            "97/97 [==============================] - 1s 14ms/step - loss: 9.0440e-04 - val_loss: 6.1523e-04\n",
            "Epoch 162/500\n",
            "97/97 [==============================] - 1s 12ms/step - loss: 0.0011 - val_loss: 7.3486e-04\n",
            "Epoch 163/500\n",
            "97/97 [==============================] - 1s 13ms/step - loss: 8.7619e-04 - val_loss: 7.6395e-04\n",
            "Epoch 164/500\n",
            "97/97 [==============================] - 1s 13ms/step - loss: 0.0010 - val_loss: 0.0014\n",
            "Epoch 165/500\n",
            "97/97 [==============================] - 1s 13ms/step - loss: 9.8254e-04 - val_loss: 5.9508e-04\n",
            "Epoch 166/500\n",
            "97/97 [==============================] - 1s 12ms/step - loss: 0.0010 - val_loss: 7.0719e-04\n",
            "Epoch 167/500\n",
            "97/97 [==============================] - 1s 13ms/step - loss: 9.8159e-04 - val_loss: 9.0907e-04\n",
            "Epoch 168/500\n",
            "97/97 [==============================] - 1s 13ms/step - loss: 0.0011 - val_loss: 6.8367e-04\n",
            "Epoch 169/500\n",
            "97/97 [==============================] - 1s 14ms/step - loss: 0.0011 - val_loss: 6.9206e-04\n",
            "Epoch 170/500\n",
            "97/97 [==============================] - 1s 13ms/step - loss: 9.8258e-04 - val_loss: 6.2794e-04\n",
            "Epoch 171/500\n",
            "97/97 [==============================] - 1s 12ms/step - loss: 9.2920e-04 - val_loss: 7.6033e-04\n",
            "Epoch 172/500\n",
            "97/97 [==============================] - 1s 12ms/step - loss: 8.8651e-04 - val_loss: 6.7988e-04\n",
            "Epoch 173/500\n",
            "97/97 [==============================] - 1s 13ms/step - loss: 9.2815e-04 - val_loss: 5.7888e-04\n",
            "Epoch 174/500\n",
            "97/97 [==============================] - 1s 13ms/step - loss: 0.0011 - val_loss: 5.8440e-04\n",
            "Epoch 175/500\n",
            "97/97 [==============================] - 1s 14ms/step - loss: 9.8198e-04 - val_loss: 7.8545e-04\n",
            "Epoch 176/500\n",
            "97/97 [==============================] - 1s 13ms/step - loss: 0.0011 - val_loss: 5.9833e-04\n",
            "Epoch 177/500\n",
            "97/97 [==============================] - 1s 13ms/step - loss: 0.0011 - val_loss: 0.0010\n",
            "Epoch 178/500\n",
            "97/97 [==============================] - 1s 12ms/step - loss: 9.4924e-04 - val_loss: 6.8476e-04\n",
            "Epoch 179/500\n",
            "97/97 [==============================] - 1s 13ms/step - loss: 0.0010 - val_loss: 6.5088e-04\n",
            "Epoch 180/500\n",
            "97/97 [==============================] - 1s 13ms/step - loss: 9.7670e-04 - val_loss: 5.8589e-04\n",
            "Epoch 181/500\n",
            "97/97 [==============================] - 1s 13ms/step - loss: 7.5164e-04 - val_loss: 5.9420e-04\n",
            "Epoch 182/500\n",
            "97/97 [==============================] - 1s 13ms/step - loss: 9.6533e-04 - val_loss: 5.8849e-04\n",
            "Epoch 183/500\n",
            "97/97 [==============================] - 1s 13ms/step - loss: 9.3142e-04 - val_loss: 6.7784e-04\n",
            "Epoch 184/500\n",
            "97/97 [==============================] - 1s 12ms/step - loss: 8.2129e-04 - val_loss: 7.1930e-04\n",
            "Epoch 185/500\n",
            "97/97 [==============================] - 1s 14ms/step - loss: 9.5055e-04 - val_loss: 7.9434e-04\n",
            "Epoch 186/500\n",
            "97/97 [==============================] - 1s 13ms/step - loss: 0.0010 - val_loss: 6.4786e-04\n",
            "Epoch 187/500\n",
            "97/97 [==============================] - 1s 13ms/step - loss: 0.0010 - val_loss: 5.8757e-04\n",
            "Epoch 188/500\n",
            "97/97 [==============================] - 1s 12ms/step - loss: 0.0010 - val_loss: 6.9514e-04\n",
            "Epoch 189/500\n",
            "97/97 [==============================] - 1s 13ms/step - loss: 0.0010 - val_loss: 7.5572e-04\n",
            "Epoch 190/500\n",
            "97/97 [==============================] - 1s 13ms/step - loss: 8.1137e-04 - val_loss: 5.7945e-04\n",
            "Epoch 191/500\n",
            "97/97 [==============================] - 1s 12ms/step - loss: 9.2010e-04 - val_loss: 9.9661e-04\n",
            "Epoch 192/500\n",
            "97/97 [==============================] - 1s 12ms/step - loss: 9.2455e-04 - val_loss: 6.5137e-04\n",
            "Epoch 193/500\n",
            "97/97 [==============================] - 1s 13ms/step - loss: 0.0010 - val_loss: 0.0011\n",
            "Epoch 194/500\n",
            "97/97 [==============================] - 1s 13ms/step - loss: 9.6349e-04 - val_loss: 8.9726e-04\n",
            "Epoch 195/500\n",
            "97/97 [==============================] - 1s 13ms/step - loss: 9.9150e-04 - val_loss: 6.7222e-04\n",
            "Epoch 196/500\n",
            "97/97 [==============================] - 1s 12ms/step - loss: 9.3519e-04 - val_loss: 0.0012\n",
            "Epoch 197/500\n",
            "97/97 [==============================] - 1s 13ms/step - loss: 8.6910e-04 - val_loss: 8.0543e-04\n",
            "Epoch 198/500\n",
            "97/97 [==============================] - 1s 13ms/step - loss: 0.0010 - val_loss: 0.0010\n",
            "Epoch 199/500\n",
            "97/97 [==============================] - 1s 13ms/step - loss: 8.7132e-04 - val_loss: 7.6027e-04\n",
            "Epoch 200/500\n",
            "97/97 [==============================] - 1s 15ms/step - loss: 0.0010 - val_loss: 8.2684e-04\n",
            "Epoch 201/500\n",
            "97/97 [==============================] - 1s 14ms/step - loss: 0.0010 - val_loss: 0.0022\n",
            "Epoch 202/500\n",
            "97/97 [==============================] - 1s 14ms/step - loss: 9.5962e-04 - val_loss: 6.0415e-04\n",
            "Epoch 203/500\n",
            "97/97 [==============================] - 1s 13ms/step - loss: 9.2697e-04 - val_loss: 6.7482e-04\n",
            "Epoch 204/500\n",
            "97/97 [==============================] - 1s 13ms/step - loss: 0.0010 - val_loss: 6.6085e-04\n",
            "Epoch 205/500\n",
            "97/97 [==============================] - 1s 13ms/step - loss: 8.5362e-04 - val_loss: 0.0011\n",
            "Epoch 206/500\n",
            "97/97 [==============================] - 1s 13ms/step - loss: 8.4762e-04 - val_loss: 0.0011\n",
            "Epoch 207/500\n",
            "97/97 [==============================] - 1s 13ms/step - loss: 9.6642e-04 - val_loss: 6.3147e-04\n",
            "Epoch 208/500\n",
            "97/97 [==============================] - 1s 13ms/step - loss: 7.6576e-04 - val_loss: 7.2958e-04\n",
            "Epoch 209/500\n",
            "97/97 [==============================] - 1s 12ms/step - loss: 8.9331e-04 - val_loss: 6.1077e-04\n",
            "Epoch 210/500\n",
            "97/97 [==============================] - 1s 13ms/step - loss: 8.8118e-04 - val_loss: 5.9570e-04\n",
            "Epoch 211/500\n",
            "97/97 [==============================] - 1s 13ms/step - loss: 8.4192e-04 - val_loss: 7.0307e-04\n",
            "Epoch 212/500\n",
            "97/97 [==============================] - 1s 13ms/step - loss: 8.6391e-04 - val_loss: 7.4680e-04\n",
            "Epoch 213/500\n",
            "97/97 [==============================] - 1s 13ms/step - loss: 8.8878e-04 - val_loss: 7.4130e-04\n",
            "Epoch 214/500\n",
            "97/97 [==============================] - 1s 13ms/step - loss: 9.6703e-04 - val_loss: 0.0011\n",
            "Epoch 215/500\n",
            "97/97 [==============================] - 1s 13ms/step - loss: 9.2418e-04 - val_loss: 0.0015\n",
            "Epoch 216/500\n",
            "97/97 [==============================] - 1s 13ms/step - loss: 8.2507e-04 - val_loss: 7.7916e-04\n",
            "Epoch 217/500\n",
            "97/97 [==============================] - 1s 13ms/step - loss: 9.0382e-04 - val_loss: 9.3928e-04\n",
            "Epoch 218/500\n",
            "97/97 [==============================] - 1s 13ms/step - loss: 9.2631e-04 - val_loss: 8.0057e-04\n",
            "Epoch 219/500\n",
            "97/97 [==============================] - 1s 13ms/step - loss: 0.0012 - val_loss: 8.6919e-04\n",
            "Epoch 220/500\n",
            "97/97 [==============================] - 1s 13ms/step - loss: 9.3074e-04 - val_loss: 9.6932e-04\n",
            "Epoch 221/500\n",
            "97/97 [==============================] - 1s 13ms/step - loss: 8.1745e-04 - val_loss: 6.2754e-04\n",
            "Epoch 222/500\n",
            "97/97 [==============================] - 1s 14ms/step - loss: 0.0010 - val_loss: 5.1877e-04\n",
            "Epoch 223/500\n",
            "97/97 [==============================] - 1s 13ms/step - loss: 9.4113e-04 - val_loss: 0.0016\n",
            "Epoch 224/500\n",
            "97/97 [==============================] - 1s 13ms/step - loss: 9.4123e-04 - val_loss: 9.9930e-04\n",
            "Epoch 225/500\n",
            "97/97 [==============================] - 1s 13ms/step - loss: 0.0010 - val_loss: 8.1154e-04\n",
            "Epoch 226/500\n",
            "97/97 [==============================] - 1s 13ms/step - loss: 8.6223e-04 - val_loss: 8.7000e-04\n",
            "Epoch 227/500\n",
            "97/97 [==============================] - 1s 13ms/step - loss: 8.5041e-04 - val_loss: 6.4075e-04\n",
            "Epoch 228/500\n",
            "97/97 [==============================] - 1s 13ms/step - loss: 8.8887e-04 - val_loss: 5.8765e-04\n",
            "Epoch 229/500\n",
            "97/97 [==============================] - 1s 13ms/step - loss: 8.6727e-04 - val_loss: 8.0827e-04\n",
            "Epoch 230/500\n",
            "97/97 [==============================] - 1s 13ms/step - loss: 8.7266e-04 - val_loss: 6.6044e-04\n",
            "Epoch 231/500\n",
            "97/97 [==============================] - 1s 13ms/step - loss: 7.8226e-04 - val_loss: 0.0010\n",
            "Epoch 232/500\n",
            "97/97 [==============================] - 1s 13ms/step - loss: 9.6522e-04 - val_loss: 0.0011\n",
            "Epoch 233/500\n",
            "97/97 [==============================] - 1s 13ms/step - loss: 8.5662e-04 - val_loss: 0.0021\n",
            "Epoch 234/500\n",
            "97/97 [==============================] - 1s 13ms/step - loss: 8.4385e-04 - val_loss: 5.4351e-04\n",
            "Epoch 235/500\n",
            "97/97 [==============================] - 1s 13ms/step - loss: 9.5056e-04 - val_loss: 0.0012\n",
            "Epoch 236/500\n",
            "97/97 [==============================] - 1s 13ms/step - loss: 0.0010 - val_loss: 6.8740e-04\n",
            "Epoch 237/500\n",
            "97/97 [==============================] - 1s 13ms/step - loss: 9.6385e-04 - val_loss: 7.1057e-04\n",
            "Epoch 238/500\n",
            "97/97 [==============================] - 1s 13ms/step - loss: 8.8573e-04 - val_loss: 8.4877e-04\n",
            "Epoch 239/500\n",
            "97/97 [==============================] - 1s 14ms/step - loss: 9.4564e-04 - val_loss: 0.0012\n",
            "Epoch 240/500\n",
            "97/97 [==============================] - 1s 14ms/step - loss: 9.5075e-04 - val_loss: 9.0051e-04\n",
            "Epoch 241/500\n",
            "97/97 [==============================] - 1s 13ms/step - loss: 0.0010 - val_loss: 7.1603e-04\n",
            "Epoch 242/500\n",
            "97/97 [==============================] - 1s 13ms/step - loss: 9.3590e-04 - val_loss: 6.2649e-04\n",
            "Epoch 243/500\n",
            "97/97 [==============================] - 1s 13ms/step - loss: 0.0010 - val_loss: 6.9061e-04\n",
            "Epoch 244/500\n",
            "97/97 [==============================] - 1s 13ms/step - loss: 9.2739e-04 - val_loss: 0.0010\n",
            "Epoch 245/500\n",
            "97/97 [==============================] - 1s 13ms/step - loss: 9.5623e-04 - val_loss: 5.5142e-04\n",
            "Epoch 246/500\n",
            "97/97 [==============================] - 1s 13ms/step - loss: 9.9582e-04 - val_loss: 5.7513e-04\n",
            "Epoch 247/500\n",
            "97/97 [==============================] - 1s 13ms/step - loss: 8.7923e-04 - val_loss: 7.4264e-04\n",
            "Epoch 248/500\n",
            "97/97 [==============================] - 1s 14ms/step - loss: 7.7521e-04 - val_loss: 7.1988e-04\n",
            "Epoch 249/500\n",
            "97/97 [==============================] - 1s 13ms/step - loss: 8.4535e-04 - val_loss: 6.5706e-04\n",
            "Epoch 250/500\n",
            "97/97 [==============================] - 1s 13ms/step - loss: 0.0010 - val_loss: 6.8858e-04\n",
            "Epoch 251/500\n",
            "97/97 [==============================] - 1s 13ms/step - loss: 8.4698e-04 - val_loss: 7.3792e-04\n",
            "Epoch 252/500\n",
            "97/97 [==============================] - 1s 13ms/step - loss: 8.4690e-04 - val_loss: 0.0011\n",
            "Epoch 253/500\n",
            "97/97 [==============================] - 1s 13ms/step - loss: 9.2811e-04 - val_loss: 0.0011\n",
            "Epoch 254/500\n",
            "97/97 [==============================] - 1s 13ms/step - loss: 8.6305e-04 - val_loss: 0.0011\n",
            "Epoch 255/500\n",
            "97/97 [==============================] - 2s 17ms/step - loss: 9.6719e-04 - val_loss: 0.0013\n",
            "Epoch 256/500\n",
            "97/97 [==============================] - 2s 16ms/step - loss: 0.0010 - val_loss: 0.0015\n",
            "Epoch 257/500\n",
            "97/97 [==============================] - 2s 17ms/step - loss: 9.3482e-04 - val_loss: 5.6802e-04\n",
            "Epoch 258/500\n",
            "97/97 [==============================] - 1s 14ms/step - loss: 9.0243e-04 - val_loss: 7.2397e-04\n",
            "Epoch 259/500\n",
            "97/97 [==============================] - 1s 13ms/step - loss: 8.8423e-04 - val_loss: 5.6165e-04\n",
            "Epoch 260/500\n",
            "97/97 [==============================] - 1s 14ms/step - loss: 9.3906e-04 - val_loss: 5.8613e-04\n",
            "Epoch 261/500\n",
            "97/97 [==============================] - 1s 12ms/step - loss: 9.0281e-04 - val_loss: 7.9018e-04\n",
            "Epoch 262/500\n",
            "97/97 [==============================] - 1s 13ms/step - loss: 8.7378e-04 - val_loss: 8.4076e-04\n",
            "Epoch 263/500\n",
            "97/97 [==============================] - 1s 14ms/step - loss: 8.7631e-04 - val_loss: 0.0018\n",
            "Epoch 264/500\n",
            "97/97 [==============================] - 1s 13ms/step - loss: 8.5632e-04 - val_loss: 7.3019e-04\n",
            "Epoch 265/500\n",
            "97/97 [==============================] - 1s 13ms/step - loss: 9.6547e-04 - val_loss: 0.0015\n",
            "Epoch 266/500\n",
            "97/97 [==============================] - 1s 13ms/step - loss: 9.1080e-04 - val_loss: 0.0025\n",
            "Epoch 267/500\n",
            "97/97 [==============================] - 1s 13ms/step - loss: 8.9765e-04 - val_loss: 5.5751e-04\n",
            "Epoch 268/500\n",
            "97/97 [==============================] - 1s 14ms/step - loss: 8.6210e-04 - val_loss: 6.4874e-04\n",
            "Epoch 269/500\n",
            "97/97 [==============================] - 1s 13ms/step - loss: 7.9249e-04 - val_loss: 5.9228e-04\n",
            "Epoch 270/500\n",
            "97/97 [==============================] - 1s 13ms/step - loss: 8.4861e-04 - val_loss: 5.6732e-04\n",
            "Epoch 271/500\n",
            "97/97 [==============================] - 1s 13ms/step - loss: 8.2155e-04 - val_loss: 6.8056e-04\n",
            "Epoch 272/500\n",
            "97/97 [==============================] - 1s 12ms/step - loss: 0.0011 - val_loss: 7.3319e-04\n",
            "Epoch 273/500\n",
            "97/97 [==============================] - 1s 13ms/step - loss: 0.0010 - val_loss: 5.7845e-04\n",
            "Epoch 274/500\n",
            "97/97 [==============================] - 1s 14ms/step - loss: 9.6370e-04 - val_loss: 5.3446e-04\n",
            "Epoch 275/500\n",
            "97/97 [==============================] - 1s 13ms/step - loss: 9.3435e-04 - val_loss: 0.0017\n",
            "Epoch 276/500\n",
            "97/97 [==============================] - 1s 13ms/step - loss: 0.0010 - val_loss: 0.0011\n",
            "Epoch 277/500\n",
            "97/97 [==============================] - 1s 13ms/step - loss: 8.3680e-04 - val_loss: 0.0017\n",
            "Epoch 278/500\n",
            "97/97 [==============================] - 1s 13ms/step - loss: 0.0011 - val_loss: 0.0011\n",
            "Epoch 279/500\n",
            "97/97 [==============================] - 1s 13ms/step - loss: 7.9213e-04 - val_loss: 6.5077e-04\n",
            "Epoch 280/500\n",
            "97/97 [==============================] - 1s 13ms/step - loss: 7.6479e-04 - val_loss: 6.4445e-04\n",
            "Epoch 281/500\n",
            "97/97 [==============================] - 1s 13ms/step - loss: 7.0560e-04 - val_loss: 6.5760e-04\n",
            "Epoch 282/500\n",
            "97/97 [==============================] - 1s 13ms/step - loss: 9.3458e-04 - val_loss: 9.8350e-04\n",
            "Epoch 283/500\n",
            "97/97 [==============================] - 1s 13ms/step - loss: 9.4092e-04 - val_loss: 6.9049e-04\n",
            "Epoch 284/500\n",
            "97/97 [==============================] - 1s 14ms/step - loss: 9.0829e-04 - val_loss: 0.0012\n",
            "Epoch 285/500\n",
            "97/97 [==============================] - 1s 13ms/step - loss: 9.8502e-04 - val_loss: 5.2469e-04\n",
            "Epoch 286/500\n",
            "97/97 [==============================] - 1s 13ms/step - loss: 8.0368e-04 - val_loss: 5.3485e-04\n",
            "Epoch 287/500\n",
            "97/97 [==============================] - 1s 13ms/step - loss: 8.5788e-04 - val_loss: 0.0019\n",
            "Epoch 288/500\n",
            "97/97 [==============================] - 1s 13ms/step - loss: 0.0010 - val_loss: 0.0022\n",
            "Epoch 289/500\n",
            "97/97 [==============================] - 1s 13ms/step - loss: 8.6544e-04 - val_loss: 5.3783e-04\n",
            "Epoch 290/500\n",
            "97/97 [==============================] - 1s 13ms/step - loss: 8.0962e-04 - val_loss: 8.9101e-04\n",
            "Epoch 291/500\n",
            "97/97 [==============================] - 1s 13ms/step - loss: 8.0107e-04 - val_loss: 5.4758e-04\n",
            "Epoch 292/500\n",
            "97/97 [==============================] - 1s 13ms/step - loss: 7.8296e-04 - val_loss: 6.1449e-04\n",
            "Epoch 293/500\n",
            "97/97 [==============================] - 1s 13ms/step - loss: 8.6950e-04 - val_loss: 5.1160e-04\n",
            "Epoch 294/500\n",
            "97/97 [==============================] - 1s 13ms/step - loss: 7.9847e-04 - val_loss: 7.6974e-04\n",
            "Epoch 295/500\n",
            "97/97 [==============================] - 1s 13ms/step - loss: 8.8012e-04 - val_loss: 6.0070e-04\n",
            "Epoch 296/500\n",
            "97/97 [==============================] - 1s 13ms/step - loss: 9.3256e-04 - val_loss: 5.0378e-04\n",
            "Epoch 297/500\n",
            "97/97 [==============================] - 1s 13ms/step - loss: 9.0413e-04 - val_loss: 5.5357e-04\n",
            "Epoch 298/500\n",
            "97/97 [==============================] - 1s 13ms/step - loss: 8.2906e-04 - val_loss: 6.3555e-04\n",
            "Epoch 299/500\n",
            "97/97 [==============================] - 1s 14ms/step - loss: 8.6748e-04 - val_loss: 0.0014\n",
            "Epoch 300/500\n",
            "97/97 [==============================] - 1s 13ms/step - loss: 9.3169e-04 - val_loss: 0.0015\n",
            "Epoch 301/500\n",
            "97/97 [==============================] - 1s 13ms/step - loss: 7.6768e-04 - val_loss: 6.4976e-04\n",
            "Epoch 302/500\n",
            "97/97 [==============================] - 1s 13ms/step - loss: 9.8245e-04 - val_loss: 6.7800e-04\n",
            "Epoch 303/500\n",
            "97/97 [==============================] - 1s 13ms/step - loss: 7.8915e-04 - val_loss: 5.8830e-04\n",
            "Epoch 304/500\n",
            "97/97 [==============================] - 1s 13ms/step - loss: 0.0010 - val_loss: 8.0793e-04\n",
            "Epoch 305/500\n",
            "97/97 [==============================] - 1s 13ms/step - loss: 9.5560e-04 - val_loss: 0.0012\n",
            "Epoch 306/500\n",
            "97/97 [==============================] - 1s 13ms/step - loss: 8.1820e-04 - val_loss: 5.3115e-04\n",
            "Epoch 307/500\n",
            "97/97 [==============================] - 1s 14ms/step - loss: 7.9471e-04 - val_loss: 7.4383e-04\n",
            "Epoch 308/500\n",
            "97/97 [==============================] - 1s 13ms/step - loss: 9.0343e-04 - val_loss: 5.7764e-04\n",
            "Epoch 309/500\n",
            "97/97 [==============================] - 1s 13ms/step - loss: 7.8957e-04 - val_loss: 5.0912e-04\n",
            "Epoch 310/500\n",
            "97/97 [==============================] - 1s 13ms/step - loss: 9.9526e-04 - val_loss: 5.6344e-04\n",
            "Epoch 311/500\n",
            "97/97 [==============================] - 1s 13ms/step - loss: 8.1002e-04 - val_loss: 5.0576e-04\n",
            "Epoch 312/500\n",
            "97/97 [==============================] - 1s 13ms/step - loss: 9.5178e-04 - val_loss: 6.7055e-04\n",
            "Epoch 313/500\n",
            "97/97 [==============================] - 1s 13ms/step - loss: 8.7742e-04 - val_loss: 8.3319e-04\n",
            "Epoch 314/500\n",
            "97/97 [==============================] - 1s 13ms/step - loss: 9.2982e-04 - val_loss: 5.5213e-04\n",
            "Epoch 315/500\n",
            "97/97 [==============================] - 1s 13ms/step - loss: 8.6668e-04 - val_loss: 5.3047e-04\n",
            "Epoch 316/500\n",
            "97/97 [==============================] - 1s 13ms/step - loss: 8.5152e-04 - val_loss: 5.8486e-04\n",
            "Epoch 317/500\n",
            "97/97 [==============================] - 1s 13ms/step - loss: 9.1773e-04 - val_loss: 9.9810e-04\n",
            "Epoch 318/500\n",
            "97/97 [==============================] - 1s 13ms/step - loss: 8.4749e-04 - val_loss: 7.4625e-04\n",
            "Epoch 319/500\n",
            "97/97 [==============================] - 1s 13ms/step - loss: 9.8247e-04 - val_loss: 0.0011\n",
            "Epoch 320/500\n",
            "97/97 [==============================] - 1s 14ms/step - loss: 8.9284e-04 - val_loss: 6.2936e-04\n",
            "Epoch 321/500\n",
            "97/97 [==============================] - 1s 13ms/step - loss: 7.7913e-04 - val_loss: 5.5076e-04\n",
            "Epoch 322/500\n",
            "97/97 [==============================] - 1s 13ms/step - loss: 8.0604e-04 - val_loss: 7.1847e-04\n",
            "Epoch 323/500\n",
            "97/97 [==============================] - 1s 13ms/step - loss: 8.1993e-04 - val_loss: 5.5097e-04\n",
            "Epoch 324/500\n",
            "97/97 [==============================] - 1s 13ms/step - loss: 8.2452e-04 - val_loss: 0.0047\n",
            "Epoch 325/500\n",
            "97/97 [==============================] - 1s 13ms/step - loss: 9.9777e-04 - val_loss: 0.0011\n",
            "Epoch 326/500\n",
            "97/97 [==============================] - 1s 13ms/step - loss: 8.2450e-04 - val_loss: 6.5107e-04\n",
            "Epoch 327/500\n",
            "97/97 [==============================] - 1s 13ms/step - loss: 8.5381e-04 - val_loss: 5.0163e-04\n",
            "Epoch 328/500\n",
            "97/97 [==============================] - 1s 13ms/step - loss: 9.2508e-04 - val_loss: 9.2080e-04\n",
            "Epoch 329/500\n",
            "97/97 [==============================] - 1s 13ms/step - loss: 8.9392e-04 - val_loss: 9.5389e-04\n",
            "Epoch 330/500\n",
            "97/97 [==============================] - 1s 13ms/step - loss: 8.6237e-04 - val_loss: 6.6303e-04\n",
            "Epoch 331/500\n",
            "97/97 [==============================] - 1s 13ms/step - loss: 8.4715e-04 - val_loss: 6.8096e-04\n",
            "Epoch 332/500\n",
            "97/97 [==============================] - 1s 13ms/step - loss: 9.4146e-04 - val_loss: 5.4995e-04\n",
            "Epoch 333/500\n",
            "97/97 [==============================] - 1s 13ms/step - loss: 8.4939e-04 - val_loss: 7.9857e-04\n",
            "Epoch 334/500\n",
            "97/97 [==============================] - 1s 13ms/step - loss: 8.8444e-04 - val_loss: 5.9065e-04\n",
            "Epoch 335/500\n",
            "97/97 [==============================] - 1s 13ms/step - loss: 8.0899e-04 - val_loss: 6.5251e-04\n",
            "Epoch 336/500\n",
            "97/97 [==============================] - 1s 13ms/step - loss: 8.0324e-04 - val_loss: 7.6654e-04\n",
            "Epoch 337/500\n",
            "97/97 [==============================] - 1s 13ms/step - loss: 8.0743e-04 - val_loss: 5.0783e-04\n",
            "Epoch 338/500\n",
            "97/97 [==============================] - 1s 13ms/step - loss: 9.1658e-04 - val_loss: 8.3992e-04\n",
            "Epoch 339/500\n",
            "97/97 [==============================] - 1s 13ms/step - loss: 8.0000e-04 - val_loss: 6.1433e-04\n",
            "Epoch 340/500\n",
            "97/97 [==============================] - 1s 13ms/step - loss: 8.3779e-04 - val_loss: 0.0011\n",
            "Epoch 341/500\n",
            "97/97 [==============================] - 1s 13ms/step - loss: 8.8067e-04 - val_loss: 0.0023\n",
            "Epoch 342/500\n",
            "97/97 [==============================] - 1s 13ms/step - loss: 9.9710e-04 - val_loss: 6.6943e-04\n",
            "Epoch 343/500\n",
            "97/97 [==============================] - 1s 13ms/step - loss: 8.5546e-04 - val_loss: 5.1283e-04\n",
            "Epoch 344/500\n",
            "97/97 [==============================] - 1s 13ms/step - loss: 8.6224e-04 - val_loss: 0.0011\n",
            "Epoch 345/500\n",
            "97/97 [==============================] - 1s 13ms/step - loss: 8.8392e-04 - val_loss: 6.0275e-04\n",
            "Epoch 346/500\n",
            "97/97 [==============================] - 1s 13ms/step - loss: 9.8877e-04 - val_loss: 0.0022\n",
            "Epoch 347/500\n",
            "97/97 [==============================] - 1s 13ms/step - loss: 9.1304e-04 - val_loss: 9.8864e-04\n",
            "Epoch 348/500\n",
            "97/97 [==============================] - 1s 13ms/step - loss: 8.4614e-04 - val_loss: 6.7322e-04\n",
            "Epoch 349/500\n",
            "97/97 [==============================] - 1s 13ms/step - loss: 8.1800e-04 - val_loss: 5.5416e-04\n",
            "Epoch 350/500\n",
            "97/97 [==============================] - 1s 13ms/step - loss: 8.8920e-04 - val_loss: 5.3255e-04\n",
            "Epoch 351/500\n",
            "97/97 [==============================] - 1s 13ms/step - loss: 8.2879e-04 - val_loss: 5.0142e-04\n",
            "Epoch 352/500\n",
            "97/97 [==============================] - 1s 13ms/step - loss: 9.8725e-04 - val_loss: 6.0427e-04\n",
            "Epoch 353/500\n",
            "97/97 [==============================] - 1s 14ms/step - loss: 8.5256e-04 - val_loss: 5.1985e-04\n",
            "Epoch 354/500\n",
            "97/97 [==============================] - 1s 13ms/step - loss: 9.4137e-04 - val_loss: 0.0019\n",
            "Epoch 355/500\n",
            "97/97 [==============================] - 1s 13ms/step - loss: 0.0010 - val_loss: 6.2439e-04\n",
            "Epoch 356/500\n",
            "97/97 [==============================] - 1s 13ms/step - loss: 8.6535e-04 - val_loss: 6.0734e-04\n",
            "Epoch 357/500\n",
            "97/97 [==============================] - 1s 13ms/step - loss: 8.4155e-04 - val_loss: 7.5733e-04\n",
            "Epoch 358/500\n",
            "97/97 [==============================] - 1s 13ms/step - loss: 7.9489e-04 - val_loss: 4.8071e-04\n",
            "Epoch 359/500\n",
            "97/97 [==============================] - 1s 13ms/step - loss: 8.1436e-04 - val_loss: 6.0013e-04\n",
            "Epoch 360/500\n",
            "97/97 [==============================] - 1s 13ms/step - loss: 8.4188e-04 - val_loss: 5.1444e-04\n",
            "Epoch 361/500\n",
            "97/97 [==============================] - 1s 13ms/step - loss: 8.2718e-04 - val_loss: 5.8756e-04\n",
            "Epoch 362/500\n",
            "97/97 [==============================] - 1s 13ms/step - loss: 9.0037e-04 - val_loss: 5.1117e-04\n",
            "Epoch 363/500\n",
            "97/97 [==============================] - 1s 13ms/step - loss: 9.0867e-04 - val_loss: 5.1440e-04\n",
            "Epoch 364/500\n",
            "97/97 [==============================] - 1s 14ms/step - loss: 9.0498e-04 - val_loss: 7.4872e-04\n",
            "Epoch 365/500\n",
            "97/97 [==============================] - 1s 13ms/step - loss: 7.6468e-04 - val_loss: 8.6123e-04\n",
            "Epoch 366/500\n",
            "97/97 [==============================] - 1s 13ms/step - loss: 8.7676e-04 - val_loss: 0.0012\n",
            "Epoch 367/500\n",
            "97/97 [==============================] - 1s 13ms/step - loss: 8.8911e-04 - val_loss: 5.3057e-04\n",
            "Epoch 368/500\n",
            "97/97 [==============================] - 1s 13ms/step - loss: 8.8148e-04 - val_loss: 7.1257e-04\n",
            "Epoch 369/500\n",
            "97/97 [==============================] - 1s 13ms/step - loss: 8.2878e-04 - val_loss: 0.0016\n",
            "Epoch 370/500\n",
            "97/97 [==============================] - 1s 13ms/step - loss: 8.0499e-04 - val_loss: 5.3595e-04\n",
            "Epoch 371/500\n",
            "97/97 [==============================] - 1s 13ms/step - loss: 7.0472e-04 - val_loss: 9.4654e-04\n",
            "Epoch 372/500\n",
            "97/97 [==============================] - 1s 13ms/step - loss: 8.4534e-04 - val_loss: 6.2352e-04\n",
            "Epoch 373/500\n",
            "97/97 [==============================] - 1s 13ms/step - loss: 8.3421e-04 - val_loss: 5.5009e-04\n",
            "Epoch 374/500\n",
            "97/97 [==============================] - 1s 13ms/step - loss: 7.5608e-04 - val_loss: 9.9270e-04\n",
            "Epoch 375/500\n",
            "97/97 [==============================] - 1s 13ms/step - loss: 7.2049e-04 - val_loss: 4.9576e-04\n",
            "Epoch 376/500\n",
            "97/97 [==============================] - 1s 13ms/step - loss: 7.9507e-04 - val_loss: 5.2065e-04\n",
            "Epoch 377/500\n",
            "97/97 [==============================] - 1s 13ms/step - loss: 8.0638e-04 - val_loss: 8.3746e-04\n",
            "Epoch 378/500\n",
            "97/97 [==============================] - 1s 13ms/step - loss: 8.4651e-04 - val_loss: 5.0085e-04\n",
            "Epoch 379/500\n",
            "97/97 [==============================] - 1s 13ms/step - loss: 0.0010 - val_loss: 7.1051e-04\n",
            "Epoch 380/500\n",
            "97/97 [==============================] - 1s 14ms/step - loss: 8.8275e-04 - val_loss: 4.7185e-04\n",
            "Epoch 381/500\n",
            "97/97 [==============================] - 1s 13ms/step - loss: 8.8978e-04 - val_loss: 6.1695e-04\n",
            "Epoch 382/500\n",
            "97/97 [==============================] - 1s 14ms/step - loss: 8.6418e-04 - val_loss: 6.6131e-04\n",
            "Epoch 383/500\n",
            "97/97 [==============================] - 1s 13ms/step - loss: 8.2998e-04 - val_loss: 5.5438e-04\n",
            "Epoch 384/500\n",
            "97/97 [==============================] - 1s 14ms/step - loss: 8.2879e-04 - val_loss: 5.0591e-04\n",
            "Epoch 385/500\n",
            "97/97 [==============================] - 1s 13ms/step - loss: 8.1233e-04 - val_loss: 5.6795e-04\n",
            "Epoch 386/500\n",
            "97/97 [==============================] - 1s 13ms/step - loss: 7.7956e-04 - val_loss: 5.0437e-04\n",
            "Epoch 387/500\n",
            "97/97 [==============================] - 1s 13ms/step - loss: 8.8742e-04 - val_loss: 6.7885e-04\n",
            "Epoch 388/500\n",
            "97/97 [==============================] - 1s 13ms/step - loss: 7.2206e-04 - val_loss: 7.0369e-04\n",
            "Epoch 389/500\n",
            "97/97 [==============================] - 1s 13ms/step - loss: 8.2203e-04 - val_loss: 5.7271e-04\n",
            "Epoch 390/500\n",
            "97/97 [==============================] - 1s 13ms/step - loss: 8.5892e-04 - val_loss: 9.6838e-04\n",
            "Epoch 391/500\n",
            "97/97 [==============================] - 1s 13ms/step - loss: 7.1751e-04 - val_loss: 0.0011\n",
            "Epoch 392/500\n",
            "97/97 [==============================] - 1s 13ms/step - loss: 8.3313e-04 - val_loss: 5.6727e-04\n",
            "Epoch 393/500\n",
            "97/97 [==============================] - 1s 13ms/step - loss: 9.1984e-04 - val_loss: 5.5766e-04\n",
            "Epoch 394/500\n",
            "97/97 [==============================] - 1s 13ms/step - loss: 7.9751e-04 - val_loss: 6.7293e-04\n",
            "Epoch 395/500\n",
            "97/97 [==============================] - 1s 14ms/step - loss: 8.5961e-04 - val_loss: 7.7516e-04\n",
            "Epoch 396/500\n",
            "97/97 [==============================] - 1s 13ms/step - loss: 8.3547e-04 - val_loss: 6.1739e-04\n",
            "Epoch 397/500\n",
            "97/97 [==============================] - 1s 13ms/step - loss: 8.0275e-04 - val_loss: 0.0011\n",
            "Epoch 398/500\n",
            "97/97 [==============================] - 1s 13ms/step - loss: 8.1570e-04 - val_loss: 6.7623e-04\n",
            "Epoch 399/500\n",
            "97/97 [==============================] - 1s 13ms/step - loss: 8.3806e-04 - val_loss: 5.4951e-04\n",
            "Epoch 400/500\n",
            "97/97 [==============================] - 1s 14ms/step - loss: 8.9236e-04 - val_loss: 5.0483e-04\n",
            "Epoch 401/500\n",
            "97/97 [==============================] - 1s 13ms/step - loss: 7.5096e-04 - val_loss: 5.6807e-04\n",
            "Epoch 402/500\n",
            "97/97 [==============================] - 1s 13ms/step - loss: 9.1204e-04 - val_loss: 5.5029e-04\n",
            "Epoch 403/500\n",
            "97/97 [==============================] - 1s 13ms/step - loss: 8.1357e-04 - val_loss: 6.2886e-04\n",
            "Epoch 404/500\n",
            "97/97 [==============================] - 1s 13ms/step - loss: 7.6103e-04 - val_loss: 4.9581e-04\n",
            "Epoch 405/500\n",
            "97/97 [==============================] - 1s 13ms/step - loss: 8.8408e-04 - val_loss: 5.7158e-04\n",
            "Epoch 406/500\n",
            "97/97 [==============================] - 1s 13ms/step - loss: 7.5294e-04 - val_loss: 5.0001e-04\n",
            "Epoch 407/500\n",
            "97/97 [==============================] - 1s 13ms/step - loss: 8.0297e-04 - val_loss: 5.8262e-04\n",
            "Epoch 408/500\n",
            "97/97 [==============================] - 2s 21ms/step - loss: 7.4613e-04 - val_loss: 0.0011\n",
            "Epoch 409/500\n",
            "97/97 [==============================] - 1s 14ms/step - loss: 7.9176e-04 - val_loss: 6.9848e-04\n",
            "Epoch 410/500\n",
            "97/97 [==============================] - 1s 14ms/step - loss: 8.0867e-04 - val_loss: 8.8777e-04\n",
            "Epoch 411/500\n",
            "97/97 [==============================] - 1s 14ms/step - loss: 8.6124e-04 - val_loss: 8.3655e-04\n",
            "Epoch 412/500\n",
            "97/97 [==============================] - 1s 13ms/step - loss: 8.2464e-04 - val_loss: 5.7107e-04\n",
            "Epoch 413/500\n",
            "97/97 [==============================] - 1s 14ms/step - loss: 8.0838e-04 - val_loss: 9.7226e-04\n",
            "Epoch 414/500\n",
            "97/97 [==============================] - 1s 13ms/step - loss: 7.3846e-04 - val_loss: 4.9877e-04\n",
            "Epoch 415/500\n",
            "97/97 [==============================] - 1s 14ms/step - loss: 7.7091e-04 - val_loss: 5.4530e-04\n",
            "Epoch 416/500\n",
            "97/97 [==============================] - 1s 13ms/step - loss: 8.1158e-04 - val_loss: 7.4839e-04\n",
            "Epoch 417/500\n",
            "97/97 [==============================] - 1s 14ms/step - loss: 9.1666e-04 - val_loss: 7.4024e-04\n",
            "Epoch 418/500\n",
            "97/97 [==============================] - 1s 13ms/step - loss: 8.4833e-04 - val_loss: 6.6940e-04\n",
            "Epoch 419/500\n",
            "97/97 [==============================] - 1s 13ms/step - loss: 7.2680e-04 - val_loss: 9.8844e-04\n",
            "Epoch 420/500\n",
            "97/97 [==============================] - 1s 14ms/step - loss: 8.5907e-04 - val_loss: 6.8071e-04\n",
            "Epoch 421/500\n",
            "97/97 [==============================] - 1s 13ms/step - loss: 8.8620e-04 - val_loss: 4.9862e-04\n",
            "Epoch 422/500\n",
            "97/97 [==============================] - 1s 13ms/step - loss: 8.2089e-04 - val_loss: 5.0869e-04\n",
            "Epoch 423/500\n",
            "97/97 [==============================] - 1s 13ms/step - loss: 7.3147e-04 - val_loss: 5.2096e-04\n",
            "Epoch 424/500\n",
            "97/97 [==============================] - 1s 13ms/step - loss: 7.8165e-04 - val_loss: 5.8281e-04\n",
            "Epoch 425/500\n",
            "97/97 [==============================] - 1s 13ms/step - loss: 7.1890e-04 - val_loss: 5.8997e-04\n",
            "Epoch 426/500\n",
            "97/97 [==============================] - 1s 15ms/step - loss: 8.4617e-04 - val_loss: 6.2823e-04\n",
            "Epoch 427/500\n",
            "97/97 [==============================] - 1s 13ms/step - loss: 6.7358e-04 - val_loss: 6.7285e-04\n",
            "Epoch 428/500\n",
            "97/97 [==============================] - 1s 13ms/step - loss: 9.3288e-04 - val_loss: 5.6832e-04\n",
            "Epoch 429/500\n",
            "97/97 [==============================] - 1s 13ms/step - loss: 8.7359e-04 - val_loss: 0.0010\n",
            "Epoch 430/500\n",
            "97/97 [==============================] - 1s 13ms/step - loss: 9.4234e-04 - val_loss: 6.5203e-04\n",
            "Epoch 431/500\n",
            "97/97 [==============================] - 1s 14ms/step - loss: 8.2440e-04 - val_loss: 4.6044e-04\n",
            "Epoch 432/500\n",
            "97/97 [==============================] - 1s 13ms/step - loss: 8.6602e-04 - val_loss: 6.8995e-04\n",
            "Epoch 433/500\n",
            "97/97 [==============================] - 1s 13ms/step - loss: 8.7638e-04 - val_loss: 6.8531e-04\n",
            "Epoch 434/500\n",
            "97/97 [==============================] - 1s 14ms/step - loss: 7.7190e-04 - val_loss: 4.9410e-04\n",
            "Epoch 435/500\n",
            "97/97 [==============================] - 1s 14ms/step - loss: 8.8586e-04 - val_loss: 5.9445e-04\n",
            "Epoch 436/500\n",
            "97/97 [==============================] - 1s 13ms/step - loss: 8.9961e-04 - val_loss: 4.9255e-04\n",
            "Epoch 437/500\n",
            "97/97 [==============================] - 1s 13ms/step - loss: 8.7958e-04 - val_loss: 7.7410e-04\n",
            "Epoch 438/500\n",
            "97/97 [==============================] - 1s 13ms/step - loss: 8.3702e-04 - val_loss: 4.9243e-04\n",
            "Epoch 439/500\n",
            "97/97 [==============================] - 1s 14ms/step - loss: 8.3572e-04 - val_loss: 4.7001e-04\n",
            "Epoch 440/500\n",
            "97/97 [==============================] - 1s 14ms/step - loss: 7.9889e-04 - val_loss: 4.9683e-04\n",
            "Epoch 441/500\n",
            "97/97 [==============================] - 1s 14ms/step - loss: 8.0765e-04 - val_loss: 5.5602e-04\n",
            "Epoch 442/500\n",
            "97/97 [==============================] - 1s 14ms/step - loss: 7.5709e-04 - val_loss: 5.8275e-04\n",
            "Epoch 443/500\n",
            "97/97 [==============================] - 1s 13ms/step - loss: 7.9272e-04 - val_loss: 5.6497e-04\n",
            "Epoch 444/500\n",
            "97/97 [==============================] - 1s 13ms/step - loss: 7.7136e-04 - val_loss: 5.2140e-04\n",
            "Epoch 445/500\n",
            "97/97 [==============================] - 1s 13ms/step - loss: 7.6280e-04 - val_loss: 6.7698e-04\n",
            "Epoch 446/500\n",
            "97/97 [==============================] - 1s 13ms/step - loss: 7.8538e-04 - val_loss: 5.7996e-04\n",
            "Epoch 447/500\n",
            "97/97 [==============================] - 1s 13ms/step - loss: 8.6061e-04 - val_loss: 5.1545e-04\n",
            "Epoch 448/500\n",
            "97/97 [==============================] - 1s 13ms/step - loss: 9.1841e-04 - val_loss: 5.0991e-04\n",
            "Epoch 449/500\n",
            "97/97 [==============================] - 1s 15ms/step - loss: 9.9194e-04 - val_loss: 8.0703e-04\n",
            "Epoch 450/500\n",
            "97/97 [==============================] - 1s 13ms/step - loss: 8.4496e-04 - val_loss: 4.7983e-04\n",
            "Epoch 451/500\n",
            "97/97 [==============================] - 1s 13ms/step - loss: 8.0532e-04 - val_loss: 4.6045e-04\n",
            "Epoch 452/500\n",
            "97/97 [==============================] - 1s 13ms/step - loss: 7.9335e-04 - val_loss: 7.9852e-04\n",
            "Epoch 453/500\n",
            "97/97 [==============================] - 1s 13ms/step - loss: 7.7669e-04 - val_loss: 0.0010\n",
            "Epoch 454/500\n",
            "97/97 [==============================] - 1s 13ms/step - loss: 8.2721e-04 - val_loss: 6.9055e-04\n",
            "Epoch 455/500\n",
            "97/97 [==============================] - 1s 14ms/step - loss: 6.9759e-04 - val_loss: 5.9237e-04\n",
            "Epoch 456/500\n",
            "97/97 [==============================] - 1s 14ms/step - loss: 9.0982e-04 - val_loss: 7.8495e-04\n",
            "Epoch 457/500\n",
            "97/97 [==============================] - 1s 14ms/step - loss: 7.8257e-04 - val_loss: 4.8995e-04\n",
            "Epoch 458/500\n",
            "97/97 [==============================] - 1s 14ms/step - loss: 8.0728e-04 - val_loss: 8.4987e-04\n",
            "Epoch 459/500\n",
            "97/97 [==============================] - 1s 14ms/step - loss: 8.0920e-04 - val_loss: 6.0416e-04\n",
            "Epoch 460/500\n",
            "97/97 [==============================] - 1s 13ms/step - loss: 7.5059e-04 - val_loss: 5.4884e-04\n",
            "Epoch 461/500\n",
            "97/97 [==============================] - 1s 14ms/step - loss: 8.2602e-04 - val_loss: 0.0010\n",
            "Epoch 462/500\n",
            "97/97 [==============================] - 1s 13ms/step - loss: 9.0213e-04 - val_loss: 0.0011\n",
            "Epoch 463/500\n",
            "97/97 [==============================] - 1s 13ms/step - loss: 9.2431e-04 - val_loss: 6.6515e-04\n",
            "Epoch 464/500\n",
            "97/97 [==============================] - 1s 13ms/step - loss: 8.6152e-04 - val_loss: 4.8815e-04\n",
            "Epoch 465/500\n",
            "97/97 [==============================] - 1s 14ms/step - loss: 7.4767e-04 - val_loss: 5.1592e-04\n",
            "Epoch 466/500\n",
            "97/97 [==============================] - 1s 14ms/step - loss: 8.2502e-04 - val_loss: 5.5280e-04\n",
            "Epoch 467/500\n",
            "97/97 [==============================] - 1s 13ms/step - loss: 8.0450e-04 - val_loss: 4.7297e-04\n",
            "Epoch 468/500\n",
            "97/97 [==============================] - 1s 14ms/step - loss: 8.3754e-04 - val_loss: 0.0011\n",
            "Epoch 469/500\n",
            "97/97 [==============================] - 1s 14ms/step - loss: 8.3177e-04 - val_loss: 6.2501e-04\n",
            "Epoch 470/500\n",
            "97/97 [==============================] - 1s 14ms/step - loss: 8.4003e-04 - val_loss: 6.6972e-04\n",
            "Epoch 471/500\n",
            "97/97 [==============================] - 1s 14ms/step - loss: 8.8052e-04 - val_loss: 4.8663e-04\n",
            "Epoch 472/500\n",
            "97/97 [==============================] - 1s 14ms/step - loss: 9.0471e-04 - val_loss: 6.6770e-04\n",
            "Epoch 473/500\n",
            "97/97 [==============================] - 1s 14ms/step - loss: 8.4285e-04 - val_loss: 5.5382e-04\n",
            "Epoch 474/500\n",
            "97/97 [==============================] - 1s 14ms/step - loss: 8.4604e-04 - val_loss: 6.9605e-04\n",
            "Epoch 475/500\n",
            "97/97 [==============================] - 1s 14ms/step - loss: 7.8394e-04 - val_loss: 5.1007e-04\n",
            "Epoch 476/500\n",
            "97/97 [==============================] - 1s 14ms/step - loss: 6.9329e-04 - val_loss: 7.5569e-04\n",
            "Epoch 477/500\n",
            "97/97 [==============================] - 1s 13ms/step - loss: 8.1339e-04 - val_loss: 5.2217e-04\n",
            "Epoch 478/500\n",
            "97/97 [==============================] - 1s 13ms/step - loss: 7.2283e-04 - val_loss: 4.8296e-04\n",
            "Epoch 479/500\n",
            "97/97 [==============================] - 1s 13ms/step - loss: 8.5822e-04 - val_loss: 5.2183e-04\n",
            "Epoch 480/500\n",
            "97/97 [==============================] - 1s 14ms/step - loss: 7.7611e-04 - val_loss: 0.0010\n",
            "Epoch 481/500\n",
            "97/97 [==============================] - 1s 13ms/step - loss: 7.6897e-04 - val_loss: 5.1948e-04\n",
            "Epoch 482/500\n",
            "97/97 [==============================] - 1s 13ms/step - loss: 7.7535e-04 - val_loss: 8.4437e-04\n",
            "Epoch 483/500\n",
            "97/97 [==============================] - 1s 14ms/step - loss: 7.9577e-04 - val_loss: 8.6234e-04\n",
            "Epoch 484/500\n",
            "97/97 [==============================] - 1s 13ms/step - loss: 8.2632e-04 - val_loss: 0.0019\n",
            "Epoch 485/500\n",
            "97/97 [==============================] - 1s 13ms/step - loss: 7.4535e-04 - val_loss: 7.6023e-04\n",
            "Epoch 486/500\n",
            "97/97 [==============================] - 1s 14ms/step - loss: 7.5726e-04 - val_loss: 6.0278e-04\n",
            "Epoch 487/500\n",
            "97/97 [==============================] - 1s 14ms/step - loss: 8.8458e-04 - val_loss: 5.2908e-04\n",
            "Epoch 488/500\n",
            "97/97 [==============================] - 1s 14ms/step - loss: 7.2225e-04 - val_loss: 5.8227e-04\n",
            "Epoch 489/500\n",
            "97/97 [==============================] - 1s 14ms/step - loss: 7.9629e-04 - val_loss: 0.0020\n",
            "Epoch 490/500\n",
            "97/97 [==============================] - 1s 14ms/step - loss: 8.9064e-04 - val_loss: 0.0011\n",
            "Epoch 491/500\n",
            "97/97 [==============================] - 1s 14ms/step - loss: 8.9614e-04 - val_loss: 5.1926e-04\n",
            "Epoch 492/500\n",
            "97/97 [==============================] - 1s 14ms/step - loss: 6.8048e-04 - val_loss: 5.4153e-04\n",
            "Epoch 493/500\n",
            "97/97 [==============================] - 1s 14ms/step - loss: 8.1921e-04 - val_loss: 5.7544e-04\n",
            "Epoch 494/500\n",
            "97/97 [==============================] - 1s 14ms/step - loss: 7.9508e-04 - val_loss: 0.0010\n",
            "Epoch 495/500\n",
            "97/97 [==============================] - 1s 14ms/step - loss: 7.5233e-04 - val_loss: 8.2726e-04\n",
            "Epoch 496/500\n",
            "97/97 [==============================] - 1s 14ms/step - loss: 7.3932e-04 - val_loss: 5.2349e-04\n",
            "Epoch 497/500\n",
            "97/97 [==============================] - 1s 14ms/step - loss: 7.8204e-04 - val_loss: 6.2753e-04\n",
            "Epoch 498/500\n",
            "97/97 [==============================] - 1s 14ms/step - loss: 7.1754e-04 - val_loss: 5.8463e-04\n",
            "Epoch 499/500\n",
            "97/97 [==============================] - 1s 14ms/step - loss: 8.1011e-04 - val_loss: 4.9256e-04\n",
            "Epoch 500/500\n",
            "97/97 [==============================] - 1s 14ms/step - loss: 8.5942e-04 - val_loss: 4.9922e-04\n"
          ],
          "name": "stdout"
        },
        {
          "output_type": "execute_result",
          "data": {
            "text/plain": [
              "<tensorflow.python.keras.callbacks.History at 0x7f278ce11fd0>"
            ]
          },
          "metadata": {
            "tags": []
          },
          "execution_count": 165
        }
      ]
    },
    {
      "cell_type": "code",
      "metadata": {
        "id": "KDXAiN-3SmDC"
      },
      "source": [
        "y_pred = model_LSTM_Open.predict(X_test)"
      ],
      "execution_count": null,
      "outputs": []
    },
    {
      "cell_type": "code",
      "metadata": {
        "colab": {
          "base_uri": "https://localhost:8080/",
          "height": 265
        },
        "id": "fEip78z8V7p8",
        "outputId": "583fb3ee-cad4-426b-ffe0-1879e7cfc0e9"
      },
      "source": [
        "plt.plot(y_pre, color = 'red', label = 'prediction')\n",
        "plt.plot(y_test, color = 'blue', label = 'original')\n",
        "plt.legend()\n",
        "plt.show()"
      ],
      "execution_count": null,
      "outputs": [
        {
          "output_type": "display_data",
          "data": {
            "image/png": "[encoded data removed]",
            "text/plain": [
              "<Figure size 432x288 with 1 Axes>"
            ]
          },
          "metadata": {
            "tags": [],
            "needs_background": "light"
          }
        }
      ]
    },
    {
      "cell_type": "code",
      "metadata": {
        "colab": {
          "base_uri": "https://localhost:8080/"
        },
        "id": "KkCmuLkpV-Dt",
        "outputId": "6e46cdd5-76d0-4651-d700-a1187a15f7f5"
      },
      "source": [
        "train_date"
      ],
      "execution_count": null,
      "outputs": [
        {
          "output_type": "execute_result",
          "data": {
            "text/plain": [
              "array(['2015-01-26', '2015-01-27', '2015-01-28', ..., '2019-11-29',\n",
              "       '2019-12-02', '2019-12-03'], dtype=object)"
            ]
          },
          "metadata": {
            "tags": []
          },
          "execution_count": 194
        }
      ]
    },
    {
      "cell_type": "code",
      "metadata": {
        "id": "ZOeTWq0y1sd-",
        "colab": {
          "base_uri": "https://localhost:8080/"
        },
        "outputId": "fb4f2ccc-e89e-4a29-c6ae-5d39448403c5"
      },
      "source": [
        "model_LSTM_Open.evaluate(X_test,y_test)"
      ],
      "execution_count": null,
      "outputs": [
        {
          "output_type": "stream",
          "text": [
            "10/10 [==============================] - 1s 4ms/step - loss: 0.2098\n"
          ],
          "name": "stdout"
        },
        {
          "output_type": "execute_result",
          "data": {
            "text/plain": [
              "0.36550000309944153"
            ]
          },
          "metadata": {
            "tags": []
          },
          "execution_count": 237
        }
      ]
    },
    {
      "cell_type": "code",
      "metadata": {
        "colab": {
          "base_uri": "https://localhost:8080/"
        },
        "id": "IbVHCNMz6WiO",
        "outputId": "4bb24f95-500d-4b18-c761-e328dde17402"
      },
      "source": [
        "model_LSTM_Open.save('LSTM_NFLX.H5')"
      ],
      "execution_count": null,
      "outputs": [
        {
          "output_type": "stream",
          "text": [
            "WARNING:absl:Found untraced functions such as lstm_cell_9_layer_call_fn, lstm_cell_9_layer_call_and_return_conditional_losses, lstm_cell_10_layer_call_fn, lstm_cell_10_layer_call_and_return_conditional_losses, lstm_cell_9_layer_call_fn while saving (showing 5 of 10). These functions will not be directly callable after loading.\n",
            "WARNING:absl:Found untraced functions such as lstm_cell_9_layer_call_fn, lstm_cell_9_layer_call_and_return_conditional_losses, lstm_cell_10_layer_call_fn, lstm_cell_10_layer_call_and_return_conditional_losses, lstm_cell_9_layer_call_fn while saving (showing 5 of 10). These functions will not be directly callable after loading.\n"
          ],
          "name": "stderr"
        },
        {
          "output_type": "stream",
          "text": [
            "INFO:tensorflow:Assets written to: LSTM_NFLX.H5/assets\n"
          ],
          "name": "stdout"
        },
        {
          "output_type": "stream",
          "text": [
            "INFO:tensorflow:Assets written to: LSTM_NFLX.H5/assets\n"
          ],
          "name": "stderr"
        }
      ]
    },
    {
      "cell_type": "code",
      "metadata": {
        "id": "wQnHKRSF7je7"
      },
      "source": [
        ""
      ],
      "execution_count": null,
      "outputs": []
    }
  ]
}