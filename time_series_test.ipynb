{
  "nbformat": 4,
  "nbformat_minor": 0,
  "metadata": {
    "colab": {
      "name": "time_series_test.ipynb",
      "provenance": [],
      "authorship_tag": "ABX9TyMj8X+BSQ798jhxTtF2ZWUu",
      "include_colab_link": true
    },
    "kernelspec": {
      "name": "python3",
      "display_name": "Python 3"
    }
  },
  "cells": [
    {
      "cell_type": "markdown",
      "metadata": {
        "id": "view-in-github",
        "colab_type": "text"
      },
      "source": [
        "<a href=\"https://colab.research.google.com/github/jangvu/Project_by_me/blob/main/time_series_test.ipynb\" target=\"_parent\"><img src=\"https://colab.research.google.com/assets/colab-badge.svg\" alt=\"Open In Colab\"/></a>"
      ]
    },
    {
      "cell_type": "code",
      "metadata": {
        "id": "I0TPccyS2dmu"
      },
      "source": [
        "import matplotlib.pyplot as plt\n",
        "import numpy as np\n",
        "import tensorflow as tf\n",
        "from tensorflow import keras\n",
        "import pandas as pd"
      ],
      "execution_count": 1,
      "outputs": []
    },
    {
      "cell_type": "code",
      "metadata": {
        "colab": {
          "base_uri": "https://localhost:8080/"
        },
        "id": "tDNP2jLVJxbO",
        "outputId": "e7cb4979-5b45-4592-c996-f5e4943373b0"
      },
      "source": [
        "from google.colab import drive\n",
        "drive.mount('/content/drive')"
      ],
      "execution_count": 2,
      "outputs": [
        {
          "output_type": "stream",
          "text": [
            "Mounted at /content/drive\n"
          ],
          "name": "stdout"
        }
      ]
    },
    {
      "cell_type": "code",
      "metadata": {
        "id": "l3WhP0v4_QHj"
      },
      "source": [
        "raw_data = np.load('/content/drive/MyDrive/Data/candidate_test/data_train_candidate.npy')\n",
        "test_data = np.load('/content/drive/MyDrive/Data/candidate_test/data_test_candidate.npy')"
      ],
      "execution_count": 3,
      "outputs": []
    },
    {
      "cell_type": "code",
      "metadata": {
        "id": "VnE7sKmW_Vqq"
      },
      "source": [
        "X_full, y_full = raw_data[:,:3], raw_data[:,3:]\n",
        "X_test_full, y_test_full = test_data[:,:3], test_data[:,3:]"
      ],
      "execution_count": 5,
      "outputs": []
    },
    {
      "cell_type": "markdown",
      "metadata": {
        "id": "HtKgb2HsJKRy"
      },
      "source": [
        "**Creating window size = 10, shift = 1**"
      ]
    },
    {
      "cell_type": "code",
      "metadata": {
        "id": "DVvQQm1r_XwA"
      },
      "source": [
        "'''def getdata(data,windowsize,shift):\n",
        "  X_data = []\n",
        "  y_data = []\n",
        "  for i in range(len(data) - windowsize - shift):\n",
        "    X_data.append(data[i:i+ windowsize, :])\n",
        "    y_data.append(data[i+windowsize:i+windowsize+shift])\n",
        "  return X_data, y_data"
      ],
      "execution_count": null,
      "outputs": []
    },
    {
      "cell_type": "code",
      "metadata": {
        "cellView": "code",
        "id": "xv3KYN6uA1ak"
      },
      "source": [
        "X_data = []\n",
        "y_data = []\n",
        "data = X_full\n",
        "X_test = []\n",
        "y_test = []\n",
        "windowsize = 10\n",
        "shift = 1\n",
        "for i in range(len(data) - windowsize - shift):\n",
        "  X_data.append(X_full[i:i+ windowsize, :])\n",
        "  y_data.append(y_full[i+windowsize: i+windowsize+shift, :])\n",
        "  X_test.append(X_test_full[i:i+ windowsize, :])\n",
        "  y_test.append(y_test_full[i+windowsize: i+windowsize+shift, :])\n"
      ],
      "execution_count": 6,
      "outputs": []
    },
    {
      "cell_type": "code",
      "metadata": {
        "cellView": "code",
        "id": "7bxfR3ZGC5Fk",
        "colab": {
          "base_uri": "https://localhost:8080/"
        },
        "outputId": "a09b58f3-a5c2-4f65-fae9-59776ee9bed0"
      },
      "source": [
        "X_data = np.asarray(X_data)\n",
        "y_data = np.asarray(y_data)\n",
        "\n",
        "X_test = np.asarray(X_test)\n",
        "y_test = np.asarray(y_test)\n",
        "\n",
        "X_data.shape"
      ],
      "execution_count": 7,
      "outputs": [
        {
          "output_type": "execute_result",
          "data": {
            "text/plain": [
              "(989, 10, 3)"
            ]
          },
          "metadata": {
            "tags": []
          },
          "execution_count": 7
        }
      ]
    },
    {
      "cell_type": "markdown",
      "metadata": {
        "id": "6mHKj4q5KN8N"
      },
      "source": [
        "**Reshape input into format of LSTM**"
      ]
    },
    {
      "cell_type": "code",
      "metadata": {
        "colab": {
          "base_uri": "https://localhost:8080/"
        },
        "id": "sj6Xi2eDC8Cl",
        "outputId": "17a65edd-503a-4ce8-c24f-9dac3a94207d"
      },
      "source": [
        "print(X_data.shape)\n",
        "print(y_data.shape)\n",
        "#X_data = X_data.reshape(-1,10,3)\n",
        "#y_data = y_data.reshape(-1)\n"
      ],
      "execution_count": null,
      "outputs": [
        {
          "output_type": "stream",
          "text": [
            "(989, 10, 3)\n",
            "(989, 1, 1)\n"
          ],
          "name": "stdout"
        }
      ]
    },
    {
      "cell_type": "markdown",
      "metadata": {
        "id": "aC7Qhlp3JRY_"
      },
      "source": [
        "**Creating RRN model**"
      ]
    },
    {
      "cell_type": "code",
      "metadata": {
        "id": "ISNrANS61M6R"
      },
      "source": [
        "optimizer = keras.optimizers.Adam(learning_rate=0.01)"
      ],
      "execution_count": 45,
      "outputs": []
    },
    {
      "cell_type": "code",
      "metadata": {
        "id": "6ZqqECu2Egkv"
      },
      "source": [
        "n_input = 10\n",
        "n_features = 3\n",
        "\n",
        "model = keras.models.Sequential()\n",
        "model.add(keras.layers.LSTM(units=10, input_shape=(n_input, n_features), return_sequences=True))\n",
        "#model.add(keras.layers.BatchNormalization())\n",
        "model.add(keras.layers.Dropout(0.3))\n",
        "\n",
        "#model.add(keras.layers.LSTM(units=20, return_sequences=True))\n",
        "#model.add(keras.layers.Dropout(0.3))\n",
        "\n",
        "model.add(keras.layers.LSTM(units=10))\n",
        "model.add(keras.layers.Dropout(0.3))\n",
        "model.add(keras.layers.Dense(1))\n",
        "model.compile(optimizer=optimizer, loss='mse')"
      ],
      "execution_count": 46,
      "outputs": []
    },
    {
      "cell_type": "code",
      "metadata": {
        "colab": {
          "base_uri": "https://localhost:8080/"
        },
        "id": "JUGz4PdvLltc",
        "outputId": "dc82de3c-30ba-4f2d-cb20-3664bb7b7e29"
      },
      "source": [
        "model.fit(X_data,y_data,epochs=200, batch_size=32)"
      ],
      "execution_count": 47,
      "outputs": [
        {
          "output_type": "stream",
          "text": [
            "Epoch 1/200\n",
            "31/31 [==============================] - 3s 8ms/step - loss: 4.1844e-04\n",
            "Epoch 2/200\n",
            "31/31 [==============================] - 0s 8ms/step - loss: 3.7080e-06\n",
            "Epoch 3/200\n",
            "31/31 [==============================] - 0s 8ms/step - loss: 5.7798e-07\n",
            "Epoch 4/200\n",
            "31/31 [==============================] - 0s 8ms/step - loss: 2.7435e-07\n",
            "Epoch 5/200\n",
            "31/31 [==============================] - 0s 8ms/step - loss: 2.0656e-07\n",
            "Epoch 6/200\n",
            "31/31 [==============================] - 0s 8ms/step - loss: 1.5912e-07\n",
            "Epoch 7/200\n",
            "31/31 [==============================] - 0s 8ms/step - loss: 1.8365e-07\n",
            "Epoch 8/200\n",
            "31/31 [==============================] - 0s 8ms/step - loss: 1.4424e-07\n",
            "Epoch 9/200\n",
            "31/31 [==============================] - 0s 8ms/step - loss: 1.3625e-07\n",
            "Epoch 10/200\n",
            "31/31 [==============================] - 0s 8ms/step - loss: 1.3576e-07\n",
            "Epoch 11/200\n",
            "31/31 [==============================] - 0s 8ms/step - loss: 1.3804e-07\n",
            "Epoch 12/200\n",
            "31/31 [==============================] - 0s 8ms/step - loss: 1.2114e-07\n",
            "Epoch 13/200\n",
            "31/31 [==============================] - 0s 8ms/step - loss: 1.1737e-07\n",
            "Epoch 14/200\n",
            "31/31 [==============================] - 0s 8ms/step - loss: 1.1434e-07\n",
            "Epoch 15/200\n",
            "31/31 [==============================] - 0s 8ms/step - loss: 9.8728e-08\n",
            "Epoch 16/200\n",
            "31/31 [==============================] - 0s 8ms/step - loss: 1.1645e-07\n",
            "Epoch 17/200\n",
            "31/31 [==============================] - 0s 8ms/step - loss: 1.0089e-07\n",
            "Epoch 18/200\n",
            "31/31 [==============================] - 0s 8ms/step - loss: 1.0491e-07\n",
            "Epoch 19/200\n",
            "31/31 [==============================] - 0s 8ms/step - loss: 1.3058e-07\n",
            "Epoch 20/200\n",
            "31/31 [==============================] - 0s 8ms/step - loss: 1.2036e-07\n",
            "Epoch 21/200\n",
            "31/31 [==============================] - 0s 8ms/step - loss: 1.0691e-07\n",
            "Epoch 22/200\n",
            "31/31 [==============================] - 0s 8ms/step - loss: 1.0434e-07\n",
            "Epoch 23/200\n",
            "31/31 [==============================] - 0s 8ms/step - loss: 1.0903e-07\n",
            "Epoch 24/200\n",
            "31/31 [==============================] - 0s 8ms/step - loss: 1.5829e-07\n",
            "Epoch 25/200\n",
            "31/31 [==============================] - 0s 8ms/step - loss: 1.1576e-07\n",
            "Epoch 26/200\n",
            "31/31 [==============================] - 0s 8ms/step - loss: 1.3919e-07\n",
            "Epoch 27/200\n",
            "31/31 [==============================] - 0s 8ms/step - loss: 1.0991e-07\n",
            "Epoch 28/200\n",
            "31/31 [==============================] - 0s 8ms/step - loss: 1.1035e-07\n",
            "Epoch 29/200\n",
            "31/31 [==============================] - 0s 8ms/step - loss: 9.6155e-08\n",
            "Epoch 30/200\n",
            "31/31 [==============================] - 0s 8ms/step - loss: 9.1281e-08\n",
            "Epoch 31/200\n",
            "31/31 [==============================] - 0s 8ms/step - loss: 1.2299e-07\n",
            "Epoch 32/200\n",
            "31/31 [==============================] - 0s 8ms/step - loss: 9.6195e-08\n",
            "Epoch 33/200\n",
            "31/31 [==============================] - 0s 8ms/step - loss: 1.3293e-07\n",
            "Epoch 34/200\n",
            "31/31 [==============================] - 0s 8ms/step - loss: 1.1704e-07\n",
            "Epoch 35/200\n",
            "31/31 [==============================] - 0s 8ms/step - loss: 9.2961e-08\n",
            "Epoch 36/200\n",
            "31/31 [==============================] - 0s 9ms/step - loss: 1.3781e-07\n",
            "Epoch 37/200\n",
            "31/31 [==============================] - 0s 8ms/step - loss: 1.5225e-07\n",
            "Epoch 38/200\n",
            "31/31 [==============================] - 0s 8ms/step - loss: 1.1893e-07\n",
            "Epoch 39/200\n",
            "31/31 [==============================] - 0s 8ms/step - loss: 1.0502e-07\n",
            "Epoch 40/200\n",
            "31/31 [==============================] - 0s 8ms/step - loss: 1.1286e-07\n",
            "Epoch 41/200\n",
            "31/31 [==============================] - 0s 8ms/step - loss: 9.5229e-08\n",
            "Epoch 42/200\n",
            "31/31 [==============================] - 0s 8ms/step - loss: 1.0564e-07\n",
            "Epoch 43/200\n",
            "31/31 [==============================] - 0s 8ms/step - loss: 9.9523e-08\n",
            "Epoch 44/200\n",
            "31/31 [==============================] - 0s 8ms/step - loss: 1.3173e-07\n",
            "Epoch 45/200\n",
            "31/31 [==============================] - 0s 8ms/step - loss: 9.4908e-08\n",
            "Epoch 46/200\n",
            "31/31 [==============================] - 0s 9ms/step - loss: 1.1427e-07\n",
            "Epoch 47/200\n",
            "31/31 [==============================] - 0s 8ms/step - loss: 1.1085e-07\n",
            "Epoch 48/200\n",
            "31/31 [==============================] - 0s 8ms/step - loss: 8.5452e-08\n",
            "Epoch 49/200\n",
            "31/31 [==============================] - 0s 8ms/step - loss: 8.8995e-08\n",
            "Epoch 50/200\n",
            "31/31 [==============================] - 0s 8ms/step - loss: 8.2448e-08\n",
            "Epoch 51/200\n",
            "31/31 [==============================] - 0s 8ms/step - loss: 8.3012e-08\n",
            "Epoch 52/200\n",
            "31/31 [==============================] - 0s 10ms/step - loss: 1.1626e-07\n",
            "Epoch 53/200\n",
            "31/31 [==============================] - 0s 8ms/step - loss: 6.8816e-08\n",
            "Epoch 54/200\n",
            "31/31 [==============================] - 0s 8ms/step - loss: 1.2609e-07\n",
            "Epoch 55/200\n",
            "31/31 [==============================] - 0s 8ms/step - loss: 1.9940e-07\n",
            "Epoch 56/200\n",
            "31/31 [==============================] - 0s 8ms/step - loss: 8.1065e-08\n",
            "Epoch 57/200\n",
            "31/31 [==============================] - 0s 8ms/step - loss: 6.6439e-08\n",
            "Epoch 58/200\n",
            "31/31 [==============================] - 0s 8ms/step - loss: 1.2762e-07\n",
            "Epoch 59/200\n",
            "31/31 [==============================] - 0s 8ms/step - loss: 9.6630e-08\n",
            "Epoch 60/200\n",
            "31/31 [==============================] - 0s 8ms/step - loss: 9.0155e-08\n",
            "Epoch 61/200\n",
            "31/31 [==============================] - 0s 8ms/step - loss: 6.2735e-08\n",
            "Epoch 62/200\n",
            "31/31 [==============================] - 0s 8ms/step - loss: 1.1355e-07\n",
            "Epoch 63/200\n",
            "31/31 [==============================] - 0s 8ms/step - loss: 8.6080e-08\n",
            "Epoch 64/200\n",
            "31/31 [==============================] - 0s 8ms/step - loss: 9.3879e-08\n",
            "Epoch 65/200\n",
            "31/31 [==============================] - 0s 8ms/step - loss: 1.4246e-07\n",
            "Epoch 66/200\n",
            "31/31 [==============================] - 0s 8ms/step - loss: 9.4116e-08\n",
            "Epoch 67/200\n",
            "31/31 [==============================] - 0s 8ms/step - loss: 7.5375e-08\n",
            "Epoch 68/200\n",
            "31/31 [==============================] - 0s 9ms/step - loss: 1.2022e-07\n",
            "Epoch 69/200\n",
            "31/31 [==============================] - 0s 8ms/step - loss: 2.4508e-07\n",
            "Epoch 70/200\n",
            "31/31 [==============================] - 0s 8ms/step - loss: 2.4141e-07\n",
            "Epoch 71/200\n",
            "31/31 [==============================] - 0s 8ms/step - loss: 2.3704e-07\n",
            "Epoch 72/200\n",
            "31/31 [==============================] - 0s 9ms/step - loss: 1.7954e-07\n",
            "Epoch 73/200\n",
            "31/31 [==============================] - 0s 8ms/step - loss: 1.5202e-07\n",
            "Epoch 74/200\n",
            "31/31 [==============================] - 0s 8ms/step - loss: 9.9436e-08\n",
            "Epoch 75/200\n",
            "31/31 [==============================] - 0s 8ms/step - loss: 9.4794e-08\n",
            "Epoch 76/200\n",
            "31/31 [==============================] - 0s 8ms/step - loss: 1.0731e-07\n",
            "Epoch 77/200\n",
            "31/31 [==============================] - 0s 8ms/step - loss: 9.5461e-08\n",
            "Epoch 78/200\n",
            "31/31 [==============================] - 0s 8ms/step - loss: 1.6780e-07\n",
            "Epoch 79/200\n",
            "31/31 [==============================] - 0s 9ms/step - loss: 1.1751e-07\n",
            "Epoch 80/200\n",
            "31/31 [==============================] - 0s 8ms/step - loss: 7.8957e-08\n",
            "Epoch 81/200\n",
            "31/31 [==============================] - 0s 8ms/step - loss: 5.6374e-08\n",
            "Epoch 82/200\n",
            "31/31 [==============================] - 0s 8ms/step - loss: 8.3802e-08\n",
            "Epoch 83/200\n",
            "31/31 [==============================] - 0s 8ms/step - loss: 1.1426e-07\n",
            "Epoch 84/200\n",
            "31/31 [==============================] - 0s 8ms/step - loss: 1.6364e-07\n",
            "Epoch 85/200\n",
            "31/31 [==============================] - 0s 8ms/step - loss: 1.7611e-07\n",
            "Epoch 86/200\n",
            "31/31 [==============================] - 0s 8ms/step - loss: 3.8809e-07\n",
            "Epoch 87/200\n",
            "31/31 [==============================] - 0s 8ms/step - loss: 1.7425e-07\n",
            "Epoch 88/200\n",
            "31/31 [==============================] - 0s 8ms/step - loss: 1.4920e-07\n",
            "Epoch 89/200\n",
            "31/31 [==============================] - 0s 9ms/step - loss: 8.6744e-08\n",
            "Epoch 90/200\n",
            "31/31 [==============================] - 0s 8ms/step - loss: 1.2531e-07\n",
            "Epoch 91/200\n",
            "31/31 [==============================] - 0s 8ms/step - loss: 2.1675e-07\n",
            "Epoch 92/200\n",
            "31/31 [==============================] - 0s 8ms/step - loss: 9.1855e-08\n",
            "Epoch 93/200\n",
            "31/31 [==============================] - 0s 8ms/step - loss: 2.2204e-07\n",
            "Epoch 94/200\n",
            "31/31 [==============================] - 0s 8ms/step - loss: 2.4090e-07\n",
            "Epoch 95/200\n",
            "31/31 [==============================] - 0s 8ms/step - loss: 2.8502e-07\n",
            "Epoch 96/200\n",
            "31/31 [==============================] - 0s 8ms/step - loss: 1.0863e-06\n",
            "Epoch 97/200\n",
            "31/31 [==============================] - 0s 8ms/step - loss: 2.4022e-07\n",
            "Epoch 98/200\n",
            "31/31 [==============================] - 0s 8ms/step - loss: 1.3935e-07\n",
            "Epoch 99/200\n",
            "31/31 [==============================] - 0s 8ms/step - loss: 7.4916e-08\n",
            "Epoch 100/200\n",
            "31/31 [==============================] - 0s 8ms/step - loss: 8.4610e-08\n",
            "Epoch 101/200\n",
            "31/31 [==============================] - 0s 8ms/step - loss: 1.5970e-07\n",
            "Epoch 102/200\n",
            "31/31 [==============================] - 0s 9ms/step - loss: 1.4456e-07\n",
            "Epoch 103/200\n",
            "31/31 [==============================] - 0s 8ms/step - loss: 1.2328e-07\n",
            "Epoch 104/200\n",
            "31/31 [==============================] - 0s 9ms/step - loss: 1.0609e-07\n",
            "Epoch 105/200\n",
            "31/31 [==============================] - 0s 8ms/step - loss: 6.0143e-07\n",
            "Epoch 106/200\n",
            "31/31 [==============================] - 0s 8ms/step - loss: 7.1219e-07\n",
            "Epoch 107/200\n",
            "31/31 [==============================] - 0s 9ms/step - loss: 1.0565e-07\n",
            "Epoch 108/200\n",
            "31/31 [==============================] - 0s 8ms/step - loss: 1.3971e-07\n",
            "Epoch 109/200\n",
            "31/31 [==============================] - 0s 8ms/step - loss: 1.9094e-07\n",
            "Epoch 110/200\n",
            "31/31 [==============================] - 0s 8ms/step - loss: 1.1212e-07\n",
            "Epoch 111/200\n",
            "31/31 [==============================] - 0s 8ms/step - loss: 7.6777e-08\n",
            "Epoch 112/200\n",
            "31/31 [==============================] - 0s 8ms/step - loss: 6.9997e-08\n",
            "Epoch 113/200\n",
            "31/31 [==============================] - 0s 8ms/step - loss: 1.5704e-07\n",
            "Epoch 114/200\n",
            "31/31 [==============================] - 0s 8ms/step - loss: 1.5245e-07\n",
            "Epoch 115/200\n",
            "31/31 [==============================] - 0s 8ms/step - loss: 1.4242e-07\n",
            "Epoch 116/200\n",
            "31/31 [==============================] - 0s 8ms/step - loss: 6.0731e-07\n",
            "Epoch 117/200\n",
            "31/31 [==============================] - 0s 8ms/step - loss: 1.6699e-07\n",
            "Epoch 118/200\n",
            "31/31 [==============================] - 0s 8ms/step - loss: 9.8476e-08\n",
            "Epoch 119/200\n",
            "31/31 [==============================] - 0s 8ms/step - loss: 1.8120e-07\n",
            "Epoch 120/200\n",
            "31/31 [==============================] - 0s 8ms/step - loss: 2.8262e-07\n",
            "Epoch 121/200\n",
            "31/31 [==============================] - 0s 8ms/step - loss: 1.0641e-07\n",
            "Epoch 122/200\n",
            "31/31 [==============================] - 0s 8ms/step - loss: 3.4455e-07\n",
            "Epoch 123/200\n",
            "31/31 [==============================] - 0s 8ms/step - loss: 1.0200e-07\n",
            "Epoch 124/200\n",
            "31/31 [==============================] - 0s 8ms/step - loss: 6.8567e-08\n",
            "Epoch 125/200\n",
            "31/31 [==============================] - 0s 8ms/step - loss: 1.5551e-07\n",
            "Epoch 126/200\n",
            "31/31 [==============================] - 0s 8ms/step - loss: 8.4320e-07\n",
            "Epoch 127/200\n",
            "31/31 [==============================] - 0s 8ms/step - loss: 1.8465e-07\n",
            "Epoch 128/200\n",
            "31/31 [==============================] - 0s 8ms/step - loss: 1.9655e-07\n",
            "Epoch 129/200\n",
            "31/31 [==============================] - 0s 8ms/step - loss: 9.1954e-08\n",
            "Epoch 130/200\n",
            "31/31 [==============================] - 0s 8ms/step - loss: 1.6849e-07\n",
            "Epoch 131/200\n",
            "31/31 [==============================] - 0s 9ms/step - loss: 2.6263e-07\n",
            "Epoch 132/200\n",
            "31/31 [==============================] - 0s 8ms/step - loss: 3.3050e-07\n",
            "Epoch 133/200\n",
            "31/31 [==============================] - 0s 8ms/step - loss: 4.6802e-07\n",
            "Epoch 134/200\n",
            "31/31 [==============================] - 0s 8ms/step - loss: 1.0248e-07\n",
            "Epoch 135/200\n",
            "31/31 [==============================] - 0s 8ms/step - loss: 8.5391e-08\n",
            "Epoch 136/200\n",
            "31/31 [==============================] - 0s 8ms/step - loss: 1.8215e-07\n",
            "Epoch 137/200\n",
            "31/31 [==============================] - 0s 9ms/step - loss: 4.1431e-07\n",
            "Epoch 138/200\n",
            "31/31 [==============================] - 0s 8ms/step - loss: 1.4551e-07\n",
            "Epoch 139/200\n",
            "31/31 [==============================] - 0s 8ms/step - loss: 9.7066e-08\n",
            "Epoch 140/200\n",
            "31/31 [==============================] - 0s 8ms/step - loss: 1.0014e-07\n",
            "Epoch 141/200\n",
            "31/31 [==============================] - 0s 8ms/step - loss: 3.5992e-07\n",
            "Epoch 142/200\n",
            "31/31 [==============================] - 0s 10ms/step - loss: 2.4658e-07\n",
            "Epoch 143/200\n",
            "31/31 [==============================] - 0s 9ms/step - loss: 8.1884e-08\n",
            "Epoch 144/200\n",
            "31/31 [==============================] - 0s 8ms/step - loss: 9.0875e-08\n",
            "Epoch 145/200\n",
            "31/31 [==============================] - 0s 8ms/step - loss: 1.2550e-07\n",
            "Epoch 146/200\n",
            "31/31 [==============================] - 0s 8ms/step - loss: 1.7133e-07\n",
            "Epoch 147/200\n",
            "31/31 [==============================] - 0s 8ms/step - loss: 1.5692e-07\n",
            "Epoch 148/200\n",
            "31/31 [==============================] - 0s 8ms/step - loss: 3.1618e-07\n",
            "Epoch 149/200\n",
            "31/31 [==============================] - 0s 8ms/step - loss: 3.1846e-07\n",
            "Epoch 150/200\n",
            "31/31 [==============================] - 0s 8ms/step - loss: 1.5171e-07\n",
            "Epoch 151/200\n",
            "31/31 [==============================] - 0s 8ms/step - loss: 6.3926e-07\n",
            "Epoch 152/200\n",
            "31/31 [==============================] - 0s 8ms/step - loss: 1.4521e-07\n",
            "Epoch 153/200\n",
            "31/31 [==============================] - 0s 8ms/step - loss: 6.0752e-07\n",
            "Epoch 154/200\n",
            "31/31 [==============================] - 0s 8ms/step - loss: 2.6320e-07\n",
            "Epoch 155/200\n",
            "31/31 [==============================] - 0s 8ms/step - loss: 2.7971e-07\n",
            "Epoch 156/200\n",
            "31/31 [==============================] - 0s 8ms/step - loss: 2.1069e-07\n",
            "Epoch 157/200\n",
            "31/31 [==============================] - 0s 8ms/step - loss: 1.5175e-07\n",
            "Epoch 158/200\n",
            "31/31 [==============================] - 0s 8ms/step - loss: 1.7592e-07\n",
            "Epoch 159/200\n",
            "31/31 [==============================] - 0s 8ms/step - loss: 9.6570e-08\n",
            "Epoch 160/200\n",
            "31/31 [==============================] - 0s 8ms/step - loss: 1.1252e-07\n",
            "Epoch 161/200\n",
            "31/31 [==============================] - 0s 8ms/step - loss: 1.2395e-07\n",
            "Epoch 162/200\n",
            "31/31 [==============================] - 0s 8ms/step - loss: 1.2472e-07\n",
            "Epoch 163/200\n",
            "31/31 [==============================] - 0s 8ms/step - loss: 2.0541e-07\n",
            "Epoch 164/200\n",
            "31/31 [==============================] - 0s 8ms/step - loss: 8.1318e-08\n",
            "Epoch 165/200\n",
            "31/31 [==============================] - 0s 8ms/step - loss: 1.3899e-07\n",
            "Epoch 166/200\n",
            "31/31 [==============================] - 0s 8ms/step - loss: 1.1612e-07\n",
            "Epoch 167/200\n",
            "31/31 [==============================] - 0s 8ms/step - loss: 3.5672e-07\n",
            "Epoch 168/200\n",
            "31/31 [==============================] - 0s 8ms/step - loss: 1.5899e-07\n",
            "Epoch 169/200\n",
            "31/31 [==============================] - 0s 8ms/step - loss: 1.0058e-07\n",
            "Epoch 170/200\n",
            "31/31 [==============================] - 0s 9ms/step - loss: 1.8200e-07\n",
            "Epoch 171/200\n",
            "31/31 [==============================] - 0s 9ms/step - loss: 2.5392e-07\n",
            "Epoch 172/200\n",
            "31/31 [==============================] - 0s 8ms/step - loss: 1.5264e-07\n",
            "Epoch 173/200\n",
            "31/31 [==============================] - 0s 9ms/step - loss: 1.2337e-07\n",
            "Epoch 174/200\n",
            "31/31 [==============================] - 0s 8ms/step - loss: 1.7576e-07\n",
            "Epoch 175/200\n",
            "31/31 [==============================] - 0s 8ms/step - loss: 2.3815e-07\n",
            "Epoch 176/200\n",
            "31/31 [==============================] - 0s 8ms/step - loss: 1.4454e-07\n",
            "Epoch 177/200\n",
            "31/31 [==============================] - 0s 9ms/step - loss: 2.1989e-07\n",
            "Epoch 178/200\n",
            "31/31 [==============================] - 0s 8ms/step - loss: 2.2650e-07\n",
            "Epoch 179/200\n",
            "31/31 [==============================] - 0s 8ms/step - loss: 1.7770e-07\n",
            "Epoch 180/200\n",
            "31/31 [==============================] - 0s 8ms/step - loss: 1.5741e-07\n",
            "Epoch 181/200\n",
            "31/31 [==============================] - 0s 9ms/step - loss: 1.6415e-07\n",
            "Epoch 182/200\n",
            "31/31 [==============================] - 0s 8ms/step - loss: 1.1275e-07\n",
            "Epoch 183/200\n",
            "31/31 [==============================] - 0s 8ms/step - loss: 9.3460e-08\n",
            "Epoch 184/200\n",
            "31/31 [==============================] - 0s 8ms/step - loss: 2.0121e-07\n",
            "Epoch 185/200\n",
            "31/31 [==============================] - 0s 8ms/step - loss: 2.4535e-07\n",
            "Epoch 186/200\n",
            "31/31 [==============================] - 0s 8ms/step - loss: 1.3237e-07\n",
            "Epoch 187/200\n",
            "31/31 [==============================] - 0s 8ms/step - loss: 3.5141e-07\n",
            "Epoch 188/200\n",
            "31/31 [==============================] - 0s 8ms/step - loss: 1.6410e-07\n",
            "Epoch 189/200\n",
            "31/31 [==============================] - 0s 8ms/step - loss: 1.1214e-07\n",
            "Epoch 190/200\n",
            "31/31 [==============================] - 0s 8ms/step - loss: 9.0938e-08\n",
            "Epoch 191/200\n",
            "31/31 [==============================] - 0s 8ms/step - loss: 1.2045e-07\n",
            "Epoch 192/200\n",
            "31/31 [==============================] - 0s 8ms/step - loss: 1.1699e-07\n",
            "Epoch 193/200\n",
            "31/31 [==============================] - 0s 8ms/step - loss: 2.0500e-07\n",
            "Epoch 194/200\n",
            "31/31 [==============================] - 0s 8ms/step - loss: 1.3720e-07\n",
            "Epoch 195/200\n",
            "31/31 [==============================] - 0s 9ms/step - loss: 1.6354e-07\n",
            "Epoch 196/200\n",
            "31/31 [==============================] - 0s 8ms/step - loss: 2.7561e-07\n",
            "Epoch 197/200\n",
            "31/31 [==============================] - 0s 9ms/step - loss: 1.1850e-07\n",
            "Epoch 198/200\n",
            "31/31 [==============================] - 0s 8ms/step - loss: 8.5270e-08\n",
            "Epoch 199/200\n",
            "31/31 [==============================] - 0s 8ms/step - loss: 9.1037e-08\n",
            "Epoch 200/200\n",
            "31/31 [==============================] - 0s 8ms/step - loss: 1.6143e-07\n"
          ],
          "name": "stdout"
        },
        {
          "output_type": "execute_result",
          "data": {
            "text/plain": [
              "<tensorflow.python.keras.callbacks.History at 0x7f44aaa1aa50>"
            ]
          },
          "metadata": {
            "tags": []
          },
          "execution_count": 47
        }
      ]
    },
    {
      "cell_type": "code",
      "metadata": {
        "id": "EhE_2amVhW_S",
        "colab": {
          "base_uri": "https://localhost:8080/"
        },
        "outputId": "960e6e67-d86a-405c-ee72-080a923d59ee"
      },
      "source": [
        "X_test = X_test.reshape(-1,10,3)\n",
        "X_test.shape"
      ],
      "execution_count": 48,
      "outputs": [
        {
          "output_type": "execute_result",
          "data": {
            "text/plain": [
              "(989, 10, 3)"
            ]
          },
          "metadata": {
            "tags": []
          },
          "execution_count": 48
        }
      ]
    },
    {
      "cell_type": "code",
      "metadata": {
        "id": "Ak2mmWMgMDvh"
      },
      "source": [
        "y_pred = model.predict(X_test)\n",
        "y_pred = y_pred.reshape(-1)\n",
        "y_test = y_test.reshape(-1)"
      ],
      "execution_count": 55,
      "outputs": []
    },
    {
      "cell_type": "code",
      "metadata": {
        "colab": {
          "base_uri": "https://localhost:8080/",
          "height": 265
        },
        "id": "pCDplYgmN90s",
        "outputId": "94046ec6-b214-4753-a8ca-0f0a666ca3a8"
      },
      "source": [
        "plt.plot(y_pred, color = 'red', label = 'prediction')\n",
        "plt.plot(y_test, color = 'blue', label ='reality')\n",
        "plt.legend()\n",
        "plt.show()"
      ],
      "execution_count": 57,
      "outputs": [
        {
          "output_type": "display_data",
          "data": {
            "image/png": "[encoded data removed]",
            "text/plain": [
              "<Figure size 432x288 with 1 Axes>"
            ]
          },
          "metadata": {
            "tags": [],
            "needs_background": "light"
          }
        }
      ]
    },
    {
      "cell_type": "code",
      "metadata": {
        "id": "7f7sxb0yP1k_"
      },
      "source": [
        ""
      ],
      "execution_count": null,
      "outputs": []
    }
  ]
}