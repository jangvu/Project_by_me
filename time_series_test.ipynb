{
  "nbformat": 4,
  "nbformat_minor": 0,
  "metadata": {
    "colab": {
      "name": "time_series_test.ipynb",
      "provenance": [],
      "authorship_tag": "ABX9TyNC0X0z30sK8DCLfwkDLcv1",
      "include_colab_link": true
    },
    "kernelspec": {
      "name": "python3",
      "display_name": "Python 3"
    }
  },
  "cells": [
    {
      "cell_type": "markdown",
      "metadata": {
        "id": "view-in-github",
        "colab_type": "text"
      },
      "source": [
        "<a href=\"https://colab.research.google.com/github/jangvu/Project_by_me/blob/main/time_series_test.ipynb\" target=\"_parent\"><img src=\"https://colab.research.google.com/assets/colab-badge.svg\" alt=\"Open In Colab\"/></a>"
      ]
    },
    {
      "cell_type": "code",
      "metadata": {
        "id": "I0TPccyS2dmu"
      },
      "source": [
        "import matplotlib.pyplot as plt\n",
        "import numpy as np\n",
        "import tensorflow as tf\n",
        "from tensorflow import keras\n",
        "import pandas as pd"
      ],
      "execution_count": 105,
      "outputs": []
    },
    {
      "cell_type": "code",
      "metadata": {
        "colab": {
          "base_uri": "https://localhost:8080/"
        },
        "id": "tDNP2jLVJxbO",
        "outputId": "bb5d6f7e-48f3-4898-9e6d-4375e2966a94"
      },
      "source": [
        "from google.colab import drive\n",
        "drive.mount('/content/drive')"
      ],
      "execution_count": 106,
      "outputs": [
        {
          "output_type": "stream",
          "text": [
            "Drive already mounted at /content/drive; to attempt to forcibly remount, call drive.mount(\"/content/drive\", force_remount=True).\n"
          ],
          "name": "stdout"
        }
      ]
    },
    {
      "cell_type": "code",
      "metadata": {
        "id": "l3WhP0v4_QHj"
      },
      "source": [
        "raw_data = np.load('/content/drive/MyDrive/Data/candidate_test/data_train_candidate.npy')\n",
        "test_data = np.load('/content/drive/MyDrive/Data/candidate_test/data_test_candidate.npy')"
      ],
      "execution_count": 107,
      "outputs": []
    },
    {
      "cell_type": "code",
      "metadata": {
        "id": "VnE7sKmW_Vqq"
      },
      "source": [
        "X_full, y_full = raw_data[:,:3], raw_data[:,3:]\n",
        "X_test_full, y_test_full = test_data[:,:3], test_data[:,3:]"
      ],
      "execution_count": 108,
      "outputs": []
    },
    {
      "cell_type": "markdown",
      "metadata": {
        "id": "HtKgb2HsJKRy"
      },
      "source": [
        "**Creating window size = 10, shift = 1**"
      ]
    },
    {
      "cell_type": "code",
      "metadata": {
        "id": "DVvQQm1r_XwA"
      },
      "source": [
        "'''def getdata(data,windowsize,shift):\n",
        "  X_data = []\n",
        "  y_data = []\n",
        "  for i in range(len(data) - windowsize - shift):\n",
        "    X_data.append(data[i:i+ windowsize, :])\n",
        "    y_data.append(data[i+windowsize:i+windowsize+shift])\n",
        "  return X_data, y_data"
      ],
      "execution_count": null,
      "outputs": []
    },
    {
      "cell_type": "code",
      "metadata": {
        "cellView": "code",
        "id": "xv3KYN6uA1ak"
      },
      "source": [
        "X_data = []\n",
        "y_data = []\n",
        "data = X_full\n",
        "X_test = []\n",
        "y_test = []\n",
        "windowsize = 10\n",
        "shift = 1\n",
        "for i in range(len(data) - windowsize - shift):\n",
        "  X_data.append(X_full[i:i+ windowsize, :])\n",
        "  y_data.append(y_full[i+windowsize: i+windowsize+shift, :])\n",
        "  X_test.append(X_test_full[i:i+ windowsize, :])\n",
        "  y_test.append(y_test_full[i+windowsize: i+windowsize+shift, :])\n"
      ],
      "execution_count": 111,
      "outputs": []
    },
    {
      "cell_type": "code",
      "metadata": {
        "cellView": "code",
        "id": "7bxfR3ZGC5Fk",
        "colab": {
          "base_uri": "https://localhost:8080/"
        },
        "outputId": "fce28ed6-3a01-483f-de2f-533aeac3412f"
      },
      "source": [
        "X_data = np.asarray(X_data)\n",
        "y_data = np.asarray(y_data)\n",
        "\n",
        "X_test = np.asarray(X_test)\n",
        "y_test = np.asarray(y_test)\n",
        "\n",
        "X_data.shape"
      ],
      "execution_count": 112,
      "outputs": [
        {
          "output_type": "execute_result",
          "data": {
            "text/plain": [
              "(989, 10, 3)"
            ]
          },
          "metadata": {
            "tags": []
          },
          "execution_count": 112
        }
      ]
    },
    {
      "cell_type": "markdown",
      "metadata": {
        "id": "6mHKj4q5KN8N"
      },
      "source": [
        "**Check input into format of LSTM**"
      ]
    },
    {
      "cell_type": "code",
      "metadata": {
        "colab": {
          "base_uri": "https://localhost:8080/"
        },
        "id": "sj6Xi2eDC8Cl",
        "outputId": "17a65edd-503a-4ce8-c24f-9dac3a94207d"
      },
      "source": [
        "print(X_data.shape)\n",
        "print(y_data.shape)\n",
        "#X_data = X_data.reshape(-1,10,3)\n",
        "#y_data = y_data.reshape(-1)\n"
      ],
      "execution_count": null,
      "outputs": [
        {
          "output_type": "stream",
          "text": [
            "(989, 10, 3)\n",
            "(989, 1, 1)\n"
          ],
          "name": "stdout"
        }
      ]
    },
    {
      "cell_type": "markdown",
      "metadata": {
        "id": "aC7Qhlp3JRY_"
      },
      "source": [
        "**Build RRN model**"
      ]
    },
    {
      "cell_type": "markdown",
      "metadata": {
        "id": "qO9iVqQjM78k"
      },
      "source": [
        "Optimize + Learning rate + Early_stop"
      ]
    },
    {
      "cell_type": "code",
      "metadata": {
        "id": "ISNrANS61M6R"
      },
      "source": [
        "optimizer = keras.optimizers.Adam(learning_rate=0.01)"
      ],
      "execution_count": 118,
      "outputs": []
    },
    {
      "cell_type": "code",
      "metadata": {
        "id": "U0YVa8g8NBRe"
      },
      "source": [
        "def scheduler(epoch, lr):\n",
        "  if epoch < 10:\n",
        "    return lr\n",
        "  else:\n",
        "    return 0.001"
      ],
      "execution_count": 148,
      "outputs": []
    },
    {
      "cell_type": "code",
      "metadata": {
        "id": "ohnO1CfVNPDd"
      },
      "source": [
        "learning_rate = keras.callbacks.LearningRateScheduler(scheduler)\n",
        "#early_stop = keras.callbacks.EarlyStopping(patience=50, monitor='loss')"
      ],
      "execution_count": 149,
      "outputs": []
    },
    {
      "cell_type": "markdown",
      "metadata": {
        "id": "2i-edhaSQ4wP"
      },
      "source": [
        "If using more layers -> overfitting, using BatchNormalization is not necessesary because data is in the same scale"
      ]
    },
    {
      "cell_type": "code",
      "metadata": {
        "id": "6ZqqECu2Egkv"
      },
      "source": [
        "n_input = 10\n",
        "n_features = 3\n",
        "\n",
        "rnn_model = keras.models.Sequential([keras.layers.LSTM(units=10, input_shape=(n_input, n_features)),\n",
        "                                 keras.layers.Dropout(0.3),\n",
        "                                 keras.layers.Dense(1)])\n",
        "\n",
        "rnn_model.compile(optimizer=optimizer, loss='mse')"
      ],
      "execution_count": 168,
      "outputs": []
    },
    {
      "cell_type": "code",
      "metadata": {
        "colab": {
          "base_uri": "https://localhost:8080/"
        },
        "id": "JUGz4PdvLltc",
        "outputId": "ea61723d-e549-4d4c-c63a-4dc18dffc296"
      },
      "source": [
        "history = rnn_model.fit(X_data,y_data,epochs=200, batch_size=32,callbacks =[learning_rate])"
      ],
      "execution_count": 169,
      "outputs": [
        {
          "output_type": "stream",
          "text": [
            "Epoch 1/200\n",
            "31/31 [==============================] - 2s 4ms/step - loss: 4.2912e-05\n",
            "Epoch 2/200\n",
            "31/31 [==============================] - 0s 4ms/step - loss: 1.1682e-06\n",
            "Epoch 3/200\n",
            "31/31 [==============================] - 0s 4ms/step - loss: 1.6910e-07\n",
            "Epoch 4/200\n",
            "31/31 [==============================] - 0s 4ms/step - loss: 1.2676e-07\n",
            "Epoch 5/200\n",
            "31/31 [==============================] - 0s 4ms/step - loss: 1.2143e-07\n",
            "Epoch 6/200\n",
            "31/31 [==============================] - 0s 4ms/step - loss: 9.5363e-08\n",
            "Epoch 7/200\n",
            "31/31 [==============================] - 0s 4ms/step - loss: 9.1241e-08\n",
            "Epoch 8/200\n",
            "31/31 [==============================] - 0s 4ms/step - loss: 9.3594e-08\n",
            "Epoch 9/200\n",
            "31/31 [==============================] - 0s 4ms/step - loss: 8.3407e-08\n",
            "Epoch 10/200\n",
            "31/31 [==============================] - 0s 4ms/step - loss: 7.4909e-08\n",
            "Epoch 11/200\n",
            "31/31 [==============================] - 0s 4ms/step - loss: 6.4439e-08\n",
            "Epoch 12/200\n",
            "31/31 [==============================] - 0s 5ms/step - loss: 6.4669e-08\n",
            "Epoch 13/200\n",
            "31/31 [==============================] - 0s 4ms/step - loss: 7.3244e-08\n",
            "Epoch 14/200\n",
            "31/31 [==============================] - 0s 4ms/step - loss: 7.5013e-08\n",
            "Epoch 15/200\n",
            "31/31 [==============================] - 0s 4ms/step - loss: 6.2785e-08\n",
            "Epoch 16/200\n",
            "31/31 [==============================] - 0s 4ms/step - loss: 5.9111e-08\n",
            "Epoch 17/200\n",
            "31/31 [==============================] - 0s 4ms/step - loss: 6.1451e-08\n",
            "Epoch 18/200\n",
            "31/31 [==============================] - 0s 4ms/step - loss: 6.1218e-08\n",
            "Epoch 19/200\n",
            "31/31 [==============================] - 0s 4ms/step - loss: 5.3313e-08\n",
            "Epoch 20/200\n",
            "31/31 [==============================] - 0s 5ms/step - loss: 5.2188e-08\n",
            "Epoch 21/200\n",
            "31/31 [==============================] - 0s 4ms/step - loss: 5.0822e-08\n",
            "Epoch 22/200\n",
            "31/31 [==============================] - 0s 4ms/step - loss: 4.4240e-08\n",
            "Epoch 23/200\n",
            "31/31 [==============================] - 0s 4ms/step - loss: 4.7894e-08\n",
            "Epoch 24/200\n",
            "31/31 [==============================] - 0s 4ms/step - loss: 5.6415e-08\n",
            "Epoch 25/200\n",
            "31/31 [==============================] - 0s 4ms/step - loss: 5.1063e-08\n",
            "Epoch 26/200\n",
            "31/31 [==============================] - 0s 4ms/step - loss: 5.1023e-08\n",
            "Epoch 27/200\n",
            "31/31 [==============================] - 0s 4ms/step - loss: 3.8920e-08\n",
            "Epoch 28/200\n",
            "31/31 [==============================] - 0s 4ms/step - loss: 4.4932e-08\n",
            "Epoch 29/200\n",
            "31/31 [==============================] - 0s 4ms/step - loss: 4.5126e-08\n",
            "Epoch 30/200\n",
            "31/31 [==============================] - 0s 4ms/step - loss: 3.9483e-08\n",
            "Epoch 31/200\n",
            "31/31 [==============================] - 0s 4ms/step - loss: 4.0873e-08\n",
            "Epoch 32/200\n",
            "31/31 [==============================] - 0s 4ms/step - loss: 4.4673e-08\n",
            "Epoch 33/200\n",
            "31/31 [==============================] - 0s 4ms/step - loss: 4.8002e-08\n",
            "Epoch 34/200\n",
            "31/31 [==============================] - 0s 4ms/step - loss: 3.9614e-08\n",
            "Epoch 35/200\n",
            "31/31 [==============================] - 0s 5ms/step - loss: 4.0366e-08\n",
            "Epoch 36/200\n",
            "31/31 [==============================] - 0s 4ms/step - loss: 3.8226e-08\n",
            "Epoch 37/200\n",
            "31/31 [==============================] - 0s 4ms/step - loss: 3.5174e-08\n",
            "Epoch 38/200\n",
            "31/31 [==============================] - 0s 4ms/step - loss: 3.5957e-08\n",
            "Epoch 39/200\n",
            "31/31 [==============================] - 0s 4ms/step - loss: 4.1791e-08\n",
            "Epoch 40/200\n",
            "31/31 [==============================] - 0s 4ms/step - loss: 4.0107e-08\n",
            "Epoch 41/200\n",
            "31/31 [==============================] - 0s 4ms/step - loss: 4.0893e-08\n",
            "Epoch 42/200\n",
            "31/31 [==============================] - 0s 5ms/step - loss: 4.1973e-08\n",
            "Epoch 43/200\n",
            "31/31 [==============================] - 0s 5ms/step - loss: 3.4848e-08\n",
            "Epoch 44/200\n",
            "31/31 [==============================] - 0s 4ms/step - loss: 3.6551e-08\n",
            "Epoch 45/200\n",
            "31/31 [==============================] - 0s 4ms/step - loss: 3.5756e-08\n",
            "Epoch 46/200\n",
            "31/31 [==============================] - 0s 4ms/step - loss: 4.2086e-08\n",
            "Epoch 47/200\n",
            "31/31 [==============================] - 0s 4ms/step - loss: 3.8950e-08\n",
            "Epoch 48/200\n",
            "31/31 [==============================] - 0s 4ms/step - loss: 3.3811e-08\n",
            "Epoch 49/200\n",
            "31/31 [==============================] - 0s 4ms/step - loss: 4.5229e-08\n",
            "Epoch 50/200\n",
            "31/31 [==============================] - 0s 4ms/step - loss: 3.5030e-08\n",
            "Epoch 51/200\n",
            "31/31 [==============================] - 0s 4ms/step - loss: 4.2161e-08\n",
            "Epoch 52/200\n",
            "31/31 [==============================] - 0s 4ms/step - loss: 4.1457e-08\n",
            "Epoch 53/200\n",
            "31/31 [==============================] - 0s 4ms/step - loss: 3.0521e-08\n",
            "Epoch 54/200\n",
            "31/31 [==============================] - 0s 4ms/step - loss: 4.0404e-08\n",
            "Epoch 55/200\n",
            "31/31 [==============================] - 0s 4ms/step - loss: 3.5053e-08\n",
            "Epoch 56/200\n",
            "31/31 [==============================] - 0s 4ms/step - loss: 3.1376e-08\n",
            "Epoch 57/200\n",
            "31/31 [==============================] - 0s 4ms/step - loss: 3.8888e-08\n",
            "Epoch 58/200\n",
            "31/31 [==============================] - 0s 4ms/step - loss: 3.9411e-08\n",
            "Epoch 59/200\n",
            "31/31 [==============================] - 0s 4ms/step - loss: 3.3822e-08\n",
            "Epoch 60/200\n",
            "31/31 [==============================] - 0s 4ms/step - loss: 3.8524e-08\n",
            "Epoch 61/200\n",
            "31/31 [==============================] - 0s 4ms/step - loss: 4.0508e-08\n",
            "Epoch 62/200\n",
            "31/31 [==============================] - 0s 4ms/step - loss: 3.9499e-08\n",
            "Epoch 63/200\n",
            "31/31 [==============================] - 0s 4ms/step - loss: 3.2415e-08\n",
            "Epoch 64/200\n",
            "31/31 [==============================] - 0s 4ms/step - loss: 3.4492e-08\n",
            "Epoch 65/200\n",
            "31/31 [==============================] - 0s 4ms/step - loss: 2.9244e-08\n",
            "Epoch 66/200\n",
            "31/31 [==============================] - 0s 4ms/step - loss: 3.2844e-08\n",
            "Epoch 67/200\n",
            "31/31 [==============================] - 0s 5ms/step - loss: 3.7495e-08\n",
            "Epoch 68/200\n",
            "31/31 [==============================] - 0s 4ms/step - loss: 3.0775e-08\n",
            "Epoch 69/200\n",
            "31/31 [==============================] - 0s 4ms/step - loss: 3.6505e-08\n",
            "Epoch 70/200\n",
            "31/31 [==============================] - 0s 4ms/step - loss: 3.4677e-08\n",
            "Epoch 71/200\n",
            "31/31 [==============================] - 0s 4ms/step - loss: 3.3052e-08\n",
            "Epoch 72/200\n",
            "31/31 [==============================] - 0s 4ms/step - loss: 3.4193e-08\n",
            "Epoch 73/200\n",
            "31/31 [==============================] - 0s 4ms/step - loss: 3.3551e-08\n",
            "Epoch 74/200\n",
            "31/31 [==============================] - 0s 4ms/step - loss: 3.1038e-08\n",
            "Epoch 75/200\n",
            "31/31 [==============================] - 0s 4ms/step - loss: 2.9325e-08\n",
            "Epoch 76/200\n",
            "31/31 [==============================] - 0s 4ms/step - loss: 3.2047e-08\n",
            "Epoch 77/200\n",
            "31/31 [==============================] - 0s 4ms/step - loss: 2.8853e-08\n",
            "Epoch 78/200\n",
            "31/31 [==============================] - 0s 4ms/step - loss: 3.1374e-08\n",
            "Epoch 79/200\n",
            "31/31 [==============================] - 0s 4ms/step - loss: 3.2387e-08\n",
            "Epoch 80/200\n",
            "31/31 [==============================] - 0s 4ms/step - loss: 3.9063e-08\n",
            "Epoch 81/200\n",
            "31/31 [==============================] - 0s 4ms/step - loss: 3.2607e-08\n",
            "Epoch 82/200\n",
            "31/31 [==============================] - 0s 4ms/step - loss: 3.3852e-08\n",
            "Epoch 83/200\n",
            "31/31 [==============================] - 0s 4ms/step - loss: 3.1958e-08\n",
            "Epoch 84/200\n",
            "31/31 [==============================] - 0s 4ms/step - loss: 3.5972e-08\n",
            "Epoch 85/200\n",
            "31/31 [==============================] - 0s 4ms/step - loss: 3.3841e-08\n",
            "Epoch 86/200\n",
            "31/31 [==============================] - 0s 4ms/step - loss: 3.3418e-08\n",
            "Epoch 87/200\n",
            "31/31 [==============================] - 0s 4ms/step - loss: 3.4801e-08\n",
            "Epoch 88/200\n",
            "31/31 [==============================] - 0s 4ms/step - loss: 2.9087e-08\n",
            "Epoch 89/200\n",
            "31/31 [==============================] - 0s 4ms/step - loss: 3.0693e-08\n",
            "Epoch 90/200\n",
            "31/31 [==============================] - 0s 4ms/step - loss: 3.7741e-08\n",
            "Epoch 91/200\n",
            "31/31 [==============================] - 0s 4ms/step - loss: 2.7176e-08\n",
            "Epoch 92/200\n",
            "31/31 [==============================] - 0s 4ms/step - loss: 2.9947e-08\n",
            "Epoch 93/200\n",
            "31/31 [==============================] - 0s 4ms/step - loss: 4.0264e-08\n",
            "Epoch 94/200\n",
            "31/31 [==============================] - 0s 4ms/step - loss: 3.9651e-08\n",
            "Epoch 95/200\n",
            "31/31 [==============================] - 0s 4ms/step - loss: 3.4374e-08\n",
            "Epoch 96/200\n",
            "31/31 [==============================] - 0s 4ms/step - loss: 3.3159e-08\n",
            "Epoch 97/200\n",
            "31/31 [==============================] - 0s 4ms/step - loss: 3.3316e-08\n",
            "Epoch 98/200\n",
            "31/31 [==============================] - 0s 4ms/step - loss: 3.0373e-08\n",
            "Epoch 99/200\n",
            "31/31 [==============================] - 0s 4ms/step - loss: 2.9924e-08\n",
            "Epoch 100/200\n",
            "31/31 [==============================] - 0s 4ms/step - loss: 3.5100e-08\n",
            "Epoch 101/200\n",
            "31/31 [==============================] - 0s 4ms/step - loss: 3.5819e-08\n",
            "Epoch 102/200\n",
            "31/31 [==============================] - 0s 4ms/step - loss: 4.6510e-08\n",
            "Epoch 103/200\n",
            "31/31 [==============================] - 0s 4ms/step - loss: 3.3592e-08\n",
            "Epoch 104/200\n",
            "31/31 [==============================] - 0s 4ms/step - loss: 4.5709e-08\n",
            "Epoch 105/200\n",
            "31/31 [==============================] - 0s 4ms/step - loss: 4.2168e-08\n",
            "Epoch 106/200\n",
            "31/31 [==============================] - 0s 4ms/step - loss: 3.7030e-08\n",
            "Epoch 107/200\n",
            "31/31 [==============================] - 0s 4ms/step - loss: 3.9765e-08\n",
            "Epoch 108/200\n",
            "31/31 [==============================] - 0s 4ms/step - loss: 3.2516e-08\n",
            "Epoch 109/200\n",
            "31/31 [==============================] - 0s 4ms/step - loss: 4.3828e-08\n",
            "Epoch 110/200\n",
            "31/31 [==============================] - 0s 4ms/step - loss: 3.4684e-08\n",
            "Epoch 111/200\n",
            "31/31 [==============================] - 0s 4ms/step - loss: 3.5956e-08\n",
            "Epoch 112/200\n",
            "31/31 [==============================] - 0s 4ms/step - loss: 3.4447e-08\n",
            "Epoch 113/200\n",
            "31/31 [==============================] - 0s 4ms/step - loss: 3.6958e-08\n",
            "Epoch 114/200\n",
            "31/31 [==============================] - 0s 4ms/step - loss: 4.4354e-08\n",
            "Epoch 115/200\n",
            "31/31 [==============================] - 0s 4ms/step - loss: 4.9843e-08\n",
            "Epoch 116/200\n",
            "31/31 [==============================] - 0s 4ms/step - loss: 2.8488e-08\n",
            "Epoch 117/200\n",
            "31/31 [==============================] - 0s 4ms/step - loss: 3.2359e-08\n",
            "Epoch 118/200\n",
            "31/31 [==============================] - 0s 4ms/step - loss: 4.0906e-08\n",
            "Epoch 119/200\n",
            "31/31 [==============================] - 0s 4ms/step - loss: 4.6978e-08\n",
            "Epoch 120/200\n",
            "31/31 [==============================] - 0s 4ms/step - loss: 3.3256e-08\n",
            "Epoch 121/200\n",
            "31/31 [==============================] - 0s 4ms/step - loss: 2.9868e-08\n",
            "Epoch 122/200\n",
            "31/31 [==============================] - 0s 4ms/step - loss: 3.3003e-08\n",
            "Epoch 123/200\n",
            "31/31 [==============================] - 0s 4ms/step - loss: 3.1908e-08\n",
            "Epoch 124/200\n",
            "31/31 [==============================] - 0s 4ms/step - loss: 3.2715e-08\n",
            "Epoch 125/200\n",
            "31/31 [==============================] - 0s 4ms/step - loss: 4.2902e-08\n",
            "Epoch 126/200\n",
            "31/31 [==============================] - 0s 4ms/step - loss: 3.0607e-08\n",
            "Epoch 127/200\n",
            "31/31 [==============================] - 0s 4ms/step - loss: 3.5842e-08\n",
            "Epoch 128/200\n",
            "31/31 [==============================] - 0s 4ms/step - loss: 2.9997e-08\n",
            "Epoch 129/200\n",
            "31/31 [==============================] - 0s 4ms/step - loss: 3.7196e-08\n",
            "Epoch 130/200\n",
            "31/31 [==============================] - 0s 4ms/step - loss: 4.3174e-08\n",
            "Epoch 131/200\n",
            "31/31 [==============================] - 0s 4ms/step - loss: 2.9178e-08\n",
            "Epoch 132/200\n",
            "31/31 [==============================] - 0s 4ms/step - loss: 3.6842e-08\n",
            "Epoch 133/200\n",
            "31/31 [==============================] - 0s 4ms/step - loss: 5.6438e-08\n",
            "Epoch 134/200\n",
            "31/31 [==============================] - 0s 4ms/step - loss: 5.2370e-08\n",
            "Epoch 135/200\n",
            "31/31 [==============================] - 0s 4ms/step - loss: 2.9931e-08\n",
            "Epoch 136/200\n",
            "31/31 [==============================] - 0s 4ms/step - loss: 4.8815e-08\n",
            "Epoch 137/200\n",
            "31/31 [==============================] - 0s 4ms/step - loss: 5.7433e-08\n",
            "Epoch 138/200\n",
            "31/31 [==============================] - 0s 4ms/step - loss: 5.9174e-08\n",
            "Epoch 139/200\n",
            "31/31 [==============================] - 0s 4ms/step - loss: 3.2429e-08\n",
            "Epoch 140/200\n",
            "31/31 [==============================] - 0s 4ms/step - loss: 3.1749e-08\n",
            "Epoch 141/200\n",
            "31/31 [==============================] - 0s 4ms/step - loss: 3.2307e-08\n",
            "Epoch 142/200\n",
            "31/31 [==============================] - 0s 4ms/step - loss: 3.3528e-08\n",
            "Epoch 143/200\n",
            "31/31 [==============================] - 0s 4ms/step - loss: 3.2001e-08\n",
            "Epoch 144/200\n",
            "31/31 [==============================] - 0s 4ms/step - loss: 3.2951e-08\n",
            "Epoch 145/200\n",
            "31/31 [==============================] - 0s 4ms/step - loss: 3.6378e-08\n",
            "Epoch 146/200\n",
            "31/31 [==============================] - 0s 5ms/step - loss: 6.0397e-08\n",
            "Epoch 147/200\n",
            "31/31 [==============================] - 0s 4ms/step - loss: 3.4460e-08\n",
            "Epoch 148/200\n",
            "31/31 [==============================] - 0s 4ms/step - loss: 3.9344e-08\n",
            "Epoch 149/200\n",
            "31/31 [==============================] - 0s 4ms/step - loss: 4.2573e-08\n",
            "Epoch 150/200\n",
            "31/31 [==============================] - 0s 4ms/step - loss: 3.1996e-08\n",
            "Epoch 151/200\n",
            "31/31 [==============================] - 0s 4ms/step - loss: 3.2604e-08\n",
            "Epoch 152/200\n",
            "31/31 [==============================] - 0s 4ms/step - loss: 4.4164e-08\n",
            "Epoch 153/200\n",
            "31/31 [==============================] - 0s 4ms/step - loss: 4.0343e-08\n",
            "Epoch 154/200\n",
            "31/31 [==============================] - 0s 4ms/step - loss: 4.2873e-08\n",
            "Epoch 155/200\n",
            "31/31 [==============================] - 0s 4ms/step - loss: 4.3183e-08\n",
            "Epoch 156/200\n",
            "31/31 [==============================] - 0s 4ms/step - loss: 3.9643e-08\n",
            "Epoch 157/200\n",
            "31/31 [==============================] - 0s 4ms/step - loss: 4.7112e-08\n",
            "Epoch 158/200\n",
            "31/31 [==============================] - 0s 4ms/step - loss: 7.2058e-08\n",
            "Epoch 159/200\n",
            "31/31 [==============================] - 0s 4ms/step - loss: 3.4250e-08\n",
            "Epoch 160/200\n",
            "31/31 [==============================] - 0s 5ms/step - loss: 3.0825e-08\n",
            "Epoch 161/200\n",
            "31/31 [==============================] - 0s 4ms/step - loss: 4.0303e-08\n",
            "Epoch 162/200\n",
            "31/31 [==============================] - 0s 4ms/step - loss: 3.9012e-08\n",
            "Epoch 163/200\n",
            "31/31 [==============================] - 0s 4ms/step - loss: 2.8671e-08\n",
            "Epoch 164/200\n",
            "31/31 [==============================] - 0s 4ms/step - loss: 4.1552e-08\n",
            "Epoch 165/200\n",
            "31/31 [==============================] - 0s 4ms/step - loss: 4.8017e-08\n",
            "Epoch 166/200\n",
            "31/31 [==============================] - 0s 4ms/step - loss: 5.3102e-08\n",
            "Epoch 167/200\n",
            "31/31 [==============================] - 0s 4ms/step - loss: 4.7752e-08\n",
            "Epoch 168/200\n",
            "31/31 [==============================] - 0s 4ms/step - loss: 3.4505e-08\n",
            "Epoch 169/200\n",
            "31/31 [==============================] - 0s 4ms/step - loss: 3.8446e-08\n",
            "Epoch 170/200\n",
            "31/31 [==============================] - 0s 4ms/step - loss: 4.0107e-08\n",
            "Epoch 171/200\n",
            "31/31 [==============================] - 0s 4ms/step - loss: 4.0744e-08\n",
            "Epoch 172/200\n",
            "31/31 [==============================] - 0s 4ms/step - loss: 4.6553e-08\n",
            "Epoch 173/200\n",
            "31/31 [==============================] - 0s 4ms/step - loss: 3.1229e-08\n",
            "Epoch 174/200\n",
            "31/31 [==============================] - 0s 4ms/step - loss: 4.6952e-08\n",
            "Epoch 175/200\n",
            "31/31 [==============================] - 0s 4ms/step - loss: 2.9263e-08\n",
            "Epoch 176/200\n",
            "31/31 [==============================] - 0s 4ms/step - loss: 3.4645e-08\n",
            "Epoch 177/200\n",
            "31/31 [==============================] - 0s 5ms/step - loss: 5.9952e-08\n",
            "Epoch 178/200\n",
            "31/31 [==============================] - 0s 4ms/step - loss: 3.0321e-08\n",
            "Epoch 179/200\n",
            "31/31 [==============================] - 0s 4ms/step - loss: 3.9540e-08\n",
            "Epoch 180/200\n",
            "31/31 [==============================] - 0s 4ms/step - loss: 3.6706e-08\n",
            "Epoch 181/200\n",
            "31/31 [==============================] - 0s 4ms/step - loss: 6.7364e-08\n",
            "Epoch 182/200\n",
            "31/31 [==============================] - 0s 4ms/step - loss: 4.6354e-08\n",
            "Epoch 183/200\n",
            "31/31 [==============================] - 0s 4ms/step - loss: 3.2636e-08\n",
            "Epoch 184/200\n",
            "31/31 [==============================] - 0s 4ms/step - loss: 4.0666e-08\n",
            "Epoch 185/200\n",
            "31/31 [==============================] - 0s 4ms/step - loss: 4.4337e-08\n",
            "Epoch 186/200\n",
            "31/31 [==============================] - 0s 4ms/step - loss: 3.5311e-08\n",
            "Epoch 187/200\n",
            "31/31 [==============================] - 0s 5ms/step - loss: 4.7104e-08\n",
            "Epoch 188/200\n",
            "31/31 [==============================] - 0s 4ms/step - loss: 3.4491e-08\n",
            "Epoch 189/200\n",
            "31/31 [==============================] - 0s 4ms/step - loss: 3.4975e-08\n",
            "Epoch 190/200\n",
            "31/31 [==============================] - 0s 5ms/step - loss: 4.0086e-08\n",
            "Epoch 191/200\n",
            "31/31 [==============================] - 0s 4ms/step - loss: 4.8920e-08\n",
            "Epoch 192/200\n",
            "31/31 [==============================] - 0s 4ms/step - loss: 3.8942e-08\n",
            "Epoch 193/200\n",
            "31/31 [==============================] - 0s 5ms/step - loss: 3.2873e-08\n",
            "Epoch 194/200\n",
            "31/31 [==============================] - 0s 4ms/step - loss: 3.2057e-08\n",
            "Epoch 195/200\n",
            "31/31 [==============================] - 0s 4ms/step - loss: 4.3084e-08\n",
            "Epoch 196/200\n",
            "31/31 [==============================] - 0s 4ms/step - loss: 3.2112e-08\n",
            "Epoch 197/200\n",
            "31/31 [==============================] - 0s 5ms/step - loss: 4.1068e-08\n",
            "Epoch 198/200\n",
            "31/31 [==============================] - 0s 4ms/step - loss: 4.0460e-08\n",
            "Epoch 199/200\n",
            "31/31 [==============================] - 0s 4ms/step - loss: 4.6236e-08\n",
            "Epoch 200/200\n",
            "31/31 [==============================] - 0s 4ms/step - loss: 4.0211e-08\n"
          ],
          "name": "stdout"
        }
      ]
    },
    {
      "cell_type": "code",
      "metadata": {
        "id": "EhE_2amVhW_S",
        "colab": {
          "base_uri": "https://localhost:8080/"
        },
        "outputId": "7e2c564b-a5a5-4eb3-baec-b022f8d98cfd"
      },
      "source": [
        "X_test = X_test.reshape(-1,10,3)\n",
        "X_test.shape"
      ],
      "execution_count": 158,
      "outputs": [
        {
          "output_type": "execute_result",
          "data": {
            "text/plain": [
              "(989, 10, 3)"
            ]
          },
          "metadata": {
            "tags": []
          },
          "execution_count": 158
        }
      ]
    },
    {
      "cell_type": "markdown",
      "metadata": {
        "id": "fXix60xAQiZv"
      },
      "source": [
        "**Reshape to plot**"
      ]
    },
    {
      "cell_type": "code",
      "metadata": {
        "id": "Ak2mmWMgMDvh",
        "colab": {
          "base_uri": "https://localhost:8080/"
        },
        "outputId": "ca4efaab-13cc-4f8e-8bfd-966cb4d5b165"
      },
      "source": [
        "y_pred = rnn_model.predict(X_test)\n",
        "y_pred = y_pred.reshape(-1)\n",
        "y_test = y_test.reshape(-1)\n",
        "y_pred.shape"
      ],
      "execution_count": 175,
      "outputs": [
        {
          "output_type": "execute_result",
          "data": {
            "text/plain": [
              "(989,)"
            ]
          },
          "metadata": {
            "tags": []
          },
          "execution_count": 175
        }
      ]
    },
    {
      "cell_type": "code",
      "metadata": {
        "colab": {
          "base_uri": "https://localhost:8080/",
          "height": 265
        },
        "id": "pCDplYgmN90s",
        "outputId": "87af774e-31eb-4b52-9469-86e5b639ad40"
      },
      "source": [
        "plt.plot(y_pred, color = 'red', label = 'prediction')\n",
        "plt.plot(y_test, color = 'blue', label ='reality')\n",
        "plt.legend()\n",
        "plt.show()"
      ],
      "execution_count": 160,
      "outputs": [
        {
          "output_type": "display_data",
          "data": {
            "image/png": "[encoded data removed]",
            "text/plain": [
              "<Figure size 432x288 with 1 Axes>"
            ]
          },
          "metadata": {
            "tags": [],
            "needs_background": "light"
          }
        }
      ]
    },
    {
      "cell_type": "code",
      "metadata": {
        "id": "7f7sxb0yP1k_"
      },
      "source": [
        "def last_time_step_mse(Y_true, Y_pred):\n",
        "    return keras.metrics.mean_squared_error(Y_true, Y_pred)"
      ],
      "execution_count": 161,
      "outputs": []
    },
    {
      "cell_type": "code",
      "metadata": {
        "colab": {
          "base_uri": "https://localhost:8080/"
        },
        "id": "GpeENqs-6WWk",
        "outputId": "5a3caec8-5fa9-4784-ce37-b349cb8400fd"
      },
      "source": [
        "last_time_step_mse(y_test,y_pred)"
      ],
      "execution_count": 162,
      "outputs": [
        {
          "output_type": "execute_result",
          "data": {
            "text/plain": [
              "<tf.Tensor: shape=(), dtype=float32, numpy=5.59582e-08>"
            ]
          },
          "metadata": {
            "tags": []
          },
          "execution_count": 162
        }
      ]
    },
    {
      "cell_type": "markdown",
      "metadata": {
        "id": "RF5obTreQm_E"
      },
      "source": [
        "**Learning_curves**"
      ]
    },
    {
      "cell_type": "code",
      "metadata": {
        "colab": {
          "base_uri": "https://localhost:8080/",
          "height": 290
        },
        "id": "FuUM9nvg6cfa",
        "outputId": "138e5c9e-54b8-4352-d2aa-0a0a5e64a3d8"
      },
      "source": [
        "def plot_learning_curves(loss):\n",
        "    plt.plot(np.arange(len(loss)) + 0.5, loss, \"b.-\", label=\"Training loss\")\n",
        "    plt.axis([1, 20, 0, 0.000005])\n",
        "    plt.legend(fontsize=14)\n",
        "    plt.xlabel(\"Epochs\")\n",
        "    plt.ylabel(\"Loss\")\n",
        "    plt.grid(True)\n",
        "\n",
        "plot_learning_curves(history.history[\"loss\"])\n",
        "plt.show()"
      ],
      "execution_count": 164,
      "outputs": [
        {
          "output_type": "display_data",
          "data": {
            "image/png": "[encoded data removed]",
            "text/plain": [
              "<Figure size 432x288 with 1 Axes>"
            ]
          },
          "metadata": {
            "tags": [],
            "needs_background": "light"
          }
        }
      ]
    },
    {
      "cell_type": "markdown",
      "metadata": {
        "id": "n4oPmt48QyNs"
      },
      "source": [
        "**Build CNN Model**"
      ]
    },
    {
      "cell_type": "markdown",
      "metadata": {
        "id": "WGHjiEN8YLT6"
      },
      "source": [
        "Choosing filters and kerel size to get a better result"
      ]
    },
    {
      "cell_type": "code",
      "metadata": {
        "id": "uhdLV8pdQXiT"
      },
      "source": [
        "conv_model = tf.keras.Sequential([keras.layers.InputLayer(input_shape=[10, 3]),\n",
        "                                  keras.layers.Conv1D(filters=32,kernel_size=4,activation='relu'),\n",
        "                           keras.layers.Conv1D(filters=16,kernel_size=2,activation='relu'),\n",
        "    keras.layers.Dense(units=32, activation='relu'),\n",
        "    keras.layers.Dense(units=1),\n",
        "])"
      ],
      "execution_count": 270,
      "outputs": []
    },
    {
      "cell_type": "code",
      "metadata": {
        "colab": {
          "base_uri": "https://localhost:8080/"
        },
        "id": "eOUECpPDSV2w",
        "outputId": "e706fa1a-8847-4446-cea4-2e450bb5acb4"
      },
      "source": [
        "conv_model.compile(loss = 'mse', optimizer=optimizer)\n",
        "conv_model.fit(X_data,y_data,epochs=200, callbacks=[learning_rate])"
      ],
      "execution_count": 271,
      "outputs": [
        {
          "output_type": "stream",
          "text": [
            "Epoch 1/200\n",
            "31/31 [==============================] - 1s 2ms/step - loss: 9.0406e-06\n",
            "Epoch 2/200\n",
            "31/31 [==============================] - 0s 1ms/step - loss: 3.5007e-07\n",
            "Epoch 3/200\n",
            "31/31 [==============================] - 0s 1ms/step - loss: 1.4177e-07\n",
            "Epoch 4/200\n",
            "31/31 [==============================] - 0s 1ms/step - loss: 1.2290e-07\n",
            "Epoch 5/200\n",
            "31/31 [==============================] - 0s 2ms/step - loss: 1.2264e-07\n",
            "Epoch 6/200\n",
            "31/31 [==============================] - 0s 2ms/step - loss: 1.3350e-07\n",
            "Epoch 7/200\n",
            "31/31 [==============================] - 0s 1ms/step - loss: 1.2272e-07\n",
            "Epoch 8/200\n",
            "31/31 [==============================] - 0s 2ms/step - loss: 1.1827e-07\n",
            "Epoch 9/200\n",
            "31/31 [==============================] - 0s 2ms/step - loss: 1.0619e-07\n",
            "Epoch 10/200\n",
            "31/31 [==============================] - 0s 1ms/step - loss: 1.0134e-07\n",
            "Epoch 11/200\n",
            "31/31 [==============================] - 0s 1ms/step - loss: 1.1439e-07\n",
            "Epoch 12/200\n",
            "31/31 [==============================] - 0s 1ms/step - loss: 1.0205e-07\n",
            "Epoch 13/200\n",
            "31/31 [==============================] - 0s 1ms/step - loss: 9.3556e-08\n",
            "Epoch 14/200\n",
            "31/31 [==============================] - 0s 1ms/step - loss: 1.3120e-07\n",
            "Epoch 15/200\n",
            "31/31 [==============================] - 0s 2ms/step - loss: 1.1356e-07\n",
            "Epoch 16/200\n",
            "31/31 [==============================] - 0s 1ms/step - loss: 1.2436e-07\n",
            "Epoch 17/200\n",
            "31/31 [==============================] - 0s 1ms/step - loss: 1.1509e-07\n",
            "Epoch 18/200\n",
            "31/31 [==============================] - 0s 1ms/step - loss: 1.0778e-07\n",
            "Epoch 19/200\n",
            "31/31 [==============================] - 0s 1ms/step - loss: 9.6591e-08\n",
            "Epoch 20/200\n",
            "31/31 [==============================] - 0s 1ms/step - loss: 1.4734e-07\n",
            "Epoch 21/200\n",
            "31/31 [==============================] - 0s 2ms/step - loss: 1.2930e-07\n",
            "Epoch 22/200\n",
            "31/31 [==============================] - 0s 2ms/step - loss: 1.6120e-07\n",
            "Epoch 23/200\n",
            "31/31 [==============================] - 0s 1ms/step - loss: 1.2893e-07\n",
            "Epoch 24/200\n",
            "31/31 [==============================] - 0s 1ms/step - loss: 9.6303e-08\n",
            "Epoch 25/200\n",
            "31/31 [==============================] - 0s 1ms/step - loss: 1.2322e-07\n",
            "Epoch 26/200\n",
            "31/31 [==============================] - 0s 1ms/step - loss: 1.2892e-07\n",
            "Epoch 27/200\n",
            "31/31 [==============================] - 0s 1ms/step - loss: 1.5212e-07\n",
            "Epoch 28/200\n",
            "31/31 [==============================] - 0s 1ms/step - loss: 1.1810e-07\n",
            "Epoch 29/200\n",
            "31/31 [==============================] - 0s 1ms/step - loss: 8.6725e-08\n",
            "Epoch 30/200\n",
            "31/31 [==============================] - 0s 1ms/step - loss: 8.8461e-08\n",
            "Epoch 31/200\n",
            "31/31 [==============================] - 0s 1ms/step - loss: 1.3594e-07\n",
            "Epoch 32/200\n",
            "31/31 [==============================] - 0s 2ms/step - loss: 9.5319e-08\n",
            "Epoch 33/200\n",
            "31/31 [==============================] - 0s 1ms/step - loss: 9.5678e-08\n",
            "Epoch 34/200\n",
            "31/31 [==============================] - 0s 2ms/step - loss: 1.0825e-07\n",
            "Epoch 35/200\n",
            "31/31 [==============================] - 0s 2ms/step - loss: 9.1178e-08\n",
            "Epoch 36/200\n",
            "31/31 [==============================] - 0s 1ms/step - loss: 1.2059e-07\n",
            "Epoch 37/200\n",
            "31/31 [==============================] - 0s 1ms/step - loss: 1.1073e-07\n",
            "Epoch 38/200\n",
            "31/31 [==============================] - 0s 1ms/step - loss: 1.3595e-07\n",
            "Epoch 39/200\n",
            "31/31 [==============================] - 0s 1ms/step - loss: 1.1255e-07\n",
            "Epoch 40/200\n",
            "31/31 [==============================] - 0s 1ms/step - loss: 9.9572e-08\n",
            "Epoch 41/200\n",
            "31/31 [==============================] - 0s 2ms/step - loss: 1.6674e-07\n",
            "Epoch 42/200\n",
            "31/31 [==============================] - 0s 1ms/step - loss: 1.0027e-07\n",
            "Epoch 43/200\n",
            "31/31 [==============================] - 0s 2ms/step - loss: 1.8454e-07\n",
            "Epoch 44/200\n",
            "31/31 [==============================] - 0s 2ms/step - loss: 1.0382e-07\n",
            "Epoch 45/200\n",
            "31/31 [==============================] - 0s 1ms/step - loss: 1.0192e-07\n",
            "Epoch 46/200\n",
            "31/31 [==============================] - 0s 1ms/step - loss: 9.2856e-08\n",
            "Epoch 47/200\n",
            "31/31 [==============================] - 0s 2ms/step - loss: 9.2498e-08\n",
            "Epoch 48/200\n",
            "31/31 [==============================] - 0s 1ms/step - loss: 1.0276e-07\n",
            "Epoch 49/200\n",
            "31/31 [==============================] - 0s 1ms/step - loss: 9.6086e-08\n",
            "Epoch 50/200\n",
            "31/31 [==============================] - 0s 1ms/step - loss: 1.1962e-07\n",
            "Epoch 51/200\n",
            "31/31 [==============================] - 0s 1ms/step - loss: 9.6674e-08\n",
            "Epoch 52/200\n",
            "31/31 [==============================] - 0s 2ms/step - loss: 1.0028e-07\n",
            "Epoch 53/200\n",
            "31/31 [==============================] - 0s 1ms/step - loss: 1.0100e-07\n",
            "Epoch 54/200\n",
            "31/31 [==============================] - 0s 2ms/step - loss: 9.6232e-08\n",
            "Epoch 55/200\n",
            "31/31 [==============================] - 0s 1ms/step - loss: 9.8227e-08\n",
            "Epoch 56/200\n",
            "31/31 [==============================] - 0s 1ms/step - loss: 8.8891e-08\n",
            "Epoch 57/200\n",
            "31/31 [==============================] - 0s 1ms/step - loss: 8.9823e-08\n",
            "Epoch 58/200\n",
            "31/31 [==============================] - 0s 1ms/step - loss: 9.9218e-08\n",
            "Epoch 59/200\n",
            "31/31 [==============================] - 0s 1ms/step - loss: 1.0431e-07\n",
            "Epoch 60/200\n",
            "31/31 [==============================] - 0s 1ms/step - loss: 9.4365e-08\n",
            "Epoch 61/200\n",
            "31/31 [==============================] - 0s 2ms/step - loss: 1.0658e-07\n",
            "Epoch 62/200\n",
            "31/31 [==============================] - 0s 2ms/step - loss: 9.6556e-08\n",
            "Epoch 63/200\n",
            "31/31 [==============================] - 0s 2ms/step - loss: 1.3989e-07\n",
            "Epoch 64/200\n",
            "31/31 [==============================] - 0s 2ms/step - loss: 1.0892e-07\n",
            "Epoch 65/200\n",
            "31/31 [==============================] - 0s 2ms/step - loss: 1.4161e-07\n",
            "Epoch 66/200\n",
            "31/31 [==============================] - 0s 1ms/step - loss: 1.0366e-07\n",
            "Epoch 67/200\n",
            "31/31 [==============================] - 0s 1ms/step - loss: 9.6583e-08\n",
            "Epoch 68/200\n",
            "31/31 [==============================] - 0s 1ms/step - loss: 8.3211e-08\n",
            "Epoch 69/200\n",
            "31/31 [==============================] - 0s 1ms/step - loss: 1.2762e-07\n",
            "Epoch 70/200\n",
            "31/31 [==============================] - 0s 2ms/step - loss: 8.0549e-08\n",
            "Epoch 71/200\n",
            "31/31 [==============================] - 0s 1ms/step - loss: 1.2047e-07\n",
            "Epoch 72/200\n",
            "31/31 [==============================] - 0s 1ms/step - loss: 1.0427e-07\n",
            "Epoch 73/200\n",
            "31/31 [==============================] - 0s 2ms/step - loss: 9.1643e-08\n",
            "Epoch 74/200\n",
            "31/31 [==============================] - 0s 1ms/step - loss: 8.8494e-08\n",
            "Epoch 75/200\n",
            "31/31 [==============================] - 0s 1ms/step - loss: 8.3980e-08\n",
            "Epoch 76/200\n",
            "31/31 [==============================] - 0s 1ms/step - loss: 1.2931e-07\n",
            "Epoch 77/200\n",
            "31/31 [==============================] - 0s 2ms/step - loss: 9.7714e-08\n",
            "Epoch 78/200\n",
            "31/31 [==============================] - 0s 2ms/step - loss: 8.8379e-08\n",
            "Epoch 79/200\n",
            "31/31 [==============================] - 0s 2ms/step - loss: 9.7089e-08\n",
            "Epoch 80/200\n",
            "31/31 [==============================] - 0s 2ms/step - loss: 1.1752e-07\n",
            "Epoch 81/200\n",
            "31/31 [==============================] - 0s 2ms/step - loss: 9.9298e-08\n",
            "Epoch 82/200\n",
            "31/31 [==============================] - 0s 2ms/step - loss: 9.5843e-08\n",
            "Epoch 83/200\n",
            "31/31 [==============================] - 0s 2ms/step - loss: 9.8593e-08\n",
            "Epoch 84/200\n",
            "31/31 [==============================] - 0s 1ms/step - loss: 1.0758e-07\n",
            "Epoch 85/200\n",
            "31/31 [==============================] - 0s 1ms/step - loss: 9.2476e-08\n",
            "Epoch 86/200\n",
            "31/31 [==============================] - 0s 1ms/step - loss: 1.6332e-07\n",
            "Epoch 87/200\n",
            "31/31 [==============================] - 0s 2ms/step - loss: 9.3976e-08\n",
            "Epoch 88/200\n",
            "31/31 [==============================] - 0s 1ms/step - loss: 1.1330e-07\n",
            "Epoch 89/200\n",
            "31/31 [==============================] - 0s 2ms/step - loss: 1.5481e-07\n",
            "Epoch 90/200\n",
            "31/31 [==============================] - 0s 2ms/step - loss: 1.1323e-07\n",
            "Epoch 91/200\n",
            "31/31 [==============================] - 0s 2ms/step - loss: 1.2264e-07\n",
            "Epoch 92/200\n",
            "31/31 [==============================] - 0s 2ms/step - loss: 8.8620e-08\n",
            "Epoch 93/200\n",
            "31/31 [==============================] - 0s 2ms/step - loss: 9.2515e-08\n",
            "Epoch 94/200\n",
            "31/31 [==============================] - 0s 1ms/step - loss: 9.8627e-08\n",
            "Epoch 95/200\n",
            "31/31 [==============================] - 0s 1ms/step - loss: 9.8192e-08\n",
            "Epoch 96/200\n",
            "31/31 [==============================] - 0s 1ms/step - loss: 1.2999e-07\n",
            "Epoch 97/200\n",
            "31/31 [==============================] - 0s 2ms/step - loss: 7.7543e-08\n",
            "Epoch 98/200\n",
            "31/31 [==============================] - 0s 2ms/step - loss: 7.3528e-08\n",
            "Epoch 99/200\n",
            "31/31 [==============================] - 0s 2ms/step - loss: 7.3392e-08\n",
            "Epoch 100/200\n",
            "31/31 [==============================] - 0s 2ms/step - loss: 8.4670e-08\n",
            "Epoch 101/200\n",
            "31/31 [==============================] - 0s 1ms/step - loss: 8.0638e-08\n",
            "Epoch 102/200\n",
            "31/31 [==============================] - 0s 2ms/step - loss: 8.4441e-08\n",
            "Epoch 103/200\n",
            "31/31 [==============================] - 0s 2ms/step - loss: 9.0826e-08\n",
            "Epoch 104/200\n",
            "31/31 [==============================] - 0s 2ms/step - loss: 7.0500e-08\n",
            "Epoch 105/200\n",
            "31/31 [==============================] - 0s 2ms/step - loss: 9.7035e-08\n",
            "Epoch 106/200\n",
            "31/31 [==============================] - 0s 2ms/step - loss: 8.9132e-08\n",
            "Epoch 107/200\n",
            "31/31 [==============================] - 0s 1ms/step - loss: 6.9775e-08\n",
            "Epoch 108/200\n",
            "31/31 [==============================] - 0s 1ms/step - loss: 9.0160e-08\n",
            "Epoch 109/200\n",
            "31/31 [==============================] - 0s 1ms/step - loss: 6.8369e-08\n",
            "Epoch 110/200\n",
            "31/31 [==============================] - 0s 2ms/step - loss: 1.5652e-07\n",
            "Epoch 111/200\n",
            "31/31 [==============================] - 0s 2ms/step - loss: 1.2248e-07\n",
            "Epoch 112/200\n",
            "31/31 [==============================] - 0s 2ms/step - loss: 8.0382e-08\n",
            "Epoch 113/200\n",
            "31/31 [==============================] - 0s 2ms/step - loss: 1.4096e-07\n",
            "Epoch 114/200\n",
            "31/31 [==============================] - 0s 2ms/step - loss: 8.6304e-08\n",
            "Epoch 115/200\n",
            "31/31 [==============================] - 0s 2ms/step - loss: 8.5998e-08\n",
            "Epoch 116/200\n",
            "31/31 [==============================] - 0s 2ms/step - loss: 8.4613e-08\n",
            "Epoch 117/200\n",
            "31/31 [==============================] - 0s 1ms/step - loss: 9.0450e-08\n",
            "Epoch 118/200\n",
            "31/31 [==============================] - 0s 1ms/step - loss: 7.4520e-08\n",
            "Epoch 119/200\n",
            "31/31 [==============================] - 0s 2ms/step - loss: 8.7099e-08\n",
            "Epoch 120/200\n",
            "31/31 [==============================] - 0s 2ms/step - loss: 7.7759e-08\n",
            "Epoch 121/200\n",
            "31/31 [==============================] - 0s 2ms/step - loss: 8.5108e-08\n",
            "Epoch 122/200\n",
            "31/31 [==============================] - 0s 2ms/step - loss: 6.6121e-08\n",
            "Epoch 123/200\n",
            "31/31 [==============================] - 0s 2ms/step - loss: 6.6408e-08\n",
            "Epoch 124/200\n",
            "31/31 [==============================] - 0s 2ms/step - loss: 1.1079e-07\n",
            "Epoch 125/200\n",
            "31/31 [==============================] - 0s 2ms/step - loss: 1.1230e-07\n",
            "Epoch 126/200\n",
            "31/31 [==============================] - 0s 1ms/step - loss: 1.0630e-07\n",
            "Epoch 127/200\n",
            "31/31 [==============================] - 0s 2ms/step - loss: 5.7187e-08\n",
            "Epoch 128/200\n",
            "31/31 [==============================] - 0s 2ms/step - loss: 7.9984e-08\n",
            "Epoch 129/200\n",
            "31/31 [==============================] - 0s 2ms/step - loss: 9.7466e-08\n",
            "Epoch 130/200\n",
            "31/31 [==============================] - 0s 2ms/step - loss: 6.0728e-08\n",
            "Epoch 131/200\n",
            "31/31 [==============================] - 0s 2ms/step - loss: 7.2076e-08\n",
            "Epoch 132/200\n",
            "31/31 [==============================] - 0s 2ms/step - loss: 7.7472e-08\n",
            "Epoch 133/200\n",
            "31/31 [==============================] - 0s 2ms/step - loss: 7.6588e-08\n",
            "Epoch 134/200\n",
            "31/31 [==============================] - 0s 2ms/step - loss: 5.9391e-08\n",
            "Epoch 135/200\n",
            "31/31 [==============================] - 0s 2ms/step - loss: 8.4134e-08\n",
            "Epoch 136/200\n",
            "31/31 [==============================] - 0s 1ms/step - loss: 5.8009e-08\n",
            "Epoch 137/200\n",
            "31/31 [==============================] - 0s 2ms/step - loss: 8.1138e-08\n",
            "Epoch 138/200\n",
            "31/31 [==============================] - 0s 2ms/step - loss: 6.5876e-08\n",
            "Epoch 139/200\n",
            "31/31 [==============================] - 0s 2ms/step - loss: 8.0872e-08\n",
            "Epoch 140/200\n",
            "31/31 [==============================] - 0s 2ms/step - loss: 1.0047e-07\n",
            "Epoch 141/200\n",
            "31/31 [==============================] - 0s 2ms/step - loss: 5.8385e-08\n",
            "Epoch 142/200\n",
            "31/31 [==============================] - 0s 2ms/step - loss: 6.1239e-08\n",
            "Epoch 143/200\n",
            "31/31 [==============================] - 0s 2ms/step - loss: 5.2768e-08\n",
            "Epoch 144/200\n",
            "31/31 [==============================] - 0s 2ms/step - loss: 5.2049e-08\n",
            "Epoch 145/200\n",
            "31/31 [==============================] - 0s 1ms/step - loss: 8.0691e-08\n",
            "Epoch 146/200\n",
            "31/31 [==============================] - 0s 2ms/step - loss: 8.0860e-08\n",
            "Epoch 147/200\n",
            "31/31 [==============================] - 0s 2ms/step - loss: 5.5541e-08\n",
            "Epoch 148/200\n",
            "31/31 [==============================] - 0s 2ms/step - loss: 5.1785e-08\n",
            "Epoch 149/200\n",
            "31/31 [==============================] - 0s 1ms/step - loss: 6.2563e-08\n",
            "Epoch 150/200\n",
            "31/31 [==============================] - 0s 2ms/step - loss: 9.1224e-08\n",
            "Epoch 151/200\n",
            "31/31 [==============================] - 0s 2ms/step - loss: 4.9217e-08\n",
            "Epoch 152/200\n",
            "31/31 [==============================] - 0s 1ms/step - loss: 4.5988e-08\n",
            "Epoch 153/200\n",
            "31/31 [==============================] - 0s 1ms/step - loss: 5.7389e-08\n",
            "Epoch 154/200\n",
            "31/31 [==============================] - 0s 2ms/step - loss: 6.3326e-08\n",
            "Epoch 155/200\n",
            "31/31 [==============================] - 0s 1ms/step - loss: 4.9427e-08\n",
            "Epoch 156/200\n",
            "31/31 [==============================] - 0s 1ms/step - loss: 5.4663e-08\n",
            "Epoch 157/200\n",
            "31/31 [==============================] - 0s 2ms/step - loss: 8.9285e-08\n",
            "Epoch 158/200\n",
            "31/31 [==============================] - 0s 2ms/step - loss: 6.3946e-08\n",
            "Epoch 159/200\n",
            "31/31 [==============================] - 0s 2ms/step - loss: 7.0180e-08\n",
            "Epoch 160/200\n",
            "31/31 [==============================] - 0s 1ms/step - loss: 4.6430e-08\n",
            "Epoch 161/200\n",
            "31/31 [==============================] - 0s 1ms/step - loss: 4.6619e-08\n",
            "Epoch 162/200\n",
            "31/31 [==============================] - 0s 1ms/step - loss: 4.5228e-08\n",
            "Epoch 163/200\n",
            "31/31 [==============================] - 0s 1ms/step - loss: 5.9903e-08\n",
            "Epoch 164/200\n",
            "31/31 [==============================] - 0s 2ms/step - loss: 5.3849e-08\n",
            "Epoch 165/200\n",
            "31/31 [==============================] - 0s 2ms/step - loss: 1.0653e-07\n",
            "Epoch 166/200\n",
            "31/31 [==============================] - 0s 2ms/step - loss: 6.7475e-08\n",
            "Epoch 167/200\n",
            "31/31 [==============================] - 0s 2ms/step - loss: 5.0818e-08\n",
            "Epoch 168/200\n",
            "31/31 [==============================] - 0s 2ms/step - loss: 4.9123e-08\n",
            "Epoch 169/200\n",
            "31/31 [==============================] - 0s 2ms/step - loss: 7.0923e-08\n",
            "Epoch 170/200\n",
            "31/31 [==============================] - 0s 2ms/step - loss: 5.6121e-08\n",
            "Epoch 171/200\n",
            "31/31 [==============================] - 0s 2ms/step - loss: 8.2248e-08\n",
            "Epoch 172/200\n",
            "31/31 [==============================] - 0s 2ms/step - loss: 4.9578e-08\n",
            "Epoch 173/200\n",
            "31/31 [==============================] - 0s 2ms/step - loss: 4.3012e-08\n",
            "Epoch 174/200\n",
            "31/31 [==============================] - 0s 2ms/step - loss: 4.9606e-08\n",
            "Epoch 175/200\n",
            "31/31 [==============================] - 0s 2ms/step - loss: 6.0060e-08\n",
            "Epoch 176/200\n",
            "31/31 [==============================] - 0s 2ms/step - loss: 9.1603e-08\n",
            "Epoch 177/200\n",
            "31/31 [==============================] - 0s 2ms/step - loss: 8.2786e-08\n",
            "Epoch 178/200\n",
            "31/31 [==============================] - 0s 1ms/step - loss: 6.8471e-08\n",
            "Epoch 179/200\n",
            "31/31 [==============================] - 0s 2ms/step - loss: 5.3478e-08\n",
            "Epoch 180/200\n",
            "31/31 [==============================] - 0s 2ms/step - loss: 4.9634e-08\n",
            "Epoch 181/200\n",
            "31/31 [==============================] - 0s 2ms/step - loss: 5.1673e-08\n",
            "Epoch 182/200\n",
            "31/31 [==============================] - 0s 2ms/step - loss: 4.0129e-08\n",
            "Epoch 183/200\n",
            "31/31 [==============================] - 0s 2ms/step - loss: 4.5284e-08\n",
            "Epoch 184/200\n",
            "31/31 [==============================] - 0s 2ms/step - loss: 4.9218e-08\n",
            "Epoch 185/200\n",
            "31/31 [==============================] - 0s 1ms/step - loss: 5.3242e-08\n",
            "Epoch 186/200\n",
            "31/31 [==============================] - 0s 2ms/step - loss: 6.5800e-08\n",
            "Epoch 187/200\n",
            "31/31 [==============================] - 0s 2ms/step - loss: 5.3210e-08\n",
            "Epoch 188/200\n",
            "31/31 [==============================] - 0s 2ms/step - loss: 6.0077e-08\n",
            "Epoch 189/200\n",
            "31/31 [==============================] - 0s 2ms/step - loss: 3.9491e-08\n",
            "Epoch 190/200\n",
            "31/31 [==============================] - 0s 2ms/step - loss: 4.6547e-08\n",
            "Epoch 191/200\n",
            "31/31 [==============================] - 0s 2ms/step - loss: 6.4765e-08\n",
            "Epoch 192/200\n",
            "31/31 [==============================] - 0s 2ms/step - loss: 4.0910e-08\n",
            "Epoch 193/200\n",
            "31/31 [==============================] - 0s 2ms/step - loss: 4.2368e-08\n",
            "Epoch 194/200\n",
            "31/31 [==============================] - 0s 1ms/step - loss: 5.7486e-08\n",
            "Epoch 195/200\n",
            "31/31 [==============================] - 0s 2ms/step - loss: 3.7910e-08\n",
            "Epoch 196/200\n",
            "31/31 [==============================] - 0s 2ms/step - loss: 4.5889e-08\n",
            "Epoch 197/200\n",
            "31/31 [==============================] - 0s 2ms/step - loss: 5.1217e-08\n",
            "Epoch 198/200\n",
            "31/31 [==============================] - 0s 2ms/step - loss: 3.5400e-08\n",
            "Epoch 199/200\n",
            "31/31 [==============================] - 0s 2ms/step - loss: 3.7609e-08\n",
            "Epoch 200/200\n",
            "31/31 [==============================] - 0s 2ms/step - loss: 4.2607e-08\n"
          ],
          "name": "stdout"
        },
        {
          "output_type": "execute_result",
          "data": {
            "text/plain": [
              "<tensorflow.python.keras.callbacks.History at 0x7f4480e2b310>"
            ]
          },
          "metadata": {
            "tags": []
          },
          "execution_count": 271
        }
      ]
    },
    {
      "cell_type": "code",
      "metadata": {
        "colab": {
          "base_uri": "https://localhost:8080/"
        },
        "id": "yE19cEZASpa2",
        "outputId": "4f069ca3-4089-42c5-860c-2fd0e6ee720b"
      },
      "source": [
        "y_pred_2 = conv_model.predict(X_test)\n",
        "y_pred_2.shape"
      ],
      "execution_count": 275,
      "outputs": [
        {
          "output_type": "execute_result",
          "data": {
            "text/plain": [
              "(989, 6, 1)"
            ]
          },
          "metadata": {
            "tags": []
          },
          "execution_count": 275
        }
      ]
    },
    {
      "cell_type": "code",
      "metadata": {
        "id": "EFtjCEGOS-gQ"
      },
      "source": [
        "y_plot = []\n",
        "for i in y_pred_2:\n",
        "  y_plot.append(i[-1])"
      ],
      "execution_count": 276,
      "outputs": []
    },
    {
      "cell_type": "code",
      "metadata": {
        "colab": {
          "base_uri": "https://localhost:8080/",
          "height": 281
        },
        "id": "ufxHcY8JTAOG",
        "outputId": "ca958198-d395-48dd-d2e4-aa85ce5bdfa1"
      },
      "source": [
        "fig, axes = plt.subplots(nrows=1, ncols=2, sharey=True, figsize=(12, 4))\n",
        "\n",
        "plt.sca(axes[0])\n",
        "plt.plot(y_plot, color ='red', label ='prediction')\n",
        "plt.plot(y_test, color ='blue',label ='reality')\n",
        "plt.title('CNN_model')\n",
        "plt.legend()\n",
        "\n",
        "plt.sca(axes[1])\n",
        "plt.plot(y_pred, color = 'red', label = 'prediction')\n",
        "plt.plot(y_test, color = 'blue', label ='reality')\n",
        "plt.title('RNN_model')\n",
        "plt.legend()\n",
        "plt.show()"
      ],
      "execution_count": 279,
      "outputs": [
        {
          "output_type": "display_data",
          "data": {
            "image/png": "[encoded data removed]",
            "text/plain": [
              "<Figure size 864x288 with 2 Axes>"
            ]
          },
          "metadata": {
            "tags": [],
            "needs_background": "light"
          }
        }
      ]
    },
    {
      "cell_type": "markdown",
      "metadata": {
        "id": "SJs3SJqWZKX3"
      },
      "source": [
        "RNN result looks better compare with the CNN one"
      ]
    },
    {
      "cell_type": "code",
      "metadata": {
        "id": "kvK544QLVDNY"
      },
      "source": [
        ""
      ],
      "execution_count": 274,
      "outputs": []
    }
  ]
}