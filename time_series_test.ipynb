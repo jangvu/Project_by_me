{
  "nbformat": 4,
  "nbformat_minor": 0,
  "metadata": {
    "colab": {
      "name": "time_series_test.ipynb",
      "provenance": [],
      "authorship_tag": "ABX9TyMVISHflRokjeerLC7/pOUL",
      "include_colab_link": true
    },
    "kernelspec": {
      "name": "python3",
      "display_name": "Python 3"
    }
  },
  "cells": [
    {
      "cell_type": "markdown",
      "metadata": {
        "id": "view-in-github",
        "colab_type": "text"
      },
      "source": [
        "<a href=\"https://colab.research.google.com/github/jangvu/Project_by_me/blob/main/time_series_test.ipynb\" target=\"_parent\"><img src=\"https://colab.research.google.com/assets/colab-badge.svg\" alt=\"Open In Colab\"/></a>"
      ]
    },
    {
      "cell_type": "code",
      "metadata": {
        "id": "I0TPccyS2dmu"
      },
      "source": [
        "import matplotlib.pyplot as plt\n",
        "import numpy as np\n",
        "import tensorflow as tf\n",
        "from tensorflow import keras\n",
        "import pandas as pd"
      ],
      "execution_count": 1,
      "outputs": []
    },
    {
      "cell_type": "code",
      "metadata": {
        "id": "l3WhP0v4_QHj"
      },
      "source": [
        "raw_data = np.load('/content/data_train_candidate.npy')\n",
        "test_data = np.load('/content/data_test_candidate.npy')"
      ],
      "execution_count": 111,
      "outputs": []
    },
    {
      "cell_type": "code",
      "metadata": {
        "id": "VnE7sKmW_Vqq"
      },
      "source": [
        "X_full, y_full = raw_data[:,:3], raw_data[:,3:]\n",
        "X_test_full, y_test_full = test_data[:,:3], test_data[:,3:]"
      ],
      "execution_count": 112,
      "outputs": []
    },
    {
      "cell_type": "code",
      "metadata": {
        "id": "DVvQQm1r_XwA"
      },
      "source": [
        "'''def getdata(data,windowsize,shift):\n",
        "  X_data = []\n",
        "  y_data = []\n",
        "  for i in range(len(data) - windowsize - shift):\n",
        "    X_data.append(data[i:i+ windowsize, :])\n",
        "    y_data.append(data[i+windowsize:i+windowsize+shift])\n",
        "  return X_data, y_data"
      ],
      "execution_count": 118,
      "outputs": []
    },
    {
      "cell_type": "code",
      "metadata": {
        "id": "pVzvOvKH_pia"
      },
      "source": [
        "'''X_train = getdata(X_full,10,1)\n",
        "y_train = getdata(y_full,10,1)"
      ],
      "execution_count": 119,
      "outputs": []
    },
    {
      "cell_type": "code",
      "metadata": {
        "id": "h1lKk13PA0VV"
      },
      "source": [
        "'''X_train[800]"
      ],
      "execution_count": null,
      "outputs": []
    },
    {
      "cell_type": "code",
      "metadata": {
        "id": "l-EgfjjrDuSt"
      },
      "source": [
        "'''X_train.shape"
      ],
      "execution_count": null,
      "outputs": []
    },
    {
      "cell_type": "code",
      "metadata": {
        "cellView": "code",
        "id": "xv3KYN6uA1ak"
      },
      "source": [
        "X_data = []\n",
        "y_data = []\n",
        "data = X_full\n",
        "X_test = []\n",
        "y_test = []\n",
        "windowsize = 10\n",
        "shift = 1\n",
        "for i in range(len(data) - windowsize - shift):\n",
        "  X_data.append(X_full[i:i+ windowsize, :])\n",
        "  y_data.append(y_full[i+windowsize: i+windowsize+shift, :])\n",
        "  X_test.append(X_test_full[i:i+ windowsize, :])\n",
        "  y_test.append(y_test_full[i+windowsize: i+windowsize+shift, :])\n"
      ],
      "execution_count": 85,
      "outputs": []
    },
    {
      "cell_type": "code",
      "metadata": {
        "cellView": "code",
        "id": "7bxfR3ZGC5Fk"
      },
      "source": [
        "X_data = np.asarray(X_data)\n",
        "y_data = np.asarray(y_data)\n",
        "\n",
        "X_test = np.asarray(X_test)\n",
        "y_test = np.asarray(y_test)"
      ],
      "execution_count": 86,
      "outputs": []
    },
    {
      "cell_type": "code",
      "metadata": {
        "colab": {
          "base_uri": "https://localhost:8080/"
        },
        "id": "sj6Xi2eDC8Cl",
        "outputId": "65dbfc60-f37a-4897-bd9b-35ab72d8654d"
      },
      "source": [
        "print(X_data.shape)\n",
        "print(y_data.shape)"
      ],
      "execution_count": 87,
      "outputs": [
        {
          "output_type": "stream",
          "text": [
            "(989, 10, 3)\n",
            "(989, 1, 1)\n"
          ],
          "name": "stdout"
        }
      ]
    },
    {
      "cell_type": "code",
      "metadata": {
        "id": "6ZqqECu2Egkv"
      },
      "source": [
        "n_input = 10\n",
        "n_features = 3\n",
        "\n",
        "model = keras.models.Sequential()\n",
        "model.add(keras.layers.LSTM(units=50,activation='relu', input_shape=(n_input, n_features), return_sequences=True))\n",
        "model.add(keras.layers.Dropout(0.3))\n",
        "\n",
        "model.add(keras.layers.LSTM(units=50, return_sequences=True))\n",
        "model.add(keras.layers.Dropout(0.3))\n",
        "\n",
        "model.add(keras.layers.LSTM(units=50))\n",
        "model.add(keras.layers.Dropout(0.3))\n",
        "model.add(keras.layers.Dense(10))\n",
        "model.compile(optimizer='adam', loss='mse')"
      ],
      "execution_count": 95,
      "outputs": []
    },
    {
      "cell_type": "code",
      "metadata": {
        "colab": {
          "base_uri": "https://localhost:8080/"
        },
        "id": "JUGz4PdvLltc",
        "outputId": "3bd754cb-f01e-463d-e14d-e43a4ddb0c27"
      },
      "source": [
        "model.fit(X_data,y_data,epochs=200)"
      ],
      "execution_count": 96,
      "outputs": [
        {
          "output_type": "stream",
          "text": [
            "Epoch 1/200\n",
            "31/31 [==============================] - 4s 17ms/step - loss: 2.7213e-06\n",
            "Epoch 2/200\n",
            "31/31 [==============================] - 1s 17ms/step - loss: 2.1977e-07\n",
            "Epoch 3/200\n",
            "31/31 [==============================] - 1s 17ms/step - loss: 1.1666e-07\n",
            "Epoch 4/200\n",
            "31/31 [==============================] - 1s 17ms/step - loss: 1.1888e-07\n",
            "Epoch 5/200\n",
            "31/31 [==============================] - 1s 17ms/step - loss: 1.1615e-07\n",
            "Epoch 6/200\n",
            "31/31 [==============================] - 1s 17ms/step - loss: 1.2145e-07\n",
            "Epoch 7/200\n",
            "31/31 [==============================] - 1s 17ms/step - loss: 1.2229e-07\n",
            "Epoch 8/200\n",
            "31/31 [==============================] - 1s 17ms/step - loss: 1.2724e-07\n",
            "Epoch 9/200\n",
            "31/31 [==============================] - 1s 17ms/step - loss: 1.3300e-07\n",
            "Epoch 10/200\n",
            "31/31 [==============================] - 1s 17ms/step - loss: 1.2170e-07\n",
            "Epoch 11/200\n",
            "31/31 [==============================] - 1s 17ms/step - loss: 1.4030e-07\n",
            "Epoch 12/200\n",
            "31/31 [==============================] - 1s 17ms/step - loss: 1.3813e-07\n",
            "Epoch 13/200\n",
            "31/31 [==============================] - 1s 17ms/step - loss: 1.4726e-07\n",
            "Epoch 14/200\n",
            "31/31 [==============================] - 1s 17ms/step - loss: 1.4627e-07\n",
            "Epoch 15/200\n",
            "31/31 [==============================] - 1s 17ms/step - loss: 1.6427e-07\n",
            "Epoch 16/200\n",
            "31/31 [==============================] - 1s 17ms/step - loss: 1.9482e-07\n",
            "Epoch 17/200\n",
            "31/31 [==============================] - 1s 18ms/step - loss: 1.5059e-07\n",
            "Epoch 18/200\n",
            "31/31 [==============================] - 1s 17ms/step - loss: 1.8988e-07\n",
            "Epoch 19/200\n",
            "31/31 [==============================] - 1s 17ms/step - loss: 1.5383e-07\n",
            "Epoch 20/200\n",
            "31/31 [==============================] - 1s 17ms/step - loss: 1.4719e-07\n",
            "Epoch 21/200\n",
            "31/31 [==============================] - 1s 17ms/step - loss: 1.7148e-07\n",
            "Epoch 22/200\n",
            "31/31 [==============================] - 1s 17ms/step - loss: 1.8788e-07\n",
            "Epoch 23/200\n",
            "31/31 [==============================] - 1s 17ms/step - loss: 1.9562e-07\n",
            "Epoch 24/200\n",
            "31/31 [==============================] - 1s 17ms/step - loss: 1.8649e-07\n",
            "Epoch 25/200\n",
            "31/31 [==============================] - 1s 17ms/step - loss: 1.5532e-07\n",
            "Epoch 26/200\n",
            "31/31 [==============================] - 1s 17ms/step - loss: 1.3939e-07\n",
            "Epoch 27/200\n",
            "31/31 [==============================] - 1s 17ms/step - loss: 1.7794e-07\n",
            "Epoch 28/200\n",
            "31/31 [==============================] - 1s 16ms/step - loss: 1.4908e-07\n",
            "Epoch 29/200\n",
            "31/31 [==============================] - 1s 16ms/step - loss: 1.6572e-07\n",
            "Epoch 30/200\n",
            "31/31 [==============================] - 1s 17ms/step - loss: 1.5942e-07\n",
            "Epoch 31/200\n",
            "31/31 [==============================] - 1s 16ms/step - loss: 1.3911e-07\n",
            "Epoch 32/200\n",
            "31/31 [==============================] - 1s 18ms/step - loss: 1.3748e-07\n",
            "Epoch 33/200\n",
            "31/31 [==============================] - 1s 16ms/step - loss: 1.4007e-07\n",
            "Epoch 34/200\n",
            "31/31 [==============================] - 1s 16ms/step - loss: 1.2600e-07\n",
            "Epoch 35/200\n",
            "31/31 [==============================] - 1s 16ms/step - loss: 1.4277e-07\n",
            "Epoch 36/200\n",
            "31/31 [==============================] - 1s 16ms/step - loss: 1.4362e-07\n",
            "Epoch 37/200\n",
            "31/31 [==============================] - 0s 16ms/step - loss: 1.3624e-07\n",
            "Epoch 38/200\n",
            "31/31 [==============================] - 1s 18ms/step - loss: 1.6959e-07\n",
            "Epoch 39/200\n",
            "31/31 [==============================] - 1s 17ms/step - loss: 1.6218e-07\n",
            "Epoch 40/200\n",
            "31/31 [==============================] - 1s 17ms/step - loss: 1.4274e-07\n",
            "Epoch 41/200\n",
            "31/31 [==============================] - 1s 16ms/step - loss: 1.5310e-07\n",
            "Epoch 42/200\n",
            "31/31 [==============================] - 1s 16ms/step - loss: 1.6708e-07\n",
            "Epoch 43/200\n",
            "31/31 [==============================] - 1s 16ms/step - loss: 1.2880e-07\n",
            "Epoch 44/200\n",
            "31/31 [==============================] - 1s 16ms/step - loss: 1.5571e-07\n",
            "Epoch 45/200\n",
            "31/31 [==============================] - 1s 17ms/step - loss: 1.5220e-07\n",
            "Epoch 46/200\n",
            "31/31 [==============================] - 1s 18ms/step - loss: 1.7009e-07\n",
            "Epoch 47/200\n",
            "31/31 [==============================] - 1s 17ms/step - loss: 1.5602e-07\n",
            "Epoch 48/200\n",
            "31/31 [==============================] - 1s 17ms/step - loss: 1.5645e-07\n",
            "Epoch 49/200\n",
            "31/31 [==============================] - 1s 16ms/step - loss: 1.5039e-07\n",
            "Epoch 50/200\n",
            "31/31 [==============================] - 1s 16ms/step - loss: 1.7115e-07\n",
            "Epoch 51/200\n",
            "31/31 [==============================] - 1s 17ms/step - loss: 1.5188e-07\n",
            "Epoch 52/200\n",
            "31/31 [==============================] - 1s 16ms/step - loss: 1.5457e-07\n",
            "Epoch 53/200\n",
            "31/31 [==============================] - 1s 17ms/step - loss: 1.3996e-07\n",
            "Epoch 54/200\n",
            "31/31 [==============================] - 1s 16ms/step - loss: 1.6609e-07\n",
            "Epoch 55/200\n",
            "31/31 [==============================] - 1s 17ms/step - loss: 1.4136e-07\n",
            "Epoch 56/200\n",
            "31/31 [==============================] - 1s 17ms/step - loss: 1.3400e-07\n",
            "Epoch 57/200\n",
            "31/31 [==============================] - 1s 16ms/step - loss: 1.4422e-07\n",
            "Epoch 58/200\n",
            "31/31 [==============================] - 1s 16ms/step - loss: 1.3872e-07\n",
            "Epoch 59/200\n",
            "31/31 [==============================] - 0s 16ms/step - loss: 1.4312e-07\n",
            "Epoch 60/200\n",
            "31/31 [==============================] - 1s 17ms/step - loss: 1.4278e-07\n",
            "Epoch 61/200\n",
            "31/31 [==============================] - 1s 17ms/step - loss: 1.5305e-07\n",
            "Epoch 62/200\n",
            "31/31 [==============================] - 1s 17ms/step - loss: 1.7129e-07\n",
            "Epoch 63/200\n",
            "31/31 [==============================] - 1s 16ms/step - loss: 1.4648e-07\n",
            "Epoch 64/200\n",
            "31/31 [==============================] - 1s 16ms/step - loss: 1.3441e-07\n",
            "Epoch 65/200\n",
            "31/31 [==============================] - 1s 17ms/step - loss: 1.4153e-07\n",
            "Epoch 66/200\n",
            "31/31 [==============================] - 1s 17ms/step - loss: 1.6800e-07\n",
            "Epoch 67/200\n",
            "31/31 [==============================] - 1s 17ms/step - loss: 1.4697e-07\n",
            "Epoch 68/200\n",
            "31/31 [==============================] - 1s 17ms/step - loss: 1.4519e-07\n",
            "Epoch 69/200\n",
            "31/31 [==============================] - 1s 16ms/step - loss: 1.4960e-07\n",
            "Epoch 70/200\n",
            "31/31 [==============================] - 1s 18ms/step - loss: 1.4970e-07\n",
            "Epoch 71/200\n",
            "31/31 [==============================] - 1s 16ms/step - loss: 1.2668e-07\n",
            "Epoch 72/200\n",
            "31/31 [==============================] - 1s 17ms/step - loss: 1.3510e-07\n",
            "Epoch 73/200\n",
            "31/31 [==============================] - 0s 16ms/step - loss: 1.3633e-07\n",
            "Epoch 74/200\n",
            "31/31 [==============================] - 1s 17ms/step - loss: 1.5011e-07\n",
            "Epoch 75/200\n",
            "31/31 [==============================] - 1s 17ms/step - loss: 1.9164e-07\n",
            "Epoch 76/200\n",
            "31/31 [==============================] - 1s 16ms/step - loss: 1.5426e-07\n",
            "Epoch 77/200\n",
            "31/31 [==============================] - 1s 16ms/step - loss: 1.4990e-07\n",
            "Epoch 78/200\n",
            "31/31 [==============================] - 1s 18ms/step - loss: 1.4202e-07\n",
            "Epoch 79/200\n",
            "31/31 [==============================] - 1s 17ms/step - loss: 1.5659e-07\n",
            "Epoch 80/200\n",
            "31/31 [==============================] - 0s 16ms/step - loss: 1.3355e-07\n",
            "Epoch 81/200\n",
            "31/31 [==============================] - 1s 16ms/step - loss: 1.2354e-07\n",
            "Epoch 82/200\n",
            "31/31 [==============================] - 1s 16ms/step - loss: 1.4104e-07\n",
            "Epoch 83/200\n",
            "31/31 [==============================] - 0s 16ms/step - loss: 1.3559e-07\n",
            "Epoch 84/200\n",
            "31/31 [==============================] - 1s 17ms/step - loss: 1.5037e-07\n",
            "Epoch 85/200\n",
            "31/31 [==============================] - 1s 16ms/step - loss: 1.3085e-07\n",
            "Epoch 86/200\n",
            "31/31 [==============================] - 1s 18ms/step - loss: 1.5081e-07\n",
            "Epoch 87/200\n",
            "31/31 [==============================] - 1s 16ms/step - loss: 1.6472e-07\n",
            "Epoch 88/200\n",
            "31/31 [==============================] - 1s 16ms/step - loss: 1.2896e-07\n",
            "Epoch 89/200\n",
            "31/31 [==============================] - 1s 16ms/step - loss: 1.3585e-07\n",
            "Epoch 90/200\n",
            "31/31 [==============================] - 1s 17ms/step - loss: 1.5737e-07\n",
            "Epoch 91/200\n",
            "31/31 [==============================] - 1s 17ms/step - loss: 1.4781e-07\n",
            "Epoch 92/200\n",
            "31/31 [==============================] - 1s 17ms/step - loss: 1.3692e-07\n",
            "Epoch 93/200\n",
            "31/31 [==============================] - 0s 16ms/step - loss: 1.3754e-07\n",
            "Epoch 94/200\n",
            "31/31 [==============================] - 0s 16ms/step - loss: 1.4119e-07\n",
            "Epoch 95/200\n",
            "31/31 [==============================] - 1s 18ms/step - loss: 1.3590e-07\n",
            "Epoch 96/200\n",
            "31/31 [==============================] - 1s 17ms/step - loss: 1.4051e-07\n",
            "Epoch 97/200\n",
            "31/31 [==============================] - 1s 17ms/step - loss: 1.5538e-07\n",
            "Epoch 98/200\n",
            "31/31 [==============================] - 1s 16ms/step - loss: 1.6669e-07\n",
            "Epoch 99/200\n",
            "31/31 [==============================] - 1s 16ms/step - loss: 1.4873e-07\n",
            "Epoch 100/200\n",
            "31/31 [==============================] - 1s 17ms/step - loss: 1.3690e-07\n",
            "Epoch 101/200\n",
            "31/31 [==============================] - 1s 16ms/step - loss: 1.2893e-07\n",
            "Epoch 102/200\n",
            "31/31 [==============================] - 1s 17ms/step - loss: 1.4938e-07\n",
            "Epoch 103/200\n",
            "31/31 [==============================] - 1s 17ms/step - loss: 1.3126e-07\n",
            "Epoch 104/200\n",
            "31/31 [==============================] - 1s 17ms/step - loss: 1.4546e-07\n",
            "Epoch 105/200\n",
            "31/31 [==============================] - 1s 17ms/step - loss: 1.6495e-07\n",
            "Epoch 106/200\n",
            "31/31 [==============================] - 1s 17ms/step - loss: 1.4300e-07\n",
            "Epoch 107/200\n",
            "31/31 [==============================] - 1s 17ms/step - loss: 1.4937e-07\n",
            "Epoch 108/200\n",
            "31/31 [==============================] - 1s 18ms/step - loss: 1.4746e-07\n",
            "Epoch 109/200\n",
            "31/31 [==============================] - 1s 17ms/step - loss: 1.4072e-07\n",
            "Epoch 110/200\n",
            "31/31 [==============================] - 1s 16ms/step - loss: 1.5362e-07\n",
            "Epoch 111/200\n",
            "31/31 [==============================] - 1s 16ms/step - loss: 1.2985e-07\n",
            "Epoch 112/200\n",
            "31/31 [==============================] - 1s 17ms/step - loss: 1.4954e-07\n",
            "Epoch 113/200\n",
            "31/31 [==============================] - 1s 16ms/step - loss: 1.2983e-07\n",
            "Epoch 114/200\n",
            "31/31 [==============================] - 1s 17ms/step - loss: 1.3597e-07\n",
            "Epoch 115/200\n",
            "31/31 [==============================] - 1s 17ms/step - loss: 1.3358e-07\n",
            "Epoch 116/200\n",
            "31/31 [==============================] - 1s 17ms/step - loss: 2.0509e-07\n",
            "Epoch 117/200\n",
            "31/31 [==============================] - 1s 17ms/step - loss: 1.2337e-07\n",
            "Epoch 118/200\n",
            "31/31 [==============================] - 1s 16ms/step - loss: 1.4805e-07\n",
            "Epoch 119/200\n",
            "31/31 [==============================] - 1s 18ms/step - loss: 1.5314e-07\n",
            "Epoch 120/200\n",
            "31/31 [==============================] - 1s 16ms/step - loss: 1.4148e-07\n",
            "Epoch 121/200\n",
            "31/31 [==============================] - 1s 17ms/step - loss: 1.5388e-07\n",
            "Epoch 122/200\n",
            "31/31 [==============================] - 1s 17ms/step - loss: 1.4418e-07\n",
            "Epoch 123/200\n",
            "31/31 [==============================] - 1s 16ms/step - loss: 1.6149e-07\n",
            "Epoch 124/200\n",
            "31/31 [==============================] - 1s 17ms/step - loss: 1.6090e-07\n",
            "Epoch 125/200\n",
            "31/31 [==============================] - 1s 17ms/step - loss: 1.4133e-07\n",
            "Epoch 126/200\n",
            "31/31 [==============================] - 1s 18ms/step - loss: 1.7675e-07\n",
            "Epoch 127/200\n",
            "31/31 [==============================] - 1s 17ms/step - loss: 1.4324e-07\n",
            "Epoch 128/200\n",
            "31/31 [==============================] - 1s 17ms/step - loss: 1.3739e-07\n",
            "Epoch 129/200\n",
            "31/31 [==============================] - 1s 16ms/step - loss: 1.5301e-07\n",
            "Epoch 130/200\n",
            "31/31 [==============================] - 1s 17ms/step - loss: 1.3500e-07\n",
            "Epoch 131/200\n",
            "31/31 [==============================] - 1s 16ms/step - loss: 1.2726e-07\n",
            "Epoch 132/200\n",
            "31/31 [==============================] - 1s 17ms/step - loss: 1.2974e-07\n",
            "Epoch 133/200\n",
            "31/31 [==============================] - 1s 18ms/step - loss: 1.2947e-07\n",
            "Epoch 134/200\n",
            "31/31 [==============================] - 1s 17ms/step - loss: 1.4458e-07\n",
            "Epoch 135/200\n",
            "31/31 [==============================] - 1s 17ms/step - loss: 1.4843e-07\n",
            "Epoch 136/200\n",
            "31/31 [==============================] - 1s 16ms/step - loss: 1.4307e-07\n",
            "Epoch 137/200\n",
            "31/31 [==============================] - 1s 17ms/step - loss: 1.5306e-07\n",
            "Epoch 138/200\n",
            "31/31 [==============================] - 1s 17ms/step - loss: 1.2280e-07\n",
            "Epoch 139/200\n",
            "31/31 [==============================] - 1s 18ms/step - loss: 1.4082e-07\n",
            "Epoch 140/200\n",
            "31/31 [==============================] - 1s 17ms/step - loss: 1.5876e-07\n",
            "Epoch 141/200\n",
            "31/31 [==============================] - 1s 17ms/step - loss: 1.5047e-07\n",
            "Epoch 142/200\n",
            "31/31 [==============================] - 1s 17ms/step - loss: 1.8265e-07\n",
            "Epoch 143/200\n",
            "31/31 [==============================] - 1s 17ms/step - loss: 1.8002e-07\n",
            "Epoch 144/200\n",
            "31/31 [==============================] - 1s 17ms/step - loss: 1.3179e-07\n",
            "Epoch 145/200\n",
            "31/31 [==============================] - 1s 17ms/step - loss: 1.5414e-07\n",
            "Epoch 146/200\n",
            "31/31 [==============================] - 1s 17ms/step - loss: 1.3639e-07\n",
            "Epoch 147/200\n",
            "31/31 [==============================] - 1s 17ms/step - loss: 1.1350e-07\n",
            "Epoch 148/200\n",
            "31/31 [==============================] - 1s 17ms/step - loss: 1.2770e-07\n",
            "Epoch 149/200\n",
            "31/31 [==============================] - 1s 17ms/step - loss: 1.4164e-07\n",
            "Epoch 150/200\n",
            "31/31 [==============================] - 1s 17ms/step - loss: 1.4122e-07\n",
            "Epoch 151/200\n",
            "31/31 [==============================] - 1s 17ms/step - loss: 1.3088e-07\n",
            "Epoch 152/200\n",
            "31/31 [==============================] - 1s 16ms/step - loss: 1.3059e-07\n",
            "Epoch 153/200\n",
            "31/31 [==============================] - 1s 17ms/step - loss: 1.5587e-07\n",
            "Epoch 154/200\n",
            "31/31 [==============================] - 1s 17ms/step - loss: 1.3943e-07\n",
            "Epoch 155/200\n",
            "31/31 [==============================] - 1s 17ms/step - loss: 1.2683e-07\n",
            "Epoch 156/200\n",
            "31/31 [==============================] - 1s 17ms/step - loss: 1.2812e-07\n",
            "Epoch 157/200\n",
            "31/31 [==============================] - 1s 17ms/step - loss: 1.3379e-07\n",
            "Epoch 158/200\n",
            "31/31 [==============================] - 1s 17ms/step - loss: 1.4943e-07\n",
            "Epoch 159/200\n",
            "31/31 [==============================] - 1s 17ms/step - loss: 1.4708e-07\n",
            "Epoch 160/200\n",
            "31/31 [==============================] - 1s 17ms/step - loss: 1.3591e-07\n",
            "Epoch 161/200\n",
            "31/31 [==============================] - 1s 16ms/step - loss: 1.5952e-07\n",
            "Epoch 162/200\n",
            "31/31 [==============================] - 1s 19ms/step - loss: 1.3969e-07\n",
            "Epoch 163/200\n",
            "31/31 [==============================] - 1s 16ms/step - loss: 1.3111e-07\n",
            "Epoch 164/200\n",
            "31/31 [==============================] - 1s 17ms/step - loss: 1.4170e-07\n",
            "Epoch 165/200\n",
            "31/31 [==============================] - 1s 17ms/step - loss: 1.4381e-07\n",
            "Epoch 166/200\n",
            "31/31 [==============================] - 1s 17ms/step - loss: 1.3279e-07\n",
            "Epoch 167/200\n",
            "31/31 [==============================] - 1s 16ms/step - loss: 1.3620e-07\n",
            "Epoch 168/200\n",
            "31/31 [==============================] - 1s 17ms/step - loss: 1.4511e-07\n",
            "Epoch 169/200\n",
            "31/31 [==============================] - 1s 17ms/step - loss: 1.3757e-07\n",
            "Epoch 170/200\n",
            "31/31 [==============================] - 1s 17ms/step - loss: 1.1706e-07\n",
            "Epoch 171/200\n",
            "31/31 [==============================] - 1s 18ms/step - loss: 1.4627e-07\n",
            "Epoch 172/200\n",
            "31/31 [==============================] - 1s 16ms/step - loss: 1.5006e-07\n",
            "Epoch 173/200\n",
            "31/31 [==============================] - 1s 17ms/step - loss: 1.3453e-07\n",
            "Epoch 174/200\n",
            "31/31 [==============================] - 1s 17ms/step - loss: 1.2947e-07\n",
            "Epoch 175/200\n",
            "31/31 [==============================] - 1s 17ms/step - loss: 1.7308e-07\n",
            "Epoch 176/200\n",
            "31/31 [==============================] - 1s 16ms/step - loss: 1.4275e-07\n",
            "Epoch 177/200\n",
            "31/31 [==============================] - 1s 17ms/step - loss: 1.2271e-07\n",
            "Epoch 178/200\n",
            "31/31 [==============================] - 1s 17ms/step - loss: 1.3941e-07\n",
            "Epoch 179/200\n",
            "31/31 [==============================] - 1s 17ms/step - loss: 1.2033e-07\n",
            "Epoch 180/200\n",
            "31/31 [==============================] - 1s 17ms/step - loss: 1.4438e-07\n",
            "Epoch 181/200\n",
            "31/31 [==============================] - 1s 17ms/step - loss: 1.2523e-07\n",
            "Epoch 182/200\n",
            "31/31 [==============================] - 1s 16ms/step - loss: 1.2696e-07\n",
            "Epoch 183/200\n",
            "31/31 [==============================] - 1s 18ms/step - loss: 1.4468e-07\n",
            "Epoch 184/200\n",
            "31/31 [==============================] - 1s 17ms/step - loss: 1.4279e-07\n",
            "Epoch 185/200\n",
            "31/31 [==============================] - 1s 17ms/step - loss: 1.5748e-07\n",
            "Epoch 186/200\n",
            "31/31 [==============================] - 1s 18ms/step - loss: 1.2045e-07\n",
            "Epoch 187/200\n",
            "31/31 [==============================] - 1s 18ms/step - loss: 1.3931e-07\n",
            "Epoch 188/200\n",
            "31/31 [==============================] - 1s 18ms/step - loss: 1.2858e-07\n",
            "Epoch 189/200\n",
            "31/31 [==============================] - 1s 17ms/step - loss: 1.3235e-07\n",
            "Epoch 190/200\n",
            "31/31 [==============================] - 1s 17ms/step - loss: 1.2918e-07\n",
            "Epoch 191/200\n",
            "31/31 [==============================] - 1s 17ms/step - loss: 1.1733e-07\n",
            "Epoch 192/200\n",
            "31/31 [==============================] - 1s 17ms/step - loss: 1.2852e-07\n",
            "Epoch 193/200\n",
            "31/31 [==============================] - 1s 18ms/step - loss: 1.5345e-07\n",
            "Epoch 194/200\n",
            "31/31 [==============================] - 1s 17ms/step - loss: 1.2477e-07\n",
            "Epoch 195/200\n",
            "31/31 [==============================] - 1s 17ms/step - loss: 1.4752e-07\n",
            "Epoch 196/200\n",
            "31/31 [==============================] - 1s 17ms/step - loss: 1.3278e-07\n",
            "Epoch 197/200\n",
            "31/31 [==============================] - 1s 18ms/step - loss: 1.4532e-07\n",
            "Epoch 198/200\n",
            "31/31 [==============================] - 1s 19ms/step - loss: 1.3532e-07\n",
            "Epoch 199/200\n",
            "31/31 [==============================] - 1s 17ms/step - loss: 1.3779e-07\n",
            "Epoch 200/200\n",
            "31/31 [==============================] - 1s 18ms/step - loss: 1.2568e-07\n"
          ],
          "name": "stdout"
        },
        {
          "output_type": "execute_result",
          "data": {
            "text/plain": [
              "<tensorflow.python.keras.callbacks.History at 0x7f007aaee1d0>"
            ]
          },
          "metadata": {
            "tags": []
          },
          "execution_count": 96
        }
      ]
    },
    {
      "cell_type": "code",
      "metadata": {
        "id": "Ak2mmWMgMDvh"
      },
      "source": [
        "y_pred = model.predict(X_test)"
      ],
      "execution_count": 99,
      "outputs": []
    },
    {
      "cell_type": "code",
      "metadata": {
        "colab": {
          "base_uri": "https://localhost:8080/"
        },
        "id": "lmH9S8G8N8Je",
        "outputId": "9d766624-5fe4-44c8-dfdb-ae5c0f5dd498"
      },
      "source": [
        "#y_pred = y_pred.reshape(-1)\n",
        "y_test = y_test.reshape(-1)\n",
        "y_pred.shape\n",
        "y_plot = []\n",
        "for i in y_pred:\n",
        "  y_plot.append(i[-1])\n"
      ],
      "execution_count": 107,
      "outputs": [
        {
          "output_type": "execute_result",
          "data": {
            "text/plain": [
              "array([ 7.1644317e-06, -2.1213538e-04, -1.4487865e-04,  1.8843335e-04,\n",
              "        3.5403398e-05, -1.8362669e-04, -2.9062030e-05, -2.3514795e-04,\n",
              "       -1.1421159e-04,  2.0268037e-04], dtype=float32)"
            ]
          },
          "metadata": {
            "tags": []
          },
          "execution_count": 107
        }
      ]
    },
    {
      "cell_type": "code",
      "metadata": {
        "colab": {
          "base_uri": "https://localhost:8080/",
          "height": 265
        },
        "id": "pCDplYgmN90s",
        "outputId": "cb4eba1f-b491-4977-9ec4-cf176ef4647d"
      },
      "source": [
        "plt.plot(y_plot, color = 'red', label = 'prediction')\n",
        "plt.plot(y_test, color = 'blue', label ='reality')\n",
        "plt.show()"
      ],
      "execution_count": 108,
      "outputs": [
        {
          "output_type": "display_data",
          "data": {
            "image/png": "[encoded data removed]",
            "text/plain": [
              "<Figure size 432x288 with 1 Axes>"
            ]
          },
          "metadata": {
            "tags": [],
            "needs_background": "light"
          }
        }
      ]
    },
    {
      "cell_type": "code",
      "metadata": {
        "colab": {
          "base_uri": "https://localhost:8080/",
          "height": 265
        },
        "id": "-DHln0C6OUmS",
        "outputId": "bd2ddb65-e2d8-4348-b8ad-9342df81ebf4"
      },
      "source": [
        "plt.plot(y_pred)\n",
        "plt.show()"
      ],
      "execution_count": 110,
      "outputs": [
        {
          "output_type": "display_data",
          "data": {
            "image/png": "[encoded data removed]",
            "text/plain": [
              "<Figure size 432x288 with 1 Axes>"
            ]
          },
          "metadata": {
            "tags": [],
            "needs_background": "light"
          }
        }
      ]
    },
    {
      "cell_type": "code",
      "metadata": {
        "id": "7f7sxb0yP1k_"
      },
      "source": [
        ""
      ],
      "execution_count": null,
      "outputs": []
    }
  ]
}