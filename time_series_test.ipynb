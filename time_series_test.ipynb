{
  "nbformat": 4,
  "nbformat_minor": 0,
  "metadata": {
    "colab": {
      "name": "time_series_test.ipynb",
      "provenance": [],
      "authorship_tag": "ABX9TyPam5d/Nm02Z3rjF2E1R1ah",
      "include_colab_link": true
    },
    "kernelspec": {
      "name": "python3",
      "display_name": "Python 3"
    }
  },
  "cells": [
    {
      "cell_type": "markdown",
      "metadata": {
        "id": "view-in-github",
        "colab_type": "text"
      },
      "source": [
        "<a href=\"https://colab.research.google.com/github/jangvu/Project_by_me/blob/main/time_series_test.ipynb\" target=\"_parent\"><img src=\"https://colab.research.google.com/assets/colab-badge.svg\" alt=\"Open In Colab\"/></a>"
      ]
    },
    {
      "cell_type": "code",
      "metadata": {
        "id": "I0TPccyS2dmu"
      },
      "source": [
        "import matplotlib.pyplot as plt\n",
        "import numpy as np\n",
        "import tensorflow as tf\n",
        "from tensorflow import keras\n",
        "import pandas as pd"
      ],
      "execution_count": 1,
      "outputs": []
    },
    {
      "cell_type": "code",
      "metadata": {
        "id": "l3WhP0v4_QHj"
      },
      "source": [
        "raw_data = np.load('/content/data_train_candidate.npy')\n",
        "test_data = np.load('/content/data_test_candidate.npy')"
      ],
      "execution_count": 2,
      "outputs": []
    },
    {
      "cell_type": "code",
      "metadata": {
        "id": "VnE7sKmW_Vqq"
      },
      "source": [
        "X_full, y_full = raw_data[:,:3], raw_data[:,3:]\n",
        "X_test_full, y_test_full = test_data[:,:3], test_data[:,3:]"
      ],
      "execution_count": 3,
      "outputs": []
    },
    {
      "cell_type": "code",
      "metadata": {
        "id": "DVvQQm1r_XwA"
      },
      "source": [
        "'''def getdata(data,windowsize,shift):\n",
        "  X_data = []\n",
        "  y_data = []\n",
        "  for i in range(len(data) - windowsize - shift):\n",
        "    X_data.append(data[i:i+ windowsize, :])\n",
        "    y_data.append(data[i+windowsize:i+windowsize+shift])\n",
        "  return X_data, y_data"
      ],
      "execution_count": null,
      "outputs": []
    },
    {
      "cell_type": "code",
      "metadata": {
        "id": "pVzvOvKH_pia"
      },
      "source": [
        "'''X_train = getdata(X_full,10,1)\n",
        "y_train = getdata(y_full,10,1)"
      ],
      "execution_count": null,
      "outputs": []
    },
    {
      "cell_type": "code",
      "metadata": {
        "id": "h1lKk13PA0VV"
      },
      "source": [
        "'''X_train[800]"
      ],
      "execution_count": null,
      "outputs": []
    },
    {
      "cell_type": "code",
      "metadata": {
        "id": "l-EgfjjrDuSt"
      },
      "source": [
        "'''X_train.shape"
      ],
      "execution_count": null,
      "outputs": []
    },
    {
      "cell_type": "code",
      "metadata": {
        "cellView": "code",
        "id": "xv3KYN6uA1ak"
      },
      "source": [
        "X_data = []\n",
        "y_data = []\n",
        "data = X_full\n",
        "X_test = []\n",
        "y_test = []\n",
        "windowsize = 10\n",
        "shift = 1\n",
        "for i in range(len(data) - windowsize - shift):\n",
        "  X_data.append(X_full[i:i+ windowsize, :])\n",
        "  y_data.append(y_full[i+windowsize: i+windowsize+shift, :])\n",
        "  X_test.append(X_test_full[i:i+ windowsize, :])\n",
        "  y_test.append(y_test_full[i+windowsize: i+windowsize+shift, :])\n"
      ],
      "execution_count": 4,
      "outputs": []
    },
    {
      "cell_type": "code",
      "metadata": {
        "cellView": "code",
        "id": "7bxfR3ZGC5Fk"
      },
      "source": [
        "X_data = np.asarray(X_data)\n",
        "y_data = np.asarray(y_data)\n",
        "\n",
        "X_test = np.asarray(X_test)\n",
        "y_test = np.asarray(y_test)"
      ],
      "execution_count": 5,
      "outputs": []
    },
    {
      "cell_type": "code",
      "metadata": {
        "colab": {
          "base_uri": "https://localhost:8080/"
        },
        "id": "sj6Xi2eDC8Cl",
        "outputId": "76c6db30-153a-49df-d778-6771b0427be3"
      },
      "source": [
        "print(X_data.shape)\n",
        "print(y_data.shape)\n",
        "X_data = X_data.reshape(-1,10,3)\n",
        "y_data = y_data.reshape(-1)"
      ],
      "execution_count": 9,
      "outputs": [
        {
          "output_type": "stream",
          "text": [
            "(989, 10, 3)\n",
            "(989, 1, 1)\n"
          ],
          "name": "stdout"
        }
      ]
    },
    {
      "cell_type": "code",
      "metadata": {
        "id": "6ZqqECu2Egkv"
      },
      "source": [
        "n_input = 10\n",
        "n_features = 3\n",
        "\n",
        "model = keras.models.Sequential()\n",
        "model.add(keras.layers.LSTM(units=50,activation='relu', input_shape=(n_input, n_features), return_sequences=True))\n",
        "model.add(keras.layers.Dropout(0.3))\n",
        "\n",
        "model.add(keras.layers.LSTM(units=50, return_sequences=True))\n",
        "model.add(keras.layers.Dropout(0.3))\n",
        "\n",
        "model.add(keras.layers.LSTM(units=50))\n",
        "model.add(keras.layers.Dropout(0.3))\n",
        "model.add(keras.layers.Dense(10))\n",
        "model.compile(optimizer='adam', loss='mse')"
      ],
      "execution_count": 10,
      "outputs": []
    },
    {
      "cell_type": "code",
      "metadata": {
        "colab": {
          "base_uri": "https://localhost:8080/"
        },
        "id": "JUGz4PdvLltc",
        "outputId": "c1a79413-cddf-445b-dc17-94ba78b6ed11"
      },
      "source": [
        "model.fit(X_data,y_data,epochs=200)"
      ],
      "execution_count": 11,
      "outputs": [
        {
          "output_type": "stream",
          "text": [
            "Epoch 1/200\n",
            "31/31 [==============================] - 4s 16ms/step - loss: 4.2459e-06\n",
            "Epoch 2/200\n",
            "31/31 [==============================] - 0s 16ms/step - loss: 3.7951e-07\n",
            "Epoch 3/200\n",
            "31/31 [==============================] - 1s 17ms/step - loss: 1.2087e-07\n",
            "Epoch 4/200\n",
            "31/31 [==============================] - 0s 16ms/step - loss: 1.1277e-07\n",
            "Epoch 5/200\n",
            "31/31 [==============================] - 0s 15ms/step - loss: 1.1446e-07\n",
            "Epoch 6/200\n",
            "31/31 [==============================] - 1s 19ms/step - loss: 1.1019e-07\n",
            "Epoch 7/200\n",
            "31/31 [==============================] - 1s 19ms/step - loss: 1.3545e-07\n",
            "Epoch 8/200\n",
            "31/31 [==============================] - 1s 19ms/step - loss: 1.2230e-07\n",
            "Epoch 9/200\n",
            "31/31 [==============================] - 0s 16ms/step - loss: 1.3427e-07\n",
            "Epoch 10/200\n",
            "31/31 [==============================] - 1s 16ms/step - loss: 1.1924e-07\n",
            "Epoch 11/200\n",
            "31/31 [==============================] - 0s 16ms/step - loss: 1.3048e-07\n",
            "Epoch 12/200\n",
            "31/31 [==============================] - 0s 16ms/step - loss: 1.4262e-07\n",
            "Epoch 13/200\n",
            "31/31 [==============================] - 1s 16ms/step - loss: 1.2980e-07\n",
            "Epoch 14/200\n",
            "31/31 [==============================] - 0s 15ms/step - loss: 1.3417e-07\n",
            "Epoch 15/200\n",
            "31/31 [==============================] - 0s 16ms/step - loss: 1.3470e-07\n",
            "Epoch 16/200\n",
            "31/31 [==============================] - 0s 16ms/step - loss: 1.2987e-07\n",
            "Epoch 17/200\n",
            "31/31 [==============================] - 0s 16ms/step - loss: 1.2765e-07\n",
            "Epoch 18/200\n",
            "31/31 [==============================] - 1s 16ms/step - loss: 1.4219e-07\n",
            "Epoch 19/200\n",
            "31/31 [==============================] - 0s 16ms/step - loss: 1.4100e-07\n",
            "Epoch 20/200\n",
            "31/31 [==============================] - 0s 16ms/step - loss: 1.5210e-07\n",
            "Epoch 21/200\n",
            "31/31 [==============================] - 0s 16ms/step - loss: 1.4660e-07\n",
            "Epoch 22/200\n",
            "31/31 [==============================] - 1s 16ms/step - loss: 1.4964e-07\n",
            "Epoch 23/200\n",
            "31/31 [==============================] - 0s 15ms/step - loss: 1.5569e-07\n",
            "Epoch 24/200\n",
            "31/31 [==============================] - 1s 16ms/step - loss: 1.5880e-07\n",
            "Epoch 25/200\n",
            "31/31 [==============================] - 0s 16ms/step - loss: 1.4547e-07\n",
            "Epoch 26/200\n",
            "31/31 [==============================] - 0s 16ms/step - loss: 1.8058e-07\n",
            "Epoch 27/200\n",
            "31/31 [==============================] - 0s 16ms/step - loss: 1.4788e-07\n",
            "Epoch 28/200\n",
            "31/31 [==============================] - 0s 16ms/step - loss: 1.3564e-07\n",
            "Epoch 29/200\n",
            "31/31 [==============================] - 0s 16ms/step - loss: 1.5749e-07\n",
            "Epoch 30/200\n",
            "31/31 [==============================] - 1s 16ms/step - loss: 1.6241e-07\n",
            "Epoch 31/200\n",
            "31/31 [==============================] - 1s 16ms/step - loss: 1.6864e-07\n",
            "Epoch 32/200\n",
            "31/31 [==============================] - 0s 16ms/step - loss: 1.6394e-07\n",
            "Epoch 33/200\n",
            "31/31 [==============================] - 0s 16ms/step - loss: 1.3808e-07\n",
            "Epoch 34/200\n",
            "31/31 [==============================] - 1s 16ms/step - loss: 1.4484e-07\n",
            "Epoch 35/200\n",
            "31/31 [==============================] - 1s 17ms/step - loss: 1.3124e-07\n",
            "Epoch 36/200\n",
            "31/31 [==============================] - 0s 16ms/step - loss: 1.4221e-07\n",
            "Epoch 37/200\n",
            "31/31 [==============================] - 1s 16ms/step - loss: 1.4095e-07\n",
            "Epoch 38/200\n",
            "31/31 [==============================] - 0s 16ms/step - loss: 1.9248e-07\n",
            "Epoch 39/200\n",
            "31/31 [==============================] - 1s 16ms/step - loss: 1.4344e-07\n",
            "Epoch 40/200\n",
            "31/31 [==============================] - 1s 16ms/step - loss: 1.2772e-07\n",
            "Epoch 41/200\n",
            "31/31 [==============================] - 1s 16ms/step - loss: 1.5660e-07\n",
            "Epoch 42/200\n",
            "31/31 [==============================] - 1s 17ms/step - loss: 1.4857e-07\n",
            "Epoch 43/200\n",
            "31/31 [==============================] - 1s 19ms/step - loss: 1.5889e-07\n",
            "Epoch 44/200\n",
            "31/31 [==============================] - 1s 18ms/step - loss: 1.2927e-07\n",
            "Epoch 45/200\n",
            "31/31 [==============================] - 1s 16ms/step - loss: 1.7405e-07\n",
            "Epoch 46/200\n",
            "31/31 [==============================] - 1s 16ms/step - loss: 1.6288e-07\n",
            "Epoch 47/200\n",
            "31/31 [==============================] - 1s 19ms/step - loss: 1.6713e-07\n",
            "Epoch 48/200\n",
            "31/31 [==============================] - 1s 17ms/step - loss: 1.4232e-07\n",
            "Epoch 49/200\n",
            "31/31 [==============================] - 1s 16ms/step - loss: 1.4029e-07\n",
            "Epoch 50/200\n",
            "31/31 [==============================] - 1s 16ms/step - loss: 1.9209e-07\n",
            "Epoch 51/200\n",
            "31/31 [==============================] - 0s 16ms/step - loss: 1.5078e-07\n",
            "Epoch 52/200\n",
            "31/31 [==============================] - 1s 16ms/step - loss: 1.8220e-07\n",
            "Epoch 53/200\n",
            "31/31 [==============================] - 0s 16ms/step - loss: 2.6316e-07\n",
            "Epoch 54/200\n",
            "31/31 [==============================] - 0s 16ms/step - loss: 1.6204e-07\n",
            "Epoch 55/200\n",
            "31/31 [==============================] - 0s 16ms/step - loss: 1.3976e-07\n",
            "Epoch 56/200\n",
            "31/31 [==============================] - 1s 16ms/step - loss: 1.8649e-07\n",
            "Epoch 57/200\n",
            "31/31 [==============================] - 0s 16ms/step - loss: 1.5624e-07\n",
            "Epoch 58/200\n",
            "31/31 [==============================] - 0s 16ms/step - loss: 1.4190e-07\n",
            "Epoch 59/200\n",
            "31/31 [==============================] - 1s 18ms/step - loss: 1.1724e-07\n",
            "Epoch 60/200\n",
            "31/31 [==============================] - 1s 16ms/step - loss: 1.5508e-07\n",
            "Epoch 61/200\n",
            "31/31 [==============================] - 1s 17ms/step - loss: 1.5517e-07\n",
            "Epoch 62/200\n",
            "31/31 [==============================] - 1s 17ms/step - loss: 1.6633e-07\n",
            "Epoch 63/200\n",
            "31/31 [==============================] - 1s 16ms/step - loss: 1.8881e-07\n",
            "Epoch 64/200\n",
            "31/31 [==============================] - 1s 16ms/step - loss: 1.4330e-07\n",
            "Epoch 65/200\n",
            "31/31 [==============================] - 1s 16ms/step - loss: 1.9694e-07\n",
            "Epoch 66/200\n",
            "31/31 [==============================] - 1s 17ms/step - loss: 1.4293e-07\n",
            "Epoch 67/200\n",
            "31/31 [==============================] - 1s 16ms/step - loss: 1.4023e-07\n",
            "Epoch 68/200\n",
            "31/31 [==============================] - 0s 16ms/step - loss: 1.2197e-07\n",
            "Epoch 69/200\n",
            "31/31 [==============================] - 1s 18ms/step - loss: 1.2224e-07\n",
            "Epoch 70/200\n",
            "31/31 [==============================] - 0s 16ms/step - loss: 1.4788e-07\n",
            "Epoch 71/200\n",
            "31/31 [==============================] - 0s 16ms/step - loss: 1.6266e-07\n",
            "Epoch 72/200\n",
            "31/31 [==============================] - 0s 16ms/step - loss: 1.5877e-07\n",
            "Epoch 73/200\n",
            "31/31 [==============================] - 1s 18ms/step - loss: 1.3115e-07\n",
            "Epoch 74/200\n",
            "31/31 [==============================] - 0s 16ms/step - loss: 1.4948e-07\n",
            "Epoch 75/200\n",
            "31/31 [==============================] - 1s 17ms/step - loss: 1.4574e-07\n",
            "Epoch 76/200\n",
            "31/31 [==============================] - 0s 15ms/step - loss: 1.6649e-07\n",
            "Epoch 77/200\n",
            "31/31 [==============================] - 0s 16ms/step - loss: 1.3830e-07\n",
            "Epoch 78/200\n",
            "31/31 [==============================] - 0s 16ms/step - loss: 1.3661e-07\n",
            "Epoch 79/200\n",
            "31/31 [==============================] - 1s 17ms/step - loss: 1.5231e-07\n",
            "Epoch 80/200\n",
            "31/31 [==============================] - 0s 16ms/step - loss: 1.6092e-07\n",
            "Epoch 81/200\n",
            "31/31 [==============================] - 1s 16ms/step - loss: 1.5376e-07\n",
            "Epoch 82/200\n",
            "31/31 [==============================] - 1s 16ms/step - loss: 1.6384e-07\n",
            "Epoch 83/200\n",
            "31/31 [==============================] - 0s 16ms/step - loss: 1.3506e-07\n",
            "Epoch 84/200\n",
            "31/31 [==============================] - 0s 16ms/step - loss: 1.4118e-07\n",
            "Epoch 85/200\n",
            "31/31 [==============================] - 1s 16ms/step - loss: 1.4991e-07\n",
            "Epoch 86/200\n",
            "31/31 [==============================] - 1s 16ms/step - loss: 1.5779e-07\n",
            "Epoch 87/200\n",
            "31/31 [==============================] - 1s 16ms/step - loss: 1.3305e-07\n",
            "Epoch 88/200\n",
            "31/31 [==============================] - 1s 16ms/step - loss: 1.3532e-07\n",
            "Epoch 89/200\n",
            "31/31 [==============================] - 0s 16ms/step - loss: 1.7031e-07\n",
            "Epoch 90/200\n",
            "31/31 [==============================] - 0s 16ms/step - loss: 1.1925e-07\n",
            "Epoch 91/200\n",
            "31/31 [==============================] - 1s 16ms/step - loss: 1.2778e-07\n",
            "Epoch 92/200\n",
            "31/31 [==============================] - 1s 16ms/step - loss: 1.2502e-07\n",
            "Epoch 93/200\n",
            "31/31 [==============================] - 0s 16ms/step - loss: 1.7171e-07\n",
            "Epoch 94/200\n",
            "31/31 [==============================] - 0s 16ms/step - loss: 1.4865e-07\n",
            "Epoch 95/200\n",
            "31/31 [==============================] - 1s 16ms/step - loss: 1.3630e-07\n",
            "Epoch 96/200\n",
            "31/31 [==============================] - 0s 16ms/step - loss: 1.2854e-07\n",
            "Epoch 97/200\n",
            "31/31 [==============================] - 0s 16ms/step - loss: 1.2974e-07\n",
            "Epoch 98/200\n",
            "31/31 [==============================] - 1s 17ms/step - loss: 1.4839e-07\n",
            "Epoch 99/200\n",
            "31/31 [==============================] - 1s 16ms/step - loss: 1.6347e-07\n",
            "Epoch 100/200\n",
            "31/31 [==============================] - 1s 16ms/step - loss: 1.6258e-07\n",
            "Epoch 101/200\n",
            "31/31 [==============================] - 1s 18ms/step - loss: 1.4716e-07\n",
            "Epoch 102/200\n",
            "31/31 [==============================] - 1s 19ms/step - loss: 1.8802e-07\n",
            "Epoch 103/200\n",
            "31/31 [==============================] - 1s 17ms/step - loss: 2.0270e-07\n",
            "Epoch 104/200\n",
            "31/31 [==============================] - 0s 16ms/step - loss: 1.4434e-07\n",
            "Epoch 105/200\n",
            "31/31 [==============================] - 1s 16ms/step - loss: 1.4245e-07\n",
            "Epoch 106/200\n",
            "31/31 [==============================] - 1s 16ms/step - loss: 1.3162e-07\n",
            "Epoch 107/200\n",
            "31/31 [==============================] - 1s 18ms/step - loss: 1.4502e-07\n",
            "Epoch 108/200\n",
            "31/31 [==============================] - 0s 16ms/step - loss: 1.6027e-07\n",
            "Epoch 109/200\n",
            "31/31 [==============================] - 1s 16ms/step - loss: 1.5431e-07\n",
            "Epoch 110/200\n",
            "31/31 [==============================] - 1s 16ms/step - loss: 1.3259e-07\n",
            "Epoch 111/200\n",
            "31/31 [==============================] - 1s 18ms/step - loss: 1.1887e-07\n",
            "Epoch 112/200\n",
            "31/31 [==============================] - 0s 16ms/step - loss: 1.4636e-07\n",
            "Epoch 113/200\n",
            "31/31 [==============================] - 0s 16ms/step - loss: 1.4570e-07\n",
            "Epoch 114/200\n",
            "31/31 [==============================] - 1s 16ms/step - loss: 1.2896e-07\n",
            "Epoch 115/200\n",
            "31/31 [==============================] - 1s 17ms/step - loss: 1.5340e-07\n",
            "Epoch 116/200\n",
            "31/31 [==============================] - 1s 16ms/step - loss: 1.3150e-07\n",
            "Epoch 117/200\n",
            "31/31 [==============================] - 1s 17ms/step - loss: 1.2242e-07\n",
            "Epoch 118/200\n",
            "31/31 [==============================] - 1s 17ms/step - loss: 1.5463e-07\n",
            "Epoch 119/200\n",
            "31/31 [==============================] - 1s 18ms/step - loss: 1.3537e-07\n",
            "Epoch 120/200\n",
            "31/31 [==============================] - 1s 19ms/step - loss: 1.3217e-07\n",
            "Epoch 121/200\n",
            "31/31 [==============================] - 1s 16ms/step - loss: 1.6997e-07\n",
            "Epoch 122/200\n",
            "31/31 [==============================] - 0s 16ms/step - loss: 1.4803e-07\n",
            "Epoch 123/200\n",
            "31/31 [==============================] - 0s 16ms/step - loss: 1.3218e-07\n",
            "Epoch 124/200\n",
            "31/31 [==============================] - 0s 16ms/step - loss: 1.3153e-07\n",
            "Epoch 125/200\n",
            "31/31 [==============================] - 1s 16ms/step - loss: 1.6398e-07\n",
            "Epoch 126/200\n",
            "31/31 [==============================] - 1s 16ms/step - loss: 1.7686e-07\n",
            "Epoch 127/200\n",
            "31/31 [==============================] - 1s 16ms/step - loss: 1.3041e-07\n",
            "Epoch 128/200\n",
            "31/31 [==============================] - 1s 17ms/step - loss: 1.3303e-07\n",
            "Epoch 129/200\n",
            "31/31 [==============================] - 1s 16ms/step - loss: 1.5610e-07\n",
            "Epoch 130/200\n",
            "31/31 [==============================] - 1s 18ms/step - loss: 1.2352e-07\n",
            "Epoch 131/200\n",
            "31/31 [==============================] - 1s 18ms/step - loss: 1.3007e-07\n",
            "Epoch 132/200\n",
            "31/31 [==============================] - 1s 16ms/step - loss: 1.5803e-07\n",
            "Epoch 133/200\n",
            "31/31 [==============================] - 1s 17ms/step - loss: 1.2191e-07\n",
            "Epoch 134/200\n",
            "31/31 [==============================] - 1s 16ms/step - loss: 1.4464e-07\n",
            "Epoch 135/200\n",
            "31/31 [==============================] - 1s 16ms/step - loss: 1.4590e-07\n",
            "Epoch 136/200\n",
            "31/31 [==============================] - 1s 16ms/step - loss: 1.5613e-07\n",
            "Epoch 137/200\n",
            "31/31 [==============================] - 0s 16ms/step - loss: 1.4141e-07\n",
            "Epoch 138/200\n",
            "31/31 [==============================] - 0s 16ms/step - loss: 1.3711e-07\n",
            "Epoch 139/200\n",
            "31/31 [==============================] - 1s 17ms/step - loss: 1.3854e-07\n",
            "Epoch 140/200\n",
            "31/31 [==============================] - 1s 17ms/step - loss: 1.4678e-07\n",
            "Epoch 141/200\n",
            "31/31 [==============================] - 1s 17ms/step - loss: 1.4447e-07\n",
            "Epoch 142/200\n",
            "31/31 [==============================] - 0s 16ms/step - loss: 1.5049e-07\n",
            "Epoch 143/200\n",
            "31/31 [==============================] - 0s 16ms/step - loss: 1.3795e-07\n",
            "Epoch 144/200\n",
            "31/31 [==============================] - 1s 17ms/step - loss: 1.3854e-07\n",
            "Epoch 145/200\n",
            "31/31 [==============================] - 1s 17ms/step - loss: 1.3181e-07\n",
            "Epoch 146/200\n",
            "31/31 [==============================] - 1s 16ms/step - loss: 1.9819e-07\n",
            "Epoch 147/200\n",
            "31/31 [==============================] - 1s 16ms/step - loss: 1.3745e-07\n",
            "Epoch 148/200\n",
            "31/31 [==============================] - 1s 16ms/step - loss: 1.3136e-07\n",
            "Epoch 149/200\n",
            "31/31 [==============================] - 1s 16ms/step - loss: 1.3010e-07\n",
            "Epoch 150/200\n",
            "31/31 [==============================] - 1s 16ms/step - loss: 1.2780e-07\n",
            "Epoch 151/200\n",
            "31/31 [==============================] - 0s 16ms/step - loss: 1.4986e-07\n",
            "Epoch 152/200\n",
            "31/31 [==============================] - 1s 16ms/step - loss: 1.4080e-07\n",
            "Epoch 153/200\n",
            "31/31 [==============================] - 1s 16ms/step - loss: 1.3424e-07\n",
            "Epoch 154/200\n",
            "31/31 [==============================] - 1s 16ms/step - loss: 1.4415e-07\n",
            "Epoch 155/200\n",
            "31/31 [==============================] - 1s 16ms/step - loss: 1.5075e-07\n",
            "Epoch 156/200\n",
            "31/31 [==============================] - 1s 17ms/step - loss: 1.2732e-07\n",
            "Epoch 157/200\n",
            "31/31 [==============================] - 0s 16ms/step - loss: 1.2769e-07\n",
            "Epoch 158/200\n",
            "31/31 [==============================] - 1s 17ms/step - loss: 1.4277e-07\n",
            "Epoch 159/200\n",
            "31/31 [==============================] - 1s 17ms/step - loss: 1.5098e-07\n",
            "Epoch 160/200\n",
            "31/31 [==============================] - 1s 16ms/step - loss: 1.3726e-07\n",
            "Epoch 161/200\n",
            "31/31 [==============================] - 1s 17ms/step - loss: 1.4850e-07\n",
            "Epoch 162/200\n",
            "31/31 [==============================] - 0s 16ms/step - loss: 1.5216e-07\n",
            "Epoch 163/200\n",
            "31/31 [==============================] - 0s 16ms/step - loss: 1.5472e-07\n",
            "Epoch 164/200\n",
            "31/31 [==============================] - 1s 17ms/step - loss: 1.2606e-07\n",
            "Epoch 165/200\n",
            "31/31 [==============================] - 0s 16ms/step - loss: 1.1591e-07\n",
            "Epoch 166/200\n",
            "31/31 [==============================] - 1s 17ms/step - loss: 1.6375e-07\n",
            "Epoch 167/200\n",
            "31/31 [==============================] - 1s 17ms/step - loss: 1.4847e-07\n",
            "Epoch 168/200\n",
            "31/31 [==============================] - 1s 16ms/step - loss: 1.3470e-07\n",
            "Epoch 169/200\n",
            "31/31 [==============================] - 1s 17ms/step - loss: 1.2946e-07\n",
            "Epoch 170/200\n",
            "31/31 [==============================] - 1s 17ms/step - loss: 1.2512e-07\n",
            "Epoch 171/200\n",
            "31/31 [==============================] - 0s 16ms/step - loss: 1.3562e-07\n",
            "Epoch 172/200\n",
            "31/31 [==============================] - 1s 18ms/step - loss: 1.3880e-07\n",
            "Epoch 173/200\n",
            "31/31 [==============================] - 1s 17ms/step - loss: 1.2953e-07\n",
            "Epoch 174/200\n",
            "31/31 [==============================] - 1s 17ms/step - loss: 1.4506e-07\n",
            "Epoch 175/200\n",
            "31/31 [==============================] - 1s 17ms/step - loss: 1.2927e-07\n",
            "Epoch 176/200\n",
            "31/31 [==============================] - 1s 17ms/step - loss: 1.4144e-07\n",
            "Epoch 177/200\n",
            "31/31 [==============================] - 0s 16ms/step - loss: 1.4308e-07\n",
            "Epoch 178/200\n",
            "31/31 [==============================] - 1s 17ms/step - loss: 1.3560e-07\n",
            "Epoch 179/200\n",
            "31/31 [==============================] - 1s 17ms/step - loss: 1.3193e-07\n",
            "Epoch 180/200\n",
            "31/31 [==============================] - 1s 16ms/step - loss: 1.4647e-07\n",
            "Epoch 181/200\n",
            "31/31 [==============================] - 1s 16ms/step - loss: 1.3300e-07\n",
            "Epoch 182/200\n",
            "31/31 [==============================] - 1s 17ms/step - loss: 1.4323e-07\n",
            "Epoch 183/200\n",
            "31/31 [==============================] - 1s 17ms/step - loss: 1.4812e-07\n",
            "Epoch 184/200\n",
            "31/31 [==============================] - 1s 17ms/step - loss: 1.5122e-07\n",
            "Epoch 185/200\n",
            "31/31 [==============================] - 1s 16ms/step - loss: 1.5284e-07\n",
            "Epoch 186/200\n",
            "31/31 [==============================] - 1s 17ms/step - loss: 1.3618e-07\n",
            "Epoch 187/200\n",
            "31/31 [==============================] - 1s 18ms/step - loss: 1.3139e-07\n",
            "Epoch 188/200\n",
            "31/31 [==============================] - 1s 17ms/step - loss: 1.2882e-07\n",
            "Epoch 189/200\n",
            "31/31 [==============================] - 1s 17ms/step - loss: 1.3794e-07\n",
            "Epoch 190/200\n",
            "31/31 [==============================] - 1s 17ms/step - loss: 1.4682e-07\n",
            "Epoch 191/200\n",
            "31/31 [==============================] - 1s 17ms/step - loss: 1.7021e-07\n",
            "Epoch 192/200\n",
            "31/31 [==============================] - 1s 17ms/step - loss: 1.3270e-07\n",
            "Epoch 193/200\n",
            "31/31 [==============================] - 1s 16ms/step - loss: 1.3883e-07\n",
            "Epoch 194/200\n",
            "31/31 [==============================] - 1s 16ms/step - loss: 1.3104e-07\n",
            "Epoch 195/200\n",
            "31/31 [==============================] - 1s 16ms/step - loss: 1.1770e-07\n",
            "Epoch 196/200\n",
            "31/31 [==============================] - 1s 17ms/step - loss: 1.1983e-07\n",
            "Epoch 197/200\n",
            "31/31 [==============================] - 1s 17ms/step - loss: 1.9406e-07\n",
            "Epoch 198/200\n",
            "31/31 [==============================] - 1s 17ms/step - loss: 1.4151e-07\n",
            "Epoch 199/200\n",
            "31/31 [==============================] - 1s 17ms/step - loss: 1.5792e-07\n",
            "Epoch 200/200\n",
            "31/31 [==============================] - 0s 16ms/step - loss: 1.5644e-07\n"
          ],
          "name": "stdout"
        },
        {
          "output_type": "execute_result",
          "data": {
            "text/plain": [
              "<tensorflow.python.keras.callbacks.History at 0x7fea72d43950>"
            ]
          },
          "metadata": {
            "tags": []
          },
          "execution_count": 11
        }
      ]
    },
    {
      "cell_type": "code",
      "metadata": {
        "id": "EhE_2amVhW_S"
      },
      "source": [
        "X_test = X_test.reshape(-1,10,3)"
      ],
      "execution_count": 12,
      "outputs": []
    },
    {
      "cell_type": "code",
      "metadata": {
        "id": "Ak2mmWMgMDvh"
      },
      "source": [
        "y_pred = model.predict(X_test)"
      ],
      "execution_count": 13,
      "outputs": []
    },
    {
      "cell_type": "code",
      "metadata": {
        "colab": {
          "base_uri": "https://localhost:8080/"
        },
        "id": "lmH9S8G8N8Je",
        "outputId": "9558a75c-23f5-43a1-d745-4ce1a78cf927"
      },
      "source": [
        "#y_pred = y_pred.reshape(-1)\n",
        "print(y_pred.shape)\n",
        "y_plot = []\n",
        "for i in y_pred:\n",
        "  y_plot.append(i[-1])\n",
        "len(y_plot)"
      ],
      "execution_count": 19,
      "outputs": [
        {
          "output_type": "stream",
          "text": [
            "(989, 10)\n"
          ],
          "name": "stdout"
        },
        {
          "output_type": "execute_result",
          "data": {
            "text/plain": [
              "989"
            ]
          },
          "metadata": {
            "tags": []
          },
          "execution_count": 19
        }
      ]
    },
    {
      "cell_type": "code",
      "metadata": {
        "colab": {
          "base_uri": "https://localhost:8080/",
          "height": 265
        },
        "id": "pCDplYgmN90s",
        "outputId": "1ab2db68-ef3b-43e6-bb28-fc0056bb889d"
      },
      "source": [
        "plt.plot(y_plot, color = 'red', label = 'prediction')\n",
        "plt.plot(y_test, color = 'blue', label ='reality')\n",
        "plt.show()"
      ],
      "execution_count": 20,
      "outputs": [
        {
          "output_type": "display_data",
          "data": {
            "image/png": "[encoded data removed]",
            "text/plain": [
              "<Figure size 432x288 with 1 Axes>"
            ]
          },
          "metadata": {
            "tags": [],
            "needs_background": "light"
          }
        }
      ]
    },
    {
      "cell_type": "code",
      "metadata": {
        "colab": {
          "base_uri": "https://localhost:8080/",
          "height": 265
        },
        "id": "-DHln0C6OUmS",
        "outputId": "bd2ddb65-e2d8-4348-b8ad-9342df81ebf4"
      },
      "source": [
        "plt.plot(y_pred)\n",
        "plt.show()"
      ],
      "execution_count": null,
      "outputs": [
        {
          "output_type": "display_data",
          "data": {
            "image/png": "[encoded data removed]",
            "text/plain": [
              "<Figure size 432x288 with 1 Axes>"
            ]
          },
          "metadata": {
            "tags": [],
            "needs_background": "light"
          }
        }
      ]
    },
    {
      "cell_type": "code",
      "metadata": {
        "id": "7f7sxb0yP1k_"
      },
      "source": [
        ""
      ],
      "execution_count": null,
      "outputs": []
    }
  ]
}